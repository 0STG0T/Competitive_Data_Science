{
 "cells": [
  {
   "cell_type": "markdown",
   "id": "411d6be8-a6ad-4eb7-bfd1-954a311f66d3",
   "metadata": {},
   "source": [
    "# <center> 4.2 - LightGBM</center> "
   ]
  },
  {
   "cell_type": "markdown",
   "id": "d5468f83-f4cd-41ee-b45f-b0435b8fef92",
   "metadata": {},
   "source": [
    "<center><img src=\"https://lightgbm.readthedocs.io/en/latest/_images/LightGBM_logo_black_text.svg\" width=\"400\" height=\"100\"></center>"
   ]
  },
  {
   "cell_type": "markdown",
   "id": "470e86f3-cc45-4986-ab02-ccd90d5c1cc5",
   "metadata": {},
   "source": [
    "LGBM (Light Gradient Boosted Machine) - была описана Голинь К., и соавт. в статье 2017 года [«LightGBM: A Highly Efficient Gradient Boosting Decision Tree»](https://papers.nips.cc/paper/6907-lightgbm-a-highly-efficient-gradient-boosting-decision-tree). Реализация вводит две ключевые идеи: GOSS и EFB.<br>\n",
    "<br>\n",
    "С помощью GOSS (Градиентная односторонняя выборка) мы исключаем значительную часть экземпляров данных с небольшими градиентами и используем оставшиеся экземпляры для оценки прироста информации. Было доказано, что, поскольку экземпляры данных с большими градиентами играют более важную роль, GOSS может получить довольно точную оценку с гораздо меньшим размером данных. <br>\n",
    "<br>\n",
    "Exclusive Feature Bundling (объединение взаимоисключающих признаков), или EFB, — это подход объединения разреженных (в основном нулевых) взаимоисключающих признаков, таких как категориальные переменные, закодированные onehot  кодированием. Это, по сути, тип автоматического подбора признаков.\n",
    ">… мы пакетируем взаимоисключающие признаки (то есть они редко принимают ненулевые значения одновременно), чтобы уменьшить количество признаков.\n",
    "<br>\n",
    "<br>\n",
    ">Мы называем нашу новую реализацию GBDT с помощью GOSS и EFB LightGBM. Наши эксперименты на нескольких общедоступных наборах данных показывают, что LightGBM ускоряет процесс обучения обычного GBDT более чем в 20 раз, достигая почти такой же точности."
   ]
  },
  {
   "cell_type": "code",
   "execution_count": 77,
   "id": "c7e32ddb-538f-42b5-a323-ad02ef4233c1",
   "metadata": {
    "papermill": {
     "duration": 0.028618,
     "end_time": "2022-12-12T05:12:53.251185",
     "exception": false,
     "start_time": "2022-12-12T05:12:53.222567",
     "status": "completed"
    },
    "tags": []
   },
   "outputs": [],
   "source": [
    "import numpy as np\n",
    "import pandas as pd\n",
    "from sklearn.model_selection import train_test_split\n",
    "from sklearn.metrics import f1_score, mean_squared_error\n",
    "from sklearn.preprocessing import LabelEncoder"
   ]
  },
  {
   "cell_type": "code",
   "execution_count": 89,
   "id": "1fd6c257-153d-4de6-bc41-ce3ec0384469",
   "metadata": {
    "papermill": {
     "duration": 8.221768,
     "end_time": "2022-12-12T05:13:01.512564",
     "exception": false,
     "start_time": "2022-12-12T05:12:53.290796",
     "status": "completed"
    },
    "tags": []
   },
   "outputs": [],
   "source": [
    "car_info = pd.read_csv('../data/car_info.csv')   # car_info - информация про машины с таргетом\n",
    " \n",
    "rides_info = pd.read_csv('../data/rides_info.csv') # rides_info - информация про поездки"
   ]
  },
  {
   "cell_type": "code",
   "execution_count": 90,
   "id": "8b36bd12-ba1d-4c79-92fc-6c1ab150df78",
   "metadata": {
    "papermill": {
     "duration": 0.134652,
     "end_time": "2022-12-12T05:13:01.659180",
     "exception": false,
     "start_time": "2022-12-12T05:13:01.524528",
     "status": "completed"
    },
    "tags": []
   },
   "outputs": [],
   "source": [
    "rides_info = rides_info.merge(car_info, on = 'car_id', how = 'left')"
   ]
  },
  {
   "cell_type": "code",
   "execution_count": 4,
   "id": "fb004391-afdf-4883-a455-22c6921f18f1",
   "metadata": {
    "papermill": {
     "duration": 0.024118,
     "end_time": "2022-12-12T05:13:01.695112",
     "exception": false,
     "start_time": "2022-12-12T05:13:01.670994",
     "status": "completed"
    },
    "tags": []
   },
   "outputs": [],
   "source": [
    "drop_cols = ['user_id', 'car_id', 'ride_id', 'ride_date']\n",
    "cat_cols = ['car_type', 'fuel_type', 'model']"
   ]
  },
  {
   "cell_type": "code",
   "execution_count": 5,
   "id": "a11e5b88-f28a-45d7-bc1b-e97beb7007b6",
   "metadata": {
    "papermill": {
     "duration": 0.143102,
     "end_time": "2022-12-12T05:13:01.849840",
     "exception": false,
     "start_time": "2022-12-12T05:13:01.706738",
     "status": "completed"
    },
    "tags": []
   },
   "outputs": [],
   "source": [
    "# закодируем категориальные фичи в one hot encoding вектора\n",
    "rides_info = pd.get_dummies(rides_info, columns=cat_cols)"
   ]
  },
  {
   "cell_type": "code",
   "execution_count": 6,
   "id": "83c27bcb-cbc6-4163-a105-0adee57ff905",
   "metadata": {
    "papermill": {
     "duration": 0.140003,
     "end_time": "2022-12-12T05:13:02.001579",
     "exception": false,
     "start_time": "2022-12-12T05:13:01.861576",
     "status": "completed"
    },
    "tags": []
   },
   "outputs": [],
   "source": [
    "# заполним пропущенные значения медианным значением по столбцу\n",
    "rides_info.fillna(rides_info.median(), inplace=True)"
   ]
  },
  {
   "cell_type": "code",
   "execution_count": null,
   "id": "3d1d7738-6262-40a4-9833-a6f403b9a3da",
   "metadata": {},
   "outputs": [],
   "source": [
    "v"
   ]
  },
  {
   "cell_type": "markdown",
   "id": "af6be01e-885a-4c70-ad92-e3554de2e199",
   "metadata": {},
   "source": [
    "Особенность LightGBM — в том, что он поддерживает ряд алгоритмов бустинга, называемых типами бустинга. Тип бустинга указывается с помощью аргумента `boosting_type`.<br> Возможные значения:\n",
    "* `gbdt` - градиеный бустинг над решающими деревьями (используется по умолчанию);\n",
    "* `dart` - понятие отсева (dropout) вводится в MART, получаем DART (как [droput](https://ru.wikipedia.org/wiki/%D0%98%D1%81%D0%BA%D0%BB%D1%8E%D1%87%D0%B5%D0%BD%D0%B8%D0%B5_(%D0%BD%D0%B5%D0%B9%D1%80%D0%BE%D0%BD%D0%BD%D1%8B%D0%B5_%D1%81%D0%B5%D1%82%D0%B8)) слой в нейронках);\n",
    "* `goss` - односторонняя выборка на основе градиента (GOSS).\n",
    "\n"
   ]
  },
  {
   "cell_type": "code",
   "execution_count": null,
   "id": "09b1d5d6-0302-4a53-bd09-0fd6b6b19195",
   "metadata": {},
   "outputs": [],
   "source": []
  }
 ],
 "metadata": {
  "kernelspec": {
   "display_name": "Python 3 (ipykernel)",
   "language": "python",
   "name": "python3"
  },
  "language_info": {
   "codemirror_mode": {
    "name": "ipython",
    "version": 3
   },
   "file_extension": ".py",
   "mimetype": "text/x-python",
   "name": "python",
   "nbconvert_exporter": "python",
   "pygments_lexer": "ipython3",
   "version": "3.9.15"
  }
 },
 "nbformat": 4,
 "nbformat_minor": 5
}
