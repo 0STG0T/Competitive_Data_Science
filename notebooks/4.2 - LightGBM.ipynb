{
 "cells": [
  {
   "cell_type": "markdown",
   "id": "411d6be8-a6ad-4eb7-bfd1-954a311f66d3",
   "metadata": {},
   "source": [
    "# <center> 4.2 - LightGBM</center> "
   ]
  },
  {
   "cell_type": "markdown",
   "id": "d5468f83-f4cd-41ee-b45f-b0435b8fef92",
   "metadata": {},
   "source": [
    "<center><img src=\"https://lightgbm.readthedocs.io/en/latest/_images/LightGBM_logo_black_text.svg\" width=\"400\" height=\"100\"></center>"
   ]
  },
  {
   "cell_type": "markdown",
   "id": "470e86f3-cc45-4986-ab02-ccd90d5c1cc5",
   "metadata": {},
   "source": [
    "LGBM (Light Gradient Boosted Machine) - была описана Голинь К., и соавт. в статье 2017 года [«LightGBM: A Highly Efficient Gradient Boosting Decision Tree»](https://papers.nips.cc/paper/6907-lightgbm-a-highly-efficient-gradient-boosting-decision-tree). Реализация вводит две ключевые идеи: GOSS и EFB.<br>\n",
    "<br>\n",
    "С помощью GOSS (Градиентная односторонняя выборка) мы исключаем значительную часть экземпляров данных с небольшими градиентами и используем оставшиеся экземпляры для оценки прироста информации. Было доказано, что, поскольку экземпляры данных с большими градиентами играют более важную роль, GOSS может получить довольно точную оценку с гораздо меньшим размером данных. <br>\n",
    "<br>\n",
    "Exclusive Feature Bundling (объединение взаимоисключающих признаков), или EFB, — это подход объединения разреженных (в основном нулевых) взаимоисключающих признаков, таких как категориальные переменные, закодированные onehot  кодированием. Это, по сути, тип автоматического подбора признаков.\n",
    ">… мы пакетируем взаимоисключающие признаки (то есть они редко принимают ненулевые значения одновременно), чтобы уменьшить количество признаков.\n",
    "<br>\n",
    "<br>\n",
    ">Мы называем нашу новую реализацию GBDT с помощью GOSS и EFB LightGBM. Наши эксперименты на нескольких общедоступных наборах данных показывают, что LightGBM ускоряет процесс обучения обычного GBDT более чем в 20 раз, достигая почти такой же точности."
   ]
  },
  {
   "cell_type": "code",
   "execution_count": null,
   "id": "f1361675-b783-4e1c-b8d2-0d1af9e8040b",
   "metadata": {},
   "outputs": [],
   "source": [
    "!pip install sklearn lightgbm"
   ]
  },
  {
   "cell_type": "code",
   "execution_count": 26,
   "id": "c7e32ddb-538f-42b5-a323-ad02ef4233c1",
   "metadata": {
    "papermill": {
     "duration": 0.028618,
     "end_time": "2022-12-12T05:12:53.251185",
     "exception": false,
     "start_time": "2022-12-12T05:12:53.222567",
     "status": "completed"
    },
    "tags": []
   },
   "outputs": [],
   "source": [
    "import numpy as np\n",
    "import pandas as pd\n",
    "from sklearn.model_selection import train_test_split\n",
    "from sklearn.metrics import f1_score, mean_squared_error, accuracy_score\n",
    "from sklearn.preprocessing import LabelEncoder\n",
    "import lightgbm as lgb\n",
    "\n",
    "import warnings\n",
    "warnings.filterwarnings(\"ignore\")"
   ]
  },
  {
   "cell_type": "code",
   "execution_count": 118,
   "id": "55caa98e-86fe-4a7f-88b2-e3ad82ff8621",
   "metadata": {},
   "outputs": [
    {
     "data": {
      "text/html": [
       "<div>\n",
       "<style scoped>\n",
       "    .dataframe tbody tr th:only-of-type {\n",
       "        vertical-align: middle;\n",
       "    }\n",
       "\n",
       "    .dataframe tbody tr th {\n",
       "        vertical-align: top;\n",
       "    }\n",
       "\n",
       "    .dataframe thead th {\n",
       "        text-align: right;\n",
       "    }\n",
       "</style>\n",
       "<table border=\"1\" class=\"dataframe\">\n",
       "  <thead>\n",
       "    <tr style=\"text-align: right;\">\n",
       "      <th></th>\n",
       "      <th>car_id</th>\n",
       "      <th>model</th>\n",
       "      <th>car_type</th>\n",
       "      <th>fuel_type</th>\n",
       "      <th>car_rating</th>\n",
       "      <th>year_to_start</th>\n",
       "      <th>riders</th>\n",
       "      <th>year_to_work</th>\n",
       "      <th>target_reg</th>\n",
       "      <th>target_class</th>\n",
       "      <th>mean_rating</th>\n",
       "      <th>distance_sum</th>\n",
       "      <th>rating_min</th>\n",
       "      <th>speed_max</th>\n",
       "      <th>user_ride_quality_median</th>\n",
       "      <th>deviation_normal_count</th>\n",
       "      <th>user_uniq</th>\n",
       "    </tr>\n",
       "  </thead>\n",
       "  <tbody>\n",
       "    <tr>\n",
       "      <th>0</th>\n",
       "      <td>y13744087j</td>\n",
       "      <td>Kia Rio X-line</td>\n",
       "      <td>economy</td>\n",
       "      <td>petrol</td>\n",
       "      <td>3.78</td>\n",
       "      <td>2015</td>\n",
       "      <td>76163</td>\n",
       "      <td>2021</td>\n",
       "      <td>15634.32</td>\n",
       "      <td>another_bug</td>\n",
       "      <td>44.660920</td>\n",
       "      <td>1.214131e+07</td>\n",
       "      <td>0.1</td>\n",
       "      <td>180.855726</td>\n",
       "      <td>0.023174</td>\n",
       "      <td>174</td>\n",
       "      <td>170</td>\n",
       "    </tr>\n",
       "    <tr>\n",
       "      <th>1</th>\n",
       "      <td>O41613818T</td>\n",
       "      <td>VW Polo VI</td>\n",
       "      <td>economy</td>\n",
       "      <td>petrol</td>\n",
       "      <td>3.90</td>\n",
       "      <td>2015</td>\n",
       "      <td>78218</td>\n",
       "      <td>2021</td>\n",
       "      <td>2791.94</td>\n",
       "      <td>electro_bug</td>\n",
       "      <td>49.862069</td>\n",
       "      <td>1.803909e+07</td>\n",
       "      <td>0.0</td>\n",
       "      <td>187.862734</td>\n",
       "      <td>12.306011</td>\n",
       "      <td>174</td>\n",
       "      <td>174</td>\n",
       "    </tr>\n",
       "    <tr>\n",
       "      <th>2</th>\n",
       "      <td>d-2109686j</td>\n",
       "      <td>Renault Sandero</td>\n",
       "      <td>standart</td>\n",
       "      <td>petrol</td>\n",
       "      <td>6.30</td>\n",
       "      <td>2012</td>\n",
       "      <td>23340</td>\n",
       "      <td>2017</td>\n",
       "      <td>2263.93</td>\n",
       "      <td>gear_stick</td>\n",
       "      <td>44.005747</td>\n",
       "      <td>1.588366e+07</td>\n",
       "      <td>0.1</td>\n",
       "      <td>102.382857</td>\n",
       "      <td>2.513319</td>\n",
       "      <td>174</td>\n",
       "      <td>173</td>\n",
       "    </tr>\n",
       "    <tr>\n",
       "      <th>3</th>\n",
       "      <td>u29695600e</td>\n",
       "      <td>Mercedes-Benz GLC</td>\n",
       "      <td>business</td>\n",
       "      <td>petrol</td>\n",
       "      <td>4.04</td>\n",
       "      <td>2011</td>\n",
       "      <td>1263</td>\n",
       "      <td>2020</td>\n",
       "      <td>1518.06</td>\n",
       "      <td>engine_fuel</td>\n",
       "      <td>49.344828</td>\n",
       "      <td>1.651883e+07</td>\n",
       "      <td>0.1</td>\n",
       "      <td>172.793237</td>\n",
       "      <td>-5.029476</td>\n",
       "      <td>174</td>\n",
       "      <td>170</td>\n",
       "    </tr>\n",
       "    <tr>\n",
       "      <th>4</th>\n",
       "      <td>N-8915870N</td>\n",
       "      <td>Renault Sandero</td>\n",
       "      <td>standart</td>\n",
       "      <td>petrol</td>\n",
       "      <td>4.70</td>\n",
       "      <td>2012</td>\n",
       "      <td>26428</td>\n",
       "      <td>2017</td>\n",
       "      <td>825.78</td>\n",
       "      <td>engine_fuel</td>\n",
       "      <td>50.603448</td>\n",
       "      <td>1.398317e+07</td>\n",
       "      <td>0.1</td>\n",
       "      <td>203.462289</td>\n",
       "      <td>-14.260456</td>\n",
       "      <td>174</td>\n",
       "      <td>171</td>\n",
       "    </tr>\n",
       "  </tbody>\n",
       "</table>\n",
       "</div>"
      ],
      "text/plain": [
       "       car_id              model  car_type fuel_type  car_rating  \\\n",
       "0  y13744087j     Kia Rio X-line   economy    petrol        3.78   \n",
       "1  O41613818T         VW Polo VI   economy    petrol        3.90   \n",
       "2  d-2109686j    Renault Sandero  standart    petrol        6.30   \n",
       "3  u29695600e  Mercedes-Benz GLC  business    petrol        4.04   \n",
       "4  N-8915870N    Renault Sandero  standart    petrol        4.70   \n",
       "\n",
       "   year_to_start  riders  year_to_work  target_reg target_class  mean_rating  \\\n",
       "0           2015   76163          2021    15634.32  another_bug    44.660920   \n",
       "1           2015   78218          2021     2791.94  electro_bug    49.862069   \n",
       "2           2012   23340          2017     2263.93   gear_stick    44.005747   \n",
       "3           2011    1263          2020     1518.06  engine_fuel    49.344828   \n",
       "4           2012   26428          2017      825.78  engine_fuel    50.603448   \n",
       "\n",
       "   distance_sum  rating_min   speed_max  user_ride_quality_median  \\\n",
       "0  1.214131e+07         0.1  180.855726                  0.023174   \n",
       "1  1.803909e+07         0.0  187.862734                 12.306011   \n",
       "2  1.588366e+07         0.1  102.382857                  2.513319   \n",
       "3  1.651883e+07         0.1  172.793237                 -5.029476   \n",
       "4  1.398317e+07         0.1  203.462289                -14.260456   \n",
       "\n",
       "   deviation_normal_count  user_uniq  \n",
       "0                     174        170  \n",
       "1                     174        174  \n",
       "2                     174        173  \n",
       "3                     174        170  \n",
       "4                     174        171  "
      ]
     },
     "execution_count": 118,
     "metadata": {},
     "output_type": "execute_result"
    }
   ],
   "source": [
    "# Загружаем train-датасет который мы сохранили на шаге quickstart\n",
    "rides_info = pd.read_csv('../data/quickstart_train.csv')\n",
    "rides_info.head()"
   ]
  },
  {
   "cell_type": "code",
   "execution_count": 119,
   "id": "1c285be8-6424-4170-9cda-d2120e42c8d4",
   "metadata": {},
   "outputs": [],
   "source": [
    "drop_cols = ['car_id', 'target_reg', 'target_class']\n",
    "cat_cols = ['car_type', 'fuel_type', 'model']"
   ]
  },
  {
   "cell_type": "code",
   "execution_count": 120,
   "id": "83c27bcb-cbc6-4163-a105-0adee57ff905",
   "metadata": {
    "papermill": {
     "duration": 0.140003,
     "end_time": "2022-12-12T05:13:02.001579",
     "exception": false,
     "start_time": "2022-12-12T05:13:01.861576",
     "status": "completed"
    },
    "tags": []
   },
   "outputs": [],
   "source": [
    "# заполним пропущенные значения медианным значением по столбцу\n",
    "rides_info.fillna(rides_info.median(), inplace=True)"
   ]
  },
  {
   "cell_type": "code",
   "execution_count": 121,
   "id": "d193f49f-f811-42f5-a9ee-a34105d16ae7",
   "metadata": {},
   "outputs": [],
   "source": [
    "X = rides_info.drop(drop_cols, axis=1)\n",
    "y = rides_info['target_class']"
   ]
  },
  {
   "cell_type": "markdown",
   "id": "6684ddb1-749e-4e3d-a24d-be703d938065",
   "metadata": {},
   "source": [
    "## Dataset"
   ]
  },
  {
   "cell_type": "markdown",
   "id": "a47e9884-eebe-4d5d-aa71-29d4d2e2f012",
   "metadata": {},
   "source": [
    "Как в библиотеке Catobost есть класс Pool для создания датасетов, так и в LightGBM есть класс Dataset для той же цели. Как заявлено, является очень эффективным по потребляемой памяти, т.к. хранит не конкретные значения признаков, а только их дискретные бины. Число бинов, в свою очередь, можно регулировать в при создании датасета, уменьшив параметры `max_bin` или `max_bin_by_feature`. <br>\n",
    ">The Dataset object in LightGBM is very memory-efficient, it only needs to save discrete bins. \n",
    "\n",
    "В документации заявлено, что в него можно подавать категориальные фичи без one-hot энкодинга, но реализовано это специфическим образом: категориальные фичи надо привести к целочисленному типу (int32).\n",
    ">LightGBM can use categorical features as input directly. It doesn’t need to convert to one-hot encoding, and is much faster than one-hot encoding (about 8x speed-up).\n",
    "Note: You should convert your categorical features to int type before you construct Dataset.\n",
    "\n",
    "Целевая переменная - (параметр `label`) так же ограничен по возможным типам: int, float или bool"
   ]
  },
  {
   "cell_type": "code",
   "execution_count": 122,
   "id": "a47bfa79-0ede-4ddb-aa01-6c717c795b3b",
   "metadata": {},
   "outputs": [],
   "source": [
    "# переведем категориальные фичи в int с помощью  LabelEncoder\n",
    "le = LabelEncoder()\n",
    "for col in cat_cols:\n",
    "    X[col] = le.fit_transform(X[col])\n",
    "\n",
    "# таргет так же придется перевести из строкового типа в целочисленный\n",
    "le_tar = LabelEncoder()\n",
    "y = le_tar.fit_transform(y)"
   ]
  },
  {
   "cell_type": "code",
   "execution_count": 123,
   "id": "71772628-125f-41f3-a42a-3e85b160496f",
   "metadata": {},
   "outputs": [],
   "source": [
    "X_train, X_test, y_train, y_test = train_test_split(X, y, test_size=0.2, random_state=42)"
   ]
  },
  {
   "cell_type": "code",
   "execution_count": 124,
   "id": "1fbbe052-b231-4a9e-be56-43c0cd8d09bc",
   "metadata": {},
   "outputs": [],
   "source": [
    "train_data = lgb.Dataset(X_train, y_train, categorical_feature=cat_cols, free_raw_data=False)\n",
    "val_data = lgb.Dataset(X_test, y_test, categorical_feature=cat_cols, free_raw_data=False)"
   ]
  },
  {
   "cell_type": "markdown",
   "id": "8f100226-2df9-4725-a24d-0d7ced36c1f7",
   "metadata": {},
   "source": [
    "Ниже приведены другие важные параметры:\n",
    "\n",
    "* `feature_name` — принимает список строк, определяющих имена столбцов.\n",
    "* `reference` — (Dataset or None, optional (default=None)) – Если это Dataset для валидации, то тренировочный Dataset должен быть указан как референсный.\n",
    "* `group` – используется при решении задачи ранжирования (обучении Ранкера).\n",
    "* `weight` – можно указать список весов для каждого экземпляра данных (не отритцательные числа) или установить позже, используя метод `set_weight()`.\n",
    "* `params` – принимает словарь параметров, здесь, как раз, можно указать количество бинов (`max_bin` или `max_bin_by_feature`).\n",
    "* `free_raw_data` (bool, optional (default=True)) – отвечает за освобождение памяти от сырых данных после создания датасета.\n",
    ">Numpy/Array/Pandas object is memory expensive. If you are concerned about your memory consumption, you can save memory by:\n",
    "\n",
    ">1. Set free_raw_data=True (default is True) when constructing the Dataset\n",
    "\n",
    ">2. Explicitly set raw_data=None after the Dataset has been constructed\n",
    "\n",
    ">3. Call gc()\n"
   ]
  },
  {
   "cell_type": "markdown",
   "id": "a822d4e2-b7a8-4c82-ab62-51bea767be4b",
   "metadata": {},
   "source": [
    "## Два основных способа создания и обучения модели в LightGBM\n",
    "\n",
    "Хотя существуют другие, и каждый имеет свои удобства, преимущества и недостатки. \n",
    "\n",
    "* 1. Метод `train()` класса `Booster` - наиболее простой и универсальный способ.\n",
    "* 2. Класс `LGBMModel` с привычными методами `fit()`, `predict()`, который предоставляет подобный scikit-learn API для обучения и прогнозирования в lightgbm, а так же позволяет использовать обученные модели в пайплайнах sklearn (например при стэккинге).\n",
    "\n",
    "Рассмотрим каждый из способов на примере нашей задачи и познакомимся с основными параметрами."
   ]
  },
  {
   "cell_type": "markdown",
   "id": "32ef721d-9d7e-4b9f-bcb2-2a8bc90c54c4",
   "metadata": {},
   "source": [
    "### **Обучение модели методом train()**\n",
    "\n",
    "Самый простой способ создать модель в lightgbm — использовать метод `train()`. Он принимает на вход словарь параметров и обучающий датасет.\n",
    "После обучения возвращается объект типа Booster, который является обученной моделью: её можно использовать для будущих предсказаний.\n",
    "\n",
    "Ниже приведены некоторые из важных параметров метода train().\n",
    "\n",
    "* `params` — это словарь, определяющий параметры модели. Нам просто нужно предоставить целевую функцию для начала работы в зависимости от типа задачи (классификация/регрессия). Позже мы ознакомимся с часто используемым списком параметров, которые можно передать в этот словарь.\n",
    "*  `train_set` — этот параметр принимает объект типа Dataset, который содержит информацию о признаках и целевых значениях.\n",
    "* `num_boost_round` — указывает количество деревьев бустинга, которые будут использоваться в ансамбле (по умолчанию равно 100).\n",
    "* `valid_sets` — принимает список Dataset объектов, которые являются выборками для валидации. Эти проверочные датасеты оцениваются после каждого цикла обучения.\n",
    "* `valid_names` — принимает список строк той же длины, что и у valid_sets, определяющих имена для каждой проверочной выборки. Эти имена будут использоваться при выводе оценочных метрик для валидационных наборов данных, а также при их построении.\n",
    "* `categorical_feature` — принимает список строк/целых чисел или строку auto. Если мы передадим список строк/целых чисел, тогда указанные столбцы из набора данных будут рассматриваться как категориальные.\n",
    "* `verbose_eval` — принимает значения типа bool или int. Определяет с какой частотой выводить результаты расчета метрик на проверочных выборках."
   ]
  },
  {
   "cell_type": "code",
   "execution_count": 125,
   "id": "6adf86b9-0d04-4d2e-b6ca-bf99795f0d27",
   "metadata": {},
   "outputs": [
    {
     "name": "stdout",
     "output_type": "stream",
     "text": [
      "[1]\tvalid_0's multi_logloss: 1.74731\n",
      "[2]\tvalid_0's multi_logloss: 1.50997\n",
      "[3]\tvalid_0's multi_logloss: 1.34305\n",
      "[4]\tvalid_0's multi_logloss: 1.22257\n",
      "[5]\tvalid_0's multi_logloss: 1.1227\n",
      "[6]\tvalid_0's multi_logloss: 1.0441\n",
      "[7]\tvalid_0's multi_logloss: 0.983687\n",
      "[8]\tvalid_0's multi_logloss: 0.9355\n",
      "[9]\tvalid_0's multi_logloss: 0.893843\n",
      "[10]\tvalid_0's multi_logloss: 0.85885\n",
      "\n",
      "Test Accuracy: 0.71\n"
     ]
    }
   ],
   "source": [
    "params = {\"objective\": \"multiclass\", \n",
    "          \"num_class\":9,\n",
    "          \"verbosity\": -1,\n",
    "}\n",
    "\n",
    "booster = lgb.train(params,\n",
    "                    train_set=train_data, valid_sets=(val_data,),\n",
    "                    num_boost_round=10)\n",
    "\n",
    "# В случае мультиклассификации метод predict() возвращает вероятности классов, поэтому используем np.argmax()\n",
    "test_preds = np.argmax(booster.predict(X_test), axis=1)\n",
    "print(\"\\nTest Accuracy: %.2f\"%accuracy_score(y_test, test_preds))"
   ]
  },
  {
   "cell_type": "markdown",
   "id": "ae730c97-8e66-4d68-a6f3-8355850d1ea2",
   "metadata": {},
   "source": [
    "Метод `predict()` так же имеет ряд параметров и может возвращать SHAP values, raw_score и пр. <br>\n",
    "Подробнее можно ознакомиться в [документации](https://lightgbm.readthedocs.io/en/latest/pythonapi/lightgbm.Booster.html#lightgbm.Booster.predict)"
   ]
  },
  {
   "cell_type": "markdown",
   "id": "98cfcae7-081f-43ff-80e7-5ca4ae53c194",
   "metadata": {},
   "source": [
    "### **Обучение и создание моделей, используя обертку класса Booster**\n",
    "Обертки для класса Booster, которые предоставляют подобный scikit-learn API для обучения и прогнозирования в lightgbm. Позволяют создать модель со списком параметров в качестве входных данных. Затем можно вызвать метод `fit()` для обучения, передав ему тренировочные данные, и метод `predict()` для предсказания.<br>\n",
    "Параметры, которые мы передали в виде словаря аргументу `params` метода `train()`, теперь можно напрямую передать конструктору класса-обертки для создания модели. <br>\n",
    "Виды оберток класса Booster:\n",
    "* `LGBMModel` — универсальная обертка, позволяет нам выполнять задачи как классификации, так и регрессии, указав цель (objective) задачи.<br> Например: `model = LGBMModel(objective=\"regression\", n_estimators=10)` для задачи регрессии.\n",
    "* `LGBMClassifier` — работает точно так же, как LGBMModel, но только для задач классификации. Он также предоставляет метод `score()`, который оценивает точность переданных ему данных. Стоит обратить внимание, что LGBMClassifier предсказывает фактические метки классов для задач классификации с помощью метода `predict()`. Так же предоставлен метод `pred_proba()`, если нам нужны вероятности целевых классов.\n",
    "* `LGBMRegressor` — как следует из названия, он предназначен для задач регрессии.\n",
    "* `LGBMRanker` — используется для задач ранжирования.\n"
   ]
  },
  {
   "cell_type": "code",
   "execution_count": 127,
   "id": "66df7be6-a61b-44ea-bccb-3823c5c6e3bd",
   "metadata": {},
   "outputs": [
    {
     "name": "stdout",
     "output_type": "stream",
     "text": [
      "[1]\tvalid_0's multi_logloss: 1.74731\n",
      "[2]\tvalid_0's multi_logloss: 1.50997\n",
      "[3]\tvalid_0's multi_logloss: 1.34305\n",
      "[4]\tvalid_0's multi_logloss: 1.22257\n",
      "[5]\tvalid_0's multi_logloss: 1.1227\n",
      "[6]\tvalid_0's multi_logloss: 1.0441\n",
      "[7]\tvalid_0's multi_logloss: 0.983687\n",
      "[8]\tvalid_0's multi_logloss: 0.9355\n",
      "[9]\tvalid_0's multi_logloss: 0.893843\n",
      "[10]\tvalid_0's multi_logloss: 0.85885\n"
     ]
    },
    {
     "data": {
      "text/html": [
       "<style>#sk-container-id-17 {color: black;background-color: white;}#sk-container-id-17 pre{padding: 0;}#sk-container-id-17 div.sk-toggleable {background-color: white;}#sk-container-id-17 label.sk-toggleable__label {cursor: pointer;display: block;width: 100%;margin-bottom: 0;padding: 0.3em;box-sizing: border-box;text-align: center;}#sk-container-id-17 label.sk-toggleable__label-arrow:before {content: \"▸\";float: left;margin-right: 0.25em;color: #696969;}#sk-container-id-17 label.sk-toggleable__label-arrow:hover:before {color: black;}#sk-container-id-17 div.sk-estimator:hover label.sk-toggleable__label-arrow:before {color: black;}#sk-container-id-17 div.sk-toggleable__content {max-height: 0;max-width: 0;overflow: hidden;text-align: left;background-color: #f0f8ff;}#sk-container-id-17 div.sk-toggleable__content pre {margin: 0.2em;color: black;border-radius: 0.25em;background-color: #f0f8ff;}#sk-container-id-17 input.sk-toggleable__control:checked~div.sk-toggleable__content {max-height: 200px;max-width: 100%;overflow: auto;}#sk-container-id-17 input.sk-toggleable__control:checked~label.sk-toggleable__label-arrow:before {content: \"▾\";}#sk-container-id-17 div.sk-estimator input.sk-toggleable__control:checked~label.sk-toggleable__label {background-color: #d4ebff;}#sk-container-id-17 div.sk-label input.sk-toggleable__control:checked~label.sk-toggleable__label {background-color: #d4ebff;}#sk-container-id-17 input.sk-hidden--visually {border: 0;clip: rect(1px 1px 1px 1px);clip: rect(1px, 1px, 1px, 1px);height: 1px;margin: -1px;overflow: hidden;padding: 0;position: absolute;width: 1px;}#sk-container-id-17 div.sk-estimator {font-family: monospace;background-color: #f0f8ff;border: 1px dotted black;border-radius: 0.25em;box-sizing: border-box;margin-bottom: 0.5em;}#sk-container-id-17 div.sk-estimator:hover {background-color: #d4ebff;}#sk-container-id-17 div.sk-parallel-item::after {content: \"\";width: 100%;border-bottom: 1px solid gray;flex-grow: 1;}#sk-container-id-17 div.sk-label:hover label.sk-toggleable__label {background-color: #d4ebff;}#sk-container-id-17 div.sk-serial::before {content: \"\";position: absolute;border-left: 1px solid gray;box-sizing: border-box;top: 0;bottom: 0;left: 50%;z-index: 0;}#sk-container-id-17 div.sk-serial {display: flex;flex-direction: column;align-items: center;background-color: white;padding-right: 0.2em;padding-left: 0.2em;position: relative;}#sk-container-id-17 div.sk-item {position: relative;z-index: 1;}#sk-container-id-17 div.sk-parallel {display: flex;align-items: stretch;justify-content: center;background-color: white;position: relative;}#sk-container-id-17 div.sk-item::before, #sk-container-id-17 div.sk-parallel-item::before {content: \"\";position: absolute;border-left: 1px solid gray;box-sizing: border-box;top: 0;bottom: 0;left: 50%;z-index: -1;}#sk-container-id-17 div.sk-parallel-item {display: flex;flex-direction: column;z-index: 1;position: relative;background-color: white;}#sk-container-id-17 div.sk-parallel-item:first-child::after {align-self: flex-end;width: 50%;}#sk-container-id-17 div.sk-parallel-item:last-child::after {align-self: flex-start;width: 50%;}#sk-container-id-17 div.sk-parallel-item:only-child::after {width: 0;}#sk-container-id-17 div.sk-dashed-wrapped {border: 1px dashed gray;margin: 0 0.4em 0.5em 0.4em;box-sizing: border-box;padding-bottom: 0.4em;background-color: white;}#sk-container-id-17 div.sk-label label {font-family: monospace;font-weight: bold;display: inline-block;line-height: 1.2em;}#sk-container-id-17 div.sk-label-container {text-align: center;}#sk-container-id-17 div.sk-container {/* jupyter's `normalize.less` sets `[hidden] { display: none; }` but bootstrap.min.css set `[hidden] { display: none !important; }` so we also need the `!important` here to be able to override the default hidden behavior on the sphinx rendered scikit-learn.org. See: https://github.com/scikit-learn/scikit-learn/issues/21755 */display: inline-block !important;position: relative;}#sk-container-id-17 div.sk-text-repr-fallback {display: none;}</style><div id=\"sk-container-id-17\" class=\"sk-top-container\"><div class=\"sk-text-repr-fallback\"><pre>LGBMClassifier(cat_feature=[0, 1, 2], n_estimators=10, num_class=9,\n",
       "               objective=&#x27;multiclass&#x27;, seed=42)</pre><b>In a Jupyter environment, please rerun this cell to show the HTML representation or trust the notebook. <br />On GitHub, the HTML representation is unable to render, please try loading this page with nbviewer.org.</b></div><div class=\"sk-container\" hidden><div class=\"sk-item\"><div class=\"sk-estimator sk-toggleable\"><input class=\"sk-toggleable__control sk-hidden--visually\" id=\"sk-estimator-id-17\" type=\"checkbox\" checked><label for=\"sk-estimator-id-17\" class=\"sk-toggleable__label sk-toggleable__label-arrow\">LGBMClassifier</label><div class=\"sk-toggleable__content\"><pre>LGBMClassifier(cat_feature=[0, 1, 2], n_estimators=10, num_class=9,\n",
       "               objective=&#x27;multiclass&#x27;, seed=42)</pre></div></div></div></div></div>"
      ],
      "text/plain": [
       "LGBMClassifier(cat_feature=[0, 1, 2], n_estimators=10, num_class=9,\n",
       "               objective='multiclass', seed=42)"
      ]
     },
     "execution_count": 127,
     "metadata": {},
     "output_type": "execute_result"
    }
   ],
   "source": [
    "# Заметим, что метод fit() не принимает объект класса Dataset\n",
    "# поэтому передадим номера категориальных столбцов в параметр cat_feature\n",
    "clf = lgb.LGBMClassifier(objective=\"multiclass\", \n",
    "                         n_estimators=10,\n",
    "                         num_class=9,\n",
    "                         seed=42,\n",
    "                         cat_feature=[0,1,2],\n",
    "                        )\n",
    "\n",
    "clf.fit(X_train, y_train, eval_set=[(X_test, y_test),])"
   ]
  },
  {
   "cell_type": "code",
   "execution_count": 128,
   "id": "5f7c1c6c-3226-4eb4-9ad0-7f0a6901325a",
   "metadata": {},
   "outputs": [
    {
     "name": "stdout",
     "output_type": "stream",
     "text": [
      "\n",
      "Test Accuracy: 0.71\n"
     ]
    }
   ],
   "source": [
    "# В данном случае метод predict() возвращает сразу метку класса, поэтому np.argmax() не нужен\n",
    "test_preds = clf.predict(X_test)\n",
    "print(\"\\nTest Accuracy: %.2f\" % accuracy_score(y_test, test_preds))"
   ]
  },
  {
   "cell_type": "markdown",
   "id": "c60a3400-4afe-48dd-b0da-4fa591ff3988",
   "metadata": {},
   "source": [
    "## <center>Важные параметры LightGBM.</center>"
   ]
  },
  {
   "cell_type": "markdown",
   "id": "af6be01e-885a-4c70-ad92-e3554de2e199",
   "metadata": {},
   "source": [
    "Особенность LightGBM — в том, что он поддерживает ряд алгоритмов бустинга, называемых типами бустинга. Тип бустинга указывается с помощью аргумента `boosting_type`.<br> Возможные значения:\n",
    "* `gbdt` - градиеный бустинг над решающими деревьями (используется по умолчанию);\n",
    "* `dart` - понятие отсева (dropout) вводится в MART, получаем DART (как [droput](https://ru.wikipedia.org/wiki/%D0%98%D1%81%D0%BA%D0%BB%D1%8E%D1%87%D0%B5%D0%BD%D0%B8%D0%B5_(%D0%BD%D0%B5%D0%B9%D1%80%D0%BE%D0%BD%D0%BD%D1%8B%D0%B5_%D1%81%D0%B5%D1%82%D0%B8)) слой в нейронках);\n",
    "* `goss` - односторонняя выборка на основе градиента (GOSS).\n",
    "* `rf` - Random Forest\n"
   ]
  },
  {
   "cell_type": "markdown",
   "id": "43646f61-8475-48bd-8ca7-e5c79aac7c2c",
   "metadata": {},
   "source": [
    "`objective` — этот параметр позволяет нам определить целевую функцию, используемую для текущей задачи. Его значением по умолчанию является regression. На данный момент поддерживается 16 таких функций. Ниже приведен список часто используемых значений этого параметра.\n",
    "- `regression` (L2 loss)\n",
    "- `regression_l1` (L1 loss)\n",
    "- `tweedie`\n",
    "- `binary`\n",
    "- `multiclass`\n",
    "- `multiclassova`\n",
    "- `cross_entropy`\n",
    "- `lambdarank` <br>\n",
    "[Другие доступные целевые функции](https://lightgbm.readthedocs.io/en/latest/Parameters.html#objective)"
   ]
  },
  {
   "cell_type": "markdown",
   "id": "bfc3ce9c-ea27-42f8-b760-b91d75e57c2d",
   "metadata": {},
   "source": [
    "`metric` — данный параметр принимает метрики для расчета на оценочных наборах данных. Мы можем предоставить более одной метрики, и все они будут посчитаны на проверочных датасетах. Ниже приведен список наиболее часто используемых значений этого параметра.\n",
    "\n",
    "* `rmse`\n",
    "* `l2`\n",
    "* `l1`\n",
    "* `binary_logloss`\n",
    "* `multi_logloss`\n",
    "* `auc`\n",
    "* `cross_entropy` <br>\n",
    "[Другие доступные метрики](https://lightgbm.readthedocs.io/en/latest/Parameters.html#metric)"
   ]
  },
  {
   "cell_type": "markdown",
   "id": "64b980c1-f58a-45b8-a33b-d60613c5db4f",
   "metadata": {},
   "source": [
    "`num_iterations` — данный параметр является псевдонимом для `num_boost_round`, который позволяет нам указать число деревьев в ансамбле для создания модели. По умолчанию 100. <br>\n",
    "`learning_rate` — этот параметр используется для определения скорости обучения. По умолчанию 0.1. <br>\n",
    "`num_leaves` — данный параметр принимает целое число, определяющее максимальное количество листьев, разрешенное для каждого дерева. По умолчанию 31.<br>\n",
    "`max_depth` — этот параметр позволяет нам указать максимальную глубину, разрешенную для деревьев в ансамбле. По умолчанию -1, что позволяет деревьям расти как можно глубже. Мы можем ограничить это поведение, установив этот параметр.<br>\n",
    "`min_data_in_leaf` — данный параметр принимает целочисленное значение, определяющее минимальное количество точек данных (семплов), которые могут храниться в одном листе дерева. Этот параметр можно использовать для контроля переобучения. Значение по умолчанию 20.<br>\n",
    "`bagging_fraction` — этот параметр принимает значение с плавающей запятой от 0 до 1, которое позволяет указать, насколько большая часть данных будет случайно отбираться при обучении. Этот параметр может помочь предотвратить переобучение. По умолчанию 1.0.<br>\n",
    "`feature_fraction` — данный параметр принимает значение с плавающей запятой от 0 до 1, которое информирует алгоритм о выборе этой доли показателей из общего числа для обучения на каждой итерации. По умолчанию 1.0, поэтому используются все показатели.<br>\n",
    "`extra_trees` — этот параметр принимает логические значения, определяющие, следует ли использовать чрезвычайно рандомизированное дерево или нет.<br>\n",
    "<br>\n",
    "`num_class` — если мы работаем с задачей мультиклассовой классификации, то этот параметр должен содержать количество классов.<br>\n",
    "`is_unbalance` — это логический параметр, который должен иметь значение `True`, если данные не сбалансированы. Его следует использовать с задачами бинарной и мультиклассовой классификации.<br>\n",
    "<br>\n",
    "`force_col_wise` — этот параметр принимает логическое значение, определяющее, следует ли принудительно строить гистограмму по столбцам при обучении. Если в данных слишком много столбцов, установка для этого параметра значения True повысит скорость процесса обучения за счет уменьшения использования памяти.<br>\n",
    "`force_row_wise` — этот параметр принимает логическое значение, определяющее, следует ли принудительно строить гистограмму по строкам при обучении. Если в данных слишком много строк, установка для этого параметра значения True повысит скорость процесса обучения за счет уменьшения использования памяти.<br>\n",
    "`early_stopping_round` — принимает целое число, указывающее, что мы должны остановить обучение, если оценочная метрика, рассчитанная на последнем проверочном датасете, не улучшается на протяжении определенного параметром числа итераций."
   ]
  },
  {
   "cell_type": "markdown",
   "id": "ceab78c8-76e0-4385-b200-c38922ac3887",
   "metadata": {},
   "source": [
    "Это далеко не полный список параметров, а наиболее важные. [Описание всех параметров](https://lightgbm.readthedocs.io/en/latest/Parameters.html)"
   ]
  },
  {
   "cell_type": "code",
   "execution_count": 129,
   "id": "694b71a6-4149-49bb-8e0b-937c7fd0629b",
   "metadata": {},
   "outputs": [
    {
     "name": "stdout",
     "output_type": "stream",
     "text": [
      "gbdt accuracy: 0.72\n",
      "dart accuracy: 0.71\n",
      "goss accuracy: 0.72\n"
     ]
    }
   ],
   "source": [
    "#посмотрим как меняется точность в зависимости от типа бустинга\n",
    "boostings = ['gbdt', 'dart', 'goss']\n",
    "\n",
    "for name in boostings:\n",
    "    clf = lgb.LGBMClassifier(objective=\"multiclass\", \n",
    "                             n_estimators=20,\n",
    "                             learning_rate=0.05,\n",
    "                             num_class=9,\n",
    "                             seed=42,\n",
    "                             cat_feature=[0, 1, 2],\n",
    "                             boosting_type=name,\n",
    "                            )\n",
    "    clf.fit(X_train, y_train, eval_set=[(X_test, y_test),], verbose=False)\n",
    "    test_preds = clf.predict(X_test)\n",
    "    print(\"{} accuracy: {:.2f}\".format(name, accuracy_score(y_test, test_preds)))"
   ]
  },
  {
   "cell_type": "markdown",
   "id": "f0b42dd5-9e37-486b-9752-7593adac97f9",
   "metadata": {},
   "source": [
    " Как видно, отличия небольшие. Про подбор оптимальных параметров смотрите урок про Optuna."
   ]
  },
  {
   "cell_type": "markdown",
   "id": "aca3dcec-208f-478d-8e26-810f9088566e",
   "metadata": {},
   "source": [
    "## Тюнинг параметров.\n",
    "**Чтобы повысить точность модели:**\n",
    "* Использовать большой `max_bin` (замедляет обучение)\n",
    "* Уменьшить `learning_rate`, увеличив число деревьев `num_iterations`\n",
    "* Увеличить `num_leaves` (может привести к оверфиттингу)\n",
    "* Попробовать dart<br>\n",
    "\n",
    "**Для борьбы с переобучением:**\n",
    "* Уменьшить `max_bin` и `num_leaves`\n",
    "* Использовать `min_data_in_leaf` и `min_sum_hessian_in_leaf`\n",
    "* Использовать [бэггинг](https://ru.wikipedia.org/wiki/%D0%91%D1%8D%D0%B3%D0%B3%D0%B8%D0%BD%D0%B3), указав `bagging_fraction` и `bagging_freq`\n",
    "* Использовать сабсэмплинг признаков, установив `feature_fraction`\n",
    "* Попробовать `lambda_l1`, `lambda_l2`, `min_gain_to_split` и `extra_trees` для регуляризации\n",
    "* Установить `max_depth` для ограничения глубины дерева<br>\n",
    "\n",
    "Про `max_depth`: LightGBM строит асимметричное дерево, в отличие от других бустингов (разработчики указывают это как киллер-фичу), поэтому по умолчанию этот парметр выставлен в -1 (неограниченная глубина дерева). Но чтобы не расти до бесконечности и не запомнить все данные, особенно на небольших датасетах, рекомендуется ограничивать глубину дерева другими параметрами: `num_leaves`, `min_data_in_leaf`, `min_sum_hessian_in_leaf`, `min_data_in_bin`, `min_gain_to_split`. А `max_depth` рекомендуется использовать либо на очень маленьких (для борьбы с оверфитом), либо на очень больших датасетах (чтобы уменьшить время обучения)."
   ]
  },
  {
   "cell_type": "markdown",
   "id": "5d42fbde-a0e4-4c48-95ef-a9125aa2d6d6",
   "metadata": {},
   "source": [
    "<center> <img src = '../images/3_boostings.webp'> </center>"
   ]
  },
  {
   "cell_type": "markdown",
   "id": "8729eb00-e66a-4061-be75-ce1fa89a31a6",
   "metadata": {},
   "source": [
    "## Early stopping"
   ]
  },
  {
   "cell_type": "markdown",
   "id": "5005abe5-7271-4718-aa99-faeb817407e1",
   "metadata": {},
   "source": [
    "Для early_stopping'а необходимо задать хотя бы 1 валидационный датасет в `valid_sets`\n",
    "В LightGBM есть два способа задействовать механизм ранней остановки обучения модели (early_stopping):\n",
    "* 1. Задать количество итераций в параметре `early_stopping_round`  через которое обучение остановится, если скор на валидации не меняется.\n",
    "* 2. Использовать механизм обратных вызовов (callbacks) метода `train()`.<br>\n",
    "Пример: \n",
    "```python\n",
    "bst = lgb.train(param, train_data, num_round, valid_sets=valid_sets, callbacks=[lgb.early_stopping(stopping_rounds=5)])\n",
    "```\n",
    "\n",
    "Так же есть callback constructor в котором можно задать более сложную логику срабатывания early stopping'а, например, если используются несколько метрик для валидации и одна должна расти, а другая падать. Более подробно можно ознакомиться в документации."
   ]
  },
  {
   "cell_type": "code",
   "execution_count": 131,
   "id": "298d04f9-dc02-483e-8faf-21cd7e572aa2",
   "metadata": {},
   "outputs": [
    {
     "name": "stdout",
     "output_type": "stream",
     "text": [
      "[1]\tvalid_0's multi_logloss: 1.74731\n",
      "[2]\tvalid_0's multi_logloss: 1.50997\n",
      "[3]\tvalid_0's multi_logloss: 1.34305\n",
      "[4]\tvalid_0's multi_logloss: 1.22257\n",
      "[5]\tvalid_0's multi_logloss: 1.1227\n",
      "[6]\tvalid_0's multi_logloss: 1.0441\n",
      "[7]\tvalid_0's multi_logloss: 0.983687\n",
      "[8]\tvalid_0's multi_logloss: 0.9355\n",
      "[9]\tvalid_0's multi_logloss: 0.893843\n",
      "[10]\tvalid_0's multi_logloss: 0.85885\n",
      "[11]\tvalid_0's multi_logloss: 0.827409\n",
      "[12]\tvalid_0's multi_logloss: 0.806586\n",
      "[13]\tvalid_0's multi_logloss: 0.784776\n",
      "[14]\tvalid_0's multi_logloss: 0.768039\n",
      "[15]\tvalid_0's multi_logloss: 0.754988\n",
      "[16]\tvalid_0's multi_logloss: 0.748208\n",
      "[17]\tvalid_0's multi_logloss: 0.741854\n",
      "[18]\tvalid_0's multi_logloss: 0.736293\n",
      "[19]\tvalid_0's multi_logloss: 0.734452\n",
      "[20]\tvalid_0's multi_logloss: 0.733365\n",
      "[21]\tvalid_0's multi_logloss: 0.72929\n",
      "[22]\tvalid_0's multi_logloss: 0.73008\n",
      "[23]\tvalid_0's multi_logloss: 0.72704\n",
      "[24]\tvalid_0's multi_logloss: 0.725782\n",
      "[25]\tvalid_0's multi_logloss: 0.727151\n",
      "[26]\tvalid_0's multi_logloss: 0.730593\n",
      "[27]\tvalid_0's multi_logloss: 0.729957\n",
      "[28]\tvalid_0's multi_logloss: 0.729609\n",
      "[29]\tvalid_0's multi_logloss: 0.728648\n"
     ]
    },
    {
     "data": {
      "text/html": [
       "<style>#sk-container-id-19 {color: black;background-color: white;}#sk-container-id-19 pre{padding: 0;}#sk-container-id-19 div.sk-toggleable {background-color: white;}#sk-container-id-19 label.sk-toggleable__label {cursor: pointer;display: block;width: 100%;margin-bottom: 0;padding: 0.3em;box-sizing: border-box;text-align: center;}#sk-container-id-19 label.sk-toggleable__label-arrow:before {content: \"▸\";float: left;margin-right: 0.25em;color: #696969;}#sk-container-id-19 label.sk-toggleable__label-arrow:hover:before {color: black;}#sk-container-id-19 div.sk-estimator:hover label.sk-toggleable__label-arrow:before {color: black;}#sk-container-id-19 div.sk-toggleable__content {max-height: 0;max-width: 0;overflow: hidden;text-align: left;background-color: #f0f8ff;}#sk-container-id-19 div.sk-toggleable__content pre {margin: 0.2em;color: black;border-radius: 0.25em;background-color: #f0f8ff;}#sk-container-id-19 input.sk-toggleable__control:checked~div.sk-toggleable__content {max-height: 200px;max-width: 100%;overflow: auto;}#sk-container-id-19 input.sk-toggleable__control:checked~label.sk-toggleable__label-arrow:before {content: \"▾\";}#sk-container-id-19 div.sk-estimator input.sk-toggleable__control:checked~label.sk-toggleable__label {background-color: #d4ebff;}#sk-container-id-19 div.sk-label input.sk-toggleable__control:checked~label.sk-toggleable__label {background-color: #d4ebff;}#sk-container-id-19 input.sk-hidden--visually {border: 0;clip: rect(1px 1px 1px 1px);clip: rect(1px, 1px, 1px, 1px);height: 1px;margin: -1px;overflow: hidden;padding: 0;position: absolute;width: 1px;}#sk-container-id-19 div.sk-estimator {font-family: monospace;background-color: #f0f8ff;border: 1px dotted black;border-radius: 0.25em;box-sizing: border-box;margin-bottom: 0.5em;}#sk-container-id-19 div.sk-estimator:hover {background-color: #d4ebff;}#sk-container-id-19 div.sk-parallel-item::after {content: \"\";width: 100%;border-bottom: 1px solid gray;flex-grow: 1;}#sk-container-id-19 div.sk-label:hover label.sk-toggleable__label {background-color: #d4ebff;}#sk-container-id-19 div.sk-serial::before {content: \"\";position: absolute;border-left: 1px solid gray;box-sizing: border-box;top: 0;bottom: 0;left: 50%;z-index: 0;}#sk-container-id-19 div.sk-serial {display: flex;flex-direction: column;align-items: center;background-color: white;padding-right: 0.2em;padding-left: 0.2em;position: relative;}#sk-container-id-19 div.sk-item {position: relative;z-index: 1;}#sk-container-id-19 div.sk-parallel {display: flex;align-items: stretch;justify-content: center;background-color: white;position: relative;}#sk-container-id-19 div.sk-item::before, #sk-container-id-19 div.sk-parallel-item::before {content: \"\";position: absolute;border-left: 1px solid gray;box-sizing: border-box;top: 0;bottom: 0;left: 50%;z-index: -1;}#sk-container-id-19 div.sk-parallel-item {display: flex;flex-direction: column;z-index: 1;position: relative;background-color: white;}#sk-container-id-19 div.sk-parallel-item:first-child::after {align-self: flex-end;width: 50%;}#sk-container-id-19 div.sk-parallel-item:last-child::after {align-self: flex-start;width: 50%;}#sk-container-id-19 div.sk-parallel-item:only-child::after {width: 0;}#sk-container-id-19 div.sk-dashed-wrapped {border: 1px dashed gray;margin: 0 0.4em 0.5em 0.4em;box-sizing: border-box;padding-bottom: 0.4em;background-color: white;}#sk-container-id-19 div.sk-label label {font-family: monospace;font-weight: bold;display: inline-block;line-height: 1.2em;}#sk-container-id-19 div.sk-label-container {text-align: center;}#sk-container-id-19 div.sk-container {/* jupyter's `normalize.less` sets `[hidden] { display: none; }` but bootstrap.min.css set `[hidden] { display: none !important; }` so we also need the `!important` here to be able to override the default hidden behavior on the sphinx rendered scikit-learn.org. See: https://github.com/scikit-learn/scikit-learn/issues/21755 */display: inline-block !important;position: relative;}#sk-container-id-19 div.sk-text-repr-fallback {display: none;}</style><div id=\"sk-container-id-19\" class=\"sk-top-container\"><div class=\"sk-text-repr-fallback\"><pre>LGBMClassifier(cat_feature=[0, 1, 2], num_class=9, objective=&#x27;multiclass&#x27;,\n",
       "               seed=42)</pre><b>In a Jupyter environment, please rerun this cell to show the HTML representation or trust the notebook. <br />On GitHub, the HTML representation is unable to render, please try loading this page with nbviewer.org.</b></div><div class=\"sk-container\" hidden><div class=\"sk-item\"><div class=\"sk-estimator sk-toggleable\"><input class=\"sk-toggleable__control sk-hidden--visually\" id=\"sk-estimator-id-19\" type=\"checkbox\" checked><label for=\"sk-estimator-id-19\" class=\"sk-toggleable__label sk-toggleable__label-arrow\">LGBMClassifier</label><div class=\"sk-toggleable__content\"><pre>LGBMClassifier(cat_feature=[0, 1, 2], num_class=9, objective=&#x27;multiclass&#x27;,\n",
       "               seed=42)</pre></div></div></div></div></div>"
      ],
      "text/plain": [
       "LGBMClassifier(cat_feature=[0, 1, 2], num_class=9, objective='multiclass',\n",
       "               seed=42)"
      ]
     },
     "execution_count": 131,
     "metadata": {},
     "output_type": "execute_result"
    }
   ],
   "source": [
    "# Опробуем на нашем примере\n",
    "clf = lgb.LGBMClassifier(objective=\"multiclass\", \n",
    "                         n_estimators=100,\n",
    "                         learning_rate=0.1,\n",
    "                         num_class=9,\n",
    "                         seed=42,\n",
    "                         cat_feature=[0, 1, 2],\n",
    "                        )\n",
    "\n",
    "clf.fit(X_train, y_train,\n",
    "        eval_set=[(X_test, y_test),], \n",
    "        early_stopping_rounds=5,)"
   ]
  },
  {
   "cell_type": "code",
   "execution_count": 132,
   "id": "3cff3f59-13c9-4a10-a075-0ede0b7ce99d",
   "metadata": {},
   "outputs": [
    {
     "data": {
      "text/plain": [
       "24"
      ]
     },
     "execution_count": 132,
     "metadata": {},
     "output_type": "execute_result"
    }
   ],
   "source": [
    "# Стоит отметить, что модель возвращается с лучшей итерацией после срабатывания остановки\n",
    "clf.best_iteration_"
   ]
  },
  {
   "cell_type": "markdown",
   "id": "82f8a8d7-6a8d-4370-b783-13c7ddaffb21",
   "metadata": {},
   "source": [
    "## Сохранение и загрузка модели\n",
    "\n",
    "Стоит обратить внимание на то, что для сохранения модели, обученной с использованием LGBMModel, LGBMRegressor и LGBMClassifier, нам сначала нужно получить их экземпляр `Booster` с помощью атрибута `booster_` модели, а затем сохранить его. LGBMModel, LGBMRegressor и LGBMClassifier не предоставляют функций сохранения и загрузки. Они доступны только с экземпляром `Booster`. <br>\n",
    "\n",
    "Lightgbm предоставляет нижеперечисленные методы для сохранения и загрузки моделей.\n",
    "* `save_model()` — этот метод принимает имя файла, в котором сохраняется модель.\n",
    "* `model_to_string()` — данный метод возвращает строковое представление модели, которое мы затем можем сохранить в текстовый файл.\n",
    "* `lightgbm.Booster()` — этот конструктор позволяет нам создать экземпляр класса Booster. У него есть два важных параметра, которые могут помочь нам загрузить модель из файла или из строки.\n",
    "    - `model_file` — этот параметр принимает имя файла, из которого загружается обученная модель.\n",
    "    - `model_str` — данный параметр принимает строку, содержащую информацию об обученной модели. Нам нужно передать этому параметру строку, которая была сгенерирована с помощью `model_to_string()` после загрузки из файла.\n",
    "<br>\n",
    "\n",
    "Сохраним обученную выше модель на диск, а потом загрузим её обратно."
   ]
  },
  {
   "cell_type": "code",
   "execution_count": 133,
   "id": "04b18d51-54cc-4a5b-820d-e88af3665415",
   "metadata": {},
   "outputs": [
    {
     "data": {
      "text/plain": [
       "<lightgbm.basic.Booster at 0x7f1da040ca60>"
      ]
     },
     "execution_count": 133,
     "metadata": {},
     "output_type": "execute_result"
    }
   ],
   "source": [
    "# получаем экземпляр класса Booster \n",
    "booster = clf.booster_\n",
    "booster.save_model('lgb.mod')"
   ]
  },
  {
   "cell_type": "code",
   "execution_count": 134,
   "id": "53980576-6741-4890-bd52-55efd6ec256e",
   "metadata": {},
   "outputs": [
    {
     "name": "stdout",
     "output_type": "stream",
     "text": [
      "Test Accuracy: 0.71\n"
     ]
    }
   ],
   "source": [
    "# Отметим, что после загрузки модель будет экземпляром класса Booster и соответственно метод predict() опять выдает вероятности\n",
    "# Поэтому argmax()\n",
    "loaded_booster = lgb.Booster(model_file=\"lgb.mod\")\n",
    "test_preds = np.argmax(loaded_booster.predict(X_test), axis=1)\n",
    "print(\"Test Accuracy: %.2f\" % accuracy_score(y_test, test_preds))"
   ]
  },
  {
   "cell_type": "markdown",
   "id": "db58954c-9450-4c2e-8992-c29f76172099",
   "metadata": {},
   "source": [
    "## Scheduler в LightGBM\n",
    "\n",
    "В LightGBM реализован механизм подобный шедулеру при обучении нейронных сетей, т.е. мы можем менять `learning_rate` в процессе обучения модели - иногда это бывает полезно, чтобы выжать из модели максимум. Механизм реализован на базе callback фуекции `reset_parameter()` - данная функция обратного вызова позволяет нам сбрасывать learning rate после каждой итерации. Она принимает массив, размер которого совпадает с их количеством, или функцию, возвращающую новую скорость обучения для каждой итерации.<br>\n",
    "В параметр `callbacks` методов `train()` и `fit()` можно подать список функций обратного вызова.<br>\n",
    "Пример:\n",
    "```python\n",
    "booster = lgb.LGBMModel(objective=mean_sqaured_error, n_estimators=10,)\n",
    "booster.fit(X_train, Y_train,\n",
    "            eval_set=[(X_test, Y_test),], eval_metric=\"rmse\",\n",
    "            callbacks=[lgb.reset_parameter(learning_rate=np.linspace(0.1,1,10).tolist()),\n",
    "                       lgb.early_stopping(stopping_rounds=5)])\n",
    "```"
   ]
  },
  {
   "cell_type": "markdown",
   "id": "7036e923-7db1-41db-a75b-e9499d61f0b3",
   "metadata": {},
   "source": [
    "## Визуализация и feature importance\n",
    "\n",
    "Экземпляр класса `Booster` имеет метод feature_importance(), который может возвращать нам важность признаков на основе значений выигрыша `booster.feature_importance(importance_type=\"gain\")` и разделения `booster.feature_importance(importance_type=\"split\")` деревьев.<br>\n",
    "### `plot_importance()`\n",
    "Встроенный метод `plot_importance()` принимает экземпляр класса Booster и с его помощью отображает важность признаков. У данного метода есть параметр `importance_type`. Если он установлен в значение `split`, то график будет отображать количество раз, которое каждый показатель использовался для разбиения. Если установлено значение `gain`, то будет показан выигрыш от соответствующих разделений. Значение параметра `important_type` по умолчанию `split`.<br>\n",
    "Параметр `max_num_features` принимает целое число, определяющее, сколько признаков включить в график."
   ]
  },
  {
   "cell_type": "code",
   "execution_count": 135,
   "id": "3c9b3b13-82e2-4f26-94c8-5c4c498d4eed",
   "metadata": {},
   "outputs": [
    {
     "data": {
      "image/png": "[encoded data removed]",
      "text/plain": [
       "<Figure size 800x600 with 1 Axes>"
      ]
     },
     "metadata": {},
     "output_type": "display_data"
    },
    {
     "data": {
      "image/png": "[encoded data removed]",
      "text/plain": [
       "<Figure size 800x600 with 1 Axes>"
      ]
     },
     "metadata": {},
     "output_type": "display_data"
    }
   ],
   "source": [
    "# Посмотрим на разные виды импортансов\n",
    "lgb.plot_importance(booster, figsize=(8,6), importance_type='split');\n",
    "lgb.plot_importance(booster, figsize=(8,6), importance_type='gain');"
   ]
  },
  {
   "cell_type": "markdown",
   "id": "65405e82-de91-4844-af07-379ff98f7e8b",
   "metadata": {},
   "source": [
    "### `plot_split_value_histogram()`\n",
    "Этот метод принимает на вход экземпляр класса Booster и имя/индекс признака. Затем он строит гистограмму значений разделения (split value) для выбранного признака."
   ]
  },
  {
   "cell_type": "code",
   "execution_count": 136,
   "id": "7e0ad726-8fe7-4c83-89ee-95c6eb262c3b",
   "metadata": {},
   "outputs": [
    {
     "data": {
      "image/png": "[encoded data removed]",
      "text/plain": [
       "<Figure size 800x600 with 1 Axes>"
      ]
     },
     "metadata": {},
     "output_type": "display_data"
    }
   ],
   "source": [
    "lgb.plot_split_value_histogram(booster, feature='speed_max', figsize=(8,6));"
   ]
  },
  {
   "cell_type": "markdown",
   "id": "cbf0514d-0a53-4751-9883-ca5094f4e753",
   "metadata": {},
   "source": [
    "## Custom loss & custom eval functions\n",
    "В некоторых соревнованиях организаторы считают скор для построения лидерборда на кокой-нибудь необычной функции оценки (eval metric), которая хорошо работает на конкретной задаче, но более нигде не встречается. Чаще всего, даже предоставляют формулу для расчета, в таком случае может быть полезно написать собственные кастомные функции для обучения бустинга.\n",
    "LightGBM позволяет нам определять наши собственные функцию потерь и функцию оценки, если мы не хотим использовать метрики, предоставленные фреймворком.\n",
    "Чаще всего используются 2 способа реализации кастомных функций:\n",
    "* 1. Наиболее простой: импортировать готовую функцию из другого фреймворка (например из sklearn) и допилить до нужного формата (см. пример)\n",
    "* 2. Написать собственную функцию с нуля.\n",
    "### Функция потерь (Loss function)\n",
    "Нужно создать функцию, которая принимает список прогнозируемых и фактических меток в качестве входных данных и возвращает первую и вторую производные функции потерь, вычисленные с использованием предсказанных и фактических значений. Далее мы можем при инициализации модели передать параметру `objective`  определенную нами функцию оценки/потерь. В случае использования метода train() мы должны предоставить ее через параметр `fobj`.\n",
    "### Функция оценки (Eval function)\n",
    "Создаем функцию, которая принимает на вход список предсказаний и фактических целевых значений. Она должна возвращать строку, определяющую название метрики, результат ее расчета и логическое значение, выражающее, стоит ли стремится к максимизации данной метрики или к ее минимизации. В случае, когда чем выше значение метрики, тем лучше, должно быть возвращено True, иначе — False. Нужно указать ссылку на эту функцию в параметре `feval`, если мы используем метод `train()` для обучения нашей модели. При передаче в `fit()` нам нужно присвоить данную ссылку параметру eval_metric."
   ]
  },
  {
   "cell_type": "code",
   "execution_count": 116,
   "id": "2b903e39-b143-4c64-8eb7-9ea0fcdd39ce",
   "metadata": {},
   "outputs": [],
   "source": [
    "#Рассмотрим в качестве примера реализацию кастомной метрики оценки \n",
    "from sklearn.metrics import precision_score\n",
    "\n",
    "def precision_score_(preds: np.ndarray, data, threshold: float=0.5, num_classes: int=9):\n",
    "    \"\"\"Calculate recall_score\"\"\"\n",
    "    label = data.get_label()\n",
    "    preds = preds.reshape(num_classes, -1).T\n",
    "    pred_label = np.argmax(preds, axis=1)\n",
    "    rs = precision_score(pred_label, label, average='macro', zero_division=0)\n",
    "    return 'precision_score', rs, True # eval_name, eval_result, is_higher_better"
   ]
  },
  {
   "cell_type": "code",
   "execution_count": 117,
   "id": "f0cdb4a2-cbab-4c2f-8ab4-1117988adc5d",
   "metadata": {},
   "outputs": [
    {
     "name": "stdout",
     "output_type": "stream",
     "text": [
      "[1]\tvalid_0's multi_logloss: 2.09804\tvalid_0's precision_score: 0.305134\n",
      "[2]\tvalid_0's multi_logloss: 2.03213\tvalid_0's precision_score: 0.332209\n",
      "[3]\tvalid_0's multi_logloss: 1.97896\tvalid_0's precision_score: 0.353609\n",
      "[4]\tvalid_0's multi_logloss: 1.9346\tvalid_0's precision_score: 0.368696\n",
      "[5]\tvalid_0's multi_logloss: 1.89426\tvalid_0's precision_score: 0.384341\n",
      "[6]\tvalid_0's multi_logloss: 1.85953\tvalid_0's precision_score: 0.396159\n",
      "[7]\tvalid_0's multi_logloss: 1.82945\tvalid_0's precision_score: 0.403395\n",
      "[8]\tvalid_0's multi_logloss: 1.80209\tvalid_0's precision_score: 0.412722\n",
      "[9]\tvalid_0's multi_logloss: 1.77683\tvalid_0's precision_score: 0.422687\n",
      "[10]\tvalid_0's multi_logloss: 1.75438\tvalid_0's precision_score: 0.430404\n"
     ]
    }
   ],
   "source": [
    "booster = lgb.train(params,\n",
    "                    train_set=train_data, \n",
    "                    valid_sets=(val_data,),\n",
    "                    num_boost_round=10,\n",
    "                    feval=[precision_score_],)"
   ]
  },
  {
   "cell_type": "markdown",
   "id": "e63129ae-c0cf-424a-9780-cf977ddbc8cc",
   "metadata": {},
   "source": [
    "## Полезные ссылки\n",
    "* [Сборник победных решений хакатонов с использованием LightGBM](https://gist.github.com/GhibliField/d544464bc81f1d0f002bea243d80c51e)\n",
    "* [Официальная документация библиотеки](https://lightgbm.readthedocs.io/en/latest/index.html)\n",
    "* [Очень подробный гайд, переведенный на русский язык](https://pythonru.com/biblioteki/lightgbm)"
   ]
  }
 ],
 "metadata": {
  "kernelspec": {
   "display_name": "Python 3 (ipykernel)",
   "language": "python",
   "name": "python3"
  },
  "language_info": {
   "codemirror_mode": {
    "name": "ipython",
    "version": 3
   },
   "file_extension": ".py",
   "mimetype": "text/x-python",
   "name": "python",
   "nbconvert_exporter": "python",
   "pygments_lexer": "ipython3",
   "version": "3.9.15"
  }
 },
 "nbformat": 4,
 "nbformat_minor": 5
}
