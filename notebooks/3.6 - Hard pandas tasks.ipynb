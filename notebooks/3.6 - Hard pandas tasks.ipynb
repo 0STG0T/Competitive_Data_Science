{
 "cells": [
  {
   "cell_type": "code",
   "execution_count": null,
   "id": "53c16915-78a5-433b-92f4-d326437a9b1e",
   "metadata": {},
   "outputs": [],
   "source": []
  },
  {
   "cell_type": "code",
   "execution_count": null,
   "id": "ac3296d2-4957-4e13-80e8-e971d5823d92",
   "metadata": {},
   "outputs": [],
   "source": []
  },
  {
   "cell_type": "code",
   "execution_count": null,
   "id": "15932920-b800-48f2-a89e-a198884f8bef",
   "metadata": {},
   "outputs": [],
   "source": []
  },
  {
   "cell_type": "code",
   "execution_count": null,
   "id": "c8014c24-377c-4f9e-8926-61f17eba60ee",
   "metadata": {},
   "outputs": [],
   "source": [
    "def make_batch(muts):\n",
    "    segs = list(range(len(muts)))\n",
    "    seg = [seg//20 for seg in segs]\n",
    "    return seg\n",
    "\n",
    "# Обязательно сортируем\n",
    "df_train.sort_values('wildt_group_id', inplace=True)\n",
    "\n",
    "# Агрегация с кастомной функцией\n",
    "tmp = df_train.groupby('wildt_group_id', as_index = False).agg(segs = ('mutant_group_id', make_batch), counts = ('mutant_group_id', 'count'))\n",
    "\n",
    "# Разтягивает результат в новый столбец в верном порядке\n",
    "df_train['batch'] = tmp['segs'].explode().values\n",
    "df_train.head()"
   ]
  }
 ],
 "metadata": {
  "kernelspec": {
   "display_name": "Python 3 (ipykernel)",
   "language": "python",
   "name": "python3"
  },
  "language_info": {
   "codemirror_mode": {
    "name": "ipython",
    "version": 3
   },
   "file_extension": ".py",
   "mimetype": "text/x-python",
   "name": "python",
   "nbconvert_exporter": "python",
   "pygments_lexer": "ipython3",
   "version": "3.9.13"
  }
 },
 "nbformat": 4,
 "nbformat_minor": 5
}
