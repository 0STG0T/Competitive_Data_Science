{
 "cells": [
  {
   "cell_type": "code",
   "execution_count": 1,
   "id": "9b2a9a1e-01dc-461d-bbc6-93d336a790bc",
   "metadata": {},
   "outputs": [
    {
     "name": "stdout",
     "output_type": "stream",
     "text": [
      "car_test.csv\t      driver_info.csv\t    rides_info.csv\n",
      "car_train.csv\t      fix_info.csv\t    test_data.csv\n",
      "demo_car_train.csv    fs_task1_10f.csv\t    tmp_car_info.csv\n",
      "demo_driver_info.csv  fs_task2_45f.csv\t    tmp_driver_info.csv\n",
      "demo_fix_info.csv     fs_task3_310f.csv     tmp_rides_info.csv\n",
      "demo_rides_info.csv   quickstart_train.csv\n"
     ]
    }
   ],
   "source": [
    "!ls ../data/"
   ]
  },
  {
   "cell_type": "code",
   "execution_count": 64,
   "id": "74ae8b0c-d69f-48b4-bb35-ab6e6c421532",
   "metadata": {},
   "outputs": [
    {
     "name": "stdout",
     "output_type": "stream",
     "text": [
      "(15, 4)\n"
     ]
    },
    {
     "data": {
      "text/html": [
       "<div>\n",
       "<style scoped>\n",
       "    .dataframe tbody tr th:only-of-type {\n",
       "        vertical-align: middle;\n",
       "    }\n",
       "\n",
       "    .dataframe tbody tr th {\n",
       "        vertical-align: top;\n",
       "    }\n",
       "\n",
       "    .dataframe thead th {\n",
       "        text-align: right;\n",
       "    }\n",
       "</style>\n",
       "<table border=\"1\" class=\"dataframe\">\n",
       "  <thead>\n",
       "    <tr style=\"text-align: right;\">\n",
       "      <th></th>\n",
       "      <th>user_id</th>\n",
       "      <th>rating</th>\n",
       "      <th>speed_max</th>\n",
       "      <th>ride_cost</th>\n",
       "    </tr>\n",
       "  </thead>\n",
       "  <tbody>\n",
       "    <tr>\n",
       "      <th>36328</th>\n",
       "      <td>m10467701Z</td>\n",
       "      <td>4.75</td>\n",
       "      <td>70.000000</td>\n",
       "      <td>235</td>\n",
       "    </tr>\n",
       "    <tr>\n",
       "      <th>28953</th>\n",
       "      <td>e59744813O</td>\n",
       "      <td>7.75</td>\n",
       "      <td>90.000000</td>\n",
       "      <td>310</td>\n",
       "    </tr>\n",
       "    <tr>\n",
       "      <th>4619</th>\n",
       "      <td>M18904662S</td>\n",
       "      <td>4.86</td>\n",
       "      <td>67.000000</td>\n",
       "      <td>667</td>\n",
       "    </tr>\n",
       "    <tr>\n",
       "      <th>1331</th>\n",
       "      <td>K19764177B</td>\n",
       "      <td>0.10</td>\n",
       "      <td>64.000000</td>\n",
       "      <td>20</td>\n",
       "    </tr>\n",
       "    <tr>\n",
       "      <th>20272</th>\n",
       "      <td>a19305300d</td>\n",
       "      <td>3.95</td>\n",
       "      <td>77.810864</td>\n",
       "      <td>851</td>\n",
       "    </tr>\n",
       "  </tbody>\n",
       "</table>\n",
       "</div>"
      ],
      "text/plain": [
       "          user_id  rating  speed_max  ride_cost\n",
       "36328  m10467701Z    4.75  70.000000        235\n",
       "28953  e59744813O    7.75  90.000000        310\n",
       "4619   M18904662S    4.86  67.000000        667\n",
       "1331   K19764177B    0.10  64.000000         20\n",
       "20272  a19305300d    3.95  77.810864        851"
      ]
     },
     "execution_count": 64,
     "metadata": {},
     "output_type": "execute_result"
    }
   ],
   "source": [
    "import pandas as pd\n",
    "path = '../data/demo_rides_info.csv'\n",
    "df = pd.read_csv(path)\n",
    "\n",
    "cols = ['user_id', 'rating', 'speed_max', 'ride_cost']\n",
    "df = df[cols]\n",
    "\n",
    "df = df[df['ride_cost'] < 1_000]\n",
    "df = df.sample(15)\n",
    "df.to_csv('../data/stepik_rides.csv', index=False)\n",
    "print(df.shape)\n",
    "df.head()"
   ]
  },
  {
   "cell_type": "code",
   "execution_count": null,
   "id": "2b57325b-242c-4e76-bb1c-6cfbfae0c4be",
   "metadata": {},
   "outputs": [],
   "source": []
  },
  {
   "cell_type": "code",
   "execution_count": 66,
   "id": "ed617501-9b58-4aec-9db0-5c878a487a87",
   "metadata": {},
   "outputs": [
    {
     "data": {
      "text/html": [
       "<div>\n",
       "<style scoped>\n",
       "    .dataframe tbody tr th:only-of-type {\n",
       "        vertical-align: middle;\n",
       "    }\n",
       "\n",
       "    .dataframe tbody tr th {\n",
       "        vertical-align: top;\n",
       "    }\n",
       "\n",
       "    .dataframe thead th {\n",
       "        text-align: right;\n",
       "    }\n",
       "</style>\n",
       "<table border=\"1\" class=\"dataframe\">\n",
       "  <thead>\n",
       "    <tr style=\"text-align: right;\">\n",
       "      <th></th>\n",
       "      <th>user_id</th>\n",
       "      <th>rating</th>\n",
       "      <th>speed_max</th>\n",
       "      <th>ride_cost</th>\n",
       "    </tr>\n",
       "  </thead>\n",
       "  <tbody>\n",
       "    <tr>\n",
       "      <th>36328</th>\n",
       "      <td>m10467701Z</td>\n",
       "      <td>4.75</td>\n",
       "      <td>70.000000</td>\n",
       "      <td>235</td>\n",
       "    </tr>\n",
       "    <tr>\n",
       "      <th>28953</th>\n",
       "      <td>e59744813O</td>\n",
       "      <td>7.75</td>\n",
       "      <td>90.000000</td>\n",
       "      <td>310</td>\n",
       "    </tr>\n",
       "    <tr>\n",
       "      <th>4619</th>\n",
       "      <td>M18904662S</td>\n",
       "      <td>4.86</td>\n",
       "      <td>67.000000</td>\n",
       "      <td>667</td>\n",
       "    </tr>\n",
       "    <tr>\n",
       "      <th>1331</th>\n",
       "      <td>K19764177B</td>\n",
       "      <td>0.10</td>\n",
       "      <td>64.000000</td>\n",
       "      <td>20</td>\n",
       "    </tr>\n",
       "    <tr>\n",
       "      <th>20272</th>\n",
       "      <td>a19305300d</td>\n",
       "      <td>3.95</td>\n",
       "      <td>77.810864</td>\n",
       "      <td>851</td>\n",
       "    </tr>\n",
       "    <tr>\n",
       "      <th>43303</th>\n",
       "      <td>G21657027r</td>\n",
       "      <td>5.21</td>\n",
       "      <td>73.000000</td>\n",
       "      <td>485</td>\n",
       "    </tr>\n",
       "    <tr>\n",
       "      <th>30039</th>\n",
       "      <td>s10216740w</td>\n",
       "      <td>1.37</td>\n",
       "      <td>95.587786</td>\n",
       "      <td>34</td>\n",
       "    </tr>\n",
       "    <tr>\n",
       "      <th>44543</th>\n",
       "      <td>d12670357X</td>\n",
       "      <td>0.10</td>\n",
       "      <td>68.000000</td>\n",
       "      <td>160</td>\n",
       "    </tr>\n",
       "    <tr>\n",
       "      <th>15505</th>\n",
       "      <td>u16370018Q</td>\n",
       "      <td>3.38</td>\n",
       "      <td>75.000000</td>\n",
       "      <td>138</td>\n",
       "    </tr>\n",
       "    <tr>\n",
       "      <th>29402</th>\n",
       "      <td>a16856276x</td>\n",
       "      <td>4.01</td>\n",
       "      <td>71.877755</td>\n",
       "      <td>314</td>\n",
       "    </tr>\n",
       "    <tr>\n",
       "      <th>10988</th>\n",
       "      <td>S20666247z</td>\n",
       "      <td>3.94</td>\n",
       "      <td>69.000000</td>\n",
       "      <td>399</td>\n",
       "    </tr>\n",
       "    <tr>\n",
       "      <th>27547</th>\n",
       "      <td>d17838550e</td>\n",
       "      <td>0.48</td>\n",
       "      <td>67.879445</td>\n",
       "      <td>136</td>\n",
       "    </tr>\n",
       "    <tr>\n",
       "      <th>38140</th>\n",
       "      <td>A19255536d</td>\n",
       "      <td>1.58</td>\n",
       "      <td>93.625727</td>\n",
       "      <td>364</td>\n",
       "    </tr>\n",
       "    <tr>\n",
       "      <th>42905</th>\n",
       "      <td>y10147802a</td>\n",
       "      <td>2.24</td>\n",
       "      <td>100.740159</td>\n",
       "      <td>241</td>\n",
       "    </tr>\n",
       "    <tr>\n",
       "      <th>1284</th>\n",
       "      <td>Y80896914P</td>\n",
       "      <td>2.35</td>\n",
       "      <td>61.000000</td>\n",
       "      <td>235</td>\n",
       "    </tr>\n",
       "  </tbody>\n",
       "</table>\n",
       "</div>"
      ],
      "text/plain": [
       "          user_id  rating   speed_max  ride_cost\n",
       "36328  m10467701Z    4.75   70.000000        235\n",
       "28953  e59744813O    7.75   90.000000        310\n",
       "4619   M18904662S    4.86   67.000000        667\n",
       "1331   K19764177B    0.10   64.000000         20\n",
       "20272  a19305300d    3.95   77.810864        851\n",
       "43303  G21657027r    5.21   73.000000        485\n",
       "30039  s10216740w    1.37   95.587786         34\n",
       "44543  d12670357X    0.10   68.000000        160\n",
       "15505  u16370018Q    3.38   75.000000        138\n",
       "29402  a16856276x    4.01   71.877755        314\n",
       "10988  S20666247z    3.94   69.000000        399\n",
       "27547  d17838550e    0.48   67.879445        136\n",
       "38140  A19255536d    1.58   93.625727        364\n",
       "42905  y10147802a    2.24  100.740159        241\n",
       "1284   Y80896914P    2.35   61.000000        235"
      ]
     },
     "execution_count": 66,
     "metadata": {},
     "output_type": "execute_result"
    }
   ],
   "source": [
    "df.drop_index()#to_dict()\n",
    "\n",
    "df_dict = {'user_id': {75: 'aleron', 36328: 'm10467701Z', 28953: 'e59744813O', 4619: 'M18904662S', 1331: 'K19764177B', 20272: 'a19305300d', 43303: 'G21657027r', 30039: 's10216740w', 44543: 'd12670357X', 15505: 'u16370018Q',\n",
    "                       29402: 'a16856276x', 10988: 'S20666247z', 27547: 'd17838550e', 38140: 'A19255536d', 42905: 'y10147802a', 1284: 'Y80896914P'}, \n",
    "           'rating': {75: 6, 36328: 4.75, 28953: 7.75, 4619: 4.86, 1331: 0.1, 20272: 3.95, 43303: 5.21, 30039: 1.37, 44543: 0.1, 15505: 3.38, 29402: 4.01, 10988: 3.94, 27547: 0.48, 38140: 1.58, 42905: 2.24, 1284: 2.35}, \n",
    "           'speed_max': {75: 105, 36328: 70.0, 28953: 90.0, 4619: 67.0, 1331: 64.0, 20272: 77.81086436529206, 43303: 73.0, 30039: 95.58778572802738, 44543: 68.0, 15505: 75.0, 29402: 71.8777552054031, 10988: 69.0,\n",
    "                         27547: 67.87944457747528, 38140: 93.62572719223624, 42905: 100.74015873833628, 1284: 61.0}, \n",
    "           'ride_cost': {75: 150, 36328: 235, 28953: 310, 4619: 667, 1331: 20, 20272: 851, 43303: 485, 30039: 34, 44543: 160, 15505: 138, 29402: 314, 10988: 399, 27547: 136, 38140: 364, 42905: 241, 1284: 235}}\n",
    "\n",
    "df_ = pd.DataFrame(df_dict)\n",
    "df_"
   ]
  },
  {
   "cell_type": "code",
   "execution_count": 62,
   "id": "cf465b2c-8835-49d5-a885-ec5b91741786",
   "metadata": {},
   "outputs": [],
   "source": [
    "def func(row):\n",
    "    if row['rating'] > 6 and row['speed_max'] < 120:\n",
    "        return int(row['ride_cost']*0.95)\n",
    "    return int(row['ride_cost']*1.05)\n",
    "\n",
    "\n",
    "df['final_ride_cost'] = df.apply(func, axis=1)\n",
    "# df['final_ride_cost'].hist(bins=30)\n"
   ]
  },
  {
   "cell_type": "code",
   "execution_count": 63,
   "id": "fabcf3c3-86b3-436f-82d5-b702698ef62f",
   "metadata": {},
   "outputs": [
    {
     "data": {
      "text/plain": [
       "<AxesSubplot: >"
      ]
     },
     "execution_count": 63,
     "metadata": {},
     "output_type": "execute_result"
    },
    {
     "data": {
      "image/png": "[encoded data removed]",
      "text/plain": [
       "<Figure size 640x480 with 1 Axes>"
      ]
     },
     "metadata": {},
     "output_type": "display_data"
    }
   ],
   "source": [
    "# df[df['final_ride_cost'] < 6_00000]\n",
    "df['final_ride_cost'].hist(bins=30)"
   ]
  },
  {
   "cell_type": "code",
   "execution_count": null,
   "id": "cadd0f12-d270-4fcf-aeff-3959b92c0abb",
   "metadata": {},
   "outputs": [],
   "source": []
  }
 ],
 "metadata": {
  "kernelspec": {
   "display_name": "Python 3 (ipykernel)",
   "language": "python",
   "name": "python3"
  },
  "language_info": {
   "codemirror_mode": {
    "name": "ipython",
    "version": 3
   },
   "file_extension": ".py",
   "mimetype": "text/x-python",
   "name": "python",
   "nbconvert_exporter": "python",
   "pygments_lexer": "ipython3",
   "version": "3.9.15"
  }
 },
 "nbformat": 4,
 "nbformat_minor": 5
}
