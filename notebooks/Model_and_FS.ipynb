{
 "cells": [
  {
   "cell_type": "code",
   "execution_count": 2,
   "metadata": {
    "ExecuteTime": {
     "end_time": "2022-09-23T12:30:27.726118Z",
     "start_time": "2022-09-23T12:30:24.605676Z"
    }
   },
   "outputs": [],
   "source": [
    "import numpy as np\n",
    "import pandas as pd\n",
    "\n",
    "import string\n",
    "import random\n",
    "import scipy\n",
    "\n",
    "import matplotlib.pyplot as plt\n",
    "import seaborn as sns; sns.set_theme()\n",
    "from tqdm.notebook import tqdm"
   ]
  },
  {
   "cell_type": "code",
   "execution_count": 3,
   "metadata": {
    "ExecuteTime": {
     "end_time": "2022-08-25T13:47:09.481348Z",
     "start_time": "2022-08-25T13:47:09.468039Z"
    }
   },
   "outputs": [],
   "source": [
    "!pip install tslearn >> None"
   ]
  },
  {
   "cell_type": "code",
   "execution_count": null,
   "metadata": {},
   "outputs": [],
   "source": []
  },
  {
   "cell_type": "markdown",
   "metadata": {},
   "source": [
    "# Анализируем car_info"
   ]
  },
  {
   "cell_type": "code",
   "execution_count": null,
   "metadata": {
    "ExecuteTime": {
     "end_time": "2022-09-23T12:30:31.614036Z",
     "start_time": "2022-09-23T12:30:27.758714Z"
    }
   },
   "outputs": [],
   "source": [
    "car_info = pd.read_csv('../data/car_info.csv')\n",
    "print(car_info.shape)\n",
    "car_info.hist(figsize=(20, 20))\n",
    "car_info.sample(2)"
   ]
  },
  {
   "cell_type": "markdown",
   "metadata": {},
   "source": [
    "# Анализируем rider_info"
   ]
  },
  {
   "cell_type": "code",
   "execution_count": 6,
   "metadata": {
    "ExecuteTime": {
     "end_time": "2022-09-23T12:30:33.395843Z",
     "start_time": "2022-09-23T12:30:31.697941Z"
    }
   },
   "outputs": [],
   "source": [
    "rider_info = pd.read_csv('../data/rider_info.csv')\n",
    "rider_info.hist()\n",
    "rider_info.sample(2)"
   ]
  },
  {
   "cell_type": "markdown",
   "metadata": {
    "ExecuteTime": {
     "end_time": "2022-08-03T06:56:51.355541Z",
     "start_time": "2022-08-03T06:56:51.333557Z"
    }
   },
   "source": [
    "# Анализируем fix_info"
   ]
  },
  {
   "cell_type": "code",
   "execution_count": 7,
   "metadata": {
    "ExecuteTime": {
     "end_time": "2022-09-23T12:30:36.070727Z",
     "start_time": "2022-09-23T12:30:33.395843Z"
    }
   },
   "outputs": [],
   "source": [
    "fix_info = pd.read_csv('../data/fix_info.csv')\n",
    "print(fix_info.shape)\n",
    "fix_info.hist()\n",
    "fix_info.sample(2)"
   ]
  },
  {
   "cell_type": "markdown",
   "metadata": {},
   "source": [
    "# Анализируем rides_info"
   ]
  },
  {
   "cell_type": "code",
   "execution_count": 13,
   "metadata": {},
   "outputs": [
    {
     "data": {
      "text/html": [
       "<div>\n",
       "<style scoped>\n",
       "    .dataframe tbody tr th:only-of-type {\n",
       "        vertical-align: middle;\n",
       "    }\n",
       "\n",
       "    .dataframe tbody tr th {\n",
       "        vertical-align: top;\n",
       "    }\n",
       "\n",
       "    .dataframe thead th {\n",
       "        text-align: right;\n",
       "    }\n",
       "</style>\n",
       "<table border=\"1\" class=\"dataframe\">\n",
       "  <thead>\n",
       "    <tr style=\"text-align: right;\">\n",
       "      <th></th>\n",
       "      <th>user_id</th>\n",
       "      <th>car_id</th>\n",
       "      <th>ride_id</th>\n",
       "      <th>ride_date</th>\n",
       "      <th>rating</th>\n",
       "      <th>ride_duration</th>\n",
       "      <th>ride_cost</th>\n",
       "      <th>speed_avg</th>\n",
       "      <th>speed_max</th>\n",
       "      <th>stop_times</th>\n",
       "      <th>distance</th>\n",
       "      <th>refueling</th>\n",
       "      <th>car_rating</th>\n",
       "      <th>user_ride_quality</th>\n",
       "      <th>deviation_normal</th>\n",
       "      <th>target_1</th>\n",
       "      <th>target_2</th>\n",
       "      <th>real_slope</th>\n",
       "      <th>killer_fs</th>\n",
       "    </tr>\n",
       "  </thead>\n",
       "  <tbody>\n",
       "    <tr>\n",
       "      <th>798804</th>\n",
       "      <td>x17294225B</td>\n",
       "      <td>t76126090D</td>\n",
       "      <td>O1c</td>\n",
       "      <td>2020-03-12 14:23:24.633560704</td>\n",
       "      <td>5.488101</td>\n",
       "      <td>5.260460</td>\n",
       "      <td>5.186037</td>\n",
       "      <td>31.040767</td>\n",
       "      <td>49.00000</td>\n",
       "      <td>0</td>\n",
       "      <td>0.696274</td>\n",
       "      <td>0</td>\n",
       "      <td>1.5</td>\n",
       "      <td>-4.618123</td>\n",
       "      <td>11.568383</td>\n",
       "      <td>9</td>\n",
       "      <td>engine_ignition</td>\n",
       "      <td>-0.17</td>\n",
       "      <td>136</td>\n",
       "    </tr>\n",
       "    <tr>\n",
       "      <th>327349</th>\n",
       "      <td>h26595627L</td>\n",
       "      <td>S89208487G</td>\n",
       "      <td>E1n</td>\n",
       "      <td>2020-02-24 03:49:26.031295590</td>\n",
       "      <td>4.874791</td>\n",
       "      <td>4.297974</td>\n",
       "      <td>5.764795</td>\n",
       "      <td>43.210880</td>\n",
       "      <td>44.21088</td>\n",
       "      <td>0</td>\n",
       "      <td>0.596734</td>\n",
       "      <td>0</td>\n",
       "      <td>3.9</td>\n",
       "      <td>-2.223376</td>\n",
       "      <td>4.079060</td>\n",
       "      <td>25</td>\n",
       "      <td>engine_fuel</td>\n",
       "      <td>-0.15</td>\n",
       "      <td>132</td>\n",
       "    </tr>\n",
       "    <tr>\n",
       "      <th>832003</th>\n",
       "      <td>Z66263143H</td>\n",
       "      <td>v25172188Y</td>\n",
       "      <td>S1t</td>\n",
       "      <td>2020-01-22 12:21:08.881409868</td>\n",
       "      <td>4.634979</td>\n",
       "      <td>5.482547</td>\n",
       "      <td>5.025050</td>\n",
       "      <td>34.000000</td>\n",
       "      <td>48.00000</td>\n",
       "      <td>1</td>\n",
       "      <td>0.539676</td>\n",
       "      <td>0</td>\n",
       "      <td>1.2</td>\n",
       "      <td>-0.573190</td>\n",
       "      <td>-4.100051</td>\n",
       "      <td>26</td>\n",
       "      <td>break_bug</td>\n",
       "      <td>-0.15</td>\n",
       "      <td>84</td>\n",
       "    </tr>\n",
       "    <tr>\n",
       "      <th>804382</th>\n",
       "      <td>F60834453v</td>\n",
       "      <td>u12966392l</td>\n",
       "      <td>T1b</td>\n",
       "      <td>2020-03-11 15:20:16.669351855</td>\n",
       "      <td>3.475545</td>\n",
       "      <td>5.994535</td>\n",
       "      <td>4.329686</td>\n",
       "      <td>36.000000</td>\n",
       "      <td>33.00000</td>\n",
       "      <td>2</td>\n",
       "      <td>0.674346</td>\n",
       "      <td>0</td>\n",
       "      <td>1.1</td>\n",
       "      <td>-4.785005</td>\n",
       "      <td>-2.509644</td>\n",
       "      <td>12</td>\n",
       "      <td>engine_overheat</td>\n",
       "      <td>-0.17</td>\n",
       "      <td>127</td>\n",
       "    </tr>\n",
       "    <tr>\n",
       "      <th>631288</th>\n",
       "      <td>s12580313y</td>\n",
       "      <td>k19286418k</td>\n",
       "      <td>s1v</td>\n",
       "      <td>2020-01-15 05:27:32.277835864</td>\n",
       "      <td>3.544849</td>\n",
       "      <td>4.916010</td>\n",
       "      <td>4.062836</td>\n",
       "      <td>45.484173</td>\n",
       "      <td>45.00000</td>\n",
       "      <td>0</td>\n",
       "      <td>0.596746</td>\n",
       "      <td>0</td>\n",
       "      <td>1.5</td>\n",
       "      <td>0.261183</td>\n",
       "      <td>8.762065</td>\n",
       "      <td>16</td>\n",
       "      <td>electro_bug</td>\n",
       "      <td>-0.00</td>\n",
       "      <td>99</td>\n",
       "    </tr>\n",
       "  </tbody>\n",
       "</table>\n",
       "</div>"
      ],
      "text/plain": [
       "           user_id      car_id ride_id                      ride_date  \\\n",
       "798804  x17294225B  t76126090D     O1c  2020-03-12 14:23:24.633560704   \n",
       "327349  h26595627L  S89208487G     E1n  2020-02-24 03:49:26.031295590   \n",
       "832003  Z66263143H  v25172188Y     S1t  2020-01-22 12:21:08.881409868   \n",
       "804382  F60834453v  u12966392l     T1b  2020-03-11 15:20:16.669351855   \n",
       "631288  s12580313y  k19286418k     s1v  2020-01-15 05:27:32.277835864   \n",
       "\n",
       "          rating  ride_duration  ride_cost  speed_avg  speed_max  stop_times  \\\n",
       "798804  5.488101       5.260460   5.186037  31.040767   49.00000           0   \n",
       "327349  4.874791       4.297974   5.764795  43.210880   44.21088           0   \n",
       "832003  4.634979       5.482547   5.025050  34.000000   48.00000           1   \n",
       "804382  3.475545       5.994535   4.329686  36.000000   33.00000           2   \n",
       "631288  3.544849       4.916010   4.062836  45.484173   45.00000           0   \n",
       "\n",
       "        distance  refueling  car_rating  user_ride_quality  deviation_normal  \\\n",
       "798804  0.696274          0         1.5          -4.618123         11.568383   \n",
       "327349  0.596734          0         3.9          -2.223376          4.079060   \n",
       "832003  0.539676          0         1.2          -0.573190         -4.100051   \n",
       "804382  0.674346          0         1.1          -4.785005         -2.509644   \n",
       "631288  0.596746          0         1.5           0.261183          8.762065   \n",
       "\n",
       "        target_1         target_2  real_slope  killer_fs  \n",
       "798804         9  engine_ignition       -0.17        136  \n",
       "327349        25      engine_fuel       -0.15        132  \n",
       "832003        26        break_bug       -0.15         84  \n",
       "804382        12  engine_overheat       -0.17        127  \n",
       "631288        16      electro_bug       -0.00         99  "
      ]
     },
     "execution_count": 13,
     "metadata": {},
     "output_type": "execute_result"
    },
    {
     "data": {
      "image/png": "[encoded data removed]",
      "text/plain": [
       "<Figure size 1440x1440 with 16 Axes>"
      ]
     },
     "metadata": {
      "needs_background": "light"
     },
     "output_type": "display_data"
    }
   ],
   "source": [
    "rides_info = pd.read_csv('../data/rides_info.csv')\n",
    "print(rides_info.shape)\n",
    "rides_info.hist(figsize=(20, 20))\n",
    "rides_info.sample(2)"
   ]
  },
  {
   "cell_type": "code",
   "execution_count": null,
   "metadata": {},
   "outputs": [],
   "source": []
  },
  {
   "cell_type": "code",
   "execution_count": null,
   "metadata": {
    "ExecuteTime": {
     "end_time": "2022-09-23T12:32:21.221796Z",
     "start_time": "2022-09-23T12:31:32.963070Z"
    }
   },
   "outputs": [],
   "source": [
    "# cols = ['ride_duration', 'distance', 'speed_max', 'speed_avg', 'target_2', 'stop_times', 'rating', 'car_rating', 'killer_fs']\n",
    "# sns.pairplot(data = rides_info[cols], hue = 'target_2', corner=True);"
   ]
  },
  {
   "cell_type": "code",
   "execution_count": null,
   "metadata": {
    "ExecuteTime": {
     "end_time": "2022-09-20T06:41:32.540431Z",
     "start_time": "2022-09-20T06:41:31.614933Z"
    }
   },
   "outputs": [],
   "source": [
    " "
   ]
  },
  {
   "cell_type": "markdown",
   "metadata": {
    "ExecuteTime": {
     "end_time": "2022-08-13T11:06:40.832784Z",
     "start_time": "2022-08-13T11:06:40.825785Z"
    }
   },
   "source": [
    "# Добавляем сгенерированные фичи и далее от них генерируем таргет"
   ]
  },
  {
   "cell_type": "code",
   "execution_count": null,
   "metadata": {},
   "outputs": [],
   "source": [
    "# Добавляем признаки из информации про поездки\n",
    "\n",
    "q_right = lambda x : sum(x > 120)/len(x)\n",
    "f_low_r = lambda x : sum(x < 2.0)\n",
    "\n",
    "rides_info['real_slope'] = abs(rides_info['real_slope'])\n",
    "\n",
    "rides_info_gr = rides_info.groupby('car_id', as_index=False).agg(\n",
    "    ride_duration_sum = ('ride_duration', 'sum'),\n",
    "    ride_distance_sum = ('distance', 'sum'),\n",
    "    speed_avg_mean = ('speed_avg', 'mean'),\n",
    "    speed_max_mean = ('speed_max', 'mean'),\n",
    "    speed_max_q = ('speed_max', q_right),\n",
    "    speed_max_max = ('speed_max', 'max'),\n",
    "    crit_low_r = ('rating', f_low_r),\n",
    "    killer_fs = ('killer_fs', 'max'),\n",
    "    real_slope = ('real_slope', 'max'),\n",
    ")\n"
   ]
  },
  {
   "cell_type": "code",
   "execution_count": null,
   "metadata": {},
   "outputs": [],
   "source": [
    "# (rides_info['real_slope'].value_counts().index - rides_info['real_slope'].min()) /  rides_info['real_slope'].max()\n",
    "rides_info_gr['real_slope'].value_counts(dropna=False)"
   ]
  },
  {
   "cell_type": "code",
   "execution_count": null,
   "metadata": {},
   "outputs": [],
   "source": [
    "fix_info['worker_experience'] = fix_info.groupby('worker_id', as_index=False)['car_id'].transform('count')\n",
    "\n",
    "fix_info.hist(figsize = (15, 10))\n",
    "fix_info.head()"
   ]
  },
  {
   "cell_type": "code",
   "execution_count": null,
   "metadata": {},
   "outputs": [],
   "source": []
  },
  {
   "cell_type": "code",
   "execution_count": null,
   "metadata": {},
   "outputs": [],
   "source": [
    "# Добавляем признаки из информации про ремонт\n",
    "\n",
    "f_nuniq = lambda x : len(np.unique(x))\n",
    "f_crit_perc_q = lambda x : sum(x >= 7.5)/len(x)\n",
    "f_crit_q = lambda x : sum(x > 8.0)\n",
    "\n",
    "avg_exp = fix_info['worker_experience'].median()\n",
    "f_low_exp = lambda x: sum(x <= avg_exp*0.5)\n",
    "\n",
    "fix_info_gr = fix_info.groupby('car_id', as_index=False).agg(\n",
    "    worker_count = ('worker_id', 'count'),\n",
    "    destroy_degree_max = ('destroy_degree', 'max'),\n",
    "    destroy_degree_sum = ('destroy_degree', 'sum'),\n",
    "    work_duration_mean = ('work_duration', 'mean'),\n",
    "    work_duration_max = ('work_duration', 'max'),\n",
    "    work_type_nuniq = ('work_type', f_nuniq),\n",
    "    work_type_crit_perc_q = ('destroy_degree', f_crit_perc_q),\n",
    "    work_type_crit_q = ('destroy_degree', f_crit_q),\n",
    "    worker_experience_mean = ('worker_experience', 'mean'),\n",
    "    worker_low_exp = ('worker_experience', f_low_exp),\n",
    ")\n",
    "fix_info_gr.hist(figsize = (15, 10))\n",
    "fix_info_gr.sample(5)"
   ]
  },
  {
   "cell_type": "code",
   "execution_count": null,
   "metadata": {},
   "outputs": [],
   "source": []
  },
  {
   "cell_type": "code",
   "execution_count": null,
   "metadata": {},
   "outputs": [],
   "source": []
  },
  {
   "cell_type": "code",
   "execution_count": null,
   "metadata": {
    "ExecuteTime": {
     "end_time": "2022-09-23T12:32:28.862349Z",
     "start_time": "2022-09-23T12:32:27.423355Z"
    }
   },
   "outputs": [],
   "source": [
    "# Добавляем признаки временные из информации про поездки с помощью TSfresh\n",
    "\n",
    "from tsfresh import extract_features, extract_relevant_features, select_features\n",
    "from tsfresh.utilities.dataframe_functions import impute\n",
    "from tsfresh.feature_extraction import ComprehensiveFCParameters, MinimalFCParameters, EfficientFCParameters\n",
    "from tsfresh.utilities.distribution import MultiprocessingDistributor\n",
    "from sklearn.feature_selection import VarianceThreshold\n",
    "from datetime import datetime\n",
    "import tsfresh"
   ]
  },
  {
   "cell_type": "code",
   "execution_count": null,
   "metadata": {
    "ExecuteTime": {
     "end_time": "2022-09-19T14:50:43.934292Z",
     "start_time": "2022-09-19T14:50:43.910888Z"
    }
   },
   "outputs": [],
   "source": [
    " "
   ]
  },
  {
   "cell_type": "code",
   "execution_count": null,
   "metadata": {
    "ExecuteTime": {
     "end_time": "2022-09-23T12:32:36.111937Z",
     "start_time": "2022-09-23T12:30:24.595Z"
    }
   },
   "outputs": [],
   "source": [
    "from tsfresh.feature_extraction import settings\n",
    "\n",
    "settings_efficient = {}\n",
    "\n",
    "# settings_efficient = settings.TimeBasedFCParameters()\n",
    "settings_efficient.update(settings.MinimalFCParameters())\n",
    "# settings_efficient.update(settings.IndexBasedFCParameters())\n",
    "# settings_efficient.update(settings.IndexBasedFCParameters())\n",
    "settings_efficient.update(settings.EfficientFCParameters())\n",
    "\n",
    "# settings_efficient"
   ]
  },
  {
   "cell_type": "code",
   "execution_count": null,
   "metadata": {},
   "outputs": [],
   "source": [
    "# rides_info.car_id.value_counts() #.head(3)\n",
    "\n",
    "rides_info['deviation_normal'].isnull().sum()"
   ]
  },
  {
   "cell_type": "code",
   "execution_count": null,
   "metadata": {},
   "outputs": [],
   "source": []
  },
  {
   "cell_type": "code",
   "execution_count": null,
   "metadata": {},
   "outputs": [],
   "source": [
    "settings = settings_efficient\n",
    "\n",
    "# train_df.fillna(0, inplace=True)\n",
    "res_train_df = None\n",
    "# res_test_df = None\n",
    "\n",
    "numeric_cols = ['deviation_normal']\n",
    "# vr = VarianceThreshold(0.5)\n",
    "for num, num_col in enumerate(numeric_cols):\n",
    "    now = datetime.now()\n",
    "    print(num, 'col', num_col)\n",
    "    \n",
    "#     settings = full_settings_filtered[num_col]\n",
    "    \n",
    "    Distributor = MultiprocessingDistributor(n_workers=4,\n",
    "                                             disable_progressbar=False,\n",
    "                                             progressbar_title=\"Feature Extraction\")\n",
    "\n",
    "    X = extract_features(rides_info[[\"car_id\", \"ride_date\", num_col]].fillna(0), \n",
    "#                                   y,\n",
    "                                  column_id='car_id',\n",
    "                                  column_sort='ride_date',\n",
    "                                  n_jobs=1,\n",
    "#                                   chunksize=5,\n",
    "                                  default_fc_parameters=settings_efficient#settings,\n",
    "#                                   fdr_level = 0.01,\n",
    "#                                   distributor = Distributor\n",
    "                        )\n",
    "    \n",
    "#     X = pd.DataFrame(vr.fit_transform(X), columns=X.columns[vr.get_support()])\n",
    "    print('прошло времени после генерации', datetime.now() - now)\n",
    "        \n",
    "    if res_train_df is None:\n",
    "        res_train_df = X\n",
    "#         res_train_df[\"target\"] = rides_info['target_2']\n",
    "        res_train_df[\"car_id\"] = rides_info['car_id'].unique()\n",
    "    else:\n",
    "        X = reduce_mem_usage(X)\n",
    "        res_train_df = pd.concat([res_train_df, X], axis=1)\n",
    "#         res_train_df.to_csv(\"./../tmp_data/del_full_train_tsfresh.csv\", index=False)        \n",
    "        print('прошло времени до сохраниения', datetime.now() - now)\n"
   ]
  },
  {
   "cell_type": "code",
   "execution_count": null,
   "metadata": {},
   "outputs": [],
   "source": []
  },
  {
   "cell_type": "code",
   "execution_count": null,
   "metadata": {},
   "outputs": [],
   "source": [
    "# tmp = rides_info.merge(res_train_df[['car_id'] + ['deviation_normal__linear_trend__attr_\"slope\"']], on = 'car_id', how = 'left')\n",
    "# tmp['slope_sign'] = tmp['deviation_normal__linear_trend__attr_\"slope\"'] > 0\n",
    "# rides_info#['slope'] = \n",
    "\n",
    "# tmp[['real_slope', 'slope_sign']].corr()\n",
    "\n",
    "rides_info_gr.columns"
   ]
  },
  {
   "cell_type": "code",
   "execution_count": null,
   "metadata": {
    "ExecuteTime": {
     "end_time": "2022-09-23T12:32:36.111937Z",
     "start_time": "2022-09-23T12:30:24.599Z"
    }
   },
   "outputs": [],
   "source": [
    "print(car_info['car_id'].nunique())\n",
    "car_info_fs = pd.merge(car_info, rides_info_gr, on = 'car_id', how = 'left')\n",
    "print(car_info_fs['car_id'].nunique())\n",
    "car_info_fs = pd.merge(car_info_fs, fix_info_gr, on = 'car_id', how = 'left')\n",
    "print(car_info_fs['car_id'].nunique())\n",
    "car_info_fs = pd.merge(car_info_fs, res_train_df, on = 'car_id', how = 'left')\n",
    "print(car_info_fs['car_id'].nunique())"
   ]
  },
  {
   "cell_type": "markdown",
   "metadata": {},
   "source": [
    "# Отнормируем фичи, чтоб легче было слепить из них таргет"
   ]
  },
  {
   "cell_type": "code",
   "execution_count": null,
   "metadata": {
    "ExecuteTime": {
     "end_time": "2022-09-23T12:32:36.111937Z",
     "start_time": "2022-09-23T12:30:24.602Z"
    }
   },
   "outputs": [],
   "source": [
    "from sklearn_pandas import DataFrameMapper\n",
    "from sklearn.preprocessing import MinMaxScaler\n",
    "\n",
    "to_scale_fs = ['car_rating', 'year_to_start', 'riders', 'ride_duration_sum', 'speed_avg_mean',\n",
    "               'ride_distance_sum', \n",
    "               'speed_max_mean', 'speed_max_q', 'speed_max_max', 'crit_low_r', 'worker_count',\n",
    "               'destroy_degree_max', 'destroy_degree_sum', 'work_duration_mean', 'work_duration_max',\n",
    "               'work_type_nuniq', 'work_type_crit_perc_q', 'work_type_crit_q', 'worker_experience_mean',\n",
    "               \n",
    "               'real_slope', 'deviation_normal__linear_trend__attr_\"slope\"', 'killer_fs']\n",
    "\n",
    "not_to_scale_fs = [c for c in car_info_fs.columns if c not in to_scale_fs]\n",
    "\n",
    "mapper = DataFrameMapper([(to_scale_fs, MinMaxScaler())])\n",
    "scaled_features = mapper.fit_transform(car_info_fs.copy(), 4)\n",
    "car_info_fs_ = pd.DataFrame(scaled_features,\n",
    "                            index = car_info_fs.index,\n",
    "                            columns = to_scale_fs)\n",
    "\n",
    "car_info_fs = pd.concat([car_info_fs_, car_info_fs[not_to_scale_fs]], axis=1)\n",
    "car_info_fs.sample(5)"
   ]
  },
  {
   "cell_type": "code",
   "execution_count": null,
   "metadata": {},
   "outputs": [],
   "source": [
    "car_info_fs['target_2'].value_counts()"
   ]
  },
  {
   "cell_type": "code",
   "execution_count": null,
   "metadata": {},
   "outputs": [],
   "source": [
    "# car_info_fs['real_slope'].value_counts(dropna=False)\n",
    "# TODO не все машины есть в трейне!"
   ]
  },
  {
   "cell_type": "code",
   "execution_count": null,
   "metadata": {},
   "outputs": [],
   "source": [
    "def get_base_time_accident(x):\n",
    "    \n",
    "    # Фичи из rides_info\n",
    "    \n",
    "    ride_duration_sum = x.ride_duration_sum\n",
    "    speed_avg_mean = x.speed_avg_mean\n",
    "    speed_max_mean = x.speed_max_mean\n",
    "    speed_max_q = x.speed_max_q\n",
    "    speed_max_max = x.speed_max_max\n",
    "    crit_low_r = x.crit_low_r\n",
    "    \n",
    "    # Фичи из car_info\n",
    "    riders = x.riders\n",
    "    \n",
    "    # Фичи из fix_info \n",
    "    \n",
    "    worker_count = x.worker_count\n",
    "    destroy_degree_max = x.destroy_degree_max\n",
    "    destroy_degree_sum = x.destroy_degree_sum\n",
    "    work_duration_mean = x.work_duration_mean\n",
    "    work_duration_max = x.work_duration_max\n",
    "    \n",
    "    work_type_nuniq = x.work_type_nuniq\n",
    "    work_type_crit_perc_q = x.work_type_crit_perc_q\n",
    "    work_type_crit_q = x.work_type_crit_q\n",
    "    worker_low_exp = x.worker_low_exp\n",
    "    \n",
    "    worker_experience_mean = x.worker_experience_mean\n",
    "    main_city = x.main_city\n",
    "    \n",
    "    # base_time_positive = work_type_crit_q + work_type_crit_perc_q + destroy_degree_max + work_type_nuniq\n",
    "    # base_time_negative = worker_experience_mean\n",
    "    \n",
    "    # Поездки / пробег / разрушения \n",
    "    A = (2 - x.riders)*(2 - x.ride_distance_sum)*(2 - (x.destroy_degree_sum)**2)*(2 - x.destroy_degree_max)\n",
    "    \n",
    "    # Средний опыт рабочих / Число слабых рабочих / Рабочий осмотр\n",
    "    B = (1 + (x.worker_experience_mean)**2)*(2 - x.worker_low_exp)*(1 + x.work_duration_mean)*(2 - x.destroy_degree_max)*(2 - x.work_type_crit_q) # Перепроверить\n",
    "    \n",
    "    # Тренд взависимости от Таргета\n",
    "    C = 1 # (2 - x.real_slope)*(2 + (x['deviation_normal__linear_trend__attr_\"slope\"'])**2)\n",
    "    \n",
    "    D = (1 + x.killer_fs)\n",
    "    \n",
    "    base_time_positive = A*B*C*D\n",
    "    \n",
    "    return base_time_positive\n",
    "    "
   ]
  },
  {
   "cell_type": "code",
   "execution_count": null,
   "metadata": {},
   "outputs": [],
   "source": [
    "# TODO\n",
    "\n",
    "# - Добавить связь модель машины - таргет, чтоб кат фичи были важны\n",
    "# - Добить генерацию численного таргета\n",
    "# - Добавить связь - User_id-Car_id\n",
    "# - Отвалидировать рост точности исходя из добавления фичей\n",
    "# - Добавить третий ранжирующий таргет по порядку позиций поломок"
   ]
  },
  {
   "cell_type": "code",
   "execution_count": null,
   "metadata": {},
   "outputs": [],
   "source": []
  },
  {
   "cell_type": "markdown",
   "metadata": {},
   "source": [
    "* engine_check\n",
    "Индикатор «Чек двигателя» -  Этот индикатор на приборке загорается, когда ЭБУ (электронный блок управления двигателем) \n",
    "обнаруживает в системе код ошибки в работе какой-либо системы. Например, это происходит, когда ошибку выдает датчик.\n",
    "\n",
    "* engine_overheat\n",
    "Перегрев двигателя - Наиболее частой причиной перегрева двигателя является утечка охлаждающей жидкости.\n",
    "Например, чаще утечка антифриза связана с разгерметизацией радиатора охлаждения, поломкой водяной помпы или с повреждением расширительного бачка. Чтобы уменьшить риск перегрева мотора, нужно заранее менять радиатор и помпу. \n",
    "\n",
    "* engine_ignition\n",
    "Пропуск зажигания — это явление, при котором по какой-то причине воспламенение не произошло, \n",
    "Машина ускоряется неровно, набор скорости ей дается тяжело. Неровный холостой ход. Вы можете почувствовать, что машина вибрирует. \n",
    "Дело в том, двигатель работает не сбалансированно из-за одного или нескольких неработающих цилиндров\n",
    "\n",
    "* engine_fuel\n",
    "Большой расход топлива - Когда двигатель работает эффективно, он сжигает топливо со скоростью, которая помогает эффективно \n",
    "расходовать топливо (экономия топлива). Однако некоторые детали топливной системы, такие как топливные фильтры, воздушные фильтры,\n",
    "датчик массового расхода воздуха и кислородные датчики (лямба-зонд), со временем загрязняются и изнашиваются.\n",
    "\n",
    "* electro_bug\n",
    "Разряженный аккумулятор - Срок службы автомобильных аккумуляторов в среднем составляет 3-4 года, или 80 000-100 000 км. \n",
    "Батарея обычно стареет со временем, как и любой аккумулятор в вашем смартфоне. Чем чаще батарея проходит циклы разрядки/зарядки, тем быстрее она теряет способность поддерживать нормальный уровень заряда и определенное количество ампер.\n",
    "\n",
    "* break_bug\n",
    "Скрип тормозов - тормозная система подвержена износу в течение определенного времени. Тормоза жизненно важны для безопасной остановки.\n",
    "Поэтому когда вы замечаете какие-либо признаки проблем, такие как визг, скрип или если, например, педаль тормоза стала мягкой, \n",
    "\n",
    "* wheel_shake\n",
    "Дрожание рулевого колеса - Многочисленные проблемы могут вызвать дрожание/дребезжание рулевого колеса во время вождения.\n",
    "Если это происходит сразу после запуска двигателя и начала вождения, причиной дрожания руля могут быть подшипники колес или поврежденные компоненты подвески. Если это происходит на более высоких скоростях, обычно это говорит о проблеме с балансировкой колес. \n",
    "\n",
    "* gear_stick\n",
    "Неисправность автоматической коробки передач - При правильном обслуживании автоматическая коробка передач может без проблем работать более 300 000 км.\n",
    "Современная автоматическая трансмиссия представляет собой гидравлическую систему, состоящую из нескольких сальников, прокладок и линий, которые могут быть повреждены, забиты мусором или протекать.\n",
    "В большинстве случаев используемые сегодня автоматические коробки  передач при правильной эксплуатации и своевременном обслуживании могут потребовать капитальный ремонт при пробеге не ранее 150.000 километров.\n",
    "\n",
    "\n",
    "engine_check engine_overheat engine_ignition fuel electro_bug break_bug wheel gear_stick\n",
    "\n",
    "* `target_1` - int\n",
    "* `target_2` - int"
   ]
  },
  {
   "cell_type": "code",
   "execution_count": null,
   "metadata": {},
   "outputs": [],
   "source": [
    "# car_info_fs.columns.tolist() #.riders.value_counts()"
   ]
  },
  {
   "cell_type": "code",
   "execution_count": null,
   "metadata": {
    "ExecuteTime": {
     "end_time": "2022-09-23T12:32:36.111937Z",
     "start_time": "2022-09-23T12:30:24.607Z"
    }
   },
   "outputs": [],
   "source": [
    "def make_target(x):\n",
    "    \n",
    "    intersept = 100\n",
    "    # Все таргеты зависят от числа поездок!!!!!!!!!!!!\n",
    "    # Далее просто берем разные коэффициенты и снижаем время службы \n",
    "    target_2 = x.target_2\n",
    "    base_time_positive = get_base_time_accident(x)\n",
    "    \n",
    "    if target_2 == 'engine_fuel': # Что-то классические\n",
    "        # Временной изгиб и далее аномалии в расходе топлива.\n",
    "        target_1 = 1000*base_time_positive + intersept\n",
    "\n",
    "    elif target_2 == 'engine_check':\n",
    "        target_1 = 1000*base_time_positive + intersept\n",
    "        # Аномалии из-за агресивного вождения машиной.\n",
    "        # Если в показательно ТО преломился, то до следующего перелома остается 15 дней\n",
    "        pass\n",
    "        \n",
    "    elif target_2 == 'engine_overheat':\n",
    "        target_1 = 1000*base_time_positive + intersept\n",
    "        # Долго не проверяли машину. Время с последней проверки определенного ТО. \n",
    "        # Количество аномальных скоростей\n",
    "        pass\n",
    "\n",
    "    elif target_2 == 'engine_ignition':\n",
    "        target_1 = 1000*base_time_positive + intersept\n",
    "        # Связанно с часто плохим user_ride_quality. Зависимость не линейная\n",
    "        # Если качество поедки в среднем держится низко, то машина в скором времени перестает заводиться\n",
    "\n",
    "    elif target_2 == 'gear_stick':\n",
    "        # Что-то, что приводит к частым остановкам\n",
    "        # Часто низкое качество поездки. \n",
    "        # Число остановок выше среднего\n",
    "        # Количество выбросов в ТО, если больше 25, то осталось 15 дней + качество поездки\n",
    "        target_1 = 1200*base_time_positive + intersept\n",
    "        \n",
    "    elif target_2 == 'break_bug':\n",
    "        target_1 = 1500*base_time_positive + intersept\n",
    "        # Возможно после частых высоких средних скоростей\n",
    "        # Качество вождание часто низкое. \n",
    "        # Проблемы с тормозом. Возможно ниже рейтинг. Возможно показатели хуже\n",
    "        pass\n",
    "    \n",
    "    elif target_2 == 'electro_bug':\n",
    "        target_1 = 1700*base_time_positive + intersept\n",
    "        #  Количество поездок с нулевым расстоянием\n",
    "        #  Колличество выбросов низких оценок увеличивается со временем\n",
    "        pass\n",
    "            \n",
    "    elif target_2 == 'wheel_shake':\n",
    "        target_1 = 1900*base_time_positive + intersept\n",
    "        # Аномалии в движении машины. \n",
    "        # Качество вождения нормальное, но есть негативный тренд в ТО\n",
    "        pass\n",
    "        \n",
    "    else:\n",
    "        target_1 = 5000*base_time_positive + intersept\n",
    "        \n",
    "    return target_1\n",
    "    \n",
    "car_info_fs['target_1'] = car_info_fs.apply(make_target, axis=1)\n",
    "\n",
    "car_info_fs.sample(5)"
   ]
  },
  {
   "cell_type": "code",
   "execution_count": null,
   "metadata": {
    "ExecuteTime": {
     "end_time": "2022-09-23T12:32:36.119937Z",
     "start_time": "2022-09-23T12:30:24.611Z"
    }
   },
   "outputs": [],
   "source": [
    "# car_info_fs[car_info_fs['target_1'].isnull()]\n",
    "\n",
    "# car_info_fs.hist(figsize = (15, 15));\n",
    "\n",
    "#TODO среднее по 10 критическим поездкам"
   ]
  },
  {
   "cell_type": "code",
   "execution_count": null,
   "metadata": {
    "ExecuteTime": {
     "end_time": "2022-09-23T12:32:36.119937Z",
     "start_time": "2022-09-23T12:30:24.616Z"
    }
   },
   "outputs": [],
   "source": [
    "print(car_info_fs['target_1'].isnull().sum())\n",
    "car_info_fs['target_1'].hist(bins=30)"
   ]
  },
  {
   "cell_type": "code",
   "execution_count": null,
   "metadata": {
    "ExecuteTime": {
     "end_time": "2022-09-23T12:32:36.119937Z",
     "start_time": "2022-09-23T12:30:24.620Z"
    }
   },
   "outputs": [],
   "source": [
    "# sns.pairplot(data = car_info_fs, corner=True, hue='target_2');"
   ]
  },
  {
   "cell_type": "code",
   "execution_count": null,
   "metadata": {
    "ExecuteTime": {
     "end_time": "2022-09-23T12:32:36.119937Z",
     "start_time": "2022-09-23T12:30:24.624Z"
    }
   },
   "outputs": [],
   "source": [
    "# car_info_fs.columns\n",
    "\n",
    "# car_info_fs['car_id'].value_counts().hist()\n",
    "\n",
    "# car_info_fs[car_info_fs['car_id'] == 'F19793670T']\n",
    "car_info_fs"
   ]
  },
  {
   "cell_type": "code",
   "execution_count": null,
   "metadata": {
    "ExecuteTime": {
     "end_time": "2022-09-23T12:32:36.127939Z",
     "start_time": "2022-09-23T12:30:24.628Z"
    }
   },
   "outputs": [],
   "source": [
    "# car_info_fs.columns"
   ]
  },
  {
   "cell_type": "code",
   "execution_count": null,
   "metadata": {
    "ExecuteTime": {
     "end_time": "2022-09-23T12:32:36.127939Z",
     "start_time": "2022-09-23T12:30:24.633Z"
    }
   },
   "outputs": [],
   "source": [
    "# !pip install catboost"
   ]
  },
  {
   "cell_type": "code",
   "execution_count": null,
   "metadata": {
    "ExecuteTime": {
     "end_time": "2022-09-23T12:32:36.127939Z",
     "start_time": "2022-09-23T12:30:24.637Z"
    }
   },
   "outputs": [],
   "source": [
    "from sklearn.model_selection import KFold # k-фолдная валидация\n",
    "from catboost import Pool, CatBoostClassifier, CatBoostRegressor \n",
    "import gc \n",
    "\n",
    "gc.collect()"
   ]
  },
  {
   "cell_type": "code",
   "execution_count": null,
   "metadata": {},
   "outputs": [],
   "source": []
  },
  {
   "cell_type": "markdown",
   "metadata": {},
   "source": [
    "# Разделяем фичи на группы (удаляем килер фичи)"
   ]
  },
  {
   "cell_type": "code",
   "execution_count": null,
   "metadata": {
    "ExecuteTime": {
     "end_time": "2022-09-23T12:32:36.135942Z",
     "start_time": "2022-09-23T12:30:24.641Z"
    },
    "tags": []
   },
   "outputs": [],
   "source": [
    "drop_features = ['car_id', 'target_1', 'target_2', 'real_slope']\n",
    "targets = ['target_2']  # target_1\n",
    "cat_features = ['car_type', 'fuel_type', 'main_city', 'model']\n",
    "\n",
    "filtered_features = [i for i in car_info_fs.columns if (i not in targets and i not in drop_features)] #+ cat_features \n",
    "num_features = [i for i in filtered_features if i not in cat_features]\n",
    "\n",
    "\n",
    "print('cat_features', cat_features)\n",
    "# print('filtered_features', filtered_features)\n",
    "# print('num_features', num_features)\n",
    "print('targets', targets)\n",
    "\n",
    "for c in cat_features:\n",
    "    car_info_fs[c] = car_info_fs[c].astype(str)"
   ]
  },
  {
   "cell_type": "code",
   "execution_count": null,
   "metadata": {
    "ExecuteTime": {
     "end_time": "2022-09-23T12:32:36.135942Z",
     "start_time": "2022-09-23T12:30:24.645Z"
    }
   },
   "outputs": [],
   "source": [
    "!pip install iterative-stratification >> None "
   ]
  },
  {
   "cell_type": "code",
   "execution_count": null,
   "metadata": {
    "ExecuteTime": {
     "end_time": "2022-09-23T12:32:36.135942Z",
     "start_time": "2022-09-23T12:30:24.649Z"
    }
   },
   "outputs": [],
   "source": [
    "from iterstrat.ml_stratifiers import MultilabelStratifiedKFold\n",
    "\n",
    "\n",
    "def make_multi_target(df, target = 'target_2'):\n",
    "    \n",
    "    if target in df.columns:\n",
    "    \n",
    "        one_hot = pd.get_dummies(df[target])\n",
    "        df = df.drop(target, axis = 1)\n",
    "        df = df.join(one_hot)\n",
    "    \n",
    "    return df\n",
    "\n",
    "\n",
    "def create_folds(data, num_splits=3, targets = [0, 1, 2, 4]):\n",
    "    if num_splits > 1:\n",
    "        data['kfold'] = -1\n",
    "        X = data\n",
    "        y = data[targets]\n",
    "        mskf = MultilabelStratifiedKFold(n_splits=num_splits, shuffle=True, random_state=42)\n",
    "\n",
    "        for fold, (trn_, val_) in enumerate(mskf.split(X, y)):\n",
    "            data.loc[val_,'kfold'] = fold\n",
    "    else:\n",
    "        data.loc[:,'kfold'] = 0\n",
    "        \n",
    "    return data\n",
    "\n",
    "kfolds = 4\n",
    "\n",
    "targets = car_info.target_2.unique()\n",
    "# car_info_fs = make_multi_target(car_info_fs, target = 'target_2')\n",
    "# car_info_fs = create_folds(car_info_fs, num_splits=kfolds, targets = targets)\n",
    "\n",
    "# car_info_fs = (car_info_fs\n",
    "      # .pipe(make_multi_target, target = 'target_2')\n",
    "      # .pipe(create_folds, num_splits = kfolds, targets = targets)\n",
    "     # )\n",
    "\n",
    "car_info_fs.head()"
   ]
  },
  {
   "cell_type": "code",
   "execution_count": null,
   "metadata": {
    "ExecuteTime": {
     "end_time": "2022-09-23T12:32:36.135942Z",
     "start_time": "2022-09-23T12:30:24.653Z"
    }
   },
   "outputs": [],
   "source": [
    "# car_info_fs.columns"
   ]
  },
  {
   "cell_type": "code",
   "execution_count": null,
   "metadata": {
    "ExecuteTime": {
     "end_time": "2022-09-23T12:32:36.135942Z",
     "start_time": "2022-09-23T12:30:24.657Z"
    }
   },
   "outputs": [],
   "source": [
    "# filtered_features"
   ]
  },
  {
   "cell_type": "code",
   "execution_count": null,
   "metadata": {
    "ExecuteTime": {
     "end_time": "2022-09-23T12:32:36.143937Z",
     "start_time": "2022-09-23T12:30:24.660Z"
    }
   },
   "outputs": [],
   "source": [
    "# targets_dict = {'nothing' : 0, 'soft_1' : 1, 'soft_2' : 2, 'critical' : 4}\n",
    "# f_map = lambda x: targets_dict.get(x, x)\n",
    "# car_info_fs['target_2'] = car_info_fs['target_2'].map(f_map)"
   ]
  },
  {
   "cell_type": "code",
   "execution_count": null,
   "metadata": {
    "ExecuteTime": {
     "end_time": "2022-08-18T13:23:48.649620Z",
     "start_time": "2022-08-18T13:23:48.608491Z"
    }
   },
   "outputs": [],
   "source": [
    "target_dict  = {'engine_ignition' : 0,\n",
    "    'another_bug' : 1,\n",
    "    'engine_overheat' : 2,\n",
    "    'gear_stick' : 3,\n",
    "    'engine_fuel' : 4,\n",
    "    'engine_check' : 5,\n",
    "    'break_bug' : 6,\n",
    "    'wheel_shake' : 7,\n",
    "    'electro_bug' : 8}\n",
    "\n",
    "f = lambda x: target_dict.get(x, x)\n",
    "car_info_fs['target_2'] = car_info_fs['target_2'].apply(f)\n"
   ]
  },
  {
   "cell_type": "code",
   "execution_count": null,
   "metadata": {
    "ExecuteTime": {
     "end_time": "2022-09-23T12:32:36.143937Z",
     "start_time": "2022-09-23T12:30:24.667Z"
    }
   },
   "outputs": [],
   "source": [
    "# print(huge_train_final.columns)\n",
    "# huge_train_final = huge_train_final\n",
    "\n",
    "random_state = 42\n",
    "n_splits = 3 # kfolds\n",
    "print('num folds', n_splits)\n",
    "clfs = []\n",
    "\n",
    "targets = ['target_2']\n",
    "X = car_info_fs[filtered_features].drop(targets, axis=1, errors='ignore')#.copy()\n",
    "y = car_info_fs[targets]#.copy()\n",
    "\n",
    "# параметры валидации, обучение будет идти на 6 X n_splits фолдах\n",
    "\n",
    "kFold_random_state = [42]# , 666, 228, 777, 2021, 75]\n",
    "N = len(kFold_random_state)*n_splits\n",
    "\n",
    "kf = KFold(n_splits=n_splits, shuffle=True, random_state=random_state)\n",
    "\n",
    "for train_index, test_index in kf.split(X):\n",
    "        \n",
    "    # X_train, X_test = X[X.kfold!=kfold].drop('kfold', axis=1), X[X.kfold==kfold].drop('kfold', axis=1)\n",
    "    # y_train, y_test = y[y.kfold!=kfold].drop('kfold', axis=1), y[y.kfold==kfold].drop('kfold', axis=1)\n",
    "\n",
    "    X_train, X_test = X.iloc[train_index], X.iloc[test_index] \n",
    "    y_train, y_test = y.iloc[train_index], y.iloc[test_index]\n",
    "    \n",
    "    train_dataset = Pool(data=X_train, label=y_train, cat_features=cat_features)\n",
    "    eval_dataset = Pool(data=X_test, label=y_test, cat_features=cat_features)\n",
    "    \n",
    "    print(X_train.shape, y_train.shape)\n",
    "    clf = CatBoostClassifier(iterations = 3000,\n",
    "                          # loss_function = 'MultiLogloss',\n",
    "                          custom_metric ='Precision',\n",
    "                          loss_function='MultiClass',\n",
    "                          # eval_metric = 'Precision', # F1:macro', #'AUC:hints=skip_train~false',\n",
    "#                           class_names=[0, 1, 2, 3, 4, 5, 6, 7, 8, 9],\n",
    "                          cat_features = cat_features,\n",
    "                          random_seed=42,                          \n",
    "#                           'learning_rate': 0.05953207713558619,\n",
    "                          colsample_bylevel =  0.09874152157026818,\n",
    "                          subsample = 0.9563761143682146,\n",
    "#                           l2_leaf_reg = 9.178962968420354,\n",
    "                          min_data_in_leaf = 243,\n",
    "                          bootstrap_type='Bernoulli',\n",
    "                          max_bin = 187,\n",
    "                          task_type='CPU', #auto_class_weights = 'SqrtBalanced',\n",
    "                          early_stopping_rounds=80)# + kfold*10 )\n",
    "    \n",
    "    clfs.append(clf)\n",
    "\n",
    "    # clf.fit(X_train, y_train, eval_set=(X_test, y_test),\n",
    "    clf.fit(train_dataset, eval_set=eval_dataset,\n",
    "            verbose = 300, use_best_model = True, plot = False)\n",
    "#     clf.save_model(\"./tmp_data/cool_catboost_model_kfold_{}\".format(hash(train_index)))\n",
    "        \n",
    "        \n",
    "assert len(clfs) == N\n",
    "\n",
    "# массив для записи финального результата\n",
    "# y_pred = np.zeros((test_data.shape[0], 10))\n",
    "scores = []\n",
    "for n, clf in enumerate(clfs):\n",
    "    # y_pred += clf.predict_proba(test_data[filtered_features])#[:,1]\n",
    "    scores.append(clf.best_score_['validation']['MultiClass'])\n",
    "#     clf.save_model(\"./tmp_data/cool_catboost_model_{}_deep\".format(n))\n",
    "\n",
    "# y_pred /= N\n",
    "print('mean MultiLogloss', np.mean(scores))"
   ]
  },
  {
   "cell_type": "code",
   "execution_count": null,
   "metadata": {
    "ExecuteTime": {
     "end_time": "2022-09-23T12:32:36.151937Z",
     "start_time": "2022-09-23T12:30:24.671Z"
    }
   },
   "outputs": [],
   "source": [
    "def plot_importance(df, best_model, height, top_n=50):\n",
    "    \n",
    "    fi = pd.DataFrame(index = df.columns, columns = [])\n",
    "    for i, m in enumerate(best_model):\n",
    "        fi[f'm_{i}'] = m.get_feature_importance()\n",
    "\n",
    "    fi = fi.stack().reset_index().iloc[:,[0, 2]]#.to_frame()\n",
    "    fi.columns = ['feature','importance']\n",
    "\n",
    "    cols_ord = list(fi.groupby('feature')['importance'].mean().sort_values(ascending=False).index)\n",
    "    print('Всего признаков {} Усреднее по {}-ти моделям: '.format(len(cols_ord), len(best_model)) )\n",
    "    cols_ord = cols_ord[:top_n]\n",
    "    \n",
    "    fi = fi[fi['feature'].isin(cols_ord)]\n",
    "    \n",
    "    plt.figure(figsize=(10, len(cols_ord)*height))\n",
    "    b = sns.boxplot(data=fi, y='feature', x='importance', orient='h', order=cols_ord)\n",
    "    \n",
    "    print('На график нанесено топ-{} признаков'.format(top_n))\n",
    "    return fi.groupby(by =['feature'], as_index=False)['importance'].mean().sort_values(by='importance', ascending=False)\n",
    "\n",
    "df_feats_imp = plot_importance(car_info_fs[filtered_features].drop(targets, axis=1, errors='ignore'), clfs, 0.20, top_n=70)\n"
   ]
  },
  {
   "cell_type": "code",
   "execution_count": null,
   "metadata": {},
   "outputs": [],
   "source": [
    "!pip install catboost >> None\n",
    "!pip uninstall opencv-python -y >> None \n",
    "!pip install opencv-python >> None"
   ]
  },
  {
   "cell_type": "code",
   "execution_count": null,
   "metadata": {},
   "outputs": [],
   "source": [
    " "
   ]
  },
  {
   "cell_type": "code",
   "execution_count": null,
   "metadata": {},
   "outputs": [],
   "source": [
    "# import catboost\n",
    "# from catboost import *\n",
    "\n",
    "\n",
    "import shap\n",
    "\n",
    "shap.initjs()"
   ]
  },
  {
   "cell_type": "code",
   "execution_count": null,
   "metadata": {},
   "outputs": [],
   "source": [
    "explainer = shap.TreeExplainer(model)\n",
    "\n",
    "\n",
    "train_dataset = Pool(data=X_train, label=y_train, cat_features=cat_features)\n",
    "shap_values = explainer.shap_values(train_dataset)"
   ]
  },
  {
   "cell_type": "code",
   "execution_count": null,
   "metadata": {},
   "outputs": [],
   "source": [
    "shap.dependence_plot(\"RM\", shap_values, X)"
   ]
  },
  {
   "cell_type": "code",
   "execution_count": null,
   "metadata": {},
   "outputs": [],
   "source": [
    "shap.summary_plot(shap_values, X_train)"
   ]
  },
  {
   "cell_type": "code",
   "execution_count": null,
   "metadata": {},
   "outputs": [],
   "source": [
    "from catboost.utils import get_confusion_matrix\n",
    "import seaborn\n",
    "# from sklearn.metrics import confusion_matrix\n",
    "\n",
    "\n",
    "train_dataset = Pool(data=X_train, label=y_train, cat_features=cat_features)\n",
    "confusion_matrix = get_confusion_matrix(clf, train_dataset, thread_count=-1)"
   ]
  },
  {
   "cell_type": "code",
   "execution_count": null,
   "metadata": {},
   "outputs": [],
   "source": [
    "df_cm = pd.DataFrame(confusion_matrix, index = car_info.target_2.unique(),\n",
    "                  columns = car_info.target_2.unique())\n",
    "plt.figure(figsize = (10,7))\n",
    "sns.heatmap(df_cm, annot=True)"
   ]
  },
  {
   "cell_type": "code",
   "execution_count": null,
   "metadata": {},
   "outputs": [],
   "source": []
  },
  {
   "cell_type": "code",
   "execution_count": null,
   "metadata": {
    "ExecuteTime": {
     "end_time": "2022-09-23T12:32:36.151937Z",
     "start_time": "2022-09-23T12:30:24.675Z"
    }
   },
   "outputs": [],
   "source": [
    "# print(huge_train_final.columns)\n",
    "# huge_train_final = huge_train_final\n",
    "\n",
    "random_state = 42\n",
    "n_splits = 3 # kfolds\n",
    "print('n_fold', n_splits)\n",
    "clfs = []\n",
    "\n",
    "targets = targets\n",
    "\n",
    "X = car_info_fs[filtered_features].fillna(0)#.copy()\n",
    "y = car_info_fs[['target_1']].fillna(car_info_fs['target_1'].mean())#.copy()\n",
    "\n",
    "# параметры валидации, обучение будет идти на 6 X n_splits фолдах\n",
    "\n",
    "kFold_random_state = [42]# , 666, 228, 777, 2021, 75]\n",
    "N = len(kFold_random_state)*n_splits\n",
    "\n",
    "kf = KFold(n_splits=n_splits, shuffle=True, random_state=random_state)\n",
    "\n",
    "for train_index, test_index in kf.split(X):\n",
    "        \n",
    "#     X_train, X_test = X[X.kfold!=kfold].drop('kfold', axis=1), X[X.kfold==kfold].drop('kfold', axis=1)\n",
    "#     y_train, y_test = y[y.kfold!=kfold].drop('kfold', axis=1), y[y.kfold==kfold].drop('kfold', axis=1)\n",
    "\n",
    "    X_train, X_test = X.iloc[train_index], X.iloc[test_index] \n",
    "    y_train, y_test = y.iloc[train_index], y.iloc[test_index]\n",
    "    \n",
    "#     train_dataset = Pool(data=X_train, label=y_train, cat_features=cat_features)\n",
    "#     eval_dataset = Pool(data=X_test, label=y_test, cat_features=cat_features)\n",
    "    \n",
    "    print(X_train.shape, y_train.shape)\n",
    "    clf = CatBoostRegressor(iterations = 30_000,\n",
    "                          loss_function = 'MAE',\n",
    "                          eval_metric = 'MAPE', #'AUC:hints=skip_train~false',\n",
    "#                           class_names=[0, 1, 2, 3, 4, 5, 6, 7, 8, 9],\n",
    "                          cat_features = cat_features,\n",
    "                          random_seed=42,                          \n",
    "#                           'learning_rate': 0.05953207713558619,\n",
    "                          colsample_bylevel =  0.09874152157026818,\n",
    "                          subsample = 0.9563761143682146,\n",
    "#                           l2_leaf_reg = 9.178962968420354,\n",
    "                          min_data_in_leaf = 243,\n",
    "                          max_bin = 187,\n",
    "                          task_type='CPU', #auto_class_weights = 'SqrtBalanced',\n",
    "                          early_stopping_rounds=2180)# + kfold*10 )\n",
    "    \n",
    "    clfs.append(clf)\n",
    "\n",
    "    clf.fit(X_train, y_train, eval_set=(X_test, y_test),\n",
    "#     clf.fit(train_dataset, eval_set=eval_dataset,\n",
    "            verbose = 500, use_best_model = True, plot = False)\n",
    "#     clf.save_model(\"./tmp_data/cool_catboost_model_kfold_{}\".format(hash(train_index)))\n",
    "        \n",
    "        \n",
    "assert len(clfs) == N\n",
    "\n",
    "# массив для записи финального результата\n",
    "# y_pred = np.zeros((test_data.shape[0], 10))\n",
    "scores = []\n",
    "for n, clf in enumerate(clfs):\n",
    "    # y_pred += clf.predict_proba(test_data[filtered_features])#[:,1]\n",
    "    scores.append(clf.best_score_['validation']['MAE'])\n",
    "#     clf.save_model(\"./tmp_data/cool_catboost_model_{}_deep\".format(n))\n",
    "\n",
    "# y_pred /= N\n",
    "print('mean MultiLogloss', np.mean(scores))"
   ]
  },
  {
   "cell_type": "code",
   "execution_count": null,
   "metadata": {
    "ExecuteTime": {
     "end_time": "2022-09-23T12:32:36.151937Z",
     "start_time": "2022-09-23T12:30:24.679Z"
    }
   },
   "outputs": [],
   "source": [
    "# clf.best_score_['validation']"
   ]
  },
  {
   "cell_type": "code",
   "execution_count": null,
   "metadata": {
    "ExecuteTime": {
     "end_time": "2022-09-23T12:32:36.151937Z",
     "start_time": "2022-09-23T12:30:24.683Z"
    }
   },
   "outputs": [],
   "source": [
    "def plot_importance(df, best_model, height, top_n=50):\n",
    "    \n",
    "    fi = pd.DataFrame(index = df.columns, columns = [])\n",
    "    for i, m in enumerate(best_model):\n",
    "        fi[f'm_{i}'] = m.get_feature_importance()\n",
    "\n",
    "    fi = fi.stack().reset_index().iloc[:,[0, 2]]#.to_frame()\n",
    "    fi.columns = ['feature','importance']\n",
    "\n",
    "    cols_ord = list(fi.groupby('feature')['importance'].mean().sort_values(ascending=False).index)\n",
    "    print('Всего признаков', len(cols_ord), 'Усреднее по {}-ти моделям: '.format(len(best_model)) )\n",
    "    cols_ord = cols_ord[:top_n]\n",
    "    \n",
    "    fi = fi[fi['feature'].isin(cols_ord)]\n",
    "    \n",
    "    plt.figure(figsize=(10, len(cols_ord)*height))\n",
    "    b = sns.boxplot(data=fi, y='feature', x='importance', orient='h', order=cols_ord)\n",
    "    \n",
    "    print('На график нанесено топ-{} признаков'.format(top_n))\n",
    "    return fi.groupby(by =['feature'], as_index=False)['importance'].mean().sort_values(by='importance', ascending=False)\n",
    "\n",
    "df_feats_imp = plot_importance(car_info_fs[filtered_features], clfs, height = 0.20, top_n = 70)\n"
   ]
  },
  {
   "cell_type": "markdown",
   "metadata": {},
   "source": [
    "# Тест на логику и гипотезы из таблицы"
   ]
  },
  {
   "cell_type": "code",
   "execution_count": null,
   "metadata": {
    "ExecuteTime": {
     "end_time": "2022-09-23T12:32:36.162075Z",
     "start_time": "2022-09-23T12:30:24.687Z"
    }
   },
   "outputs": [],
   "source": [
    "target_dict  = {'engine_ignition' : 0,\n",
    "    'another_bug' : 1,\n",
    "    'engine_overheat' : 2,\n",
    "    'gear_stick' : 3,\n",
    "    'engine_fuel' : 4,\n",
    "    'engine_check' : 5,\n",
    "    'break_bug' : 6,\n",
    "    'wheel_shake' : 7,\n",
    "    'electro_bug' : 8}\n",
    "\n",
    "target_dict = {v:k for k, v in target_dict.items()}\n",
    "\n",
    "f = lambda x: target_dict.get(x, x)\n",
    "car_info_fs['target_2'] = car_info_fs['target_2'].apply(f)"
   ]
  },
  {
   "cell_type": "code",
   "execution_count": null,
   "metadata": {
    "ExecuteTime": {
     "end_time": "2022-09-23T12:32:36.162075Z",
     "start_time": "2022-09-23T12:30:24.687Z"
    }
   },
   "outputs": [],
   "source": [
    "# sns.set()\n",
    "plt.figure(figsize = (20, 6))\n",
    "sns.histplot(data = car_info_fs, hue = 'target_2', x = 'target_1', bins=50);"
   ]
  },
  {
   "cell_type": "code",
   "execution_count": null,
   "metadata": {
    "ExecuteTime": {
     "end_time": "2022-08-21T16:47:06.179581Z",
     "start_time": "2022-08-21T16:44:30.467Z"
    }
   },
   "outputs": [],
   "source": [
    "sns.displot(data = car_info_fs, x = 'target_2', y = 'target_1', bins=50,\n",
    "            aspect=5, height=10);"
   ]
  },
  {
   "cell_type": "code",
   "execution_count": null,
   "metadata": {
    "ExecuteTime": {
     "end_time": "2022-09-23T12:32:36.163738Z",
     "start_time": "2022-09-23T12:30:24.693Z"
    }
   },
   "outputs": [],
   "source": [
    "car_info_fs"
   ]
  },
  {
   "cell_type": "code",
   "execution_count": null,
   "metadata": {},
   "outputs": [],
   "source": []
  },
  {
   "cell_type": "code",
   "execution_count": null,
   "metadata": {},
   "outputs": [],
   "source": []
  },
  {
   "cell_type": "code",
   "execution_count": null,
   "metadata": {
    "ExecuteTime": {
     "end_time": "2022-09-23T12:32:36.163738Z",
     "start_time": "2022-09-23T12:30:24.700Z"
    }
   },
   "outputs": [],
   "source": [
    "from sklearn.cluster import KMeans\n",
    "\n",
    "clusterer = KMeans(n_clusters=n_clusters, random_state=42, max_iter=500)\n",
    "cluster_labels = clusterer.fit_predict(X_embedded)"
   ]
  },
  {
   "cell_type": "code",
   "execution_count": null,
   "metadata": {
    "ExecuteTime": {
     "end_time": "2022-09-23T12:32:36.163738Z",
     "start_time": "2022-09-23T12:30:24.705Z"
    }
   },
   "outputs": [],
   "source": [
    "Снизить разерность датасета, используя метод t-SNE"
   ]
  },
  {
   "cell_type": "code",
   "execution_count": null,
   "metadata": {
    "ExecuteTime": {
     "end_time": "2022-09-23T12:32:36.171736Z",
     "start_time": "2022-09-23T12:30:24.708Z"
    }
   },
   "outputs": [],
   "source": [
    "from sklearn.manifold import TSNE\n",
    "\n",
    "\n",
    "# Вспомогатльеные фрагменты кода\n",
    "# data_x_y = TSNE(n_components=2, learning_rate='auto',\n",
    "#                 random_state=22, n_jobs=-1, \n",
    "#                 init='random').fit_transform(df)"
   ]
  },
  {
   "cell_type": "code",
   "execution_count": null,
   "metadata": {
    "ExecuteTime": {
     "end_time": "2022-09-23T12:32:36.171736Z",
     "start_time": "2022-09-23T12:30:24.712Z"
    }
   },
   "outputs": [],
   "source": [
    "\n",
    "#Вспомогатльеные фрагменты кода\n",
    "# plt.figure(figsize=(12,9))\n",
    "# plt.scatter(data_x, data_y, c=cluster_labels, cmap ='Set3', s=5)\n",
    "# plt.scatter(data_x, data_y, c=y_blobs, s=1, cmap ='Set3')\n",
    "# plt.legend(cluster_labels)\n",
    "# plt.show()"
   ]
  },
  {
   "cell_type": "code",
   "execution_count": null,
   "metadata": {
    "ExecuteTime": {
     "end_time": "2022-09-23T12:32:36.171736Z",
     "start_time": "2022-09-23T12:30:24.716Z"
    }
   },
   "outputs": [],
   "source": [
    "# TODO\n",
    "- Догенерить базововую часть датасета\n",
    "- Пошерить доступ на ноутбуки\n",
    "- Гегерировать фичи уже при написании ноутбуков\n",
    "- Утвердить программу \n",
    "- "
   ]
  },
  {
   "cell_type": "code",
   "execution_count": null,
   "metadata": {},
   "outputs": [],
   "source": []
  },
  {
   "cell_type": "code",
   "execution_count": null,
   "metadata": {},
   "outputs": [],
   "source": []
  },
  {
   "cell_type": "code",
   "execution_count": null,
   "metadata": {},
   "outputs": [],
   "source": []
  },
  {
   "cell_type": "markdown",
   "metadata": {},
   "source": [
    "# Открываем файлы и смотрим, все ли в порядке"
   ]
  },
  {
   "cell_type": "code",
   "execution_count": null,
   "metadata": {
    "ExecuteTime": {
     "end_time": "2022-09-23T12:32:36.179738Z",
     "start_time": "2022-09-23T12:30:24.726Z"
    }
   },
   "outputs": [],
   "source": [
    "# https://www.projectpro.io/recipes/upload-files-to-google-drive-using-python"
   ]
  },
  {
   "cell_type": "code",
   "execution_count": null,
   "metadata": {
    "ExecuteTime": {
     "end_time": "2022-09-23T12:32:36.179738Z",
     "start_time": "2022-09-23T12:30:24.731Z"
    }
   },
   "outputs": [],
   "source": [
    "import pandas as pd\n",
    "url = 'https://drive.google.com/file/d/1cGrFMilJtLrPPOTRfH46DX3qvBRnxdUT/view?usp=sharing'\n",
    "url ='https://drive.google.com/uc?id=' + url.split('/')[-2]\n",
    "df = pd.read_csv(url)\n",
    "df"
   ]
  },
  {
   "cell_type": "code",
   "execution_count": null,
   "metadata": {
    "ExecuteTime": {
     "end_time": "2022-09-23T12:32:36.179738Z",
     "start_time": "2022-09-23T12:30:24.735Z"
    }
   },
   "outputs": [],
   "source": [
    "# file = pd.read_csv(path)"
   ]
  },
  {
   "cell_type": "code",
   "execution_count": null,
   "metadata": {},
   "outputs": [],
   "source": []
  },
  {
   "cell_type": "code",
   "execution_count": null,
   "metadata": {
    "ExecuteTime": {
     "end_time": "2022-09-23T12:32:36.179738Z",
     "start_time": "2022-09-23T12:30:24.740Z"
    }
   },
   "outputs": [],
   "source": [
    "# !pip install pydrive"
   ]
  },
  {
   "cell_type": "code",
   "execution_count": null,
   "metadata": {
    "ExecuteTime": {
     "end_time": "2022-09-23T12:32:36.187735Z",
     "start_time": "2022-09-23T12:30:24.744Z"
    }
   },
   "outputs": [],
   "source": [
    "# gauth = GoogleAuth()           \n",
    "# drive = GoogleDrive(gauth)  \n",
    "\n",
    "from pydrive.auth import GoogleAuth\n",
    "from pydrive.drive import GoogleDrive\n",
    "\n",
    "gauth = GoogleAuth()           \n",
    "drive = GoogleDrive(gauth) # 1hqEuNuaYdXV9D-j_Ctx0TndExJwoc23b"
   ]
  },
  {
   "cell_type": "code",
   "execution_count": null,
   "metadata": {
    "ExecuteTime": {
     "end_time": "2022-09-23T12:32:36.187735Z",
     "start_time": "2022-09-23T12:30:24.749Z"
    }
   },
   "outputs": [],
   "source": [
    "upload_file_list = ['../data/fix_info.csv']\n",
    "for upload_file in upload_file_list:\n",
    "\tgfile = drive.CreateFile({'parents': [{'id': '1hqEuNuaYdXV9D-j_Ctx0TndExJwoc23b'}]})\n",
    "\t# Read file and set it as the content of this instance.\n",
    "\tgfile.SetContentFile(upload_file)\n",
    "\tgfile.Upload() # Upload the file."
   ]
  },
  {
   "cell_type": "code",
   "execution_count": null,
   "metadata": {
    "ExecuteTime": {
     "end_time": "2022-09-23T12:32:36.187735Z",
     "start_time": "2022-09-23T12:30:24.753Z"
    }
   },
   "outputs": [],
   "source": [
    "!ls ../data/"
   ]
  },
  {
   "cell_type": "code",
   "execution_count": null,
   "metadata": {},
   "outputs": [],
   "source": []
  },
  {
   "cell_type": "code",
   "execution_count": null,
   "metadata": {
    "ExecuteTime": {
     "end_time": "2022-09-23T12:32:36.187735Z",
     "start_time": "2022-09-23T12:30:24.760Z"
    }
   },
   "outputs": [],
   "source": [
    "!conda install pycaret"
   ]
  },
  {
   "cell_type": "code",
   "execution_count": null,
   "metadata": {
    "ExecuteTime": {
     "end_time": "2022-09-23T12:32:36.195742Z",
     "start_time": "2022-09-23T12:30:24.764Z"
    }
   },
   "outputs": [],
   "source": [
    "from pycaret.utils import version\n",
    "version()"
   ]
  },
  {
   "cell_type": "code",
   "execution_count": null,
   "metadata": {},
   "outputs": [],
   "source": []
  }
 ],
 "metadata": {
  "finalized": {
   "timestamp": 1661552636568,
   "trusted": true
  },
  "kernelspec": {
   "display_name": "Python 3 (ipykernel)",
   "language": "python",
   "name": "python3"
  },
  "language_info": {
   "codemirror_mode": {
    "name": "ipython",
    "version": 3
   },
   "file_extension": ".py",
   "mimetype": "text/x-python",
   "name": "python",
   "nbconvert_exporter": "python",
   "pygments_lexer": "ipython3",
   "version": "3.9.13"
  },
  "toc": {
   "base_numbering": 1,
   "nav_menu": {},
   "number_sections": true,
   "sideBar": true,
   "skip_h1_title": false,
   "title_cell": "Table of Contents",
   "title_sidebar": "Contents",
   "toc_cell": false,
   "toc_position": {},
   "toc_section_display": true,
   "toc_window_display": false
  }
 },
 "nbformat": 4,
 "nbformat_minor": 4
}
