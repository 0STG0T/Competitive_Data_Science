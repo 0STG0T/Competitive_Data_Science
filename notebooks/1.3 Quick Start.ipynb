{
 "cells": [
  {
   "cell_type": "markdown",
   "metadata": {},
   "source": [
    "# <center>Quick start - пишем простое решение</center>"
   ]
  },
  {
   "cell_type": "code",
   "execution_count": null,
   "metadata": {},
   "outputs": [],
   "source": [
    "!pip install catboost -q"
   ]
  },
  {
   "cell_type": "code",
   "execution_count": 25,
   "metadata": {
    "ExecuteTime": {
     "end_time": "2022-09-23T12:30:27.726118Z",
     "start_time": "2022-09-23T12:30:24.605676Z"
    },
    "tags": []
   },
   "outputs": [],
   "source": [
    "import numpy as np\n",
    "import pandas as pd\n",
    "from catboost import CatBoostClassifier\n",
    "from sklearn.model_selection import train_test_split\n",
    "from sklearn.metrics import accuracy_score#, mean_squared_error"
   ]
  },
  {
   "cell_type": "code",
   "execution_count": 3,
   "metadata": {
    "ExecuteTime": {
     "end_time": "2022-08-25T13:47:09.481348Z",
     "start_time": "2022-08-25T13:47:09.468039Z"
    }
   },
   "outputs": [
    {
     "name": "stdout",
     "output_type": "stream",
     "text": [
      "ls: cannot access '/kaggle/input/competative-data-science-course-by-data-feeling/': No such file or directory\n"
     ]
    }
   ],
   "source": [
    "!ls /kaggle/input/competative-data-science-course-by-data-feeling/"
   ]
  },
  {
   "cell_type": "markdown",
   "metadata": {},
   "source": [
    "## Анализируем данные о машинах car_info"
   ]
  },
  {
   "cell_type": "code",
   "execution_count": 31,
   "metadata": {
    "ExecuteTime": {
     "end_time": "2022-09-23T12:30:31.614036Z",
     "start_time": "2022-09-23T12:30:27.758714Z"
    },
    "tags": []
   },
   "outputs": [
    {
     "name": "stdout",
     "output_type": "stream",
     "text": [
      "(2337, 10)\n"
     ]
    },
    {
     "data": {
      "text/html": [
       "<div>\n",
       "<style scoped>\n",
       "    .dataframe tbody tr th:only-of-type {\n",
       "        vertical-align: middle;\n",
       "    }\n",
       "\n",
       "    .dataframe tbody tr th {\n",
       "        vertical-align: top;\n",
       "    }\n",
       "\n",
       "    .dataframe thead th {\n",
       "        text-align: right;\n",
       "    }\n",
       "</style>\n",
       "<table border=\"1\" class=\"dataframe\">\n",
       "  <thead>\n",
       "    <tr style=\"text-align: right;\">\n",
       "      <th></th>\n",
       "      <th>car_id</th>\n",
       "      <th>model</th>\n",
       "      <th>car_type</th>\n",
       "      <th>fuel_type</th>\n",
       "      <th>car_rating</th>\n",
       "      <th>year_to_start</th>\n",
       "      <th>riders</th>\n",
       "      <th>year_to_work</th>\n",
       "      <th>target_reg</th>\n",
       "      <th>target_class</th>\n",
       "    </tr>\n",
       "  </thead>\n",
       "  <tbody>\n",
       "    <tr>\n",
       "      <th>1101</th>\n",
       "      <td>G-1964724b</td>\n",
       "      <td>VW Polo</td>\n",
       "      <td>economy</td>\n",
       "      <td>petrol</td>\n",
       "      <td>5.68</td>\n",
       "      <td>2013</td>\n",
       "      <td>37671</td>\n",
       "      <td>2020</td>\n",
       "      <td>556.17</td>\n",
       "      <td>break_bug</td>\n",
       "    </tr>\n",
       "    <tr>\n",
       "      <th>2321</th>\n",
       "      <td>e40587429i</td>\n",
       "      <td>Skoda Rapid</td>\n",
       "      <td>economy</td>\n",
       "      <td>petrol</td>\n",
       "      <td>3.64</td>\n",
       "      <td>2017</td>\n",
       "      <td>125757</td>\n",
       "      <td>2018</td>\n",
       "      <td>3834.64</td>\n",
       "      <td>gear_stick</td>\n",
       "    </tr>\n",
       "    <tr>\n",
       "      <th>1127</th>\n",
       "      <td>p-8718312x</td>\n",
       "      <td>Renault Kaptur</td>\n",
       "      <td>standart</td>\n",
       "      <td>petrol</td>\n",
       "      <td>6.14</td>\n",
       "      <td>2011</td>\n",
       "      <td>2768</td>\n",
       "      <td>2016</td>\n",
       "      <td>939.51</td>\n",
       "      <td>engine_fuel</td>\n",
       "    </tr>\n",
       "    <tr>\n",
       "      <th>1845</th>\n",
       "      <td>J-2212008m</td>\n",
       "      <td>VW Polo VI</td>\n",
       "      <td>economy</td>\n",
       "      <td>petrol</td>\n",
       "      <td>5.40</td>\n",
       "      <td>2014</td>\n",
       "      <td>63384</td>\n",
       "      <td>2014</td>\n",
       "      <td>510.74</td>\n",
       "      <td>wheel_shake</td>\n",
       "    </tr>\n",
       "    <tr>\n",
       "      <th>932</th>\n",
       "      <td>R89114665D</td>\n",
       "      <td>Kia Rio X-line</td>\n",
       "      <td>economy</td>\n",
       "      <td>petrol</td>\n",
       "      <td>3.20</td>\n",
       "      <td>2013</td>\n",
       "      <td>45176</td>\n",
       "      <td>2021</td>\n",
       "      <td>632.61</td>\n",
       "      <td>engine_fuel</td>\n",
       "    </tr>\n",
       "  </tbody>\n",
       "</table>\n",
       "</div>"
      ],
      "text/plain": [
       "          car_id           model  car_type fuel_type  car_rating  \\\n",
       "1101  G-1964724b         VW Polo   economy    petrol        5.68   \n",
       "2321  e40587429i     Skoda Rapid   economy    petrol        3.64   \n",
       "1127  p-8718312x  Renault Kaptur  standart    petrol        6.14   \n",
       "1845  J-2212008m      VW Polo VI   economy    petrol        5.40   \n",
       "932   R89114665D  Kia Rio X-line   economy    petrol        3.20   \n",
       "\n",
       "      year_to_start  riders  year_to_work  target_reg target_class  \n",
       "1101           2013   37671          2020      556.17    break_bug  \n",
       "2321           2017  125757          2018     3834.64   gear_stick  \n",
       "1127           2011    2768          2016      939.51  engine_fuel  \n",
       "1845           2014   63384          2014      510.74  wheel_shake  \n",
       "932            2013   45176          2021      632.61  engine_fuel  "
      ]
     },
     "execution_count": 31,
     "metadata": {},
     "output_type": "execute_result"
    },
    {
     "data": {
      "image/png": "[encoded data removed]",
      "text/plain": [
       "<Figure size 2500x500 with 5 Axes>"
      ]
     },
     "metadata": {},
     "output_type": "display_data"
    }
   ],
   "source": [
    "path = '../data/car_train.csv'\n",
    "train = pd.read_csv(path)\n",
    "print(train.shape)\n",
    "train.hist(figsize=(25, 5), layout = (-1, 5))\n",
    "train.sample(5)"
   ]
  },
  {
   "cell_type": "code",
   "execution_count": 32,
   "metadata": {
    "tags": []
   },
   "outputs": [
    {
     "name": "stdout",
     "output_type": "stream",
     "text": [
      "(1913, 8)\n"
     ]
    },
    {
     "data": {
      "text/html": [
       "<div>\n",
       "<style scoped>\n",
       "    .dataframe tbody tr th:only-of-type {\n",
       "        vertical-align: middle;\n",
       "    }\n",
       "\n",
       "    .dataframe tbody tr th {\n",
       "        vertical-align: top;\n",
       "    }\n",
       "\n",
       "    .dataframe thead th {\n",
       "        text-align: right;\n",
       "    }\n",
       "</style>\n",
       "<table border=\"1\" class=\"dataframe\">\n",
       "  <thead>\n",
       "    <tr style=\"text-align: right;\">\n",
       "      <th></th>\n",
       "      <th>car_id</th>\n",
       "      <th>model</th>\n",
       "      <th>car_type</th>\n",
       "      <th>fuel_type</th>\n",
       "      <th>car_rating</th>\n",
       "      <th>year_to_start</th>\n",
       "      <th>riders</th>\n",
       "      <th>year_to_work</th>\n",
       "    </tr>\n",
       "  </thead>\n",
       "  <tbody>\n",
       "    <tr>\n",
       "      <th>1849</th>\n",
       "      <td>d10736354y</td>\n",
       "      <td>Kia Rio X</td>\n",
       "      <td>economy</td>\n",
       "      <td>petrol</td>\n",
       "      <td>4.28</td>\n",
       "      <td>2012</td>\n",
       "      <td>17847</td>\n",
       "      <td>2018</td>\n",
       "    </tr>\n",
       "    <tr>\n",
       "      <th>1416</th>\n",
       "      <td>A82111385d</td>\n",
       "      <td>Hyundai Solaris</td>\n",
       "      <td>economy</td>\n",
       "      <td>petrol</td>\n",
       "      <td>4.96</td>\n",
       "      <td>2014</td>\n",
       "      <td>66632</td>\n",
       "      <td>2016</td>\n",
       "    </tr>\n",
       "    <tr>\n",
       "      <th>1604</th>\n",
       "      <td>Q-2192864t</td>\n",
       "      <td>VW Tiguan</td>\n",
       "      <td>economy</td>\n",
       "      <td>petrol</td>\n",
       "      <td>4.64</td>\n",
       "      <td>2013</td>\n",
       "      <td>42329</td>\n",
       "      <td>2019</td>\n",
       "    </tr>\n",
       "    <tr>\n",
       "      <th>1112</th>\n",
       "      <td>d-1645612W</td>\n",
       "      <td>VW Tiguan</td>\n",
       "      <td>economy</td>\n",
       "      <td>petrol</td>\n",
       "      <td>4.36</td>\n",
       "      <td>2014</td>\n",
       "      <td>64689</td>\n",
       "      <td>2021</td>\n",
       "    </tr>\n",
       "    <tr>\n",
       "      <th>1097</th>\n",
       "      <td>i55328849i</td>\n",
       "      <td>Kia Rio X</td>\n",
       "      <td>economy</td>\n",
       "      <td>petrol</td>\n",
       "      <td>3.90</td>\n",
       "      <td>2014</td>\n",
       "      <td>62170</td>\n",
       "      <td>2022</td>\n",
       "    </tr>\n",
       "  </tbody>\n",
       "</table>\n",
       "</div>"
      ],
      "text/plain": [
       "          car_id            model car_type fuel_type  car_rating  \\\n",
       "1849  d10736354y        Kia Rio X  economy    petrol        4.28   \n",
       "1416  A82111385d  Hyundai Solaris  economy    petrol        4.96   \n",
       "1604  Q-2192864t        VW Tiguan  economy    petrol        4.64   \n",
       "1112  d-1645612W        VW Tiguan  economy    petrol        4.36   \n",
       "1097  i55328849i        Kia Rio X  economy    petrol        3.90   \n",
       "\n",
       "      year_to_start  riders  year_to_work  \n",
       "1849           2012   17847          2018  \n",
       "1416           2014   66632          2016  \n",
       "1604           2013   42329          2019  \n",
       "1112           2014   64689          2021  \n",
       "1097           2014   62170          2022  "
      ]
     },
     "execution_count": 32,
     "metadata": {},
     "output_type": "execute_result"
    }
   ],
   "source": [
    "path = '../data/car_test.csv'\n",
    "test = pd.read_csv(path)\n",
    "print(test.shape)\n",
    "test.sample(5)"
   ]
  },
  {
   "cell_type": "markdown",
   "metadata": {},
   "source": [
    "## Классифицируем признаки на типы"
   ]
  },
  {
   "cell_type": "code",
   "execution_count": 33,
   "metadata": {},
   "outputs": [
    {
     "name": "stdout",
     "output_type": "stream",
     "text": [
      "cat_features : 3 ['car_type', 'fuel_type', 'model']\n",
      "num_features : 4 ['car_rating', 'year_to_start', 'riders', 'year_to_work']\n",
      "targets ['target_class', 'target_reg']\n"
     ]
    }
   ],
   "source": [
    "features2drop = ['car_id'] \n",
    "targets = ['target_class', 'target_reg']  \n",
    "cat_features = ['car_type', 'fuel_type', 'model'] \n",
    "\n",
    "filtered_features = [i for i in train.columns if (i not in targets and i not in features2drop)]\n",
    "num_features = [i for i in filtered_features if i not in cat_features]\n",
    "\n",
    "\n",
    "print('cat_features :', len(cat_features), cat_features)\n",
    "print('num_features :', len(num_features), num_features)\n",
    "print('targets', targets)"
   ]
  },
  {
   "cell_type": "markdown",
   "metadata": {},
   "source": [
    "## Обучаем Catboost и делаем прогноз на тест"
   ]
  },
  {
   "cell_type": "code",
   "execution_count": 34,
   "metadata": {},
   "outputs": [
    {
     "name": "stdout",
     "output_type": "stream",
     "text": [
      "Learning rate set to 0.109335\n",
      "0:\tlearn: 2.1911361\ttest: 2.1951349\tbest: 2.1951349 (0)\ttotal: 5.62ms\tremaining: 5.62s\n",
      "150:\tlearn: 1.6539682\ttest: 2.2440578\tbest: 2.1908935 (6)\ttotal: 765ms\tremaining: 4.3s\n",
      "300:\tlearn: 1.2455381\ttest: 2.3306861\tbest: 2.1908935 (6)\ttotal: 1.6s\tremaining: 3.72s\n",
      "450:\tlearn: 0.9685364\ttest: 2.4038621\tbest: 2.1908935 (6)\ttotal: 2.44s\tremaining: 2.97s\n",
      "600:\tlearn: 0.7432300\ttest: 2.4962387\tbest: 2.1908935 (6)\ttotal: 3.3s\tremaining: 2.19s\n",
      "750:\tlearn: 0.5835086\ttest: 2.5783601\tbest: 2.1908935 (6)\ttotal: 4.16s\tremaining: 1.38s\n",
      "900:\tlearn: 0.4589187\ttest: 2.6654857\tbest: 2.1908935 (6)\ttotal: 5.01s\tremaining: 551ms\n",
      "999:\tlearn: 0.3990111\ttest: 2.7166606\tbest: 2.1908935 (6)\ttotal: 5.57s\tremaining: 0us\n",
      "\n",
      "bestTest = 2.19089351\n",
      "bestIteration = 6\n",
      "\n",
      "Shrink model to first 7 iterations.\n",
      "\n",
      " Accuracy: 0.0876068376068376\n"
     ]
    }
   ],
   "source": [
    "X = train[filtered_features].drop(targets, axis=1, errors='ignore')\n",
    "y = train['target_class']\n",
    "\n",
    "X_train, X_test, y_train, y_test = train_test_split(X, y, test_size=0.2, random_state=42)\n",
    "\n",
    "clf = CatBoostClassifier(cat_features=cat_features)\n",
    "\n",
    "\n",
    "clf.fit(X_train, y_train, \n",
    "          eval_set=(X_test, y_test),\n",
    "          verbose=150, plot=False)\n",
    "\n",
    "# инференс модели\n",
    "y_pred = clf.predict(X_test)\n",
    "print(f'\\n Accuracy: {accuracy_score(y_test, y_pred)}')"
   ]
  },
  {
   "cell_type": "code",
   "execution_count": 35,
   "metadata": {},
   "outputs": [
    {
     "name": "stdout",
     "output_type": "stream",
     "text": [
      "CSV file saved!\n"
     ]
    }
   ],
   "source": [
    "test['target_class'] = clf.predict(test[filtered_features])\n",
    "test[['car_id', 'target_class']].to_csv('simple_baseline_v1.csv', index=False)\n",
    "print('CSV file saved!')"
   ]
  },
  {
   "cell_type": "markdown",
   "metadata": {},
   "source": [
    "## Добавим информацию про поездки из rides_info"
   ]
  },
  {
   "cell_type": "code",
   "execution_count": 36,
   "metadata": {
    "tags": []
   },
   "outputs": [
    {
     "data": {
      "text/html": [
       "<div>\n",
       "<style scoped>\n",
       "    .dataframe tbody tr th:only-of-type {\n",
       "        vertical-align: middle;\n",
       "    }\n",
       "\n",
       "    .dataframe tbody tr th {\n",
       "        vertical-align: top;\n",
       "    }\n",
       "\n",
       "    .dataframe thead th {\n",
       "        text-align: right;\n",
       "    }\n",
       "</style>\n",
       "<table border=\"1\" class=\"dataframe\">\n",
       "  <thead>\n",
       "    <tr style=\"text-align: right;\">\n",
       "      <th></th>\n",
       "      <th>user_id</th>\n",
       "      <th>car_id</th>\n",
       "      <th>ride_id</th>\n",
       "      <th>ride_date</th>\n",
       "      <th>rating</th>\n",
       "      <th>ride_duration</th>\n",
       "      <th>ride_cost</th>\n",
       "      <th>speed_avg</th>\n",
       "      <th>speed_max</th>\n",
       "      <th>stop_times</th>\n",
       "      <th>distance</th>\n",
       "      <th>refueling</th>\n",
       "      <th>user_ride_quality</th>\n",
       "      <th>deviation_normal</th>\n",
       "    </tr>\n",
       "  </thead>\n",
       "  <tbody>\n",
       "    <tr>\n",
       "      <th>210131</th>\n",
       "      <td>W72668469N</td>\n",
       "      <td>O23711712l</td>\n",
       "      <td>j1b</td>\n",
       "      <td>2020-02-29</td>\n",
       "      <td>4.52</td>\n",
       "      <td>34</td>\n",
       "      <td>538</td>\n",
       "      <td>32</td>\n",
       "      <td>43.000000</td>\n",
       "      <td>2</td>\n",
       "      <td>581.681841</td>\n",
       "      <td>0</td>\n",
       "      <td>-6.958273</td>\n",
       "      <td>34.653</td>\n",
       "    </tr>\n",
       "    <tr>\n",
       "      <th>119556</th>\n",
       "      <td>m12078042M</td>\n",
       "      <td>I-8740476B</td>\n",
       "      <td>W1g</td>\n",
       "      <td>2020-01-10</td>\n",
       "      <td>3.54</td>\n",
       "      <td>35</td>\n",
       "      <td>347</td>\n",
       "      <td>51</td>\n",
       "      <td>69.000000</td>\n",
       "      <td>0</td>\n",
       "      <td>1743.246320</td>\n",
       "      <td>0</td>\n",
       "      <td>-9.544314</td>\n",
       "      <td>-8.308</td>\n",
       "    </tr>\n",
       "    <tr>\n",
       "      <th>89481</th>\n",
       "      <td>g11301343J</td>\n",
       "      <td>G11530237Q</td>\n",
       "      <td>j1G</td>\n",
       "      <td>2020-01-24</td>\n",
       "      <td>4.39</td>\n",
       "      <td>431</td>\n",
       "      <td>4734</td>\n",
       "      <td>48</td>\n",
       "      <td>90.060961</td>\n",
       "      <td>1</td>\n",
       "      <td>2715.069200</td>\n",
       "      <td>0</td>\n",
       "      <td>-11.712689</td>\n",
       "      <td>7.703</td>\n",
       "    </tr>\n",
       "    <tr>\n",
       "      <th>729732</th>\n",
       "      <td>Q21392306Q</td>\n",
       "      <td>z-5067315t</td>\n",
       "      <td>Y1M</td>\n",
       "      <td>2020-03-20</td>\n",
       "      <td>3.15</td>\n",
       "      <td>517</td>\n",
       "      <td>6198</td>\n",
       "      <td>42</td>\n",
       "      <td>64.000000</td>\n",
       "      <td>2</td>\n",
       "      <td>1795.105806</td>\n",
       "      <td>0</td>\n",
       "      <td>41.197417</td>\n",
       "      <td>24.380</td>\n",
       "    </tr>\n",
       "    <tr>\n",
       "      <th>628366</th>\n",
       "      <td>N22200243S</td>\n",
       "      <td>s-8312774q</td>\n",
       "      <td>f1r</td>\n",
       "      <td>2020-01-28</td>\n",
       "      <td>4.81</td>\n",
       "      <td>11</td>\n",
       "      <td>116</td>\n",
       "      <td>33</td>\n",
       "      <td>67.727357</td>\n",
       "      <td>0</td>\n",
       "      <td>355.331064</td>\n",
       "      <td>0</td>\n",
       "      <td>-10.218859</td>\n",
       "      <td>-10.675</td>\n",
       "    </tr>\n",
       "  </tbody>\n",
       "</table>\n",
       "</div>"
      ],
      "text/plain": [
       "           user_id      car_id ride_id   ride_date  rating  ride_duration  \\\n",
       "210131  W72668469N  O23711712l     j1b  2020-02-29    4.52             34   \n",
       "119556  m12078042M  I-8740476B     W1g  2020-01-10    3.54             35   \n",
       "89481   g11301343J  G11530237Q     j1G  2020-01-24    4.39            431   \n",
       "729732  Q21392306Q  z-5067315t     Y1M  2020-03-20    3.15            517   \n",
       "628366  N22200243S  s-8312774q     f1r  2020-01-28    4.81             11   \n",
       "\n",
       "        ride_cost  speed_avg  speed_max  stop_times     distance  refueling  \\\n",
       "210131        538         32  43.000000           2   581.681841          0   \n",
       "119556        347         51  69.000000           0  1743.246320          0   \n",
       "89481        4734         48  90.060961           1  2715.069200          0   \n",
       "729732       6198         42  64.000000           2  1795.105806          0   \n",
       "628366        116         33  67.727357           0   355.331064          0   \n",
       "\n",
       "        user_ride_quality  deviation_normal  \n",
       "210131          -6.958273            34.653  \n",
       "119556          -9.544314            -8.308  \n",
       "89481          -11.712689             7.703  \n",
       "729732          41.197417            24.380  \n",
       "628366         -10.218859           -10.675  "
      ]
     },
     "execution_count": 36,
     "metadata": {},
     "output_type": "execute_result"
    }
   ],
   "source": [
    "path = '../data/rides_info.csv'\n",
    "rides = pd.read_csv(path)\n",
    "rides.sample(5)"
   ]
  },
  {
   "cell_type": "code",
   "execution_count": 37,
   "metadata": {},
   "outputs": [
    {
     "data": {
      "text/html": [
       "<div>\n",
       "<style scoped>\n",
       "    .dataframe tbody tr th:only-of-type {\n",
       "        vertical-align: middle;\n",
       "    }\n",
       "\n",
       "    .dataframe tbody tr th {\n",
       "        vertical-align: top;\n",
       "    }\n",
       "\n",
       "    .dataframe thead th {\n",
       "        text-align: right;\n",
       "    }\n",
       "</style>\n",
       "<table border=\"1\" class=\"dataframe\">\n",
       "  <thead>\n",
       "    <tr style=\"text-align: right;\">\n",
       "      <th></th>\n",
       "      <th>car_id</th>\n",
       "      <th>mean_rating</th>\n",
       "      <th>distance_sum</th>\n",
       "      <th>rating_min</th>\n",
       "      <th>speed_max</th>\n",
       "      <th>user_ride_quality_median</th>\n",
       "      <th>deviation_normal_count</th>\n",
       "      <th>user_uniq</th>\n",
       "    </tr>\n",
       "  </thead>\n",
       "  <tbody>\n",
       "    <tr>\n",
       "      <th>0</th>\n",
       "      <td>A-1049127W</td>\n",
       "      <td>49.459770</td>\n",
       "      <td>1.125753e+07</td>\n",
       "      <td>0.1</td>\n",
       "      <td>179.729652</td>\n",
       "      <td>-0.288229</td>\n",
       "      <td>174</td>\n",
       "      <td>172</td>\n",
       "    </tr>\n",
       "    <tr>\n",
       "      <th>1</th>\n",
       "      <td>A-1079539w</td>\n",
       "      <td>49.591954</td>\n",
       "      <td>1.912765e+07</td>\n",
       "      <td>0.1</td>\n",
       "      <td>184.505566</td>\n",
       "      <td>2.508746</td>\n",
       "      <td>174</td>\n",
       "      <td>173</td>\n",
       "    </tr>\n",
       "  </tbody>\n",
       "</table>\n",
       "</div>"
      ],
      "text/plain": [
       "       car_id  mean_rating  distance_sum  rating_min   speed_max  \\\n",
       "0  A-1049127W    49.459770  1.125753e+07         0.1  179.729652   \n",
       "1  A-1079539w    49.591954  1.912765e+07         0.1  184.505566   \n",
       "\n",
       "   user_ride_quality_median  deviation_normal_count  user_uniq  \n",
       "0                 -0.288229                     174        172  \n",
       "1                  2.508746                     174        173  "
      ]
     },
     "execution_count": 37,
     "metadata": {},
     "output_type": "execute_result"
    }
   ],
   "source": [
    "f = lambda x: x.nunique()\n",
    "rides_df_gr = rides.groupby('car_id', as_index=False).agg(mean_rating = ('speed_avg', 'mean'),\n",
    "                                                   distance_sum = ('distance', 'sum'),\n",
    "                                                   rating_min = ('rating', 'min'),\n",
    "                                                   speed_max = ('speed_max', 'max'),\n",
    "                                                   user_ride_quality_median = ('user_ride_quality', 'median'), \n",
    "                                                   deviation_normal_count = ('deviation_normal', 'count'),\n",
    "                                                   user_uniq = ('user_id', f))\n",
    "\n",
    "\n",
    "rides_df_gr.head(2)"
   ]
  },
  {
   "cell_type": "code",
   "execution_count": 38,
   "metadata": {},
   "outputs": [],
   "source": [
    "def add_featues(df):\n",
    "    \n",
    "    if 'mean_rating' not in df.columns:\n",
    "        return df.merge(rides_df_gr, on = 'car_id', how = 'left')\n",
    "    \n",
    "    return df\n",
    "    \n",
    "    \n",
    "train = add_featues(train)\n",
    "test = add_featues(test)"
   ]
  },
  {
   "cell_type": "code",
   "execution_count": 39,
   "metadata": {},
   "outputs": [
    {
     "data": {
      "text/html": [
       "<div>\n",
       "<style scoped>\n",
       "    .dataframe tbody tr th:only-of-type {\n",
       "        vertical-align: middle;\n",
       "    }\n",
       "\n",
       "    .dataframe tbody tr th {\n",
       "        vertical-align: top;\n",
       "    }\n",
       "\n",
       "    .dataframe thead th {\n",
       "        text-align: right;\n",
       "    }\n",
       "</style>\n",
       "<table border=\"1\" class=\"dataframe\">\n",
       "  <thead>\n",
       "    <tr style=\"text-align: right;\">\n",
       "      <th></th>\n",
       "      <th>car_id</th>\n",
       "      <th>model</th>\n",
       "      <th>car_type</th>\n",
       "      <th>fuel_type</th>\n",
       "      <th>car_rating</th>\n",
       "      <th>year_to_start</th>\n",
       "      <th>riders</th>\n",
       "      <th>year_to_work</th>\n",
       "      <th>target_reg</th>\n",
       "      <th>target_class</th>\n",
       "      <th>mean_rating</th>\n",
       "      <th>distance_sum</th>\n",
       "      <th>rating_min</th>\n",
       "      <th>speed_max</th>\n",
       "      <th>user_ride_quality_median</th>\n",
       "      <th>deviation_normal_count</th>\n",
       "      <th>user_uniq</th>\n",
       "    </tr>\n",
       "  </thead>\n",
       "  <tbody>\n",
       "    <tr>\n",
       "      <th>2020</th>\n",
       "      <td>b-1731846p</td>\n",
       "      <td>Smart ForFour</td>\n",
       "      <td>economy</td>\n",
       "      <td>petrol</td>\n",
       "      <td>3.82</td>\n",
       "      <td>2015</td>\n",
       "      <td>76340</td>\n",
       "      <td>2016</td>\n",
       "      <td>3041.2</td>\n",
       "      <td>engine_overheat</td>\n",
       "      <td>50.620690</td>\n",
       "      <td>9.681598e+06</td>\n",
       "      <td>0.1</td>\n",
       "      <td>191.081915</td>\n",
       "      <td>-0.810000</td>\n",
       "      <td>174</td>\n",
       "      <td>172</td>\n",
       "    </tr>\n",
       "    <tr>\n",
       "      <th>1675</th>\n",
       "      <td>H-2071162e</td>\n",
       "      <td>Smart Coupe</td>\n",
       "      <td>economy</td>\n",
       "      <td>petrol</td>\n",
       "      <td>4.48</td>\n",
       "      <td>2015</td>\n",
       "      <td>73706</td>\n",
       "      <td>2020</td>\n",
       "      <td>782.5</td>\n",
       "      <td>gear_stick</td>\n",
       "      <td>45.913793</td>\n",
       "      <td>1.792018e+07</td>\n",
       "      <td>0.1</td>\n",
       "      <td>102.931010</td>\n",
       "      <td>-4.189964</td>\n",
       "      <td>174</td>\n",
       "      <td>171</td>\n",
       "    </tr>\n",
       "  </tbody>\n",
       "</table>\n",
       "</div>"
      ],
      "text/plain": [
       "          car_id          model car_type fuel_type  car_rating  year_to_start  \\\n",
       "2020  b-1731846p  Smart ForFour  economy    petrol        3.82           2015   \n",
       "1675  H-2071162e    Smart Coupe  economy    petrol        4.48           2015   \n",
       "\n",
       "      riders  year_to_work  target_reg     target_class  mean_rating  \\\n",
       "2020   76340          2016      3041.2  engine_overheat    50.620690   \n",
       "1675   73706          2020       782.5       gear_stick    45.913793   \n",
       "\n",
       "      distance_sum  rating_min   speed_max  user_ride_quality_median  \\\n",
       "2020  9.681598e+06         0.1  191.081915                 -0.810000   \n",
       "1675  1.792018e+07         0.1  102.931010                 -4.189964   \n",
       "\n",
       "      deviation_normal_count  user_uniq  \n",
       "2020                     174        172  \n",
       "1675                     174        171  "
      ]
     },
     "execution_count": 39,
     "metadata": {},
     "output_type": "execute_result"
    }
   ],
   "source": [
    "train.sample(2)"
   ]
  },
  {
   "cell_type": "code",
   "execution_count": 46,
   "metadata": {},
   "outputs": [],
   "source": [
    "train.to_csv('quickstart_train.csv', index=False)"
   ]
  },
  {
   "cell_type": "markdown",
   "metadata": {},
   "source": [
    "# Снова обновляем типы фичей"
   ]
  },
  {
   "cell_type": "code",
   "execution_count": 48,
   "metadata": {},
   "outputs": [
    {
     "name": "stdout",
     "output_type": "stream",
     "text": [
      "num_features : 11 ['car_rating', 'year_to_start', 'riders', 'year_to_work', 'mean_rating', 'distance_sum', 'rating_min', 'speed_max', 'user_ride_quality_median', 'deviation_normal_count', 'user_uniq']\n",
      "cat_features : 3 ['car_type', 'fuel_type', 'model']\n",
      "targets ['target_class', 'target_reg']\n"
     ]
    }
   ],
   "source": [
    "filtered_features = [i for i in train.columns if (i not in targets and i not in features2drop)]\n",
    "num_features = [i for i in filtered_features if i not in cat_features]\n",
    "\n",
    "\n",
    "print('num_features :', len(num_features), num_features)\n",
    "print('cat_features :', len(cat_features), cat_features)\n",
    "print('targets', targets)"
   ]
  },
  {
   "cell_type": "markdown",
   "metadata": {},
   "source": [
    "# Обучаем Catboost на новых данных и делаем новый прогноз"
   ]
  },
  {
   "cell_type": "code",
   "execution_count": 42,
   "metadata": {},
   "outputs": [
    {
     "name": "stdout",
     "output_type": "stream",
     "text": [
      "Learning rate set to 0.109335\n",
      "0:\tlearn: 1.8867428\ttest: 1.8889315\tbest: 1.8889315 (0)\ttotal: 6.43ms\tremaining: 6.43s\n",
      "150:\tlearn: 0.4109407\ttest: 0.6689167\tbest: 0.6685302 (142)\ttotal: 1.03s\tremaining: 5.8s\n",
      "300:\tlearn: 0.2739907\ttest: 0.6757269\tbest: 0.6629107 (177)\ttotal: 2.08s\tremaining: 4.83s\n",
      "450:\tlearn: 0.1950182\ttest: 0.6935761\tbest: 0.6629107 (177)\ttotal: 3.15s\tremaining: 3.84s\n",
      "600:\tlearn: 0.1443841\ttest: 0.7192890\tbest: 0.6629107 (177)\ttotal: 4.25s\tremaining: 2.82s\n",
      "750:\tlearn: 0.1105230\ttest: 0.7444843\tbest: 0.6629107 (177)\ttotal: 5.37s\tremaining: 1.78s\n",
      "900:\tlearn: 0.0880207\ttest: 0.7643347\tbest: 0.6629107 (177)\ttotal: 6.51s\tremaining: 715ms\n",
      "999:\tlearn: 0.0771231\ttest: 0.7761287\tbest: 0.6629107 (177)\ttotal: 7.22s\tremaining: 0us\n",
      "\n",
      "bestTest = 0.6629106773\n",
      "bestIteration = 177\n",
      "\n",
      "Shrink model to first 178 iterations.\n",
      "\n",
      " Accuracy: 0.7222222222222222\n"
     ]
    }
   ],
   "source": [
    "X = train[filtered_features].drop(targets, axis=1, errors='ignore')\n",
    "y = train['target_class']\n",
    "\n",
    "X_train, X_test, y_train, y_test = train_test_split(X, y, test_size=0.2, random_state=42)\n",
    "\n",
    "clf = CatBoostClassifier(cat_features=cat_features)\n",
    "\n",
    "\n",
    "clf.fit(X_train, y_train, \n",
    "          eval_set=(X_test, y_test),\n",
    "          verbose=150, plot=False)\n",
    "\n",
    "# инференс модели\n",
    "y_pred = clf.predict(X_test)\n",
    "print(f'\\n Accuracy: {accuracy_score(y_test, y_pred)}')"
   ]
  },
  {
   "cell_type": "code",
   "execution_count": 47,
   "metadata": {},
   "outputs": [
    {
     "data": {
      "text/html": [
       "<div>\n",
       "<style scoped>\n",
       "    .dataframe tbody tr th:only-of-type {\n",
       "        vertical-align: middle;\n",
       "    }\n",
       "\n",
       "    .dataframe tbody tr th {\n",
       "        vertical-align: top;\n",
       "    }\n",
       "\n",
       "    .dataframe thead th {\n",
       "        text-align: right;\n",
       "    }\n",
       "</style>\n",
       "<table border=\"1\" class=\"dataframe\">\n",
       "  <thead>\n",
       "    <tr style=\"text-align: right;\">\n",
       "      <th></th>\n",
       "      <th>Feature Id</th>\n",
       "      <th>Importances</th>\n",
       "    </tr>\n",
       "  </thead>\n",
       "  <tbody>\n",
       "    <tr>\n",
       "      <th>0</th>\n",
       "      <td>speed_max</td>\n",
       "      <td>37.390452</td>\n",
       "    </tr>\n",
       "    <tr>\n",
       "      <th>1</th>\n",
       "      <td>mean_rating</td>\n",
       "      <td>29.276467</td>\n",
       "    </tr>\n",
       "    <tr>\n",
       "      <th>2</th>\n",
       "      <td>rating_min</td>\n",
       "      <td>12.776674</td>\n",
       "    </tr>\n",
       "    <tr>\n",
       "      <th>3</th>\n",
       "      <td>model</td>\n",
       "      <td>4.817885</td>\n",
       "    </tr>\n",
       "    <tr>\n",
       "      <th>4</th>\n",
       "      <td>car_type</td>\n",
       "      <td>4.339341</td>\n",
       "    </tr>\n",
       "    <tr>\n",
       "      <th>5</th>\n",
       "      <td>user_uniq</td>\n",
       "      <td>3.650003</td>\n",
       "    </tr>\n",
       "    <tr>\n",
       "      <th>6</th>\n",
       "      <td>user_ride_quality_median</td>\n",
       "      <td>1.742941</td>\n",
       "    </tr>\n",
       "    <tr>\n",
       "      <th>7</th>\n",
       "      <td>distance_sum</td>\n",
       "      <td>1.609484</td>\n",
       "    </tr>\n",
       "    <tr>\n",
       "      <th>8</th>\n",
       "      <td>riders</td>\n",
       "      <td>1.373459</td>\n",
       "    </tr>\n",
       "    <tr>\n",
       "      <th>9</th>\n",
       "      <td>car_rating</td>\n",
       "      <td>1.284999</td>\n",
       "    </tr>\n",
       "    <tr>\n",
       "      <th>10</th>\n",
       "      <td>year_to_work</td>\n",
       "      <td>1.139609</td>\n",
       "    </tr>\n",
       "    <tr>\n",
       "      <th>11</th>\n",
       "      <td>year_to_start</td>\n",
       "      <td>0.565677</td>\n",
       "    </tr>\n",
       "    <tr>\n",
       "      <th>12</th>\n",
       "      <td>fuel_type</td>\n",
       "      <td>0.033008</td>\n",
       "    </tr>\n",
       "    <tr>\n",
       "      <th>13</th>\n",
       "      <td>deviation_normal_count</td>\n",
       "      <td>0.000000</td>\n",
       "    </tr>\n",
       "  </tbody>\n",
       "</table>\n",
       "</div>"
      ],
      "text/plain": [
       "                  Feature Id  Importances\n",
       "0                  speed_max    37.390452\n",
       "1                mean_rating    29.276467\n",
       "2                 rating_min    12.776674\n",
       "3                      model     4.817885\n",
       "4                   car_type     4.339341\n",
       "5                  user_uniq     3.650003\n",
       "6   user_ride_quality_median     1.742941\n",
       "7               distance_sum     1.609484\n",
       "8                     riders     1.373459\n",
       "9                 car_rating     1.284999\n",
       "10              year_to_work     1.139609\n",
       "11             year_to_start     0.565677\n",
       "12                 fuel_type     0.033008\n",
       "13    deviation_normal_count     0.000000"
      ]
     },
     "execution_count": 47,
     "metadata": {},
     "output_type": "execute_result"
    }
   ],
   "source": [
    "fi = clf.get_feature_importance(prettified=True)\n",
    "fi"
   ]
  },
  {
   "cell_type": "code",
   "execution_count": 45,
   "metadata": {
    "tags": []
   },
   "outputs": [
    {
     "name": "stdout",
     "output_type": "stream",
     "text": [
      "CSV file saved!\n"
     ]
    }
   ],
   "source": [
    "test['target_class'] = clf.predict(test[filtered_features])\n",
    "test[['car_id', 'target_class']].to_csv('../subs/simple_baseline_v2.csv', index=False)\n",
    "print('CSV file saved!')"
   ]
  },
  {
   "cell_type": "markdown",
   "metadata": {},
   "source": [
    "# Что дальше?\n",
    "\n",
    "- Нажимаем `Save Version`\n",
    "- Проверяем, что в `Advanced Settings` выбрано - всегда сохранять результаты ноутбука.\n",
    "- Тип сохранения `Save & Run All (Commit)`\n",
    "- Жмем окончательно кнопку `Save`"
   ]
  },
  {
   "cell_type": "code",
   "execution_count": null,
   "metadata": {},
   "outputs": [],
   "source": []
  }
 ],
 "metadata": {
  "finalized": {
   "timestamp": 1661552636568,
   "trusted": true
  },
  "kernelspec": {
   "display_name": "Python 3 (ipykernel)",
   "language": "python",
   "name": "python3"
  },
  "language_info": {
   "codemirror_mode": {
    "name": "ipython",
    "version": 3
   },
   "file_extension": ".py",
   "mimetype": "text/x-python",
   "name": "python",
   "nbconvert_exporter": "python",
   "pygments_lexer": "ipython3",
   "version": "3.9.15"
  },
  "toc": {
   "base_numbering": 1,
   "nav_menu": {},
   "number_sections": true,
   "sideBar": true,
   "skip_h1_title": false,
   "title_cell": "Table of Contents",
   "title_sidebar": "Contents",
   "toc_cell": false,
   "toc_position": {},
   "toc_section_display": true,
   "toc_window_display": false
  }
 },
 "nbformat": 4,
 "nbformat_minor": 4
}
