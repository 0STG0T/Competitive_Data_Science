{
 "cells": [
  {
   "cell_type": "code",
   "execution_count": null,
   "id": "76a10043-3bb9-4f74-8d15-49810ba5aba6",
   "metadata": {},
   "outputs": [],
   "source": []
  },
  {
   "cell_type": "markdown",
   "id": "98f05e46-06d5-4849-88cc-62e0a14908ca",
   "metadata": {},
   "source": [
    "# Валидация - а зачем?"
   ]
  },
  {
   "cell_type": "markdown",
   "id": "48e31c85-314e-4ace-ac27-c2041401c46d",
   "metadata": {},
   "source": [
    "<center> <img src = 'https://scikit-learn.org/stable/_images/grid_search_workflow.png' width=900> </center>\n",
    "\n",
    "* Sci-kit Learn https://scikit-learn.org/stable/modules/cross_validation.html"
   ]
  },
  {
   "cell_type": "markdown",
   "id": "2b03e223-5d77-4ad3-aa25-3ba944aa7033",
   "metadata": {},
   "source": [
    "# Какие есть техники валидации?"
   ]
  },
  {
   "cell_type": "markdown",
   "id": "ee4efabd-c1e0-4356-907f-ee648dec6ccc",
   "metadata": {},
   "source": [
    "* `KFold` - Кросс-итератор для K-фолдовой валидации\n",
    "* `StratifiedKFold` - он же, но еще и стратифицированный (сбалансированный)\n",
    "* `GroupKFold` - K-фрагментный вариант итератора с непересекающимися группами.\n",
    "* `RepeatedKFold` - K-фолдная валидация с повторениями"
   ]
  },
  {
   "cell_type": "markdown",
   "id": "f0207174-535e-4176-93c1-b8c90a9f91d6",
   "metadata": {},
   "source": [
    "* `StratifiedGroupKFold` - он же, но еще и стратифицированный (сбалансированный)\n",
    "* `RepeatedStratifiedKFold` - а тут стратифицированный, но еще дополнительно с повторениями\n",
    "* А где взять `RepeatedStratifiedGroupKFold`? :)"
   ]
  },
  {
   "cell_type": "markdown",
   "id": "18417a83-efdc-43a8-9122-1c442ea57053",
   "metadata": {},
   "source": [
    "## Еще несколько "
   ]
  },
  {
   "cell_type": "markdown",
   "id": "14dbdbbf-8704-412a-8be2-ef002ea561ab",
   "metadata": {},
   "source": [
    "* `Time Series Split`\n",
    "* `Leave One Out (LOO)`\n",
    "* `Leave One Group Out`"
   ]
  },
  {
   "cell_type": "markdown",
   "id": "e0147139-5e6f-4e3b-aa30-632e015f6246",
   "metadata": {},
   "source": [
    "* `Leave P Out (LPO)`\n",
    "* `Leave P Groups Out`"
   ]
  },
  {
   "cell_type": "code",
   "execution_count": null,
   "id": "d05a0eef-54b5-4528-acda-2b11b6daadd9",
   "metadata": {},
   "outputs": [],
   "source": []
  },
  {
   "cell_type": "markdown",
   "id": "b46f78a7-e91d-4b01-9844-140afa519f6d",
   "metadata": {},
   "source": [
    "# Когда какую брать?\n",
    "- Есть временная ось? -> `TimeSeriesSplit`\n",
    "- Не много данных и быстро учится? -> `LeaveOneOut` \n",
    "- Много данных, но быстро учится? -> `KFold`\n",
    "- Очень много данных и долго учится? -> старый добрый `train_test_split()`\n",
    "- Есть дисбаланс классов? -> Любой итератор с приставкой `Stratified`\n",
    "- Есть группы и нельзя допусть их одновременного присутствия в train и test? -> Любой итератор с приставкой `Group`"
   ]
  },
  {
   "cell_type": "markdown",
   "id": "ab0d004d-3d57-4da5-869b-f3615b6f01e3",
   "metadata": {},
   "source": [
    " "
   ]
  },
  {
   "cell_type": "markdown",
   "id": "f57a6390-964f-46f4-a2f9-ccbacf851184",
   "metadata": {},
   "source": [
    " "
   ]
  },
  {
   "cell_type": "markdown",
   "id": "70afb12d-e78f-455d-a32d-1f4527d095a8",
   "metadata": {},
   "source": [
    " "
   ]
  },
  {
   "cell_type": "code",
   "execution_count": 1,
   "id": "7f160d10-cfcb-4d05-8bc1-ade4505b8590",
   "metadata": {},
   "outputs": [],
   "source": [
    "!pip install --upgrade seaborn pandas numpy -q\n",
    "!pip install -U scikit-learn -q"
   ]
  },
  {
   "cell_type": "code",
   "execution_count": 2,
   "id": "f14afcbc-4e63-47e8-bd87-9fae19bf6cfe",
   "metadata": {
    "tags": []
   },
   "outputs": [],
   "source": [
    "import numpy as np\n",
    "import pandas as pd\n",
    "\n",
    "import matplotlib.pyplot as plt\n",
    "import seaborn as sns; sns.set_theme()\n",
    "from tqdm.notebook import tqdm"
   ]
  },
  {
   "cell_type": "code",
   "execution_count": 3,
   "id": "83361a5f-af1d-47a0-b069-8f2dc74edf75",
   "metadata": {},
   "outputs": [
    {
     "name": "stdout",
     "output_type": "stream",
     "text": [
      "car_info.csv   driver_info.csv\tsolution.csv\t  tmp_driver_info.csv\n",
      "car_test.csv   fix_info.csv\ttest_data.csv\t  tmp_rides_info.csv\n",
      "car_train.csv  rides_info.csv\ttmp_car_info.csv\n"
     ]
    }
   ],
   "source": [
    "!ls ../data/"
   ]
  },
  {
   "cell_type": "markdown",
   "id": "e75362d0-b01b-4b2e-89ea-f71ee19a94d8",
   "metadata": {},
   "source": [
    "# Данные по машинам"
   ]
  },
  {
   "cell_type": "code",
   "execution_count": 4,
   "id": "1e403d32-b775-4fbb-ab04-9aa49e8c84d1",
   "metadata": {},
   "outputs": [
    {
     "data": {
      "text/html": [
       "<div>\n",
       "<style scoped>\n",
       "    .dataframe tbody tr th:only-of-type {\n",
       "        vertical-align: middle;\n",
       "    }\n",
       "\n",
       "    .dataframe tbody tr th {\n",
       "        vertical-align: top;\n",
       "    }\n",
       "\n",
       "    .dataframe thead th {\n",
       "        text-align: right;\n",
       "    }\n",
       "</style>\n",
       "<table border=\"1\" class=\"dataframe\">\n",
       "  <thead>\n",
       "    <tr style=\"text-align: right;\">\n",
       "      <th></th>\n",
       "      <th>car_id</th>\n",
       "      <th>model</th>\n",
       "      <th>car_type</th>\n",
       "      <th>fuel_type</th>\n",
       "      <th>car_rating</th>\n",
       "      <th>year_to_start</th>\n",
       "      <th>riders</th>\n",
       "      <th>year_to_work</th>\n",
       "      <th>target_2</th>\n",
       "    </tr>\n",
       "  </thead>\n",
       "  <tbody>\n",
       "    <tr>\n",
       "      <th>2230</th>\n",
       "      <td>a-9975968Q</td>\n",
       "      <td>Skoda Rapid</td>\n",
       "      <td>economy</td>\n",
       "      <td>petrol</td>\n",
       "      <td>4.56</td>\n",
       "      <td>2014</td>\n",
       "      <td>700</td>\n",
       "      <td>2020</td>\n",
       "      <td>engine_check</td>\n",
       "    </tr>\n",
       "    <tr>\n",
       "      <th>1041</th>\n",
       "      <td>e-7981708c</td>\n",
       "      <td>VW Polo</td>\n",
       "      <td>economy</td>\n",
       "      <td>petrol</td>\n",
       "      <td>5.68</td>\n",
       "      <td>2015</td>\n",
       "      <td>23226</td>\n",
       "      <td>2016</td>\n",
       "      <td>break_bug</td>\n",
       "    </tr>\n",
       "    <tr>\n",
       "      <th>1724</th>\n",
       "      <td>S18526691D</td>\n",
       "      <td>Nissan Qashqai</td>\n",
       "      <td>standart</td>\n",
       "      <td>petrol</td>\n",
       "      <td>4.20</td>\n",
       "      <td>2011</td>\n",
       "      <td>48685</td>\n",
       "      <td>2019</td>\n",
       "      <td>another_bug</td>\n",
       "    </tr>\n",
       "    <tr>\n",
       "      <th>583</th>\n",
       "      <td>G-1367113F</td>\n",
       "      <td>Kia Rio X-line</td>\n",
       "      <td>economy</td>\n",
       "      <td>petrol</td>\n",
       "      <td>4.24</td>\n",
       "      <td>2015</td>\n",
       "      <td>11721</td>\n",
       "      <td>2019</td>\n",
       "      <td>wheel_shake</td>\n",
       "    </tr>\n",
       "    <tr>\n",
       "      <th>132</th>\n",
       "      <td>k22130724d</td>\n",
       "      <td>Nissan Qashqai</td>\n",
       "      <td>standart</td>\n",
       "      <td>petrol</td>\n",
       "      <td>4.72</td>\n",
       "      <td>2012</td>\n",
       "      <td>28988</td>\n",
       "      <td>2019</td>\n",
       "      <td>engine_overheat</td>\n",
       "    </tr>\n",
       "  </tbody>\n",
       "</table>\n",
       "</div>"
      ],
      "text/plain": [
       "          car_id           model  car_type fuel_type  car_rating  \\\n",
       "2230  a-9975968Q     Skoda Rapid   economy    petrol        4.56   \n",
       "1041  e-7981708c         VW Polo   economy    petrol        5.68   \n",
       "1724  S18526691D  Nissan Qashqai  standart    petrol        4.20   \n",
       "583   G-1367113F  Kia Rio X-line   economy    petrol        4.24   \n",
       "132   k22130724d  Nissan Qashqai  standart    petrol        4.72   \n",
       "\n",
       "      year_to_start  riders  year_to_work         target_2  \n",
       "2230           2014     700          2020     engine_check  \n",
       "1041           2015   23226          2016        break_bug  \n",
       "1724           2011   48685          2019      another_bug  \n",
       "583            2015   11721          2019      wheel_shake  \n",
       "132            2012   28988          2019  engine_overheat  "
      ]
     },
     "execution_count": 4,
     "metadata": {},
     "output_type": "execute_result"
    },
    {
     "data": {
      "image/png": "[encoded data removed]",
      "text/plain": [
       "<Figure size 2500x500 with 5 Axes>"
      ]
     },
     "metadata": {},
     "output_type": "display_data"
    }
   ],
   "source": [
    "train = pd.read_csv('../data/car_train.csv').drop(['target_1'], axis=1, errors='ignore')\n",
    "test = pd.read_csv('../data/car_test.csv').drop(['target_1', 'target_2'], axis=1, errors='ignore')\n",
    "\n",
    "train.hist(figsize=(25, 5), layout = (-1, 5))\n",
    "train.sample(5)"
   ]
  },
  {
   "cell_type": "code",
   "execution_count": 5,
   "id": "9d4d9f48-e4e4-44fd-a2d6-98506fc1abd8",
   "metadata": {},
   "outputs": [
    {
     "name": "stdout",
     "output_type": "stream",
     "text": [
      "<class 'pandas.core.frame.DataFrame'>\n",
      "RangeIndex: 2337 entries, 0 to 2336\n",
      "Data columns (total 9 columns):\n",
      " #   Column         Non-Null Count  Dtype  \n",
      "---  ------         --------------  -----  \n",
      " 0   car_id         2337 non-null   object \n",
      " 1   model          2337 non-null   object \n",
      " 2   car_type       2337 non-null   object \n",
      " 3   fuel_type      2337 non-null   object \n",
      " 4   car_rating     2337 non-null   float64\n",
      " 5   year_to_start  2337 non-null   int64  \n",
      " 6   riders         2337 non-null   int64  \n",
      " 7   year_to_work   2337 non-null   int64  \n",
      " 8   target_2       2337 non-null   object \n",
      "dtypes: float64(1), int64(3), object(5)\n",
      "memory usage: 164.4+ KB\n"
     ]
    }
   ],
   "source": [
    "train.info()"
   ]
  },
  {
   "cell_type": "code",
   "execution_count": null,
   "id": "4224ed3b-9210-4abd-9ac1-e6877783db61",
   "metadata": {},
   "outputs": [],
   "source": []
  },
  {
   "cell_type": "markdown",
   "id": "f4e18958-a7fe-441d-9d39-fbd17e67400b",
   "metadata": {},
   "source": [
    "# Базовый feature engineering - генерируем и преобразуем признаки "
   ]
  },
  {
   "cell_type": "code",
   "execution_count": 6,
   "id": "2e05bdd3-b213-4c31-b1c4-1a198790aa1b",
   "metadata": {},
   "outputs": [
    {
     "data": {
      "text/html": [
       "<div>\n",
       "<style scoped>\n",
       "    .dataframe tbody tr th:only-of-type {\n",
       "        vertical-align: middle;\n",
       "    }\n",
       "\n",
       "    .dataframe tbody tr th {\n",
       "        vertical-align: top;\n",
       "    }\n",
       "\n",
       "    .dataframe thead th {\n",
       "        text-align: right;\n",
       "    }\n",
       "</style>\n",
       "<table border=\"1\" class=\"dataframe\">\n",
       "  <thead>\n",
       "    <tr style=\"text-align: right;\">\n",
       "      <th></th>\n",
       "      <th>user_id</th>\n",
       "      <th>car_id</th>\n",
       "      <th>ride_id</th>\n",
       "      <th>ride_date</th>\n",
       "      <th>rating</th>\n",
       "      <th>ride_duration</th>\n",
       "      <th>ride_cost</th>\n",
       "      <th>speed_avg</th>\n",
       "      <th>speed_max</th>\n",
       "      <th>stop_times</th>\n",
       "      <th>distance</th>\n",
       "      <th>refueling</th>\n",
       "      <th>user_ride_quality</th>\n",
       "      <th>deviation_normal</th>\n",
       "    </tr>\n",
       "  </thead>\n",
       "  <tbody>\n",
       "    <tr>\n",
       "      <th>45830</th>\n",
       "      <td>O22349625h</td>\n",
       "      <td>C93651463z</td>\n",
       "      <td>K1d</td>\n",
       "      <td>2020-02-06</td>\n",
       "      <td>4.38</td>\n",
       "      <td>39</td>\n",
       "      <td>462</td>\n",
       "      <td>30</td>\n",
       "      <td>63.000000</td>\n",
       "      <td>2</td>\n",
       "      <td>1228.693383</td>\n",
       "      <td>0</td>\n",
       "      <td>-0.063697</td>\n",
       "      <td>-0.000</td>\n",
       "    </tr>\n",
       "    <tr>\n",
       "      <th>336102</th>\n",
       "      <td>A92613187m</td>\n",
       "      <td>X-4450516c</td>\n",
       "      <td>u1d</td>\n",
       "      <td>2020-02-27</td>\n",
       "      <td>3.24</td>\n",
       "      <td>160</td>\n",
       "      <td>1754</td>\n",
       "      <td>43</td>\n",
       "      <td>99.000000</td>\n",
       "      <td>12</td>\n",
       "      <td>2981.977460</td>\n",
       "      <td>0</td>\n",
       "      <td>-2.147851</td>\n",
       "      <td>-2.098</td>\n",
       "    </tr>\n",
       "    <tr>\n",
       "      <th>474689</th>\n",
       "      <td>V20924526z</td>\n",
       "      <td>g47240816d</td>\n",
       "      <td>u1R</td>\n",
       "      <td>2020-01-10</td>\n",
       "      <td>4.26</td>\n",
       "      <td>33</td>\n",
       "      <td>422</td>\n",
       "      <td>38</td>\n",
       "      <td>70.000000</td>\n",
       "      <td>1</td>\n",
       "      <td>852.129639</td>\n",
       "      <td>0</td>\n",
       "      <td>0.815877</td>\n",
       "      <td>0.000</td>\n",
       "    </tr>\n",
       "    <tr>\n",
       "      <th>735876</th>\n",
       "      <td>S18158773P</td>\n",
       "      <td>z20864667b</td>\n",
       "      <td>w1s</td>\n",
       "      <td>2020-01-17</td>\n",
       "      <td>2.88</td>\n",
       "      <td>296</td>\n",
       "      <td>2659</td>\n",
       "      <td>45</td>\n",
       "      <td>84.132560</td>\n",
       "      <td>8</td>\n",
       "      <td>2880.540077</td>\n",
       "      <td>0</td>\n",
       "      <td>-0.940785</td>\n",
       "      <td>11.893</td>\n",
       "    </tr>\n",
       "    <tr>\n",
       "      <th>244360</th>\n",
       "      <td>X51579957d</td>\n",
       "      <td>R-1017691X</td>\n",
       "      <td>l1T</td>\n",
       "      <td>2020-02-03</td>\n",
       "      <td>3.56</td>\n",
       "      <td>30</td>\n",
       "      <td>297</td>\n",
       "      <td>53</td>\n",
       "      <td>93.480872</td>\n",
       "      <td>1</td>\n",
       "      <td>1596.363084</td>\n",
       "      <td>0</td>\n",
       "      <td>8.328261</td>\n",
       "      <td>-7.841</td>\n",
       "    </tr>\n",
       "  </tbody>\n",
       "</table>\n",
       "</div>"
      ],
      "text/plain": [
       "           user_id      car_id ride_id   ride_date  rating  ride_duration  \\\n",
       "45830   O22349625h  C93651463z     K1d  2020-02-06    4.38             39   \n",
       "336102  A92613187m  X-4450516c     u1d  2020-02-27    3.24            160   \n",
       "474689  V20924526z  g47240816d     u1R  2020-01-10    4.26             33   \n",
       "735876  S18158773P  z20864667b     w1s  2020-01-17    2.88            296   \n",
       "244360  X51579957d  R-1017691X     l1T  2020-02-03    3.56             30   \n",
       "\n",
       "        ride_cost  speed_avg  speed_max  stop_times     distance  refueling  \\\n",
       "45830         462         30  63.000000           2  1228.693383          0   \n",
       "336102       1754         43  99.000000          12  2981.977460          0   \n",
       "474689        422         38  70.000000           1   852.129639          0   \n",
       "735876       2659         45  84.132560           8  2880.540077          0   \n",
       "244360        297         53  93.480872           1  1596.363084          0   \n",
       "\n",
       "        user_ride_quality  deviation_normal  \n",
       "45830           -0.063697            -0.000  \n",
       "336102          -2.147851            -2.098  \n",
       "474689           0.815877             0.000  \n",
       "735876          -0.940785            11.893  \n",
       "244360           8.328261            -7.841  "
      ]
     },
     "execution_count": 6,
     "metadata": {},
     "output_type": "execute_result"
    },
    {
     "data": {
      "image/png": "[encoded data removed]",
      "text/plain": [
       "<Figure size 2500x500 with 10 Axes>"
      ]
     },
     "metadata": {},
     "output_type": "display_data"
    }
   ],
   "source": [
    "path = '../data/rides_info.csv' \n",
    "rides = pd.read_csv(path) # Данные по поездкам\n",
    "rides.hist(figsize=(25, 5), layout = (-1, 5))\n",
    "rides.sample(5)"
   ]
  },
  {
   "cell_type": "code",
   "execution_count": 7,
   "id": "5c967047-9757-4abb-8115-e79e3dccabec",
   "metadata": {},
   "outputs": [
    {
     "data": {
      "text/html": [
       "<div>\n",
       "<style scoped>\n",
       "    .dataframe tbody tr th:only-of-type {\n",
       "        vertical-align: middle;\n",
       "    }\n",
       "\n",
       "    .dataframe tbody tr th {\n",
       "        vertical-align: top;\n",
       "    }\n",
       "\n",
       "    .dataframe thead th {\n",
       "        text-align: right;\n",
       "    }\n",
       "</style>\n",
       "<table border=\"1\" class=\"dataframe\">\n",
       "  <thead>\n",
       "    <tr style=\"text-align: right;\">\n",
       "      <th></th>\n",
       "      <th>car_id</th>\n",
       "      <th>mean_rating</th>\n",
       "      <th>distance_sum</th>\n",
       "      <th>rating_min</th>\n",
       "      <th>speed_max</th>\n",
       "      <th>user_ride_quality_median</th>\n",
       "      <th>deviation_normal_count</th>\n",
       "      <th>user_uniq</th>\n",
       "    </tr>\n",
       "  </thead>\n",
       "  <tbody>\n",
       "    <tr>\n",
       "      <th>0</th>\n",
       "      <td>A-1068587k</td>\n",
       "      <td>44.390805</td>\n",
       "      <td>4.974618e+07</td>\n",
       "      <td>0.1</td>\n",
       "      <td>123.298894</td>\n",
       "      <td>12.530145</td>\n",
       "      <td>174</td>\n",
       "      <td>173</td>\n",
       "    </tr>\n",
       "    <tr>\n",
       "      <th>1</th>\n",
       "      <td>A-1122233S</td>\n",
       "      <td>50.310345</td>\n",
       "      <td>6.662596e+07</td>\n",
       "      <td>0.1</td>\n",
       "      <td>176.515698</td>\n",
       "      <td>-2.452621</td>\n",
       "      <td>174</td>\n",
       "      <td>173</td>\n",
       "    </tr>\n",
       "  </tbody>\n",
       "</table>\n",
       "</div>"
      ],
      "text/plain": [
       "       car_id  mean_rating  distance_sum  rating_min   speed_max  \\\n",
       "0  A-1068587k    44.390805  4.974618e+07         0.1  123.298894   \n",
       "1  A-1122233S    50.310345  6.662596e+07         0.1  176.515698   \n",
       "\n",
       "   user_ride_quality_median  deviation_normal_count  user_uniq  \n",
       "0                 12.530145                     174        173  \n",
       "1                 -2.452621                     174        173  "
      ]
     },
     "execution_count": 7,
     "metadata": {},
     "output_type": "execute_result"
    }
   ],
   "source": [
    "f = lambda x: x.nunique()\n",
    "rides_df_gr = rides.groupby('car_id', as_index=False).agg(mean_rating = ('speed_avg', 'mean'),\n",
    "                                                   distance_sum = ('distance', 'sum'),\n",
    "                                                   rating_min = ('rating', 'min'),\n",
    "                                                   speed_max = ('speed_max', 'max'),\n",
    "                                                   user_ride_quality_median = ('user_ride_quality', 'median'), \n",
    "                                                   deviation_normal_count = ('deviation_normal', 'count'),\n",
    "                                                   user_uniq = ('user_id', f))\n",
    "\n",
    "\n",
    "rides_df_gr.head(2)"
   ]
  },
  {
   "cell_type": "code",
   "execution_count": 8,
   "id": "bb5fa78e-fa0e-4765-80bc-6e0414a64e43",
   "metadata": {},
   "outputs": [],
   "source": [
    "def add_featues(df):\n",
    "    \n",
    "    if 'mean_rating' not in df.columns:\n",
    "        return df.merge(rides_df_gr, on = 'car_id', how = 'left')\n",
    "    \n",
    "    return df\n",
    "    \n",
    "    \n",
    "train = add_featues(train)\n",
    "test = add_featues(test)"
   ]
  },
  {
   "cell_type": "code",
   "execution_count": 9,
   "id": "5d946a08-1407-4185-9f0a-db37ea6632b2",
   "metadata": {},
   "outputs": [
    {
     "data": {
      "text/html": [
       "<div>\n",
       "<style scoped>\n",
       "    .dataframe tbody tr th:only-of-type {\n",
       "        vertical-align: middle;\n",
       "    }\n",
       "\n",
       "    .dataframe tbody tr th {\n",
       "        vertical-align: top;\n",
       "    }\n",
       "\n",
       "    .dataframe thead th {\n",
       "        text-align: right;\n",
       "    }\n",
       "</style>\n",
       "<table border=\"1\" class=\"dataframe\">\n",
       "  <thead>\n",
       "    <tr style=\"text-align: right;\">\n",
       "      <th></th>\n",
       "      <th>car_id</th>\n",
       "      <th>car_rating</th>\n",
       "      <th>year_to_start</th>\n",
       "      <th>riders</th>\n",
       "      <th>year_to_work</th>\n",
       "      <th>target_2</th>\n",
       "      <th>mean_rating</th>\n",
       "      <th>distance_sum</th>\n",
       "      <th>rating_min</th>\n",
       "      <th>speed_max</th>\n",
       "      <th>...</th>\n",
       "      <th>Renault Sandero</th>\n",
       "      <th>Skoda Rapid</th>\n",
       "      <th>Smart Coupe</th>\n",
       "      <th>Smart ForFour</th>\n",
       "      <th>Smart ForTwo</th>\n",
       "      <th>Tesla Model 3</th>\n",
       "      <th>VW Polo</th>\n",
       "      <th>VW Polo VI</th>\n",
       "      <th>VW Tiguan</th>\n",
       "      <th>Volkswagen ID.4</th>\n",
       "    </tr>\n",
       "  </thead>\n",
       "  <tbody>\n",
       "    <tr>\n",
       "      <th>0</th>\n",
       "      <td>Z16209094a</td>\n",
       "      <td>4.90</td>\n",
       "      <td>2016</td>\n",
       "      <td>30228</td>\n",
       "      <td>2017</td>\n",
       "      <td>engine_overheat</td>\n",
       "      <td>50.528736</td>\n",
       "      <td>7.489477e+07</td>\n",
       "      <td>0.1</td>\n",
       "      <td>166.954422</td>\n",
       "      <td>...</td>\n",
       "      <td>0</td>\n",
       "      <td>0</td>\n",
       "      <td>1</td>\n",
       "      <td>0</td>\n",
       "      <td>0</td>\n",
       "      <td>0</td>\n",
       "      <td>0</td>\n",
       "      <td>0</td>\n",
       "      <td>0</td>\n",
       "      <td>0</td>\n",
       "    </tr>\n",
       "    <tr>\n",
       "      <th>1</th>\n",
       "      <td>J-1559355B</td>\n",
       "      <td>4.42</td>\n",
       "      <td>2015</td>\n",
       "      <td>14651</td>\n",
       "      <td>2017</td>\n",
       "      <td>electro_bug</td>\n",
       "      <td>52.896552</td>\n",
       "      <td>7.429280e+07</td>\n",
       "      <td>0.0</td>\n",
       "      <td>184.182299</td>\n",
       "      <td>...</td>\n",
       "      <td>0</td>\n",
       "      <td>0</td>\n",
       "      <td>0</td>\n",
       "      <td>0</td>\n",
       "      <td>0</td>\n",
       "      <td>0</td>\n",
       "      <td>0</td>\n",
       "      <td>0</td>\n",
       "      <td>0</td>\n",
       "      <td>0</td>\n",
       "    </tr>\n",
       "    <tr>\n",
       "      <th>2</th>\n",
       "      <td>i14360916r</td>\n",
       "      <td>3.62</td>\n",
       "      <td>2017</td>\n",
       "      <td>56425</td>\n",
       "      <td>2019</td>\n",
       "      <td>another_bug</td>\n",
       "      <td>44.873563</td>\n",
       "      <td>5.388401e+07</td>\n",
       "      <td>0.1</td>\n",
       "      <td>118.000000</td>\n",
       "      <td>...</td>\n",
       "      <td>0</td>\n",
       "      <td>1</td>\n",
       "      <td>0</td>\n",
       "      <td>0</td>\n",
       "      <td>0</td>\n",
       "      <td>0</td>\n",
       "      <td>0</td>\n",
       "      <td>0</td>\n",
       "      <td>0</td>\n",
       "      <td>0</td>\n",
       "    </tr>\n",
       "    <tr>\n",
       "      <th>3</th>\n",
       "      <td>c47847702x</td>\n",
       "      <td>3.92</td>\n",
       "      <td>2013</td>\n",
       "      <td>19276</td>\n",
       "      <td>2017</td>\n",
       "      <td>electro_bug</td>\n",
       "      <td>49.959770</td>\n",
       "      <td>9.120220e+07</td>\n",
       "      <td>0.0</td>\n",
       "      <td>189.148125</td>\n",
       "      <td>...</td>\n",
       "      <td>0</td>\n",
       "      <td>0</td>\n",
       "      <td>0</td>\n",
       "      <td>0</td>\n",
       "      <td>0</td>\n",
       "      <td>0</td>\n",
       "      <td>0</td>\n",
       "      <td>1</td>\n",
       "      <td>0</td>\n",
       "      <td>0</td>\n",
       "    </tr>\n",
       "  </tbody>\n",
       "</table>\n",
       "<p>4 rows × 45 columns</p>\n",
       "</div>"
      ],
      "text/plain": [
       "       car_id  car_rating  year_to_start  riders  year_to_work  \\\n",
       "0  Z16209094a        4.90           2016   30228          2017   \n",
       "1  J-1559355B        4.42           2015   14651          2017   \n",
       "2  i14360916r        3.62           2017   56425          2019   \n",
       "3  c47847702x        3.92           2013   19276          2017   \n",
       "\n",
       "          target_2  mean_rating  distance_sum  rating_min   speed_max  ...  \\\n",
       "0  engine_overheat    50.528736  7.489477e+07         0.1  166.954422  ...   \n",
       "1      electro_bug    52.896552  7.429280e+07         0.0  184.182299  ...   \n",
       "2      another_bug    44.873563  5.388401e+07         0.1  118.000000  ...   \n",
       "3      electro_bug    49.959770  9.120220e+07         0.0  189.148125  ...   \n",
       "\n",
       "   Renault Sandero  Skoda Rapid  Smart Coupe  Smart ForFour  Smart ForTwo  \\\n",
       "0                0            0            1              0             0   \n",
       "1                0            0            0              0             0   \n",
       "2                0            1            0              0             0   \n",
       "3                0            0            0              0             0   \n",
       "\n",
       "   Tesla Model 3  VW Polo  VW Polo VI  VW Tiguan  Volkswagen ID.4   \n",
       "0              0        0           0          0                 0  \n",
       "1              0        0           0          0                 0  \n",
       "2              0        0           0          0                 0  \n",
       "3              0        0           1          0                 0  \n",
       "\n",
       "[4 rows x 45 columns]"
      ]
     },
     "execution_count": 9,
     "metadata": {},
     "output_type": "execute_result"
    }
   ],
   "source": [
    "def make_one_hot(df, cols2one = ['car_type', 'fuel_type', 'model']):\n",
    "    if 'car_type' in df.columns:\n",
    "        for cat in cols2one:\n",
    "            one_hot = pd.get_dummies(df[cat]) # выбрасываем старый столбец\n",
    "            df = df.drop(cat, axis = 1)\n",
    "            df = df.join(one_hot) # присоединяем закодированный фрагмент\n",
    "\n",
    "    return df\n",
    "\n",
    "train = make_one_hot(train)\n",
    "test = make_one_hot(test)\n",
    "train.head(4)"
   ]
  },
  {
   "cell_type": "code",
   "execution_count": null,
   "id": "f5c7080d-6117-424b-adfc-6e92c6652117",
   "metadata": {},
   "outputs": [],
   "source": []
  },
  {
   "cell_type": "markdown",
   "id": "c735f736-c658-49f6-8c5d-2526dab60b55",
   "metadata": {},
   "source": [
    "# Классифицируем признаки"
   ]
  },
  {
   "cell_type": "code",
   "execution_count": 10,
   "id": "38c5447c-94ab-4006-9502-10ed8c68ae14",
   "metadata": {},
   "outputs": [
    {
     "name": "stdout",
     "output_type": "stream",
     "text": [
      "cat_features : 3 ['car_type', 'fuel_type', 'model']\n",
      "num_features : 43 ['car_rating', 'year_to_start', 'riders', 'year_to_work', 'mean_rating', 'distance_sum', 'rating_min', 'speed_max', 'user_ride_quality_median', 'deviation_normal_count', 'user_uniq', 'business', 'economy', 'premium', 'standart', 'electro', 'petrol', 'Audi A3', 'Audi A4', 'Audi Q3', 'BMW 320i', 'Fiat 500', 'Hyundai Solaris', 'Kia Rio', 'Kia Rio X', 'Kia Rio X-line', 'Kia Sportage', 'MINI CooperSE', 'Mercedes-Benz E200', 'Mercedes-Benz GLC', 'Mini Cooper', 'Nissan Qashqai', 'Renault Kaptur', 'Renault Sandero', 'Skoda Rapid', 'Smart Coupe', 'Smart ForFour', 'Smart ForTwo', 'Tesla Model 3', 'VW Polo', 'VW Polo VI', 'VW Tiguan', 'Volkswagen ID.4 ']\n",
      "targets ['target_2']\n"
     ]
    }
   ],
   "source": [
    "features2drop = ['car_id'] \n",
    "targets = ['target_2']  \n",
    "cat_features = ['car_type', 'fuel_type', 'model'] \n",
    "\n",
    "filtered_features = [i for i in train.columns if (i not in targets and i not in features2drop)] #+ cat_features \n",
    "num_features = [i for i in filtered_features if i not in cat_features]\n",
    "\n",
    "\n",
    "print('cat_features :', len(cat_features), cat_features)\n",
    "print('num_features :', len(num_features), num_features)\n",
    "print('targets', targets)"
   ]
  },
  {
   "cell_type": "markdown",
   "id": "c3b84c09-1dd5-4ec2-9d47-e895ae108c28",
   "metadata": {},
   "source": [
    "# Учим random forest с K-fold валидацией"
   ]
  },
  {
   "cell_type": "code",
   "execution_count": 47,
   "id": "a81dd722-ffdf-4578-91f3-058f59c3a589",
   "metadata": {},
   "outputs": [],
   "source": [
    "from sklearn.model_selection import KFold, StratifiedKFold, StratifiedGroupKFold\n",
    "from sklearn.ensemble import RandomForestClassifier"
   ]
  },
  {
   "cell_type": "code",
   "execution_count": 49,
   "id": "24bb9a2c-70b3-4254-ba7e-1af7ced226e7",
   "metadata": {},
   "outputs": [
    {
     "name": "stdout",
     "output_type": "stream",
     "text": [
      "num folds 5\n",
      "fold: 0 acc: 0.5042735042735043\n",
      "fold: 1 acc: 0.5149572649572649\n",
      "fold: 2 acc: 0.5396145610278372\n",
      "fold: 3 acc: 0.5781584582441114\n",
      "fold: 4 acc: 0.563169164882227\n",
      "mean accuracy score ---------> 0.54 0.0279\n"
     ]
    }
   ],
   "source": [
    "n_splits = 5 # # параметры валидации, обучение будет идти на n_splits (фолдах)\n",
    "print('num folds', n_splits)\n",
    "targets = ['target_2']\n",
    "\n",
    "\n",
    "X = train[filtered_features].drop(targets, axis=1, errors='ignore')\n",
    "y = train[targets]\n",
    "\n",
    "clfs = []\n",
    "scores = []\n",
    "\n",
    "kf = KFold(n_splits=n_splits, shuffle=True, random_state=7575)\n",
    "for num, (train_index, test_index) in enumerate(kf.split(X)):\n",
    "\n",
    "    X_train, X_test = X.iloc[train_index], X.iloc[test_index] \n",
    "    y_train, y_test = y.iloc[train_index], y.iloc[test_index]\n",
    "\n",
    "    # print(X_train.shape, y_train.shape)\n",
    "    clf = RandomForestClassifier(n_estimators = 2_000,\n",
    "                                 min_samples_leaf = 4,\n",
    "                                 n_jobs = -1, \n",
    "                                 max_features = 0.60,\n",
    "                                 # class_weight = 'balanced',\n",
    "                                 random_state = 7575,\n",
    "                                 max_depth = 6)\n",
    "    clfs.append(clf)\n",
    "    \n",
    "    clf.fit(X_train, y_train['target_2'])\n",
    "\n",
    "    y_pred = clf.predict(X_test)\n",
    "    score = np.mean(np.array(y_pred == y_test['target_2']))\n",
    "    scores.append(score)\n",
    "    print(f'fold: {num} acc: {score}')\n",
    "\n",
    "assert len(clfs) == n_splits\n",
    "print('mean accuracy score --------->', np.mean(scores, dtype = 'float16'), np.std(scores).round(4))"
   ]
  },
  {
   "cell_type": "code",
   "execution_count": null,
   "id": "7da1711b-5ea8-4457-b6a3-a9f4897a46a1",
   "metadata": {},
   "outputs": [],
   "source": [
    " "
   ]
  },
  {
   "cell_type": "code",
   "execution_count": 53,
   "id": "ce25cb89-8d14-4157-8fef-5aea2a64ffa0",
   "metadata": {},
   "outputs": [
    {
     "name": "stdout",
     "output_type": "stream",
     "text": [
      "fold: acc: 0.5405982905982906\n",
      "fold: acc: 0.5299145299145299\n",
      "fold: acc: 0.5546038543897216\n",
      "fold: acc: 0.5588865096359743\n",
      "fold: acc: 0.5524625267665952\n",
      "mean accuracy score ---------> 0.5474 0.0106\n"
     ]
    }
   ],
   "source": [
    "clfs = []\n",
    "scores = []\n",
    "kf = StratifiedKFold(n_splits=n_splits, shuffle=True, random_state=7575)\n",
    "\n",
    "for train_index, test_index in kf.split(X = X, y = y['target_2'].tolist()):\n",
    "\n",
    "    X_train, X_test = X.iloc[train_index], X.iloc[test_index] \n",
    "    y_train, y_test = y.iloc[train_index], y.iloc[test_index]\n",
    "\n",
    "    # print(X_train.shape, y_train.shape)\n",
    "    clf = RandomForestClassifier(n_estimators = 2_000,\n",
    "                                 min_samples_leaf = 4,\n",
    "                                 n_jobs = -1, \n",
    "                                 max_features = 0.60,\n",
    "                                 # class_weight = 'balanced',\n",
    "                                 random_state = 7575,\n",
    "                                 max_depth = 6)\n",
    "    clfs.append(clf)\n",
    "    \n",
    "    clf.fit(X_train, y_train['target_2'])\n",
    "\n",
    "    y_pred = clf.predict(X_test)\n",
    "    score = np.mean(np.array(y_pred == y_test['target_2']))\n",
    "    scores.append(score)\n",
    "    print(f'fold: acc: {score}')\n",
    "\n",
    "assert len(clfs) == n_splits\n",
    "print('mean accuracy score --------->', np.mean(scores, dtype = 'float16'), np.std(scores).round(4))"
   ]
  },
  {
   "cell_type": "code",
   "execution_count": 14,
   "id": "5af1bc9e-eb69-4240-a799-77933636bd60",
   "metadata": {},
   "outputs": [],
   "source": [
    "# test['target_2'] = "
   ]
  },
  {
   "cell_type": "markdown",
   "id": "69f444ee-b5b5-4241-83b1-937b5cbc8b14",
   "metadata": {},
   "source": [
    "# Делаем прогноз для теста (инференс)"
   ]
  },
  {
   "cell_type": "code",
   "execution_count": 26,
   "id": "d8187464-dfba-49e1-908e-fdce4f7d3773",
   "metadata": {},
   "outputs": [
    {
     "data": {
      "text/html": [
       "<div>\n",
       "<style scoped>\n",
       "    .dataframe tbody tr th:only-of-type {\n",
       "        vertical-align: middle;\n",
       "    }\n",
       "\n",
       "    .dataframe tbody tr th {\n",
       "        vertical-align: top;\n",
       "    }\n",
       "\n",
       "    .dataframe thead th {\n",
       "        text-align: right;\n",
       "    }\n",
       "</style>\n",
       "<table border=\"1\" class=\"dataframe\">\n",
       "  <thead>\n",
       "    <tr style=\"text-align: right;\">\n",
       "      <th></th>\n",
       "      <th>car_id</th>\n",
       "      <th>target_2</th>\n",
       "    </tr>\n",
       "  </thead>\n",
       "  <tbody>\n",
       "    <tr>\n",
       "      <th>0</th>\n",
       "      <td>I-1144396V</td>\n",
       "      <td>gear_stick</td>\n",
       "    </tr>\n",
       "    <tr>\n",
       "      <th>1</th>\n",
       "      <td>q13819346b</td>\n",
       "      <td>wheel_shake</td>\n",
       "    </tr>\n",
       "    <tr>\n",
       "      <th>2</th>\n",
       "      <td>O-1088987d</td>\n",
       "      <td>electro_bug</td>\n",
       "    </tr>\n",
       "    <tr>\n",
       "      <th>3</th>\n",
       "      <td>A-2091756g</td>\n",
       "      <td>wheel_shake</td>\n",
       "    </tr>\n",
       "    <tr>\n",
       "      <th>4</th>\n",
       "      <td>k15500468M</td>\n",
       "      <td>engine_ignition</td>\n",
       "    </tr>\n",
       "  </tbody>\n",
       "</table>\n",
       "</div>"
      ],
      "text/plain": [
       "       car_id         target_2\n",
       "0  I-1144396V       gear_stick\n",
       "1  q13819346b      wheel_shake\n",
       "2  O-1088987d      electro_bug\n",
       "3  A-2091756g      wheel_shake\n",
       "4  k15500468M  engine_ignition"
      ]
     },
     "execution_count": 26,
     "metadata": {},
     "output_type": "execute_result"
    }
   ],
   "source": [
    "path = 'https://stepik.org/media/attachments/lesson/779913/sample_submission.csv'\n",
    "sub = pd.read_csv(path)\n",
    "\n",
    "# массив для записи финального прогноза size*n_class\n",
    "y_pred = np.zeros((sub.shape[0], train[targets].nunique()[0]))  # массив для финального прогноза size*n_class\n",
    "scores = []\n",
    "for n, clf in enumerate(clfs):\n",
    "    y_pred += clf.predict_proba(test[filtered_features])#[:,1]\n",
    "    \n",
    "f = lambda x: clf.classes_[x]\n",
    "sub['target_2'] = list(map(f, y_pred.argmax(axis=1))) # size*n_class -> size\n",
    "sub[['car_id', 'target_2']].to_csv('../subs/rforest_kfold.csv', index=False)\n",
    "sub[['car_id', 'target_2']].head()"
   ]
  },
  {
   "cell_type": "code",
   "execution_count": 32,
   "id": "4e5cbdaf-a1ea-4078-80fb-3b2a8f6cbe7a",
   "metadata": {},
   "outputs": [
    {
     "name": "stdout",
     "output_type": "stream",
     "text": [
      "car_info.csv\t    demo_driver_info.csv  fix_info.csv\t  tmp_car_info.csv\n",
      "car_test.csv\t    demo_fix_info.csv\t  rides_info.csv  tmp_driver_info.csv\n",
      "car_train.csv\t    demo_rides_info.csv   solution.csv\t  tmp_rides_info.csv\n",
      "demo_car_train.csv  driver_info.csv\t  test_data.csv\n"
     ]
    }
   ],
   "source": [
    " "
   ]
  },
  {
   "cell_type": "code",
   "execution_count": 31,
   "id": "28a1f532-b660-47f8-878f-8c2da8132a6b",
   "metadata": {},
   "outputs": [],
   "source": [
    "# pd.read_csv('../data/car_train.csv').sample(1000).to_csv('../data/demo_car_train.csv', index=False)\n",
    "# pd.read_csv('../data/driver_info.csv').sample(1000).to_csv('../data/demo_driver_info.csv', index=False)\n",
    "# pd.read_csv('../data/fix_info.csv').sample(1000).to_csv('../data/demo_fix_info.csv', index=False)\n",
    "# pd.read_csv('../data/rides_info.csv').sample(50_000).to_csv('../data/demo_rides_info.csv', index=False)"
   ]
  },
  {
   "cell_type": "markdown",
   "id": "d0750897-699f-4c9c-8cb5-c658a817df27",
   "metadata": {},
   "source": [
    "# Feature Importance"
   ]
  },
  {
   "cell_type": "code",
   "execution_count": 16,
   "id": "fda8f48b-fd27-46b0-9f84-2987f840b6cb",
   "metadata": {},
   "outputs": [
    {
     "name": "stdout",
     "output_type": "stream",
     "text": [
      "Всего признаков 43 Усреднее по 5-ти моделям: \n",
      "На график нанесено топ-43 признаков\n"
     ]
    },
    {
     "data": {
      "image/png": "[encoded data removed]",
      "text/plain": [
       "<Figure size 1000x860 with 1 Axes>"
      ]
     },
     "metadata": {},
     "output_type": "display_data"
    }
   ],
   "source": [
    "def plot_importance(df, best_model, height, top_n=50):\n",
    "    \n",
    "    top_n = min(top_n, df.shape[1])\n",
    "    \n",
    "    fi = pd.DataFrame(index = df.columns, columns = [])\n",
    "    for i, m in enumerate(best_model):\n",
    "        fi[f'm_{i}'] = m.feature_importances_\n",
    "\n",
    "    fi = fi.stack().reset_index().iloc[:,[0, 2]]#.to_frame()\n",
    "    fi.columns = ['feature','importance']\n",
    "\n",
    "    cols_ord = list(fi.groupby('feature')['importance'].mean().sort_values(ascending=False).index)\n",
    "    print('Всего признаков {} Усреднее по {}-ти моделям: '.format(len(cols_ord), len(best_model)) )\n",
    "    cols_ord = cols_ord[:top_n]\n",
    "    \n",
    "    fi = fi[fi['feature'].isin(cols_ord)]\n",
    "    \n",
    "    plt.figure(figsize=(10, len(cols_ord)*height))\n",
    "    b = sns.boxplot(data=fi, y='feature', x='importance', orient='h', order=cols_ord)\n",
    "    \n",
    "    print('На график нанесено топ-{} признаков'.format(top_n))\n",
    "    return fi.groupby(by =['feature'], as_index=False)['importance'].mean().sort_values(by='importance', ascending=False)\n",
    "\n",
    "df_feats_imp = plot_importance(train[filtered_features].drop(targets, axis=1, errors='ignore'), clfs, 0.20, top_n=100)\n"
   ]
  },
  {
   "cell_type": "markdown",
   "id": "2e0013fa-19da-4fba-b0ed-3aadf1e0125d",
   "metadata": {},
   "source": [
    "# Данные по поездкам"
   ]
  },
  {
   "cell_type": "code",
   "execution_count": 17,
   "id": "cbddd90d-4ea6-4b7f-963e-98dbf2b3b1e9",
   "metadata": {},
   "outputs": [
    {
     "data": {
      "text/html": [
       "<div>\n",
       "<style scoped>\n",
       "    .dataframe tbody tr th:only-of-type {\n",
       "        vertical-align: middle;\n",
       "    }\n",
       "\n",
       "    .dataframe tbody tr th {\n",
       "        vertical-align: top;\n",
       "    }\n",
       "\n",
       "    .dataframe thead th {\n",
       "        text-align: right;\n",
       "    }\n",
       "</style>\n",
       "<table border=\"1\" class=\"dataframe\">\n",
       "  <thead>\n",
       "    <tr style=\"text-align: right;\">\n",
       "      <th></th>\n",
       "      <th>user_id</th>\n",
       "      <th>car_id</th>\n",
       "      <th>ride_id</th>\n",
       "      <th>ride_date</th>\n",
       "      <th>rating</th>\n",
       "      <th>ride_duration</th>\n",
       "      <th>ride_cost</th>\n",
       "      <th>speed_avg</th>\n",
       "      <th>speed_max</th>\n",
       "      <th>stop_times</th>\n",
       "      <th>distance</th>\n",
       "      <th>refueling</th>\n",
       "      <th>user_ride_quality</th>\n",
       "      <th>deviation_normal</th>\n",
       "    </tr>\n",
       "  </thead>\n",
       "  <tbody>\n",
       "    <tr>\n",
       "      <th>0</th>\n",
       "      <td>I13186944D</td>\n",
       "      <td>A-1068587k</td>\n",
       "      <td>o1A</td>\n",
       "      <td>2020-01-01</td>\n",
       "      <td>3.51</td>\n",
       "      <td>80238</td>\n",
       "      <td>1043089</td>\n",
       "      <td>38</td>\n",
       "      <td>52.000000</td>\n",
       "      <td>3</td>\n",
       "      <td>3.128016e+06</td>\n",
       "      <td>0</td>\n",
       "      <td>-0.302421</td>\n",
       "      <td>-0.0</td>\n",
       "    </tr>\n",
       "    <tr>\n",
       "      <th>1</th>\n",
       "      <td>R97784496t</td>\n",
       "      <td>A-1068587k</td>\n",
       "      <td>F1X</td>\n",
       "      <td>2020-01-01</td>\n",
       "      <td>5.72</td>\n",
       "      <td>105756</td>\n",
       "      <td>1480577</td>\n",
       "      <td>45</td>\n",
       "      <td>64.000000</td>\n",
       "      <td>0</td>\n",
       "      <td>4.864626e+06</td>\n",
       "      <td>0</td>\n",
       "      <td>-0.499172</td>\n",
       "      <td>-0.0</td>\n",
       "    </tr>\n",
       "    <tr>\n",
       "      <th>2</th>\n",
       "      <td>I13694599a</td>\n",
       "      <td>A-1068587k</td>\n",
       "      <td>f1j</td>\n",
       "      <td>2020-01-02</td>\n",
       "      <td>5.57</td>\n",
       "      <td>5</td>\n",
       "      <td>60</td>\n",
       "      <td>73</td>\n",
       "      <td>93.602158</td>\n",
       "      <td>0</td>\n",
       "      <td>4.176389e+02</td>\n",
       "      <td>0</td>\n",
       "      <td>-1.548536</td>\n",
       "      <td>-5.0</td>\n",
       "    </tr>\n",
       "    <tr>\n",
       "      <th>3</th>\n",
       "      <td>T93834217S</td>\n",
       "      <td>A-1068587k</td>\n",
       "      <td>Q1u</td>\n",
       "      <td>2020-01-02</td>\n",
       "      <td>4.52</td>\n",
       "      <td>46</td>\n",
       "      <td>640</td>\n",
       "      <td>45</td>\n",
       "      <td>62.000000</td>\n",
       "      <td>0</td>\n",
       "      <td>2.122785e+03</td>\n",
       "      <td>0</td>\n",
       "      <td>-1.010666</td>\n",
       "      <td>-0.0</td>\n",
       "    </tr>\n",
       "    <tr>\n",
       "      <th>4</th>\n",
       "      <td>J40497939H</td>\n",
       "      <td>A-1068587k</td>\n",
       "      <td>C1X</td>\n",
       "      <td>2020-01-03</td>\n",
       "      <td>7.12</td>\n",
       "      <td>39</td>\n",
       "      <td>306</td>\n",
       "      <td>39</td>\n",
       "      <td>58.000000</td>\n",
       "      <td>1</td>\n",
       "      <td>1.261300e+03</td>\n",
       "      <td>0</td>\n",
       "      <td>-0.940802</td>\n",
       "      <td>-0.0</td>\n",
       "    </tr>\n",
       "  </tbody>\n",
       "</table>\n",
       "</div>"
      ],
      "text/plain": [
       "      user_id      car_id ride_id   ride_date  rating  ride_duration  \\\n",
       "0  I13186944D  A-1068587k     o1A  2020-01-01    3.51          80238   \n",
       "1  R97784496t  A-1068587k     F1X  2020-01-01    5.72         105756   \n",
       "2  I13694599a  A-1068587k     f1j  2020-01-02    5.57              5   \n",
       "3  T93834217S  A-1068587k     Q1u  2020-01-02    4.52             46   \n",
       "4  J40497939H  A-1068587k     C1X  2020-01-03    7.12             39   \n",
       "\n",
       "   ride_cost  speed_avg  speed_max  stop_times      distance  refueling  \\\n",
       "0    1043089         38  52.000000           3  3.128016e+06          0   \n",
       "1    1480577         45  64.000000           0  4.864626e+06          0   \n",
       "2         60         73  93.602158           0  4.176389e+02          0   \n",
       "3        640         45  62.000000           0  2.122785e+03          0   \n",
       "4        306         39  58.000000           1  1.261300e+03          0   \n",
       "\n",
       "   user_ride_quality  deviation_normal  \n",
       "0          -0.302421              -0.0  \n",
       "1          -0.499172              -0.0  \n",
       "2          -1.548536              -5.0  \n",
       "3          -1.010666              -0.0  \n",
       "4          -0.940802              -0.0  "
      ]
     },
     "execution_count": 17,
     "metadata": {},
     "output_type": "execute_result"
    }
   ],
   "source": [
    "rides_info = pd.read_csv('../data/rides_info.csv')\n",
    "rides_info.head()"
   ]
  },
  {
   "cell_type": "code",
   "execution_count": null,
   "id": "e9618c19-9191-464b-b4b6-8230a556fe41",
   "metadata": {},
   "outputs": [],
   "source": []
  },
  {
   "cell_type": "code",
   "execution_count": null,
   "id": "73dd4e6c-160b-490e-81bc-131be3d09e17",
   "metadata": {},
   "outputs": [],
   "source": []
  },
  {
   "cell_type": "code",
   "execution_count": null,
   "id": "6c8cc52f-5d5b-41bf-bce8-bf0bd743da97",
   "metadata": {},
   "outputs": [],
   "source": []
  },
  {
   "cell_type": "code",
   "execution_count": null,
   "id": "cbea67eb-dbfd-422b-b5fe-791700cb6973",
   "metadata": {},
   "outputs": [],
   "source": []
  },
  {
   "cell_type": "code",
   "execution_count": null,
   "id": "38977037-7e26-4ef7-a934-c36866e1bb4a",
   "metadata": {},
   "outputs": [],
   "source": []
  },
  {
   "cell_type": "code",
   "execution_count": null,
   "id": "de0db999-92dc-42b7-b64c-f3055624efc9",
   "metadata": {},
   "outputs": [],
   "source": []
  },
  {
   "cell_type": "code",
   "execution_count": null,
   "id": "c8e1de66-1f79-44f2-bfd3-10e19c6dfb2c",
   "metadata": {},
   "outputs": [],
   "source": []
  },
  {
   "cell_type": "code",
   "execution_count": null,
   "id": "a27bf52d-bad5-433c-91df-b6504ae970be",
   "metadata": {},
   "outputs": [],
   "source": []
  },
  {
   "cell_type": "code",
   "execution_count": null,
   "id": "7f6f8570-c019-4412-9c2d-0c3bdef3f365",
   "metadata": {},
   "outputs": [],
   "source": []
  },
  {
   "cell_type": "markdown",
   "id": "e3327a41-5ddb-4be7-9733-e098d66ad288",
   "metadata": {},
   "source": [
    "# Данные по ремонту и обслуживанию машин"
   ]
  },
  {
   "cell_type": "code",
   "execution_count": 18,
   "id": "f31888e2-1f57-416c-a010-5a74170f4772",
   "metadata": {},
   "outputs": [
    {
     "data": {
      "text/html": [
       "<div>\n",
       "<style scoped>\n",
       "    .dataframe tbody tr th:only-of-type {\n",
       "        vertical-align: middle;\n",
       "    }\n",
       "\n",
       "    .dataframe tbody tr th {\n",
       "        vertical-align: top;\n",
       "    }\n",
       "\n",
       "    .dataframe thead th {\n",
       "        text-align: right;\n",
       "    }\n",
       "</style>\n",
       "<table border=\"1\" class=\"dataframe\">\n",
       "  <thead>\n",
       "    <tr style=\"text-align: right;\">\n",
       "      <th></th>\n",
       "      <th>car_id</th>\n",
       "      <th>worker_id</th>\n",
       "      <th>fix_date</th>\n",
       "      <th>work_type</th>\n",
       "      <th>destroy_degree</th>\n",
       "      <th>work_duration</th>\n",
       "    </tr>\n",
       "  </thead>\n",
       "  <tbody>\n",
       "    <tr>\n",
       "      <th>0</th>\n",
       "      <td>Z16209094a</td>\n",
       "      <td>PJ</td>\n",
       "      <td>2020-6-20 2:14</td>\n",
       "      <td>reparking</td>\n",
       "      <td>1.0</td>\n",
       "      <td>21</td>\n",
       "    </tr>\n",
       "    <tr>\n",
       "      <th>1</th>\n",
       "      <td>J-1559355B</td>\n",
       "      <td>ZJ</td>\n",
       "      <td>2020-2-9 20:25</td>\n",
       "      <td>repair</td>\n",
       "      <td>10.0</td>\n",
       "      <td>48</td>\n",
       "    </tr>\n",
       "    <tr>\n",
       "      <th>2</th>\n",
       "      <td>I-1144396V</td>\n",
       "      <td>KL</td>\n",
       "      <td>2019-8-24 7:1</td>\n",
       "      <td>reparking</td>\n",
       "      <td>1.0</td>\n",
       "      <td>27</td>\n",
       "    </tr>\n",
       "    <tr>\n",
       "      <th>3</th>\n",
       "      <td>i14360916r</td>\n",
       "      <td>CP</td>\n",
       "      <td>2019-8-10 9:29</td>\n",
       "      <td>reparking</td>\n",
       "      <td>1.0</td>\n",
       "      <td>28</td>\n",
       "    </tr>\n",
       "    <tr>\n",
       "      <th>4</th>\n",
       "      <td>q13819346b</td>\n",
       "      <td>VZ</td>\n",
       "      <td>2020-11-12 5:22</td>\n",
       "      <td>refuel_check</td>\n",
       "      <td>1.0</td>\n",
       "      <td>22</td>\n",
       "    </tr>\n",
       "  </tbody>\n",
       "</table>\n",
       "</div>"
      ],
      "text/plain": [
       "       car_id worker_id         fix_date     work_type  destroy_degree  \\\n",
       "0  Z16209094a        PJ   2020-6-20 2:14     reparking             1.0   \n",
       "1  J-1559355B        ZJ   2020-2-9 20:25        repair            10.0   \n",
       "2  I-1144396V        KL    2019-8-24 7:1     reparking             1.0   \n",
       "3  i14360916r        CP   2019-8-10 9:29     reparking             1.0   \n",
       "4  q13819346b        VZ  2020-11-12 5:22  refuel_check             1.0   \n",
       "\n",
       "   work_duration  \n",
       "0             21  \n",
       "1             48  \n",
       "2             27  \n",
       "3             28  \n",
       "4             22  "
      ]
     },
     "execution_count": 18,
     "metadata": {},
     "output_type": "execute_result"
    }
   ],
   "source": [
    "fix_info = pd.read_csv('../data/fix_info.csv')\n",
    "fix_info.head()"
   ]
  },
  {
   "cell_type": "markdown",
   "id": "10a19ae1-85cb-4b75-bdcd-1cbaa4c78ac6",
   "metadata": {},
   "source": [
    "# Данные по водителям "
   ]
  },
  {
   "cell_type": "code",
   "execution_count": 19,
   "id": "0d479a6b-fd6f-4047-9683-3ac62adab69e",
   "metadata": {},
   "outputs": [
    {
     "data": {
      "text/html": [
       "<div>\n",
       "<style scoped>\n",
       "    .dataframe tbody tr th:only-of-type {\n",
       "        vertical-align: middle;\n",
       "    }\n",
       "\n",
       "    .dataframe tbody tr th {\n",
       "        vertical-align: top;\n",
       "    }\n",
       "\n",
       "    .dataframe thead th {\n",
       "        text-align: right;\n",
       "    }\n",
       "</style>\n",
       "<table border=\"1\" class=\"dataframe\">\n",
       "  <thead>\n",
       "    <tr style=\"text-align: right;\">\n",
       "      <th></th>\n",
       "      <th>age</th>\n",
       "      <th>user_rating</th>\n",
       "      <th>user_rides</th>\n",
       "      <th>user_time_accident</th>\n",
       "      <th>user_id</th>\n",
       "      <th>sex</th>\n",
       "      <th>first_ride_date</th>\n",
       "    </tr>\n",
       "  </thead>\n",
       "  <tbody>\n",
       "    <tr>\n",
       "      <th>0</th>\n",
       "      <td>27</td>\n",
       "      <td>9.0</td>\n",
       "      <td>865</td>\n",
       "      <td>18.0</td>\n",
       "      <td>m17437965Y</td>\n",
       "      <td>1</td>\n",
       "      <td>2019-4-2</td>\n",
       "    </tr>\n",
       "    <tr>\n",
       "      <th>1</th>\n",
       "      <td>46</td>\n",
       "      <td>7.9</td>\n",
       "      <td>2116</td>\n",
       "      <td>10.0</td>\n",
       "      <td>k12362316g</td>\n",
       "      <td>0</td>\n",
       "      <td>2021-11-19</td>\n",
       "    </tr>\n",
       "    <tr>\n",
       "      <th>2</th>\n",
       "      <td>59</td>\n",
       "      <td>8.1</td>\n",
       "      <td>947</td>\n",
       "      <td>5.0</td>\n",
       "      <td>P11098715I</td>\n",
       "      <td>0</td>\n",
       "      <td>2021-1-15</td>\n",
       "    </tr>\n",
       "    <tr>\n",
       "      <th>3</th>\n",
       "      <td>37</td>\n",
       "      <td>6.9</td>\n",
       "      <td>18</td>\n",
       "      <td>52.0</td>\n",
       "      <td>F12618125f</td>\n",
       "      <td>0</td>\n",
       "      <td>2019-11-20</td>\n",
       "    </tr>\n",
       "    <tr>\n",
       "      <th>4</th>\n",
       "      <td>39</td>\n",
       "      <td>8.3</td>\n",
       "      <td>428</td>\n",
       "      <td>7.0</td>\n",
       "      <td>F14375829N</td>\n",
       "      <td>0</td>\n",
       "      <td>2019-7-23</td>\n",
       "    </tr>\n",
       "  </tbody>\n",
       "</table>\n",
       "</div>"
      ],
      "text/plain": [
       "   age  user_rating  user_rides  user_time_accident     user_id  sex  \\\n",
       "0   27          9.0         865                18.0  m17437965Y    1   \n",
       "1   46          7.9        2116                10.0  k12362316g    0   \n",
       "2   59          8.1         947                 5.0  P11098715I    0   \n",
       "3   37          6.9          18                52.0  F12618125f    0   \n",
       "4   39          8.3         428                 7.0  F14375829N    0   \n",
       "\n",
       "  first_ride_date  \n",
       "0        2019-4-2  \n",
       "1      2021-11-19  \n",
       "2       2021-1-15  \n",
       "3      2019-11-20  \n",
       "4       2019-7-23  "
      ]
     },
     "execution_count": 19,
     "metadata": {},
     "output_type": "execute_result"
    }
   ],
   "source": [
    "driver_info = pd.read_csv('../data/driver_info.csv')\n",
    "driver_info.head()"
   ]
  },
  {
   "cell_type": "code",
   "execution_count": null,
   "id": "fd9708ec-cf19-4f5d-83e9-ebe1f6d0220a",
   "metadata": {},
   "outputs": [],
   "source": []
  }
 ],
 "metadata": {
  "kernelspec": {
   "display_name": "Python 3 (ipykernel)",
   "language": "python",
   "name": "python3"
  },
  "language_info": {
   "codemirror_mode": {
    "name": "ipython",
    "version": 3
   },
   "file_extension": ".py",
   "mimetype": "text/x-python",
   "name": "python",
   "nbconvert_exporter": "python",
   "pygments_lexer": "ipython3",
   "version": "3.9.15"
  }
 },
 "nbformat": 4,
 "nbformat_minor": 5
}
