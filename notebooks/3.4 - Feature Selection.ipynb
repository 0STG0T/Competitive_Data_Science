{
 "cells": [
  {
   "cell_type": "markdown",
   "id": "f19739c7-0177-42ca-ab8e-4bd8bad47201",
   "metadata": {},
   "source": [
    "# <center>3.4 - Feature Selection</center>\n",
    "\n",
    "### Зачем вообще заниматься отбором признаков?\n",
    "Как можно увидеть в уроках про Feature engeneering и автоматическую генерацию признаков - мы можем достаточно быстро нагенерировать большое количество фичей, особенно, в автоматическом режиме. Зачем же тогда часть из них выкидывать? <br> \n",
    "Основных причин две:\n",
    "* Первая, лежащая на поверхности, - если фичей очень много, то данные могут перестать помещаться в память; может существенно увеличиться время обучения модели, тем более если мы захотим протестировать несколько разных алгоритмов или ансамбль. Особенно, в условиях ограничения платформ на длительность одной сессии (в Kaggle 12 часов).\n",
    "* Но главная причина состоит в том, что с увеличением количества признаков часто падает точность предсказания модели. Особенно, если в данных большое количество мусорных фичей (почти не коррелирующих с таргетом). Некоторые алгоритмы при сильном увеличении числа признаков, вообще, перестают адекватно работать. И здравствуй, старый добрый оверфит!"
   ]
  },
  {
   "cell_type": "markdown",
   "id": "e3435208-9ff8-4674-8cff-ec5c80038887",
   "metadata": {},
   "source": [
    "## Методы фильтрации признаков.\n",
    "Методы отбора признаков (filter methods) делятся на 3 группы:\n",
    "* Filter methods\n",
    "* Wrapper methods\n",
    "* Embedded methods\n",
    "\n",
    "**Filter methods (методы фильтрации)**<br>\n",
    "Эти методы основаны на статистических методах и, как правило, рассматривают каждый признак независимо. Позволяют оценить и ранжировать фичи по значимости, за которую принимается степень корреляции этой фичи с целевой переменной. Основное приемущество этой группы методов низкая цена вычислений, которая линейно зависит от общего количества признаков.  Они значительно быстрее и wrapper и embedded методов. К тому же, они хорошо работают даже тогда, когда число признаков превышает количество примеров в обучающей выборке (чем далеко не всегда могут похвастаться методы других категорий). <br>\n",
    "Основной недостаток этих методов состоит в том, что они рассматривают каждый признак изолированно от других, поэтому они не такие точные, но могут быстро отранжировать признаки. Правда найденный топ фичей далеко не всегда будет подмножеством, на котором модель покажет наилучшую точность. Например, если взять feature importance, обучив модель бустинга 1 раз, при наличии большого числа сильноскоррелированных признаков они поделят importance между собой (т.к. дерево выберет не одну из них, а все, а частота выбора маленькая) и упадут вниз в топе по важности. Далее если мы возьмем топ-N, то мы их обрежем а в топе останется мусор. Правда прогресс не стоит на месте и появляются filter методы, которые пытаются решить эту проблему разными способами - на основе взаимной информации признаков, или учитывая избыточность признаков (метод mRmR  - минимальная избыточность при максимальной релевантности).<br>\n",
    "Некоторые из таких методов реализованы в разделе `sklearn.feature_selection` библиотеки scikit-learn - например, `SelectKBest`, `chi2` и пр. Так же feature importance в библиотеках градиентых бустингов, можно сказать, основаны на этой методике, но в той же мере их можно отнести и к встроенным методам - дискуссионный вопрос.<br>\n",
    "<br>\n",
    "**Embedded methods (встроенные методы)**<br>\n",
    "Куда же они встроены? А прямо в процесс обучения модели. Эти модели позволяют не разделять процессы тренировки и отбора признаков, т.е. во время обучения модели проводить отсев и на выходе получить модель, которая знает на какие признаки обращать больше внимания, а какие мусор. Эти методы требуют меньше вычислений, чем wrapper методы, но больше, чем методы фильтрации. Как вы уже, наверное, догадались, основными методами из этой группы являются наши \"старые знакомые\" - регуляризации (например, LASSO- и Ridge- регрессии), свои регуляризации есть так же в бустингах и нейросетях.<br>\n",
    "Минусы у регуляризаций тоже есть: хотя бы раз придется обучить модель на всех признаках и посмотреть коэффициенты, что не всегда удобно и осуществимо. Так же обученная на всех признаках модель медленнее будет работать при инференсе. Но в общем случае этот метод способен лучше уловить взаимозависимости переменных, чем методы фильтрации.<br>\n",
    "<br>\n",
    "**Wrapper methods (оборачивающие методы, методы-обертки?? не понятно как лучше перевести - пишите свои варианты в комментарии)**<br>\n",
    "Что же они заворачивают\\оборачивают? А оборачивают они обучение модели в последовательное удаление (backward feature selection) или добавление (forward fs) признаков. Сразу скажем, что в соревновательном DS вам чаще всего придется пользоваться одним из методов этой группы. Backward feature selection лучше отслеживает взаимосвязи между фичами, но он гораздо дороже вычислительно.<br>\n",
    "Основной недостаток всех wrapper методов это долгое время вычислений. К тому же, в случае большого количества признаков и небольшого размера тренировочного датасета эти методы имеют опасность переобучения.<br>\n",
    "Примеры таких методов: RFE (recursive feature elimination) из библиотеки scikit-learn, Boruta из пакета BorutaPy (для алгоритма RandomForest) и др.<br>\n",
    "\n",
    "Порой бывает трудно однозначно определить к какой группе относится тот или иной метод или это вообще гибрид, который сочетает в себе несколько методов. Например, при использовании библиотеки градиентного бустинга CatBoost можно потрогать методы всех 3-х типов или их сочетания: если взять просто feature importance c дефолтными параметрами и отключенной регуляризацией, то получим filter метод; если добавим в модель параметры, отвечающие за регуляризацию, то получим своеобразный гибрид - вроде filter метод, но вместе с тем с регуляризацией (embedded метод); если применим встроенную в CatBoost функцию `feature_selection()`, то будет работать wrapper-метод с backward fs.<br>\n",
    "<br>\n",
    "ПЕРЕХОДИМ К ПРАКТИКЕ!"
   ]
  },
  {
   "cell_type": "markdown",
   "id": "5b4b236f-960a-4c90-bdc8-ab76ef95b477",
   "metadata": {},
   "source": [
    "План:\n",
    "1. лассо\n"
   ]
  },
  {
   "cell_type": "code",
   "execution_count": null,
   "id": "31ab784e-b4e8-48f0-a1aa-fd1200e85e8a",
   "metadata": {},
   "outputs": [],
   "source": [
    "!pip install catboost shap"
   ]
  },
  {
   "cell_type": "code",
   "execution_count": 2,
   "id": "0759ea5c-cd89-4813-8284-ff8a1eedb256",
   "metadata": {},
   "outputs": [],
   "source": [
    "import pandas as pd\n",
    "import matplotlib.pyplot as plt\n",
    "import numpy as np"
   ]
  },
  {
   "cell_type": "markdown",
   "id": "32ac8399-edbf-42ab-a083-34d1a240e41d",
   "metadata": {},
   "source": [
    "## <center>Feature importance</center>"
   ]
  },
  {
   "cell_type": "code",
   "execution_count": 43,
   "id": "ac7ede8d-329f-4cc3-a0ec-74d4c6d88176",
   "metadata": {},
   "outputs": [
    {
     "data": {
      "text/html": [
       "<div>\n",
       "<style scoped>\n",
       "    .dataframe tbody tr th:only-of-type {\n",
       "        vertical-align: middle;\n",
       "    }\n",
       "\n",
       "    .dataframe tbody tr th {\n",
       "        vertical-align: top;\n",
       "    }\n",
       "\n",
       "    .dataframe thead th {\n",
       "        text-align: right;\n",
       "    }\n",
       "</style>\n",
       "<table border=\"1\" class=\"dataframe\">\n",
       "  <thead>\n",
       "    <tr style=\"text-align: right;\">\n",
       "      <th></th>\n",
       "      <th>car_id</th>\n",
       "      <th>model</th>\n",
       "      <th>car_type</th>\n",
       "      <th>fuel_type</th>\n",
       "      <th>car_rating</th>\n",
       "      <th>year_to_start</th>\n",
       "      <th>riders</th>\n",
       "      <th>year_to_work</th>\n",
       "      <th>target_reg</th>\n",
       "      <th>target_class</th>\n",
       "      <th>mean_rating</th>\n",
       "      <th>distance_sum</th>\n",
       "      <th>rating_min</th>\n",
       "      <th>speed_max</th>\n",
       "      <th>user_ride_quality_median</th>\n",
       "      <th>deviation_normal_count</th>\n",
       "      <th>user_uniq</th>\n",
       "    </tr>\n",
       "  </thead>\n",
       "  <tbody>\n",
       "    <tr>\n",
       "      <th>0</th>\n",
       "      <td>y13744087j</td>\n",
       "      <td>Kia Rio X-line</td>\n",
       "      <td>economy</td>\n",
       "      <td>petrol</td>\n",
       "      <td>3.78</td>\n",
       "      <td>2015</td>\n",
       "      <td>76163</td>\n",
       "      <td>2021</td>\n",
       "      <td>15634.32</td>\n",
       "      <td>another_bug</td>\n",
       "      <td>44.660920</td>\n",
       "      <td>1.214131e+07</td>\n",
       "      <td>0.1</td>\n",
       "      <td>180.855726</td>\n",
       "      <td>0.023174</td>\n",
       "      <td>174</td>\n",
       "      <td>170</td>\n",
       "    </tr>\n",
       "    <tr>\n",
       "      <th>1</th>\n",
       "      <td>O41613818T</td>\n",
       "      <td>VW Polo VI</td>\n",
       "      <td>economy</td>\n",
       "      <td>petrol</td>\n",
       "      <td>3.90</td>\n",
       "      <td>2015</td>\n",
       "      <td>78218</td>\n",
       "      <td>2021</td>\n",
       "      <td>2791.94</td>\n",
       "      <td>electro_bug</td>\n",
       "      <td>49.862069</td>\n",
       "      <td>1.803909e+07</td>\n",
       "      <td>0.0</td>\n",
       "      <td>187.862734</td>\n",
       "      <td>12.306011</td>\n",
       "      <td>174</td>\n",
       "      <td>174</td>\n",
       "    </tr>\n",
       "    <tr>\n",
       "      <th>2</th>\n",
       "      <td>d-2109686j</td>\n",
       "      <td>Renault Sandero</td>\n",
       "      <td>standart</td>\n",
       "      <td>petrol</td>\n",
       "      <td>6.30</td>\n",
       "      <td>2012</td>\n",
       "      <td>23340</td>\n",
       "      <td>2017</td>\n",
       "      <td>2263.93</td>\n",
       "      <td>gear_stick</td>\n",
       "      <td>44.005747</td>\n",
       "      <td>1.588366e+07</td>\n",
       "      <td>0.1</td>\n",
       "      <td>102.382857</td>\n",
       "      <td>2.513319</td>\n",
       "      <td>174</td>\n",
       "      <td>173</td>\n",
       "    </tr>\n",
       "    <tr>\n",
       "      <th>3</th>\n",
       "      <td>u29695600e</td>\n",
       "      <td>Mercedes-Benz GLC</td>\n",
       "      <td>business</td>\n",
       "      <td>petrol</td>\n",
       "      <td>4.04</td>\n",
       "      <td>2011</td>\n",
       "      <td>1263</td>\n",
       "      <td>2020</td>\n",
       "      <td>1518.06</td>\n",
       "      <td>engine_fuel</td>\n",
       "      <td>49.344828</td>\n",
       "      <td>1.651883e+07</td>\n",
       "      <td>0.1</td>\n",
       "      <td>172.793237</td>\n",
       "      <td>-5.029476</td>\n",
       "      <td>174</td>\n",
       "      <td>170</td>\n",
       "    </tr>\n",
       "    <tr>\n",
       "      <th>4</th>\n",
       "      <td>N-8915870N</td>\n",
       "      <td>Renault Sandero</td>\n",
       "      <td>standart</td>\n",
       "      <td>petrol</td>\n",
       "      <td>4.70</td>\n",
       "      <td>2012</td>\n",
       "      <td>26428</td>\n",
       "      <td>2017</td>\n",
       "      <td>825.78</td>\n",
       "      <td>engine_fuel</td>\n",
       "      <td>50.603448</td>\n",
       "      <td>1.398317e+07</td>\n",
       "      <td>0.1</td>\n",
       "      <td>203.462289</td>\n",
       "      <td>-14.260456</td>\n",
       "      <td>174</td>\n",
       "      <td>171</td>\n",
       "    </tr>\n",
       "  </tbody>\n",
       "</table>\n",
       "</div>"
      ],
      "text/plain": [
       "       car_id              model  car_type fuel_type  car_rating  \\\n",
       "0  y13744087j     Kia Rio X-line   economy    petrol        3.78   \n",
       "1  O41613818T         VW Polo VI   economy    petrol        3.90   \n",
       "2  d-2109686j    Renault Sandero  standart    petrol        6.30   \n",
       "3  u29695600e  Mercedes-Benz GLC  business    petrol        4.04   \n",
       "4  N-8915870N    Renault Sandero  standart    petrol        4.70   \n",
       "\n",
       "   year_to_start  riders  year_to_work  target_reg target_class  mean_rating  \\\n",
       "0           2015   76163          2021    15634.32  another_bug    44.660920   \n",
       "1           2015   78218          2021     2791.94  electro_bug    49.862069   \n",
       "2           2012   23340          2017     2263.93   gear_stick    44.005747   \n",
       "3           2011    1263          2020     1518.06  engine_fuel    49.344828   \n",
       "4           2012   26428          2017      825.78  engine_fuel    50.603448   \n",
       "\n",
       "   distance_sum  rating_min   speed_max  user_ride_quality_median  \\\n",
       "0  1.214131e+07         0.1  180.855726                  0.023174   \n",
       "1  1.803909e+07         0.0  187.862734                 12.306011   \n",
       "2  1.588366e+07         0.1  102.382857                  2.513319   \n",
       "3  1.651883e+07         0.1  172.793237                 -5.029476   \n",
       "4  1.398317e+07         0.1  203.462289                -14.260456   \n",
       "\n",
       "   deviation_normal_count  user_uniq  \n",
       "0                     174        170  \n",
       "1                     174        174  \n",
       "2                     174        173  \n",
       "3                     174        170  \n",
       "4                     174        171  "
      ]
     },
     "execution_count": 43,
     "metadata": {},
     "output_type": "execute_result"
    }
   ],
   "source": [
    "# Загружаем датасет из quickstart'а\n",
    "#path = 'https://stepik.org/media/attachments/lesson/681942/quickstart_train.csv'\n",
    "rides_info = pd.read_csv('../data/quickstart_train.csv')\n",
    "rides_info.head()"
   ]
  },
  {
   "cell_type": "code",
   "execution_count": 44,
   "id": "a87fd393-b4db-47e9-8db9-355dd59908d6",
   "metadata": {},
   "outputs": [],
   "source": [
    "drop_cols = ['car_id', 'target_class', 'target_reg']\n",
    "cat_cols = ['car_type', 'fuel_type', 'model']"
   ]
  },
  {
   "cell_type": "markdown",
   "id": "1385a116-10ae-4851-bcfb-700ab2f373c3",
   "metadata": {},
   "source": [
    "Для примера возьмем библиотеку градиентного бустинга CatBoost"
   ]
  },
  {
   "cell_type": "code",
   "execution_count": 45,
   "id": "1fc142a0-9154-45e3-a394-32a8dfcaa374",
   "metadata": {},
   "outputs": [],
   "source": [
    "from catboost import CatBoostRegressor, Pool, CatBoostClassifier\n",
    "from sklearn.model_selection import train_test_split\n",
    "#import shap"
   ]
  },
  {
   "cell_type": "code",
   "execution_count": 46,
   "id": "2af0a48f-57eb-4f34-8979-1b331207cfdd",
   "metadata": {},
   "outputs": [],
   "source": [
    "X = rides_info.drop(drop_cols, axis=1)\n",
    "y = rides_info['target_reg'].fillna(0)"
   ]
  },
  {
   "cell_type": "code",
   "execution_count": 47,
   "id": "965d8f9c-64a5-42c3-a2e5-276b6d8d7723",
   "metadata": {},
   "outputs": [],
   "source": [
    "X_train, X_test, y_train, y_test = train_test_split(X, y, test_size=0.2, random_state=42)"
   ]
  },
  {
   "cell_type": "code",
   "execution_count": 55,
   "id": "6f33e79e-6179-48a3-932b-479a82a79781",
   "metadata": {},
   "outputs": [
    {
     "name": "stdout",
     "output_type": "stream",
     "text": [
      "Learning rate set to 0.056174\n",
      "0:\tlearn: 6340.1878850\ttest: 5137.0529656\tbest: 5137.0529656 (0)\ttotal: 1.17ms\tremaining: 1.17s\n",
      "10:\tlearn: 5351.9639197\ttest: 4376.5751633\tbest: 4376.5751633 (10)\ttotal: 10.1ms\tremaining: 905ms\n",
      "20:\tlearn: 4729.1675619\ttest: 4123.4906096\tbest: 4123.4906096 (20)\ttotal: 19ms\tremaining: 887ms\n",
      "30:\tlearn: 4273.0360764\ttest: 4144.4352850\tbest: 4096.9278935 (25)\ttotal: 27.8ms\tremaining: 870ms\n",
      "40:\tlearn: 3921.0172439\ttest: 4203.3496460\tbest: 4096.9278935 (25)\ttotal: 37.4ms\tremaining: 874ms\n",
      "50:\tlearn: 3653.3918589\ttest: 4255.5011290\tbest: 4096.9278935 (25)\ttotal: 46.9ms\tremaining: 873ms\n",
      "60:\tlearn: 3438.8127415\ttest: 4317.0865323\tbest: 4096.9278935 (25)\ttotal: 55.7ms\tremaining: 858ms\n",
      "70:\tlearn: 3283.7087858\ttest: 4413.2506458\tbest: 4096.9278935 (25)\ttotal: 64.3ms\tremaining: 841ms\n",
      "80:\tlearn: 3136.0596342\ttest: 4420.7880531\tbest: 4096.9278935 (25)\ttotal: 73.3ms\tremaining: 832ms\n",
      "90:\tlearn: 3011.4034385\ttest: 4421.4997640\tbest: 4096.9278935 (25)\ttotal: 82.7ms\tremaining: 826ms\n",
      "100:\tlearn: 2923.6936534\ttest: 4461.0971593\tbest: 4096.9278935 (25)\ttotal: 91.5ms\tremaining: 814ms\n",
      "110:\tlearn: 2843.5036373\ttest: 4462.5144063\tbest: 4096.9278935 (25)\ttotal: 100ms\tremaining: 805ms\n",
      "120:\tlearn: 2730.5569016\ttest: 4481.2886511\tbest: 4096.9278935 (25)\ttotal: 109ms\tremaining: 794ms\n",
      "Stopped by overfitting detector  (100 iterations wait)\n",
      "\n",
      "bestTest = 4096.927893\n",
      "bestIteration = 25\n",
      "\n",
      "Shrink model to first 26 iterations.\n"
     ]
    },
    {
     "data": {
      "text/plain": [
       "<catboost.core.CatBoostRegressor at 0x7f9ee2dc1880>"
      ]
     },
     "execution_count": 55,
     "metadata": {},
     "output_type": "execute_result"
    }
   ],
   "source": [
    "model = CatBoostRegressor(cat_features=cat_cols,\n",
    "                          thread_count=-1,\n",
    "                         eval_metric='RMSE')\n",
    "model.fit(X_train, y_train, \n",
    "          eval_set=(X_test, y_test),\n",
    "          verbose=10, plot=False, \n",
    "          early_stopping_rounds=100)"
   ]
  },
  {
   "cell_type": "code",
   "execution_count": 49,
   "id": "a9a9d6f0-9942-45ae-8126-1103e2681275",
   "metadata": {},
   "outputs": [
    {
     "data": {
      "text/html": [
       "<div>\n",
       "<style scoped>\n",
       "    .dataframe tbody tr th:only-of-type {\n",
       "        vertical-align: middle;\n",
       "    }\n",
       "\n",
       "    .dataframe tbody tr th {\n",
       "        vertical-align: top;\n",
       "    }\n",
       "\n",
       "    .dataframe thead th {\n",
       "        text-align: right;\n",
       "    }\n",
       "</style>\n",
       "<table border=\"1\" class=\"dataframe\">\n",
       "  <thead>\n",
       "    <tr style=\"text-align: right;\">\n",
       "      <th></th>\n",
       "      <th>Feature Id</th>\n",
       "      <th>Importances</th>\n",
       "    </tr>\n",
       "  </thead>\n",
       "  <tbody>\n",
       "    <tr>\n",
       "      <th>0</th>\n",
       "      <td>car_type</td>\n",
       "      <td>23.578900</td>\n",
       "    </tr>\n",
       "    <tr>\n",
       "      <th>1</th>\n",
       "      <td>user_uniq</td>\n",
       "      <td>22.963238</td>\n",
       "    </tr>\n",
       "    <tr>\n",
       "      <th>2</th>\n",
       "      <td>fuel_type</td>\n",
       "      <td>20.923713</td>\n",
       "    </tr>\n",
       "    <tr>\n",
       "      <th>3</th>\n",
       "      <td>speed_max</td>\n",
       "      <td>5.517910</td>\n",
       "    </tr>\n",
       "    <tr>\n",
       "      <th>4</th>\n",
       "      <td>car_rating</td>\n",
       "      <td>5.382600</td>\n",
       "    </tr>\n",
       "    <tr>\n",
       "      <th>5</th>\n",
       "      <td>mean_rating</td>\n",
       "      <td>5.215268</td>\n",
       "    </tr>\n",
       "    <tr>\n",
       "      <th>6</th>\n",
       "      <td>year_to_start</td>\n",
       "      <td>4.737498</td>\n",
       "    </tr>\n",
       "    <tr>\n",
       "      <th>7</th>\n",
       "      <td>user_ride_quality_median</td>\n",
       "      <td>4.449179</td>\n",
       "    </tr>\n",
       "    <tr>\n",
       "      <th>8</th>\n",
       "      <td>distance_sum</td>\n",
       "      <td>2.936730</td>\n",
       "    </tr>\n",
       "    <tr>\n",
       "      <th>9</th>\n",
       "      <td>riders</td>\n",
       "      <td>2.935443</td>\n",
       "    </tr>\n",
       "    <tr>\n",
       "      <th>10</th>\n",
       "      <td>year_to_work</td>\n",
       "      <td>1.018414</td>\n",
       "    </tr>\n",
       "    <tr>\n",
       "      <th>11</th>\n",
       "      <td>rating_min</td>\n",
       "      <td>0.341107</td>\n",
       "    </tr>\n",
       "    <tr>\n",
       "      <th>12</th>\n",
       "      <td>model</td>\n",
       "      <td>0.000000</td>\n",
       "    </tr>\n",
       "    <tr>\n",
       "      <th>13</th>\n",
       "      <td>deviation_normal_count</td>\n",
       "      <td>0.000000</td>\n",
       "    </tr>\n",
       "  </tbody>\n",
       "</table>\n",
       "</div>"
      ],
      "text/plain": [
       "                  Feature Id  Importances\n",
       "0                   car_type    23.578900\n",
       "1                  user_uniq    22.963238\n",
       "2                  fuel_type    20.923713\n",
       "3                  speed_max     5.517910\n",
       "4                 car_rating     5.382600\n",
       "5                mean_rating     5.215268\n",
       "6              year_to_start     4.737498\n",
       "7   user_ride_quality_median     4.449179\n",
       "8               distance_sum     2.936730\n",
       "9                     riders     2.935443\n",
       "10              year_to_work     1.018414\n",
       "11                rating_min     0.341107\n",
       "12                     model     0.000000\n",
       "13    deviation_normal_count     0.000000"
      ]
     },
     "execution_count": 49,
     "metadata": {},
     "output_type": "execute_result"
    }
   ],
   "source": [
    "# посмотрим на важность признаков катбуста\n",
    "fi = model.get_feature_importance(prettified=True)\n",
    "fi"
   ]
  },
  {
   "cell_type": "code",
   "execution_count": 50,
   "id": "3b484698-0cb5-4255-95cd-10ff356cc847",
   "metadata": {},
   "outputs": [
    {
     "data": {
      "image/png": "[encoded data removed]",
      "text/plain": [
       "<Figure size 1200x600 with 1 Axes>"
      ]
     },
     "metadata": {},
     "output_type": "display_data"
    }
   ],
   "source": [
    "feature_importance = model.feature_importances_\n",
    "sorted_idx = np.argsort(feature_importance)\n",
    "fig = plt.figure(figsize=(12, 6))\n",
    "plt.barh(range(len(sorted_idx)), feature_importance[sorted_idx], align='center')\n",
    "plt.yticks(range(len(sorted_idx)), np.array(X.columns)[sorted_idx])\n",
    "plt.title('Feature Importance');"
   ]
  },
  {
   "cell_type": "code",
   "execution_count": 29,
   "id": "cdaa3104-603b-4c4a-8072-cb918c5b9fd6",
   "metadata": {},
   "outputs": [
    {
     "ename": "NameError",
     "evalue": "name 'shap' is not defined",
     "output_type": "error",
     "traceback": [
      "\u001b[0;31m---------------------------------------------------------------------------\u001b[0m",
      "\u001b[0;31mNameError\u001b[0m                                 Traceback (most recent call last)",
      "Cell \u001b[0;32mIn[29], line 2\u001b[0m\n\u001b[1;32m      1\u001b[0m \u001b[38;5;66;03m# Посмотрим на SHAP values\u001b[39;00m\n\u001b[0;32m----> 2\u001b[0m explainer \u001b[38;5;241m=\u001b[39m \u001b[43mshap\u001b[49m\u001b[38;5;241m.\u001b[39mExplainer(model)\n\u001b[1;32m      3\u001b[0m shap_values \u001b[38;5;241m=\u001b[39m explainer(X_test)\n\u001b[1;32m      4\u001b[0m shap_importance \u001b[38;5;241m=\u001b[39m shap_values\u001b[38;5;241m.\u001b[39mabs\u001b[38;5;241m.\u001b[39mmean(\u001b[38;5;241m0\u001b[39m)\u001b[38;5;241m.\u001b[39mvalues\n",
      "\u001b[0;31mNameError\u001b[0m: name 'shap' is not defined"
     ]
    }
   ],
   "source": [
    "# Посмотрим на SHAP values\n",
    "explainer = shap.Explainer(model)\n",
    "shap_values = explainer(X_test)\n",
    "shap_importance = shap_values.abs.mean(0).values\n",
    "sorted_idx = shap_importance.argsort()\n",
    "fig = plt.figure(figsize=(12, 6))\n",
    "plt.barh(range(len(sorted_idx)), shap_importance[sorted_idx], align='center')\n",
    "plt.yticks(range(len(sorted_idx)), np.array(X.columns)[sorted_idx])\n",
    "plt.title('SHAP Importance');\n",
    "fig = plt.figure(figsize=(12, 6))\n",
    "shap.plots.bar(shap_values, max_display=X_test.shape[0])"
   ]
  },
  {
   "cell_type": "markdown",
   "id": "9033ba43-97f8-48fa-99c6-f400efd76500",
   "metadata": {},
   "source": [
    "# <center> Permutation importance</center>"
   ]
  },
  {
   "cell_type": "code",
   "execution_count": 51,
   "id": "db200039-daf6-42de-9490-78ab7c697f52",
   "metadata": {},
   "outputs": [
    {
     "data": {
      "text/plain": [
       "Text(0.5, 1.0, 'Permutation Importance')"
      ]
     },
     "execution_count": 51,
     "metadata": {},
     "output_type": "execute_result"
    },
    {
     "data": {
      "image/png": "[encoded data removed]",
      "text/plain": [
       "<Figure size 1200x600 with 1 Axes>"
      ]
     },
     "metadata": {},
     "output_type": "display_data"
    }
   ],
   "source": [
    "from sklearn.inspection import permutation_importance\n",
    "\n",
    "perm_importance = permutation_importance(model, X_test, y_test, n_repeats=10, random_state=1066)\n",
    "sorted_idx = perm_importance.importances_mean.argsort()\n",
    "fig = plt.figure(figsize=(12, 6))\n",
    "plt.barh(range(len(sorted_idx)), perm_importance.importances_mean[sorted_idx], align='center')\n",
    "plt.yticks(range(len(sorted_idx)), np.array(X.columns)[sorted_idx])\n",
    "plt.title('Permutation Importance')"
   ]
  },
  {
   "cell_type": "markdown",
   "id": "60e2a094-7d41-43be-9e9d-ba5d4a076635",
   "metadata": {},
   "source": [
    "## <center>CatBoost feature selection</center>"
   ]
  },
  {
   "cell_type": "code",
   "execution_count": 39,
   "id": "0b990021-a8b1-4928-8939-4ba55a1c5624",
   "metadata": {},
   "outputs": [],
   "source": [
    "summary = model.select_features(X_train, y_train, \n",
    "                      eval_set=(X_test, y_test),\n",
    "                      features_for_select='0-16',\n",
    "                      num_features_to_select=10,\n",
    "                      steps=5,\n",
    "                      train_final_model=False,\n",
    "                      logging_level='Silent')"
   ]
  },
  {
   "cell_type": "code",
   "execution_count": 40,
   "id": "a2b81dea-1c71-4f4f-99b9-c3fdbb79b728",
   "metadata": {},
   "outputs": [
    {
     "name": "stdout",
     "output_type": "stream",
     "text": [
      "['speed_max', 'user_ride_quality', 'deviation_normal', 'car_type', 'fuel_type', 'car_rating', 'year_to_start', 'riders', 'model', 'year_to_work']\n",
      "Best loss: 1287.2192304910152\n"
     ]
    }
   ],
   "source": [
    "print(summary['selected_features_names'])\n",
    "print(f\"Best loss: {summary['loss_graph']['loss_values'][-1]}\")"
   ]
  },
  {
   "cell_type": "code",
   "execution_count": 41,
   "id": "cfb6d5d5-bb99-45a6-81ce-87b2badd0abc",
   "metadata": {},
   "outputs": [
    {
     "data": {
      "text/plain": [
       "{'selected_features': [4, 8, 9, 10, 11, 12, 13, 14, 15, 16],\n",
       " 'eliminated_features_names': ['distance',\n",
       "  'refueling',\n",
       "  'ride_cost',\n",
       "  'ride_duration',\n",
       "  'rating',\n",
       "  'speed_avg',\n",
       "  'stop_times'],\n",
       " 'loss_graph': {'main_indices': [0, 2, 3, 5, 6],\n",
       "  'removed_features_count': [0, 1, 2, 3, 4, 5, 6, 7],\n",
       "  'loss_values': [1302.2506180353753,\n",
       "   1283.463476494676,\n",
       "   1283.463476494676,\n",
       "   1288.0748227973036,\n",
       "   1289.6175293477527,\n",
       "   1300.5117282005622,\n",
       "   1285.4912682977854,\n",
       "   1287.2192304910152]},\n",
       " 'eliminated_features': [6, 7, 2, 1, 0, 3, 5],\n",
       " 'selected_features_names': ['speed_max',\n",
       "  'user_ride_quality',\n",
       "  'deviation_normal',\n",
       "  'car_type',\n",
       "  'fuel_type',\n",
       "  'car_rating',\n",
       "  'year_to_start',\n",
       "  'riders',\n",
       "  'model',\n",
       "  'year_to_work']}"
      ]
     },
     "execution_count": 41,
     "metadata": {},
     "output_type": "execute_result"
    }
   ],
   "source": [
    "summary"
   ]
  },
  {
   "cell_type": "markdown",
   "id": "0482f5f7-5cc5-4cf5-8421-20deea21c96d",
   "metadata": {},
   "source": [
    "## <center> Random feature</center>"
   ]
  },
  {
   "cell_type": "code",
   "execution_count": null,
   "id": "9b102f48-8c47-4679-8e7a-90623c552949",
   "metadata": {},
   "outputs": [],
   "source": [
    "# Добавим рандомный признак в датасет\n",
    "rides_info['random'] = np.random.randint(-200, 200, rides_info.shape[0])"
   ]
  },
  {
   "cell_type": "code",
   "execution_count": null,
   "id": "2ae08ef5-5c65-4dea-b4fb-64e6175d24e1",
   "metadata": {},
   "outputs": [],
   "source": [
    "X = rides_info.drop(drop_cols, axis=1)\n",
    "y = rides_info['target_reg']"
   ]
  },
  {
   "cell_type": "code",
   "execution_count": null,
   "id": "12494bdb-66b4-440f-a0a4-8dcc8dec1b5b",
   "metadata": {},
   "outputs": [],
   "source": [
    "X_train, X_test, y_train, y_test = train_test_split(X, y, test_size=0.2, random_state=42)"
   ]
  },
  {
   "cell_type": "code",
   "execution_count": null,
   "id": "526a4764-85bc-4a09-a7f4-3b95256e9dbf",
   "metadata": {},
   "outputs": [],
   "source": [
    "model = CatBoostRegressor(cat_features=cat_cols,\n",
    "                          thread_count=-1)\n",
    "                         #eval_metric='RMSE')\n",
    "model.fit(X_train, y_train, \n",
    "          eval_set=(X_test, y_test),\n",
    "          verbose=150, plot=False, \n",
    "          early_stopping_rounds=100)"
   ]
  },
  {
   "cell_type": "code",
   "execution_count": null,
   "id": "5ab898b1-c427-4ae7-8f5d-0107e7edaec2",
   "metadata": {},
   "outputs": [],
   "source": [
    "# посмотрим на важность признаков катбуста\n",
    "fi = model.get_feature_importance(prettified=True)\n",
    "fi"
   ]
  },
  {
   "cell_type": "markdown",
   "id": "08bdfaa5-b63d-4fa4-9770-0925c74a2f5f",
   "metadata": {},
   "source": [
    "## <center> Boruta </center>"
   ]
  },
  {
   "cell_type": "markdown",
   "id": "01539684-c6e4-491d-9912-8905c44bae74",
   "metadata": {},
   "source": [
    "<center> <img src=\"../images/boruta.webp\"> </center> "
   ]
  },
  {
   "cell_type": "code",
   "execution_count": null,
   "id": "64b2991b-f0c7-467a-ba22-9734a549e561",
   "metadata": {},
   "outputs": [],
   "source": [
    "#!pip install boruta"
   ]
  },
  {
   "cell_type": "code",
   "execution_count": 32,
   "id": "50cd8ad4-2e3d-4368-a474-7308841c16b6",
   "metadata": {},
   "outputs": [
    {
     "data": {
      "text/html": [
       "<div>\n",
       "<style scoped>\n",
       "    .dataframe tbody tr th:only-of-type {\n",
       "        vertical-align: middle;\n",
       "    }\n",
       "\n",
       "    .dataframe tbody tr th {\n",
       "        vertical-align: top;\n",
       "    }\n",
       "\n",
       "    .dataframe thead th {\n",
       "        text-align: right;\n",
       "    }\n",
       "</style>\n",
       "<table border=\"1\" class=\"dataframe\">\n",
       "  <thead>\n",
       "    <tr style=\"text-align: right;\">\n",
       "      <th></th>\n",
       "      <th>rating</th>\n",
       "      <th>ride_duration</th>\n",
       "      <th>ride_cost</th>\n",
       "      <th>speed_avg</th>\n",
       "      <th>speed_max</th>\n",
       "      <th>stop_times</th>\n",
       "      <th>distance</th>\n",
       "      <th>refueling</th>\n",
       "      <th>user_ride_quality</th>\n",
       "      <th>deviation_normal</th>\n",
       "      <th>...</th>\n",
       "      <th>model_Renault Sandero</th>\n",
       "      <th>model_Skoda Rapid</th>\n",
       "      <th>model_Smart Coupe</th>\n",
       "      <th>model_Smart ForFour</th>\n",
       "      <th>model_Smart ForTwo</th>\n",
       "      <th>model_Tesla Model 3</th>\n",
       "      <th>model_VW Polo</th>\n",
       "      <th>model_VW Polo VI</th>\n",
       "      <th>model_VW Tiguan</th>\n",
       "      <th>model_Volkswagen ID.4</th>\n",
       "    </tr>\n",
       "  </thead>\n",
       "  <tbody>\n",
       "    <tr>\n",
       "      <th>57857</th>\n",
       "      <td>4.46</td>\n",
       "      <td>18</td>\n",
       "      <td>192</td>\n",
       "      <td>84</td>\n",
       "      <td>85.973464</td>\n",
       "      <td>0</td>\n",
       "      <td>1556.718120</td>\n",
       "      <td>0</td>\n",
       "      <td>-4.872906</td>\n",
       "      <td>4.504</td>\n",
       "      <td>...</td>\n",
       "      <td>0</td>\n",
       "      <td>0</td>\n",
       "      <td>0</td>\n",
       "      <td>0</td>\n",
       "      <td>0</td>\n",
       "      <td>0</td>\n",
       "      <td>0</td>\n",
       "      <td>0</td>\n",
       "      <td>0</td>\n",
       "      <td>0</td>\n",
       "    </tr>\n",
       "    <tr>\n",
       "      <th>238419</th>\n",
       "      <td>3.71</td>\n",
       "      <td>49</td>\n",
       "      <td>679</td>\n",
       "      <td>29</td>\n",
       "      <td>66.000000</td>\n",
       "      <td>1</td>\n",
       "      <td>967.744777</td>\n",
       "      <td>0</td>\n",
       "      <td>-2.425700</td>\n",
       "      <td>-54.926</td>\n",
       "      <td>...</td>\n",
       "      <td>0</td>\n",
       "      <td>0</td>\n",
       "      <td>0</td>\n",
       "      <td>0</td>\n",
       "      <td>0</td>\n",
       "      <td>0</td>\n",
       "      <td>1</td>\n",
       "      <td>0</td>\n",
       "      <td>0</td>\n",
       "      <td>0</td>\n",
       "    </tr>\n",
       "    <tr>\n",
       "      <th>412031</th>\n",
       "      <td>1.07</td>\n",
       "      <td>86</td>\n",
       "      <td>683</td>\n",
       "      <td>36</td>\n",
       "      <td>76.000000</td>\n",
       "      <td>4</td>\n",
       "      <td>1755.625619</td>\n",
       "      <td>0</td>\n",
       "      <td>8.889414</td>\n",
       "      <td>-9.398</td>\n",
       "      <td>...</td>\n",
       "      <td>0</td>\n",
       "      <td>0</td>\n",
       "      <td>0</td>\n",
       "      <td>0</td>\n",
       "      <td>0</td>\n",
       "      <td>0</td>\n",
       "      <td>1</td>\n",
       "      <td>0</td>\n",
       "      <td>0</td>\n",
       "      <td>0</td>\n",
       "    </tr>\n",
       "    <tr>\n",
       "      <th>192817</th>\n",
       "      <td>7.26</td>\n",
       "      <td>22</td>\n",
       "      <td>170</td>\n",
       "      <td>51</td>\n",
       "      <td>85.000000</td>\n",
       "      <td>1</td>\n",
       "      <td>269.646206</td>\n",
       "      <td>0</td>\n",
       "      <td>2.769013</td>\n",
       "      <td>32.171</td>\n",
       "      <td>...</td>\n",
       "      <td>0</td>\n",
       "      <td>0</td>\n",
       "      <td>1</td>\n",
       "      <td>0</td>\n",
       "      <td>0</td>\n",
       "      <td>0</td>\n",
       "      <td>0</td>\n",
       "      <td>0</td>\n",
       "      <td>0</td>\n",
       "      <td>0</td>\n",
       "    </tr>\n",
       "    <tr>\n",
       "      <th>510757</th>\n",
       "      <td>5.69</td>\n",
       "      <td>52</td>\n",
       "      <td>568</td>\n",
       "      <td>45</td>\n",
       "      <td>64.000000</td>\n",
       "      <td>1</td>\n",
       "      <td>2301.098008</td>\n",
       "      <td>0</td>\n",
       "      <td>-11.768922</td>\n",
       "      <td>-5.077</td>\n",
       "      <td>...</td>\n",
       "      <td>0</td>\n",
       "      <td>0</td>\n",
       "      <td>0</td>\n",
       "      <td>0</td>\n",
       "      <td>0</td>\n",
       "      <td>0</td>\n",
       "      <td>0</td>\n",
       "      <td>0</td>\n",
       "      <td>0</td>\n",
       "      <td>0</td>\n",
       "    </tr>\n",
       "  </tbody>\n",
       "</table>\n",
       "<p>5 rows × 46 columns</p>\n",
       "</div>"
      ],
      "text/plain": [
       "        rating  ride_duration  ride_cost  speed_avg  speed_max  stop_times  \\\n",
       "57857     4.46             18        192         84  85.973464           0   \n",
       "238419    3.71             49        679         29  66.000000           1   \n",
       "412031    1.07             86        683         36  76.000000           4   \n",
       "192817    7.26             22        170         51  85.000000           1   \n",
       "510757    5.69             52        568         45  64.000000           1   \n",
       "\n",
       "           distance  refueling  user_ride_quality  deviation_normal  ...  \\\n",
       "57857   1556.718120          0          -4.872906             4.504  ...   \n",
       "238419   967.744777          0          -2.425700           -54.926  ...   \n",
       "412031  1755.625619          0           8.889414            -9.398  ...   \n",
       "192817   269.646206          0           2.769013            32.171  ...   \n",
       "510757  2301.098008          0         -11.768922            -5.077  ...   \n",
       "\n",
       "        model_Renault Sandero  model_Skoda Rapid  model_Smart Coupe  \\\n",
       "57857                       0                  0                  0   \n",
       "238419                      0                  0                  0   \n",
       "412031                      0                  0                  0   \n",
       "192817                      0                  0                  1   \n",
       "510757                      0                  0                  0   \n",
       "\n",
       "        model_Smart ForFour  model_Smart ForTwo  model_Tesla Model 3  \\\n",
       "57857                     0                   0                    0   \n",
       "238419                    0                   0                    0   \n",
       "412031                    0                   0                    0   \n",
       "192817                    0                   0                    0   \n",
       "510757                    0                   0                    0   \n",
       "\n",
       "        model_VW Polo  model_VW Polo VI  model_VW Tiguan  \\\n",
       "57857               0                 0                0   \n",
       "238419              1                 0                0   \n",
       "412031              1                 0                0   \n",
       "192817              0                 0                0   \n",
       "510757              0                 0                0   \n",
       "\n",
       "        model_Volkswagen ID.4   \n",
       "57857                        0  \n",
       "238419                       0  \n",
       "412031                       0  \n",
       "192817                       0  \n",
       "510757                       0  \n",
       "\n",
       "[5 rows x 46 columns]"
      ]
     },
     "execution_count": 32,
     "metadata": {},
     "output_type": "execute_result"
    }
   ],
   "source": [
    "X_train_one_hot = pd.get_dummies(X_train[cat_cols])\n",
    "X_train = pd.concat((X_train.drop(columns=cat_cols), X_train_one_hot), axis=1).fillna(0)\n",
    "X_train.head()"
   ]
  },
  {
   "cell_type": "code",
   "execution_count": null,
   "id": "5422136e-e2ec-4c4d-8da3-d00434c27198",
   "metadata": {},
   "outputs": [],
   "source": [
    "from boruta import BorutaPy\n",
    "from sklearn.ensemble import RandomForestRegressor\n",
    "###initialize Boruta\n",
    "forest = RandomForestRegressor(\n",
    "   n_jobs = -1, \n",
    "   max_depth = 3\n",
    ")\n",
    "boruta = BorutaPy(\n",
    "   estimator = forest, \n",
    "   n_estimators = 'auto',\n",
    "   max_iter = 8, # number of trials to perform\n",
    "    verbose=1\n",
    ")\n",
    "### fit Boruta (it accepts np.array, not pd.DataFrame)\n",
    "boruta.fit(np.array(X_train), np.array(y_train))\n",
    "### print results\n",
    "green_area = X_train.columns[boruta.support_].to_list()\n",
    "blue_area = X_train.columns[boruta.support_weak_].to_list()\n",
    "red_area = X_train.columns[~(boruta.support_ | boruta.support_weak_)].to_list()\n",
    "print('features in the green area:', green_area)\n",
    "print('features in the blue area:', blue_area)\n",
    "print('features in the red area:', red_area)"
   ]
  },
  {
   "cell_type": "markdown",
   "id": "339d54a5-1318-47c8-9dbe-a12eb36914a4",
   "metadata": {},
   "source": [
    "Полезные ссылки:\n",
    "    https://jundongl.github.io/scikit-feature/ (Python 2.7)"
   ]
  }
 ],
 "metadata": {
  "kernelspec": {
   "display_name": "Python 3 (ipykernel)",
   "language": "python",
   "name": "python3"
  },
  "language_info": {
   "codemirror_mode": {
    "name": "ipython",
    "version": 3
   },
   "file_extension": ".py",
   "mimetype": "text/x-python",
   "name": "python",
   "nbconvert_exporter": "python",
   "pygments_lexer": "ipython3",
   "version": "3.9.15"
  }
 },
 "nbformat": 4,
 "nbformat_minor": 5
}
