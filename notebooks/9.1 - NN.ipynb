{
 "cells": [
  {
   "cell_type": "markdown",
   "id": "5bd2009e-0dff-42fb-a4c7-719f3c0a1e3a",
   "metadata": {},
   "source": [
    "# <center> 2.9 А нейронки будут? </center>"
   ]
  },
  {
   "cell_type": "code",
   "execution_count": 52,
   "id": "ff395118",
   "metadata": {
    "papermill": {
     "duration": 0.028618,
     "end_time": "2022-12-12T05:12:53.251185",
     "exception": false,
     "start_time": "2022-12-12T05:12:53.222567",
     "status": "completed"
    },
    "tags": []
   },
   "outputs": [],
   "source": [
    "import numpy as np\n",
    "import pandas as pd"
   ]
  },
  {
   "cell_type": "code",
   "execution_count": 53,
   "id": "19bb9348-1fcd-4b7b-95e3-fbd5d09bc5d8",
   "metadata": {},
   "outputs": [
    {
     "data": {
      "text/html": [
       "<div>\n",
       "<style scoped>\n",
       "    .dataframe tbody tr th:only-of-type {\n",
       "        vertical-align: middle;\n",
       "    }\n",
       "\n",
       "    .dataframe tbody tr th {\n",
       "        vertical-align: top;\n",
       "    }\n",
       "\n",
       "    .dataframe thead th {\n",
       "        text-align: right;\n",
       "    }\n",
       "</style>\n",
       "<table border=\"1\" class=\"dataframe\">\n",
       "  <thead>\n",
       "    <tr style=\"text-align: right;\">\n",
       "      <th></th>\n",
       "      <th>car_id</th>\n",
       "      <th>model</th>\n",
       "      <th>car_type</th>\n",
       "      <th>fuel_type</th>\n",
       "      <th>car_rating</th>\n",
       "      <th>year_to_start</th>\n",
       "      <th>riders</th>\n",
       "      <th>year_to_work</th>\n",
       "      <th>target_reg</th>\n",
       "      <th>target_class</th>\n",
       "      <th>mean_rating</th>\n",
       "      <th>distance_sum</th>\n",
       "      <th>rating_min</th>\n",
       "      <th>speed_max</th>\n",
       "      <th>user_ride_quality_median</th>\n",
       "      <th>deviation_normal_count</th>\n",
       "      <th>user_uniq</th>\n",
       "    </tr>\n",
       "  </thead>\n",
       "  <tbody>\n",
       "    <tr>\n",
       "      <th>0</th>\n",
       "      <td>y13744087j</td>\n",
       "      <td>Kia Rio X-line</td>\n",
       "      <td>economy</td>\n",
       "      <td>petrol</td>\n",
       "      <td>3.78</td>\n",
       "      <td>2015</td>\n",
       "      <td>76163</td>\n",
       "      <td>2021</td>\n",
       "      <td>15634.32</td>\n",
       "      <td>another_bug</td>\n",
       "      <td>44.660920</td>\n",
       "      <td>1.214131e+07</td>\n",
       "      <td>0.1</td>\n",
       "      <td>180.855726</td>\n",
       "      <td>0.023174</td>\n",
       "      <td>174</td>\n",
       "      <td>170</td>\n",
       "    </tr>\n",
       "    <tr>\n",
       "      <th>1</th>\n",
       "      <td>O41613818T</td>\n",
       "      <td>VW Polo VI</td>\n",
       "      <td>economy</td>\n",
       "      <td>petrol</td>\n",
       "      <td>3.90</td>\n",
       "      <td>2015</td>\n",
       "      <td>78218</td>\n",
       "      <td>2021</td>\n",
       "      <td>2791.94</td>\n",
       "      <td>electro_bug</td>\n",
       "      <td>49.862069</td>\n",
       "      <td>1.803909e+07</td>\n",
       "      <td>0.0</td>\n",
       "      <td>187.862734</td>\n",
       "      <td>12.306011</td>\n",
       "      <td>174</td>\n",
       "      <td>174</td>\n",
       "    </tr>\n",
       "    <tr>\n",
       "      <th>2</th>\n",
       "      <td>d-2109686j</td>\n",
       "      <td>Renault Sandero</td>\n",
       "      <td>standart</td>\n",
       "      <td>petrol</td>\n",
       "      <td>6.30</td>\n",
       "      <td>2012</td>\n",
       "      <td>23340</td>\n",
       "      <td>2017</td>\n",
       "      <td>2263.93</td>\n",
       "      <td>gear_stick</td>\n",
       "      <td>44.005747</td>\n",
       "      <td>1.588366e+07</td>\n",
       "      <td>0.1</td>\n",
       "      <td>102.382857</td>\n",
       "      <td>2.513319</td>\n",
       "      <td>174</td>\n",
       "      <td>173</td>\n",
       "    </tr>\n",
       "    <tr>\n",
       "      <th>3</th>\n",
       "      <td>u29695600e</td>\n",
       "      <td>Mercedes-Benz GLC</td>\n",
       "      <td>business</td>\n",
       "      <td>petrol</td>\n",
       "      <td>4.04</td>\n",
       "      <td>2011</td>\n",
       "      <td>1263</td>\n",
       "      <td>2020</td>\n",
       "      <td>1518.06</td>\n",
       "      <td>engine_fuel</td>\n",
       "      <td>49.344828</td>\n",
       "      <td>1.651883e+07</td>\n",
       "      <td>0.1</td>\n",
       "      <td>172.793237</td>\n",
       "      <td>-5.029476</td>\n",
       "      <td>174</td>\n",
       "      <td>170</td>\n",
       "    </tr>\n",
       "    <tr>\n",
       "      <th>4</th>\n",
       "      <td>N-8915870N</td>\n",
       "      <td>Renault Sandero</td>\n",
       "      <td>standart</td>\n",
       "      <td>petrol</td>\n",
       "      <td>4.70</td>\n",
       "      <td>2012</td>\n",
       "      <td>26428</td>\n",
       "      <td>2017</td>\n",
       "      <td>825.78</td>\n",
       "      <td>engine_fuel</td>\n",
       "      <td>50.603448</td>\n",
       "      <td>1.398317e+07</td>\n",
       "      <td>0.1</td>\n",
       "      <td>203.462289</td>\n",
       "      <td>-14.260456</td>\n",
       "      <td>174</td>\n",
       "      <td>171</td>\n",
       "    </tr>\n",
       "  </tbody>\n",
       "</table>\n",
       "</div>"
      ],
      "text/plain": [
       "       car_id              model  car_type fuel_type  car_rating  \\\n",
       "0  y13744087j     Kia Rio X-line   economy    petrol        3.78   \n",
       "1  O41613818T         VW Polo VI   economy    petrol        3.90   \n",
       "2  d-2109686j    Renault Sandero  standart    petrol        6.30   \n",
       "3  u29695600e  Mercedes-Benz GLC  business    petrol        4.04   \n",
       "4  N-8915870N    Renault Sandero  standart    petrol        4.70   \n",
       "\n",
       "   year_to_start  riders  year_to_work  target_reg target_class  mean_rating  \\\n",
       "0           2015   76163          2021    15634.32  another_bug    44.660920   \n",
       "1           2015   78218          2021     2791.94  electro_bug    49.862069   \n",
       "2           2012   23340          2017     2263.93   gear_stick    44.005747   \n",
       "3           2011    1263          2020     1518.06  engine_fuel    49.344828   \n",
       "4           2012   26428          2017      825.78  engine_fuel    50.603448   \n",
       "\n",
       "   distance_sum  rating_min   speed_max  user_ride_quality_median  \\\n",
       "0  1.214131e+07         0.1  180.855726                  0.023174   \n",
       "1  1.803909e+07         0.0  187.862734                 12.306011   \n",
       "2  1.588366e+07         0.1  102.382857                  2.513319   \n",
       "3  1.651883e+07         0.1  172.793237                 -5.029476   \n",
       "4  1.398317e+07         0.1  203.462289                -14.260456   \n",
       "\n",
       "   deviation_normal_count  user_uniq  \n",
       "0                     174        170  \n",
       "1                     174        174  \n",
       "2                     174        173  \n",
       "3                     174        170  \n",
       "4                     174        171  "
      ]
     },
     "execution_count": 53,
     "metadata": {},
     "output_type": "execute_result"
    }
   ],
   "source": [
    "# Загружаем train-датасет который мы сохранили на шаге quickstart\n",
    "rides_info = pd.read_csv('../data/quickstart_train.csv')\n",
    "rides_info.head()"
   ]
  },
  {
   "cell_type": "code",
   "execution_count": 54,
   "id": "07089d0f-1845-46cd-ac2e-a8833044f2a2",
   "metadata": {},
   "outputs": [],
   "source": [
    "drop_cols = ['car_id', 'target_reg', 'target_class']\n",
    "cat_cols = ['car_type', 'fuel_type', 'model']"
   ]
  },
  {
   "cell_type": "code",
   "execution_count": 55,
   "id": "8610f1f3",
   "metadata": {
    "papermill": {
     "duration": 0.143102,
     "end_time": "2022-12-12T05:13:01.849840",
     "exception": false,
     "start_time": "2022-12-12T05:13:01.706738",
     "status": "completed"
    },
    "tags": []
   },
   "outputs": [],
   "source": [
    "# закодируем категориальные фичи в one hot encoding вектора\n",
    "rides_info = pd.get_dummies(rides_info, columns=cat_cols)"
   ]
  },
  {
   "cell_type": "code",
   "execution_count": 56,
   "id": "1d98ed38-f13e-4f26-892b-28e32b1a7f64",
   "metadata": {
    "papermill": {
     "duration": 0.140003,
     "end_time": "2022-12-12T05:13:02.001579",
     "exception": false,
     "start_time": "2022-12-12T05:13:01.861576",
     "status": "completed"
    },
    "tags": []
   },
   "outputs": [
    {
     "name": "stderr",
     "output_type": "stream",
     "text": [
      "/tmp/ipykernel_838/2067634496.py:2: FutureWarning: The default value of numeric_only in DataFrame.median is deprecated. In a future version, it will default to False. In addition, specifying 'numeric_only=None' is deprecated. Select only valid columns or specify the value of numeric_only to silence this warning.\n",
      "  rides_info.fillna(rides_info.median(), inplace=True)\n"
     ]
    }
   ],
   "source": [
    "# заполним пропущенные значения медианным значением по столбцу\n",
    "rides_info.fillna(rides_info.median(), inplace=True)"
   ]
  },
  {
   "cell_type": "markdown",
   "id": "d047d37d-0f74-4e59-9676-220f205a9231",
   "metadata": {},
   "source": [
    "<h1><center>Для начала возьмем готовую реализацию нейронной сети MLP из sklearn</center></h1>"
   ]
  },
  {
   "cell_type": "code",
   "execution_count": 57,
   "id": "5ff39f5c-6ab0-4ea3-926b-5d4f50cc116a",
   "metadata": {},
   "outputs": [],
   "source": [
    "from sklearn.model_selection import train_test_split\n",
    "from sklearn.neural_network import MLPClassifier, MLPRegressor\n",
    "from sklearn.metrics import f1_score, mean_squared_error\n",
    "from sklearn.preprocessing import LabelEncoder"
   ]
  },
  {
   "cell_type": "code",
   "execution_count": 58,
   "id": "6614e341-5eb4-41aa-9922-c259671f9457",
   "metadata": {
    "tags": []
   },
   "outputs": [],
   "source": [
    "X = rides_info.drop(drop_cols, axis=1)\n",
    "y = rides_info['target_class']"
   ]
  },
  {
   "cell_type": "code",
   "execution_count": 13,
   "id": "549dea90-148b-4992-983a-ad941edaa598",
   "metadata": {
    "tags": []
   },
   "outputs": [],
   "source": [
    "X_train, X_test, y_train, y_test = train_test_split(X, y, test_size=0.2, random_state=42)"
   ]
  },
  {
   "cell_type": "markdown",
   "id": "bea47024-cd8c-45ad-8809-63f5f9b1ede4",
   "metadata": {},
   "source": [
    "## **Классификация**"
   ]
  },
  {
   "cell_type": "code",
   "execution_count": 14,
   "id": "284dcee1-de1a-401a-ad9d-65750c4d805a",
   "metadata": {
    "tags": []
   },
   "outputs": [
    {
     "name": "stdout",
     "output_type": "stream",
     "text": [
      "Iteration 1, loss = 31.99382509\n",
      "Iteration 2, loss = 32.15449761\n",
      "Iteration 3, loss = 31.99382393\n",
      "Iteration 4, loss = 32.28309820\n",
      "Iteration 5, loss = 32.36023759\n",
      "Iteration 6, loss = 31.90499338\n",
      "Iteration 7, loss = 32.10967484\n",
      "Iteration 8, loss = 32.22524094\n",
      "Iteration 9, loss = 31.72383062\n",
      "Iteration 10, loss = 31.90110747\n",
      "Iteration 11, loss = 32.24452460\n",
      "Iteration 12, loss = 31.81438172\n",
      "Iteration 13, loss = 31.70454408\n",
      "Iteration 14, loss = 31.64668880\n",
      "Iteration 15, loss = 32.18666835\n",
      "Iteration 16, loss = 32.22755536\n",
      "Iteration 17, loss = 31.43424254\n",
      "Iteration 18, loss = 31.80096785\n",
      "Iteration 19, loss = 32.10782103\n",
      "Iteration 20, loss = 32.48528058\n",
      "Iteration 21, loss = 32.41971144\n",
      "Iteration 22, loss = 31.76250559\n",
      "Iteration 23, loss = 32.30481520\n",
      "Iteration 24, loss = 31.89739216\n",
      "Iteration 25, loss = 32.10952705\n",
      "Iteration 26, loss = 31.80503258\n",
      "Iteration 27, loss = 31.74311212\n",
      "Iteration 28, loss = 31.93596205\n",
      "Training loss did not improve more than tol=0.000100 for 10 consecutive epochs. Stopping.\n"
     ]
    }
   ],
   "source": [
    "clf = MLPClassifier(random_state=42, max_iter=100, verbose=True).fit(X_train, y_train)"
   ]
  },
  {
   "cell_type": "code",
   "execution_count": 15,
   "id": "cb3f0341-1fa6-4e6c-89c2-561188353491",
   "metadata": {
    "tags": []
   },
   "outputs": [],
   "source": [
    "preds = clf.predict(X_test)"
   ]
  },
  {
   "cell_type": "code",
   "execution_count": 16,
   "id": "279c5a8d-0e8b-4f0d-bac7-5d26a1eb4a2d",
   "metadata": {
    "tags": []
   },
   "outputs": [
    {
     "data": {
      "text/plain": [
       "array(['electro_bug', 'engine_overheat', 'wheel_shake', 'wheel_shake',\n",
       "       'engine_overheat'], dtype='<U15')"
      ]
     },
     "execution_count": 16,
     "metadata": {},
     "output_type": "execute_result"
    }
   ],
   "source": [
    "preds[:5]"
   ]
  },
  {
   "cell_type": "code",
   "execution_count": 17,
   "id": "958ff998-37dd-497f-9c55-22b8b7364e06",
   "metadata": {
    "tags": []
   },
   "outputs": [
    {
     "data": {
      "text/plain": [
       "0.030400788242116648"
      ]
     },
     "execution_count": 17,
     "metadata": {},
     "output_type": "execute_result"
    }
   ],
   "source": [
    "f1_score(y_test, preds, average='macro')"
   ]
  },
  {
   "cell_type": "markdown",
   "id": "98fed244-55d4-4d5e-a015-adc70cbc99e4",
   "metadata": {},
   "source": [
    "## **Регрессия**"
   ]
  },
  {
   "cell_type": "code",
   "execution_count": 18,
   "id": "7ccbd815-62a8-460d-a682-8770c6a4f02f",
   "metadata": {
    "tags": []
   },
   "outputs": [],
   "source": [
    "y = rides_info['target_reg']"
   ]
  },
  {
   "cell_type": "code",
   "execution_count": 19,
   "id": "34d668c7-2b8f-489b-a559-8287f137bf31",
   "metadata": {
    "tags": []
   },
   "outputs": [],
   "source": [
    "X_train, X_test, y_train, y_test = train_test_split(X, y, test_size=0.2, random_state=42)"
   ]
  },
  {
   "cell_type": "code",
   "execution_count": 20,
   "id": "8a50e7e5-e3c6-48b3-a0b4-ea19536f52ff",
   "metadata": {
    "tags": []
   },
   "outputs": [],
   "source": [
    "regr = MLPRegressor(random_state=42).fit(X_train, y_train)"
   ]
  },
  {
   "cell_type": "code",
   "execution_count": 21,
   "id": "eb3f8cec-a069-4c2d-a810-caccf9141230",
   "metadata": {},
   "outputs": [
    {
     "data": {
      "text/plain": [
       "array([3063.34633881, 1977.44798248,  741.31151105, 2635.05890012,\n",
       "       1064.84778015])"
      ]
     },
     "execution_count": 21,
     "metadata": {},
     "output_type": "execute_result"
    }
   ],
   "source": [
    "preds = regr.predict(X_test)\n",
    "preds[:5]"
   ]
  },
  {
   "cell_type": "code",
   "execution_count": 22,
   "id": "a406a3d6-28a5-4b38-b345-a5f7b3a566bd",
   "metadata": {
    "tags": []
   },
   "outputs": [
    {
     "data": {
      "text/plain": [
       "31723160.539891228"
      ]
     },
     "execution_count": 22,
     "metadata": {},
     "output_type": "execute_result"
    }
   ],
   "source": [
    "mean_squared_error(y_test, preds)"
   ]
  },
  {
   "cell_type": "markdown",
   "id": "5c54d88a",
   "metadata": {
    "papermill": {
     "duration": 0.014976,
     "end_time": "2022-12-12T05:12:53.278342",
     "exception": false,
     "start_time": "2022-12-12T05:12:53.263366",
     "status": "completed"
    },
    "tags": []
   },
   "source": [
    "## Теперь попробуем решить задачу с помощью самописного MLP с двумя головами. На фрэймворке PyTorch "
   ]
  },
  {
   "cell_type": "code",
   "execution_count": 59,
   "id": "90d44eb8",
   "metadata": {
    "papermill": {
     "duration": 0.031224,
     "end_time": "2022-12-12T05:13:02.045600",
     "exception": false,
     "start_time": "2022-12-12T05:13:02.014376",
     "status": "completed"
    },
    "tags": []
   },
   "outputs": [],
   "source": [
    "rides_df = rides_info.drop(columns=['car_id'])"
   ]
  },
  {
   "cell_type": "code",
   "execution_count": 60,
   "id": "8983dbac",
   "metadata": {
    "papermill": {
     "duration": 0.045726,
     "end_time": "2022-12-12T05:13:03.314846",
     "exception": false,
     "start_time": "2022-12-12T05:13:03.269120",
     "status": "completed"
    },
    "tags": []
   },
   "outputs": [],
   "source": [
    "# переведем строковые значения категориального таргета в целочисленные\n",
    "le = LabelEncoder()\n",
    "rides_df['target_class'] = le.fit_transform(rides_df['target_class'])"
   ]
  },
  {
   "cell_type": "markdown",
   "id": "08b48bca-0d4e-4834-86f2-c8872879d7b2",
   "metadata": {},
   "source": [
    "### GaussRankScaler - SOTA scaler для нейросетей, показывает лучший скор, чем скейлеры из sklearn"
   ]
  },
  {
   "cell_type": "code",
   "execution_count": 61,
   "id": "6a2269f8",
   "metadata": {
    "papermill": {
     "duration": 2.947399,
     "end_time": "2022-12-12T05:13:06.274483",
     "exception": false,
     "start_time": "2022-12-12T05:13:03.327084",
     "status": "completed"
    },
    "tags": []
   },
   "outputs": [],
   "source": [
    "# для нормализации данных используем ранк гаусс трансформацию. \n",
    "# импортнем библеотеку и добавим путь к ней \n",
    "#!git clone https://github.com/aldente0630/gauss-rank-scaler\n",
    "import sys\n",
    "sys.path.append('./gauss-rank-scaler')"
   ]
  },
  {
   "cell_type": "code",
   "execution_count": 62,
   "id": "aa7aef44",
   "metadata": {
    "papermill": {
     "duration": 0.024891,
     "end_time": "2022-12-12T05:13:06.312244",
     "exception": false,
     "start_time": "2022-12-12T05:13:06.287353",
     "status": "completed"
    },
    "tags": []
   },
   "outputs": [],
   "source": [
    "# числовые переменные, которые подвергнем трансформации\n",
    "num_cols = [col for col in list(rides_df.columns)\n",
    "            if col not in ['target_reg', 'target_class']]"
   ]
  },
  {
   "cell_type": "code",
   "execution_count": 63,
   "id": "b4dddd9b",
   "metadata": {
    "papermill": {
     "duration": 0.93668,
     "end_time": "2022-12-12T05:13:07.262133",
     "exception": false,
     "start_time": "2022-12-12T05:13:06.325453",
     "status": "completed"
    },
    "tags": []
   },
   "outputs": [
    {
     "name": "stderr",
     "output_type": "stream",
     "text": [
      "/home/jovyan/storage/Aleron/Course/Competitive_Data_Science/notebooks/./gauss-rank-scaler/gauss_rank_scaler.py:79: RuntimeWarning: invalid value encountered in divide\n",
      "  scaled_rank = np.clip(rank / factor - self.bound, -self.bound, self.bound)\n"
     ]
    }
   ],
   "source": [
    "from gauss_rank_scaler import GaussRankScaler\n",
    "\n",
    "scaler = GaussRankScaler()\n",
    "df = scaler.fit_transform(rides_df[num_cols])"
   ]
  },
  {
   "cell_type": "code",
   "execution_count": 64,
   "id": "2aac55ab",
   "metadata": {
    "papermill": {
     "duration": 0.025539,
     "end_time": "2022-12-12T05:13:07.301108",
     "exception": false,
     "start_time": "2022-12-12T05:13:07.275569",
     "status": "completed"
    },
    "tags": []
   },
   "outputs": [],
   "source": [
    "df = pd.DataFrame(df, columns=num_cols)"
   ]
  },
  {
   "cell_type": "code",
   "execution_count": 65,
   "id": "a218a4c4",
   "metadata": {
    "papermill": {
     "duration": 0.03494,
     "end_time": "2022-12-12T05:13:07.348742",
     "exception": false,
     "start_time": "2022-12-12T05:13:07.313802",
     "status": "completed"
    },
    "tags": []
   },
   "outputs": [],
   "source": [
    "target_scaler = GaussRankScaler()\n",
    "target = target_scaler.fit_transform(rides_df['target_reg'].values.reshape(-1, 1))"
   ]
  },
  {
   "cell_type": "code",
   "execution_count": 66,
   "id": "233c657d",
   "metadata": {
    "papermill": {
     "duration": 0.031865,
     "end_time": "2022-12-12T05:13:07.393715",
     "exception": false,
     "start_time": "2022-12-12T05:13:07.361850",
     "status": "completed"
    },
    "tags": []
   },
   "outputs": [],
   "source": [
    "df['target_reg'] = target\n",
    "df['target_class'] = rides_df['target_class']"
   ]
  },
  {
   "cell_type": "code",
   "execution_count": 67,
   "id": "fd4527d3",
   "metadata": {
    "papermill": {
     "duration": 0.178249,
     "end_time": "2022-12-12T05:13:07.585348",
     "exception": false,
     "start_time": "2022-12-12T05:13:07.407099",
     "status": "completed"
    },
    "tags": []
   },
   "outputs": [],
   "source": [
    "train, test = train_test_split(df, test_size=0.2, random_state=42)"
   ]
  },
  {
   "cell_type": "code",
   "execution_count": 68,
   "id": "eb341d0c",
   "metadata": {
    "papermill": {
     "duration": 1.958607,
     "end_time": "2022-12-12T05:13:09.556582",
     "exception": false,
     "start_time": "2022-12-12T05:13:07.597975",
     "status": "completed"
    },
    "tags": []
   },
   "outputs": [],
   "source": [
    "from torch.utils.data import Dataset, DataLoader\n",
    "import torch\n",
    "from torch import nn\n",
    "import os\n",
    "import copy"
   ]
  },
  {
   "cell_type": "code",
   "execution_count": 69,
   "id": "6cce5013",
   "metadata": {
    "papermill": {
     "duration": 0.024585,
     "end_time": "2022-12-12T05:13:09.596698",
     "exception": false,
     "start_time": "2022-12-12T05:13:09.572113",
     "status": "completed"
    },
    "tags": []
   },
   "outputs": [],
   "source": [
    "# для наших данных и размера нейросети подойдет запуск на cpu\n",
    "device = torch.device('cpu')"
   ]
  },
  {
   "cell_type": "code",
   "execution_count": 70,
   "id": "a086782f",
   "metadata": {
    "papermill": {
     "duration": 0.026631,
     "end_time": "2022-12-12T05:13:09.636749",
     "exception": false,
     "start_time": "2022-12-12T05:13:09.610118",
     "status": "completed"
    },
    "tags": []
   },
   "outputs": [],
   "source": [
    "# ВАЖНО! - фиксируем воспроизводимость\n",
    "def seed_everything(seed=42):\n",
    "    \n",
    "    np.random.seed(seed)\n",
    "    torch.manual_seed(seed)\n",
    "    torch.cuda.manual_seed(seed)\n",
    "    torch.backends.cudnn.deterministic = True\n",
    "    \n",
    "seed_everything(seed=42)"
   ]
  },
  {
   "cell_type": "code",
   "execution_count": 83,
   "id": "97fa9ee0",
   "metadata": {
    "papermill": {
     "duration": 0.031356,
     "end_time": "2022-12-12T05:13:09.680156",
     "exception": false,
     "start_time": "2022-12-12T05:13:09.648800",
     "status": "completed"
    },
    "tags": []
   },
   "outputs": [],
   "source": [
    "# можно попробовать поэкспериментировать с параметрами\n",
    "class CFG:\n",
    "    hidden_size=128\n",
    "    dropout=0.1\n",
    "    lr=1e-3\n",
    "    batch_size=128\n",
    "    num_workers=4\n",
    "    epochs=20\n",
    "    num_features=train.shape[1]-2 # кол-во фичей подаваемое на вход\n",
    "    num_tar_class=train.target_class.nunique() # количество выходов равно кол-ву предсказываемых классов"
   ]
  },
  {
   "cell_type": "code",
   "execution_count": 84,
   "id": "1e1ef04e",
   "metadata": {
    "papermill": {
     "duration": 0.024398,
     "end_time": "2022-12-12T05:13:09.716805",
     "exception": false,
     "start_time": "2022-12-12T05:13:09.692407",
     "status": "completed"
    },
    "tags": []
   },
   "outputs": [],
   "source": [
    "# датасет выдает фичи и значения целевых переменных\n",
    "class Rides(Dataset):\n",
    "    \n",
    "    def __init__(self, df):\n",
    "        self.df = df\n",
    "        \n",
    "    def __len__(self):\n",
    "        return len(self.df)\n",
    "    \n",
    "    def __getitem__(self, idx):\n",
    "        row = self.df.iloc[idx,:]\n",
    "        \n",
    "        data = row.drop(labels=['target_reg', 'target_class'])\n",
    "        \n",
    "        data = torch.FloatTensor(data.values.astype('float'))\n",
    "        tar_reg = torch.tensor(row['target_reg']).float()\n",
    "        tar_class = row['target_class'].astype('int')\n",
    "        \n",
    "        return data, tar_reg, tar_class"
   ]
  },
  {
   "cell_type": "code",
   "execution_count": 85,
   "id": "4b3f992d",
   "metadata": {
    "papermill": {
     "duration": 0.039379,
     "end_time": "2022-12-12T05:13:09.768429",
     "exception": false,
     "start_time": "2022-12-12T05:13:09.729050",
     "status": "completed"
    },
    "tags": []
   },
   "outputs": [
    {
     "data": {
      "text/plain": [
       "(tensor([-0.3436, -2.7511, -1.6442,  2.7511,  0.0345, -0.1473, -2.7511,  1.9094,\n",
       "         -0.2307,     nan,  1.0498, -2.7511,  2.7511, -2.7511, -2.7511, -2.7511,\n",
       "          2.7511, -2.7511, -2.7511, -2.7511, -2.7511, -2.7511, -2.7511, -2.7511,\n",
       "         -2.7511,  2.7511, -2.7511, -2.7511, -2.7511, -2.7511, -2.7511, -2.7511,\n",
       "         -2.7511, -2.7511, -2.7511, -2.7511, -2.7511, -2.7511, -2.7511, -2.7511,\n",
       "         -2.7511, -2.7511, -2.7511]),\n",
       " tensor(-0.8442),\n",
       " 2)"
      ]
     },
     "execution_count": 85,
     "metadata": {},
     "output_type": "execute_result"
    }
   ],
   "source": [
    "# проверим корректность работы методов нашего класса\n",
    "next(iter(Rides(train)))"
   ]
  },
  {
   "cell_type": "code",
   "execution_count": 86,
   "id": "6c8040b8",
   "metadata": {
    "papermill": {
     "duration": 0.023079,
     "end_time": "2022-12-12T05:13:09.806028",
     "exception": false,
     "start_time": "2022-12-12T05:13:09.782949",
     "status": "completed"
    },
    "tags": []
   },
   "outputs": [],
   "source": [
    "train_datasets = {'train': Rides(train),\n",
    "                  'val': Rides(test)}"
   ]
  },
  {
   "cell_type": "code",
   "execution_count": 87,
   "id": "28a28a13",
   "metadata": {
    "papermill": {
     "duration": 0.025611,
     "end_time": "2022-12-12T05:13:09.844114",
     "exception": false,
     "start_time": "2022-12-12T05:13:09.818503",
     "status": "completed"
    },
    "tags": []
   },
   "outputs": [],
   "source": [
    "dataloaders_dict = {x: torch.utils.data.DataLoader(train_datasets[x], \n",
    "                                                   batch_size=CFG.batch_size, \n",
    "                                                   shuffle=True, \n",
    "                                                   num_workers=CFG.num_workers)\n",
    "                    for x in ['train', 'val']}"
   ]
  },
  {
   "cell_type": "code",
   "execution_count": 88,
   "id": "d89d1f32",
   "metadata": {
    "papermill": {
     "duration": 0.029852,
     "end_time": "2022-12-12T05:13:09.887383",
     "exception": false,
     "start_time": "2022-12-12T05:13:09.857531",
     "status": "completed"
    },
    "tags": []
   },
   "outputs": [],
   "source": [
    "# Построим архитектуру mlp с двумя головами для регрессии и классифкации\n",
    "\n",
    "class TabularNN(nn.Module):\n",
    "    def __init__(self, cfg):\n",
    "        super().__init__()\n",
    "        self.mlp = nn.Sequential(\n",
    "                          nn.Linear(cfg.num_features, cfg.hidden_size),\n",
    "                          #nn.BatchNorm1d(cfg.hidden_size),\n",
    "                          nn.Dropout(cfg.dropout),\n",
    "                          nn.ReLU(),\n",
    "                          nn.Linear(cfg.hidden_size, cfg.hidden_size),\n",
    "                          #nn.BatchNorm1d(cfg.hidden_size),\n",
    "                          nn.Dropout(cfg.dropout),\n",
    "                          nn.ReLU(),\n",
    "                          nn.Linear(cfg.hidden_size, cfg.hidden_size//2),\n",
    "                          )\n",
    "        \n",
    "        self.regressor = nn.Sequential(\n",
    "            nn.Linear(cfg.hidden_size//2, 1)\n",
    "        )\n",
    "        self.classifier = nn.Sequential(\n",
    "            nn.Linear(cfg.hidden_size//2, cfg.num_tar_class)\n",
    "        )\n",
    "\n",
    "    def forward(self, data):\n",
    "        x = self.mlp(data)\n",
    "        tar_reg = self.regressor(x)\n",
    "        tar_class = self.classifier(x)\n",
    "        return tar_reg.view(-1), tar_class"
   ]
  },
  {
   "cell_type": "code",
   "execution_count": 89,
   "id": "0547d032",
   "metadata": {
    "papermill": {
     "duration": 0.029434,
     "end_time": "2022-12-12T05:13:09.931237",
     "exception": false,
     "start_time": "2022-12-12T05:13:09.901803",
     "status": "completed"
    },
    "tags": []
   },
   "outputs": [],
   "source": [
    "model = TabularNN(CFG).to(device)"
   ]
  },
  {
   "cell_type": "code",
   "execution_count": 90,
   "id": "a2257f8b",
   "metadata": {
    "papermill": {
     "duration": 0.02525,
     "end_time": "2022-12-12T05:13:09.969100",
     "exception": false,
     "start_time": "2022-12-12T05:13:09.943850",
     "status": "completed"
    },
    "tags": []
   },
   "outputs": [],
   "source": [
    "# оптимайзер и лоссы для регрессии и классификации\n",
    "optimizer = torch.optim.Adam(model.parameters(), lr = CFG.lr)\n",
    "regression_criterion = nn.MSELoss().to(device)\n",
    "classification_criterion = nn.CrossEntropyLoss().to(device)"
   ]
  },
  {
   "cell_type": "code",
   "execution_count": 91,
   "id": "13916566",
   "metadata": {
    "papermill": {
     "duration": 0.032877,
     "end_time": "2022-12-12T05:13:10.014252",
     "exception": false,
     "start_time": "2022-12-12T05:13:09.981375",
     "status": "completed"
    },
    "tags": []
   },
   "outputs": [],
   "source": [
    "# функция для тренировки, на выходе - обученная модель\n",
    "def train_model(model, dataloaders, regression_criterion,\n",
    "                classification_criterion, optimizer, num_epochs=25):\n",
    "\n",
    "    val_acc_history = []\n",
    "\n",
    "    best_model_wts = copy.deepcopy(model.state_dict())\n",
    "    best_loss = 100000.0\n",
    "\n",
    "    for epoch in range(num_epochs):\n",
    "        print('Epoch {}/{}'.format(epoch, num_epochs - 1))\n",
    "        print('-' * 10)\n",
    "\n",
    "        # Each epoch has a training and validation phase\n",
    "        for phase in ['train', 'val']:\n",
    "            if phase == 'train':\n",
    "                model.train()  # Set model to training mode\n",
    "            else:\n",
    "                model.eval()   # Set model to evaluate mode\n",
    "\n",
    "            running_loss = 0.0\n",
    "\n",
    "            # Iterate over data.\n",
    "            for inputs, labels_1, labels_2 in dataloaders[phase]:\n",
    "                inputs = inputs.to(device)\n",
    "                labels_1 = labels_1.to(device)\n",
    "                labels_2 = labels_2.to(device)\n",
    "                \n",
    "                # zero the parameter gradients\n",
    "                optimizer.zero_grad()\n",
    "\n",
    "                # forward\n",
    "                # track history if only in train\n",
    "                with torch.set_grad_enabled(phase == 'train'):\n",
    "                    # Get model outputs and calculate loss\n",
    "\n",
    "                    outputs_1, outputs_2 = model(inputs)\n",
    "                    loss_1 = regression_criterion(outputs_1, labels_1)\n",
    "                    loss_2 = classification_criterion(outputs_2, labels_2)\n",
    "\n",
    "                    loss = loss_1 + loss_2\n",
    "\n",
    "                    _, preds_2 = torch.max(outputs_2, 1)\n",
    "\n",
    "                    # backward + optimize only if in training phase\n",
    "                    if phase == 'train':\n",
    "                        loss.backward()\n",
    "                        optimizer.step()\n",
    "\n",
    "                # statistics\n",
    "                running_loss += loss.item() * inputs.size(0)\n",
    "                val_acc_history.append(running_loss)\n",
    "\n",
    "            epoch_loss = running_loss / len(dataloaders[phase].dataset)\n",
    "            print('{} Loss: {:.4f}'.format(phase, epoch_loss))\n",
    "\n",
    "            # deep copy the model\n",
    "            if phase == 'val' and epoch_loss < best_loss:\n",
    "                best_model_wts = copy.deepcopy(model.state_dict())\n",
    "\n",
    "\n",
    "    # load best model weights\n",
    "    model.load_state_dict(best_model_wts)\n",
    "    return model"
   ]
  },
  {
   "cell_type": "code",
   "execution_count": 92,
   "id": "a1033565",
   "metadata": {
    "papermill": {
     "duration": 984.199429,
     "end_time": "2022-12-12T05:29:34.226522",
     "exception": false,
     "start_time": "2022-12-12T05:13:10.027093",
     "status": "completed"
    },
    "tags": []
   },
   "outputs": [
    {
     "name": "stdout",
     "output_type": "stream",
     "text": [
      "Epoch 0/21\n",
      "----------\n",
      "train Loss: nan\n",
      "val Loss: nan\n",
      "Epoch 1/21\n",
      "----------\n",
      "train Loss: nan\n",
      "val Loss: nan\n",
      "Epoch 2/21\n",
      "----------\n",
      "train Loss: nan\n",
      "val Loss: nan\n",
      "Epoch 3/21\n",
      "----------\n",
      "train Loss: nan\n",
      "val Loss: nan\n",
      "Epoch 4/21\n",
      "----------\n",
      "train Loss: nan\n",
      "val Loss: nan\n",
      "Epoch 5/21\n",
      "----------\n",
      "train Loss: nan\n",
      "val Loss: nan\n",
      "Epoch 6/21\n",
      "----------\n",
      "train Loss: nan\n",
      "val Loss: nan\n",
      "Epoch 7/21\n",
      "----------\n",
      "train Loss: nan\n",
      "val Loss: nan\n",
      "Epoch 8/21\n",
      "----------\n",
      "train Loss: nan\n",
      "val Loss: nan\n",
      "Epoch 9/21\n",
      "----------\n",
      "train Loss: nan\n",
      "val Loss: nan\n",
      "Epoch 10/21\n",
      "----------\n",
      "train Loss: nan\n",
      "val Loss: nan\n",
      "Epoch 11/21\n",
      "----------\n",
      "train Loss: nan\n",
      "val Loss: nan\n",
      "Epoch 12/21\n",
      "----------\n",
      "train Loss: nan\n",
      "val Loss: nan\n",
      "Epoch 13/21\n",
      "----------\n",
      "train Loss: nan\n",
      "val Loss: nan\n",
      "Epoch 14/21\n",
      "----------\n",
      "train Loss: nan\n",
      "val Loss: nan\n",
      "Epoch 15/21\n",
      "----------\n",
      "train Loss: nan\n",
      "val Loss: nan\n",
      "Epoch 16/21\n",
      "----------\n",
      "train Loss: nan\n",
      "val Loss: nan\n",
      "Epoch 17/21\n",
      "----------\n",
      "train Loss: nan\n",
      "val Loss: nan\n",
      "Epoch 18/21\n",
      "----------\n",
      "train Loss: nan\n",
      "val Loss: nan\n",
      "Epoch 19/21\n",
      "----------\n",
      "train Loss: nan\n",
      "val Loss: nan\n",
      "Epoch 20/21\n",
      "----------\n",
      "train Loss: nan\n",
      "val Loss: nan\n",
      "Epoch 21/21\n",
      "----------\n",
      "train Loss: nan\n",
      "val Loss: nan\n"
     ]
    }
   ],
   "source": [
    "model_ft = train_model(model, dataloaders_dict, regression_criterion,\n",
    "                classification_criterion, optimizer, num_epochs=22)"
   ]
  },
  {
   "cell_type": "code",
   "execution_count": 93,
   "id": "c772c730",
   "metadata": {
    "papermill": {
     "duration": 9.161761,
     "end_time": "2022-12-12T05:29:43.404103",
     "exception": false,
     "start_time": "2022-12-12T05:29:34.242342",
     "status": "completed"
    },
    "tags": []
   },
   "outputs": [],
   "source": [
    "# p1, p2 - предсказания; l1, l2  - истинные значения\n",
    "\n",
    "p1 = []\n",
    "p2 = []\n",
    "l1 = []\n",
    "l2 = []\n",
    "\n",
    "with torch.set_grad_enabled(False):\n",
    "    # Get model outputs and calculate loss\n",
    "    for inputs, labels_1, labels_2 in dataloaders_dict['val']:\n",
    "        inputs = inputs.to(device)\n",
    "        labels_1 = labels_1.to(device)\n",
    "        labels_2 = labels_2.to(device)\n",
    "        l1.extend(labels_1.detach().cpu().numpy())\n",
    "        l2.extend(labels_2.detach().cpu().numpy())\n",
    "        \n",
    "        outputs_1, outputs_2 = model_ft(inputs)\n",
    "        _, outputs_2 = torch.max(outputs_2, 1)\n",
    "\n",
    "        p1.extend(outputs_1.detach().cpu().numpy())\n",
    "        p2.extend(outputs_2.detach().cpu().numpy())"
   ]
  },
  {
   "cell_type": "markdown",
   "id": "b624f5e6",
   "metadata": {
    "papermill": {
     "duration": 0.01554,
     "end_time": "2022-12-12T05:29:43.435681",
     "exception": false,
     "start_time": "2022-12-12T05:29:43.420141",
     "status": "completed"
    },
    "tags": []
   },
   "source": [
    "**посмотрим на результаты по каждой из задач**"
   ]
  },
  {
   "cell_type": "code",
   "execution_count": 94,
   "id": "48d40ac3",
   "metadata": {
    "papermill": {
     "duration": 0.055079,
     "end_time": "2022-12-12T05:29:43.506852",
     "exception": false,
     "start_time": "2022-12-12T05:29:43.451773",
     "status": "completed"
    },
    "tags": []
   },
   "outputs": [
    {
     "data": {
      "text/plain": [
       "0.024503591043515"
      ]
     },
     "execution_count": 94,
     "metadata": {},
     "output_type": "execute_result"
    }
   ],
   "source": [
    "# классификация\n",
    "from sklearn.metrics import f1_score\n",
    "f1_score(l2, p2, average='macro')"
   ]
  },
  {
   "cell_type": "code",
   "execution_count": 95,
   "id": "138fd0a3",
   "metadata": {
    "papermill": {
     "duration": 0.033273,
     "end_time": "2022-12-12T05:29:43.595424",
     "exception": false,
     "start_time": "2022-12-12T05:29:43.562151",
     "status": "completed"
    },
    "tags": []
   },
   "outputs": [],
   "source": [
    "p2 = target_scaler.inverse_transform(np.array(p2).reshape(-1, 1))\n",
    "l2 = target_scaler.inverse_transform(np.array(l2).reshape(-1, 1))"
   ]
  },
  {
   "cell_type": "code",
   "execution_count": 96,
   "id": "7d5269d3",
   "metadata": {
    "papermill": {
     "duration": 0.026772,
     "end_time": "2022-12-12T05:29:43.638314",
     "exception": false,
     "start_time": "2022-12-12T05:29:43.611542",
     "status": "completed"
    },
    "tags": []
   },
   "outputs": [
    {
     "data": {
      "text/plain": [
       "14483562335.115906"
      ]
     },
     "execution_count": 96,
     "metadata": {},
     "output_type": "execute_result"
    }
   ],
   "source": [
    "# регрессия\n",
    "mean_squared_error(l2, p2)"
   ]
  },
  {
   "cell_type": "markdown",
   "id": "500defa8",
   "metadata": {
    "papermill": {
     "duration": 0.016403,
     "end_time": "2022-12-12T05:29:43.670501",
     "exception": false,
     "start_time": "2022-12-12T05:29:43.654098",
     "status": "completed"
    },
    "tags": []
   },
   "source": [
    "чтобы улучшить скор можно поэкспериментировать с: \n",
    "- нормализацией данных, заполнением пропусков\n",
    "- архитектурой сети\n",
    "- попробовать lr sheduler"
   ]
  },
  {
   "cell_type": "markdown",
   "id": "4929c668",
   "metadata": {
    "papermill": {
     "duration": 0.015467,
     "end_time": "2022-12-12T05:29:43.702808",
     "exception": false,
     "start_time": "2022-12-12T05:29:43.687341",
     "status": "completed"
    },
    "tags": []
   },
   "source": [
    "# А теперь решим задачу с помощью TABNET"
   ]
  },
  {
   "cell_type": "markdown",
   "id": "5949c37d",
   "metadata": {
    "papermill": {
     "duration": 0.015851,
     "end_time": "2022-12-12T05:29:43.734051",
     "exception": false,
     "start_time": "2022-12-12T05:29:43.718200",
     "status": "completed"
    },
    "tags": []
   },
   "source": [
    "https://arxiv.org/abs/1908.07442"
   ]
  },
  {
   "cell_type": "code",
   "execution_count": 97,
   "id": "f48aca47",
   "metadata": {
    "papermill": {
     "duration": 0.045598,
     "end_time": "2022-12-12T05:29:43.796292",
     "exception": false,
     "start_time": "2022-12-12T05:29:43.750694",
     "status": "completed"
    },
    "tags": []
   },
   "outputs": [],
   "source": [
    "X = rides_info.drop(drop_cols + ['target_reg', 'target_class'], axis=1)\n",
    "y = rides_info['target_class']"
   ]
  },
  {
   "cell_type": "code",
   "execution_count": 98,
   "id": "91c32064",
   "metadata": {
    "papermill": {
     "duration": 0.079441,
     "end_time": "2022-12-12T05:29:43.892361",
     "exception": false,
     "start_time": "2022-12-12T05:29:43.812920",
     "status": "completed"
    },
    "tags": []
   },
   "outputs": [],
   "source": [
    "X_train, X_test, y_train, y_test = train_test_split(X, y, test_size=0.2, random_state=42)"
   ]
  },
  {
   "cell_type": "code",
   "execution_count": 100,
   "id": "334ceca0",
   "metadata": {
    "papermill": {
     "duration": 16.074534,
     "end_time": "2022-12-12T05:29:59.982624",
     "exception": false,
     "start_time": "2022-12-12T05:29:43.908090",
     "status": "completed"
    },
    "tags": []
   },
   "outputs": [
    {
     "name": "stdout",
     "output_type": "stream",
     "text": [
      "\u001b[33mWARNING: The directory '/home/jovyan/.cache/pip' or its parent directory is not owned or is not writable by the current user. The cache has been disabled. Check the permissions and owner of that directory. If executing pip with sudo, you should use sudo's -H flag.\u001b[0m\u001b[33m\n",
      "\u001b[0m\u001b[33mWARNING: Ignoring invalid distribution -umpy (/opt/conda/lib/python3.9/site-packages)\u001b[0m\u001b[33m\n",
      "\u001b[0m\u001b[33mWARNING: Ignoring invalid distribution -umpy (/opt/conda/lib/python3.9/site-packages)\u001b[0m\u001b[33m\n",
      "\u001b[0mCollecting pytorch-tabnet\n",
      "  Downloading pytorch_tabnet-4.0-py3-none-any.whl (41 kB)\n",
      "\u001b[2K     \u001b[90m━━━━━━━━━━━━━━━━━━━━━━━━━━━━━━━━━━━━━━━\u001b[0m \u001b[32m41.8/41.8 kB\u001b[0m \u001b[31m885.9 kB/s\u001b[0m eta \u001b[36m0:00:00\u001b[0m \u001b[36m0:00:01\u001b[0m\n",
      "\u001b[?25hRequirement already satisfied: torch<2.0,>=1.2 in /opt/conda/lib/python3.9/site-packages (from pytorch-tabnet) (1.12.1+cu113)\n",
      "Requirement already satisfied: scipy>1.4 in /opt/conda/lib/python3.9/site-packages (from pytorch-tabnet) (1.10.0)\n",
      "Requirement already satisfied: tqdm<5.0,>=4.36 in /opt/conda/lib/python3.9/site-packages (from pytorch-tabnet) (4.64.1)\n",
      "Requirement already satisfied: scikit_learn>0.21 in /opt/conda/lib/python3.9/site-packages (from pytorch-tabnet) (1.2.0)\n",
      "Requirement already satisfied: numpy<2.0,>=1.17 in /opt/conda/lib/python3.9/site-packages (from pytorch-tabnet) (1.24.1)\n",
      "Requirement already satisfied: joblib>=1.1.1 in /opt/conda/lib/python3.9/site-packages (from scikit_learn>0.21->pytorch-tabnet) (1.2.0)\n",
      "Requirement already satisfied: threadpoolctl>=2.0.0 in /opt/conda/lib/python3.9/site-packages (from scikit_learn>0.21->pytorch-tabnet) (3.1.0)\n",
      "Requirement already satisfied: typing-extensions in /opt/conda/lib/python3.9/site-packages (from torch<2.0,>=1.2->pytorch-tabnet) (4.4.0)\n",
      "\u001b[33mWARNING: Ignoring invalid distribution -umpy (/opt/conda/lib/python3.9/site-packages)\u001b[0m\u001b[33m\n",
      "\u001b[0mInstalling collected packages: pytorch-tabnet\n",
      "\u001b[33mWARNING: Ignoring invalid distribution -umpy (/opt/conda/lib/python3.9/site-packages)\u001b[0m\u001b[33m\n",
      "\u001b[0mSuccessfully installed pytorch-tabnet-4.0\n",
      "\u001b[33mWARNING: Ignoring invalid distribution -umpy (/opt/conda/lib/python3.9/site-packages)\u001b[0m\u001b[33m\n",
      "\u001b[0m\u001b[33mWARNING: Ignoring invalid distribution -umpy (/opt/conda/lib/python3.9/site-packages)\u001b[0m\u001b[33m\n",
      "\u001b[0m\u001b[33mWARNING: Ignoring invalid distribution -umpy (/opt/conda/lib/python3.9/site-packages)\u001b[0m\u001b[33m\n",
      "\u001b[0mNote: you may need to restart the kernel to use updated packages.\n"
     ]
    }
   ],
   "source": [
    "pip install pytorch-tabnet"
   ]
  },
  {
   "cell_type": "code",
   "execution_count": 101,
   "id": "70464a71",
   "metadata": {
    "papermill": {
     "duration": 0.052706,
     "end_time": "2022-12-12T05:30:00.053660",
     "exception": false,
     "start_time": "2022-12-12T05:30:00.000954",
     "status": "completed"
    },
    "tags": []
   },
   "outputs": [],
   "source": [
    "from pytorch_tabnet.tab_model import TabNetClassifier, TabNetRegressor"
   ]
  },
  {
   "cell_type": "markdown",
   "id": "e49a3419",
   "metadata": {
    "papermill": {
     "duration": 0.016618,
     "end_time": "2022-12-12T05:30:00.088995",
     "exception": false,
     "start_time": "2022-12-12T05:30:00.072377",
     "status": "completed"
    },
    "tags": []
   },
   "source": [
    "## **Классификация**"
   ]
  },
  {
   "cell_type": "code",
   "execution_count": 102,
   "id": "d4e963d2",
   "metadata": {
    "papermill": {
     "duration": 250.852946,
     "end_time": "2022-12-12T05:34:10.960029",
     "exception": false,
     "start_time": "2022-12-12T05:30:00.107083",
     "status": "completed"
    },
    "tags": []
   },
   "outputs": [
    {
     "name": "stderr",
     "output_type": "stream",
     "text": [
      "/opt/conda/lib/python3.9/site-packages/pytorch_tabnet/abstract_model.py:75: UserWarning: Device used : cpu\n",
      "  warnings.warn(f\"Device used : {self.device}\")\n"
     ]
    },
    {
     "name": "stdout",
     "output_type": "stream",
     "text": [
      "epoch 0  | loss: 2.86534 | val_0_accuracy: 0.11752 |  0:00:00s\n",
      "epoch 1  | loss: 2.73252 | val_0_accuracy: 0.10897 |  0:00:00s\n",
      "epoch 2  | loss: 2.57215 | val_0_accuracy: 0.09402 |  0:00:00s\n",
      "epoch 3  | loss: 2.46832 | val_0_accuracy: 0.10043 |  0:00:00s\n",
      "epoch 4  | loss: 2.32645 | val_0_accuracy: 0.09829 |  0:00:00s\n",
      "epoch 5  | loss: 2.43553 | val_0_accuracy: 0.1047  |  0:00:00s\n",
      "epoch 6  | loss: 2.29796 | val_0_accuracy: 0.10043 |  0:00:00s\n",
      "epoch 7  | loss: 2.28731 | val_0_accuracy: 0.1047  |  0:00:00s\n",
      "epoch 8  | loss: 2.26514 | val_0_accuracy: 0.1047  |  0:00:00s\n",
      "epoch 9  | loss: 2.23654 | val_0_accuracy: 0.1047  |  0:00:00s\n",
      "epoch 10 | loss: 2.21712 | val_0_accuracy: 0.1047  |  0:00:00s\n",
      "\n",
      "Early stopping occurred at epoch 10 with best_epoch = 0 and best_val_0_accuracy = 0.11752\n"
     ]
    },
    {
     "name": "stderr",
     "output_type": "stream",
     "text": [
      "/opt/conda/lib/python3.9/site-packages/pytorch_tabnet/callbacks.py:172: UserWarning: Best weights from best epoch are automatically used!\n",
      "  warnings.warn(wrn_msg)\n"
     ]
    }
   ],
   "source": [
    "clf = TabNetClassifier(device_name='cpu')\n",
    "clf.fit(\n",
    "  X_train.values, y_train,\n",
    "  eval_set=[(X_test.values, y_test)]\n",
    ")"
   ]
  },
  {
   "cell_type": "code",
   "execution_count": 117,
   "id": "a69232db",
   "metadata": {
    "papermill": {
     "duration": 0.562027,
     "end_time": "2022-12-12T05:34:11.544248",
     "exception": false,
     "start_time": "2022-12-12T05:34:10.982221",
     "status": "completed"
    },
    "tags": []
   },
   "outputs": [],
   "source": [
    "preds = clf.predict(X_test.values)"
   ]
  },
  {
   "cell_type": "code",
   "execution_count": 41,
   "id": "7b292591",
   "metadata": {
    "execution": {
     "iopub.execute_input": "2022-12-12T05:34:11.590517Z",
     "iopub.status.busy": "2022-12-12T05:34:11.589931Z",
     "iopub.status.idle": "2022-12-12T05:34:11.600668Z",
     "shell.execute_reply": "2022-12-12T05:34:11.599031Z"
    },
    "papermill": {
     "duration": 0.038659,
     "end_time": "2022-12-12T05:34:11.603516",
     "exception": false,
     "start_time": "2022-12-12T05:34:11.564857",
     "status": "completed"
    },
    "tags": []
   },
   "outputs": [
    {
     "data": {
      "text/plain": [
       "array(['engine_fuel', 'another_bug', 'another_bug', 'another_bug',\n",
       "       'engine_check'], dtype='<U15')"
      ]
     },
     "execution_count": 41,
     "metadata": {},
     "output_type": "execute_result"
    }
   ],
   "source": [
    "preds[:5]"
   ]
  },
  {
   "cell_type": "code",
   "execution_count": 118,
   "id": "48bc4df7",
   "metadata": {
    "papermill": {
     "duration": 0.140483,
     "end_time": "2022-12-12T05:34:11.765915",
     "exception": false,
     "start_time": "2022-12-12T05:34:11.625432",
     "status": "completed"
    },
    "tags": []
   },
   "outputs": [
    {
     "data": {
      "text/plain": [
       "0.5659570480334537"
      ]
     },
     "execution_count": 118,
     "metadata": {},
     "output_type": "execute_result"
    }
   ],
   "source": [
    "f1_score(y_test, preds, average='macro')"
   ]
  },
  {
   "cell_type": "markdown",
   "id": "da476d79",
   "metadata": {
    "papermill": {
     "duration": 0.021449,
     "end_time": "2022-12-12T05:34:11.964043",
     "exception": false,
     "start_time": "2022-12-12T05:34:11.942594",
     "status": "completed"
    },
    "tags": []
   },
   "source": [
    "## **Регрессия**"
   ]
  },
  {
   "cell_type": "code",
   "execution_count": 119,
   "id": "550b29e0",
   "metadata": {
    "papermill": {
     "duration": 0.031633,
     "end_time": "2022-12-12T05:34:11.820467",
     "exception": false,
     "start_time": "2022-12-12T05:34:11.788834",
     "status": "completed"
    },
    "tags": []
   },
   "outputs": [],
   "source": [
    "y = rides_info['target_1']"
   ]
  },
  {
   "cell_type": "code",
   "execution_count": 120,
   "id": "ac570e93",
   "metadata": {
    "papermill": {
     "duration": 0.079668,
     "end_time": "2022-12-12T05:34:11.921922",
     "exception": false,
     "start_time": "2022-12-12T05:34:11.842254",
     "status": "completed"
    },
    "tags": []
   },
   "outputs": [],
   "source": [
    "X_train, X_test, y_train, y_test = train_test_split(X, y, test_size=0.2, random_state=42)"
   ]
  },
  {
   "cell_type": "code",
   "execution_count": 121,
   "id": "b10c484e",
   "metadata": {
    "papermill": {
     "duration": 459.816751,
     "end_time": "2022-12-12T05:41:51.803545",
     "exception": false,
     "start_time": "2022-12-12T05:34:11.986794",
     "status": "completed"
    },
    "tags": []
   },
   "outputs": [
    {
     "name": "stderr",
     "output_type": "stream",
     "text": [
      "/opt/conda/lib/python3.9/site-packages/pytorch_tabnet/abstract_model.py:75: UserWarning: Device used : cpu\n",
      "  warnings.warn(f\"Device used : {self.device}\")\n"
     ]
    },
    {
     "name": "stdout",
     "output_type": "stream",
     "text": [
      "epoch 0  | loss: 13071166116457.59| val_0_mse: 13114763854235.57|  0:00:22s\n",
      "epoch 1  | loss: 13036448048594.746| val_0_mse: 13082107736203.969|  0:00:44s\n",
      "epoch 2  | loss: 12993154211911.0| val_0_mse: 13012934553076.578|  0:01:06s\n",
      "epoch 3  | loss: 12938276803404.754| val_0_mse: 12971329225959.338|  0:01:28s\n",
      "epoch 4  | loss: 12864850954122.873| val_0_mse: 12913032110380.582|  0:01:50s\n",
      "epoch 5  | loss: 12774357662267.453| val_0_mse: 12762433003363.947|  0:02:12s\n",
      "epoch 6  | loss: 12660569340475.453| val_0_mse: 12629622799360.06|  0:02:34s\n",
      "epoch 7  | loss: 12509594837346.947| val_0_mse: 12383024418846.844|  0:02:56s\n",
      "epoch 8  | loss: 12299034565051.672| val_0_mse: 12068202789007.113|  0:03:19s\n",
      "epoch 9  | loss: 12039692082078.393| val_0_mse: 11826439971454.65|  0:03:41s\n",
      "epoch 10 | loss: 11749502732085.686| val_0_mse: 11670502449324.525|  0:04:03s\n",
      "epoch 11 | loss: 11406910236767.844| val_0_mse: 11287346087265.936|  0:04:25s\n",
      "epoch 12 | loss: 11041688805333.412| val_0_mse: 10348520529247.09|  0:04:47s\n",
      "epoch 13 | loss: 10628105641288.326| val_0_mse: 10265494796959.68|  0:05:09s\n",
      "epoch 14 | loss: 10195185485508.102| val_0_mse: 9710028756915.697|  0:05:31s\n",
      "epoch 15 | loss: 9720749159202.158| val_0_mse: 8954273544569.57|  0:05:53s\n",
      "epoch 16 | loss: 9225164489726.229| val_0_mse: 8960463155457.541|  0:06:15s\n",
      "epoch 17 | loss: 8691465032184.009| val_0_mse: 8519495273915.342|  0:06:38s\n",
      "epoch 18 | loss: 8147271610488.68| val_0_mse: 7714548033958.999|  0:07:00s\n",
      "epoch 19 | loss: 7617010206489.288| val_0_mse: 7250976883131.175|  0:07:22s\n",
      "epoch 20 | loss: 7065547888771.327| val_0_mse: 6047719124890.455|  0:07:44s\n",
      "epoch 21 | loss: 6527278400822.575| val_0_mse: 6620083624451.206|  0:08:06s\n",
      "epoch 22 | loss: 6006845659494.489| val_0_mse: 4784804572295.3955|  0:08:28s\n",
      "epoch 23 | loss: 5538261529889.272| val_0_mse: 5103536390704.592|  0:08:50s\n",
      "epoch 24 | loss: 5111503029757.337| val_0_mse: 4468029789511.419|  0:09:12s\n",
      "epoch 25 | loss: 4740339219997.277| val_0_mse: 4528652062827.021|  0:09:34s\n",
      "epoch 26 | loss: 4423927115470.753| val_0_mse: 3580450030534.057|  0:09:56s\n",
      "epoch 27 | loss: 4169612138712.513| val_0_mse: 3562138609346.995|  0:10:18s\n",
      "epoch 28 | loss: 3967735641746.4136| val_0_mse: 3515142688583.757|  0:10:40s\n",
      "epoch 29 | loss: 3846915607915.811| val_0_mse: 3287590877829.9624|  0:11:02s\n",
      "epoch 30 | loss: 3770306955657.9834| val_0_mse: 2927733690302.94|  0:11:24s\n",
      "epoch 31 | loss: 3709147005410.7183| val_0_mse: 2975408112772.4097|  0:11:46s\n",
      "epoch 32 | loss: 3714363354348.035| val_0_mse: 2794110541362.4507|  0:12:08s\n",
      "epoch 33 | loss: 3654905880817.361| val_0_mse: 2777175550139.2954|  0:12:30s\n",
      "epoch 34 | loss: 3650322003574.018| val_0_mse: 2727736816756.805|  0:12:53s\n",
      "epoch 35 | loss: 3634253888002.6616| val_0_mse: 3039033960821.54|  0:13:15s\n",
      "epoch 36 | loss: 3599168182488.512| val_0_mse: 2931304345614.635|  0:13:37s\n",
      "epoch 37 | loss: 3616101550445.5864| val_0_mse: 3015496174917.5176|  0:14:00s\n",
      "epoch 38 | loss: 3593937218000.9707| val_0_mse: 3089806257860.3545|  0:14:22s\n",
      "epoch 39 | loss: 3546533426351.695| val_0_mse: 2762907172281.9673|  0:14:45s\n",
      "epoch 40 | loss: 3543680738997.9067| val_0_mse: 3441690964415.759|  0:15:07s\n",
      "epoch 41 | loss: 3532489468170.2046| val_0_mse: 2831916941556.769|  0:15:30s\n",
      "epoch 42 | loss: 3533726757410.6055| val_0_mse: 3155751162344.397|  0:15:52s\n",
      "epoch 43 | loss: 3513090606362.176| val_0_mse: 3239496384530.7256|  0:16:14s\n",
      "epoch 44 | loss: 3543877050779.7285| val_0_mse: 2872766856022.739|  0:16:36s\n",
      "\n",
      "Early stopping occurred at epoch 44 with best_epoch = 34 and best_val_0_mse = 2727736816756.805\n"
     ]
    },
    {
     "name": "stderr",
     "output_type": "stream",
     "text": [
      "/opt/conda/lib/python3.9/site-packages/pytorch_tabnet/callbacks.py:172: UserWarning: Best weights from best epoch are automatically used!\n",
      "  warnings.warn(wrn_msg)\n"
     ]
    }
   ],
   "source": [
    "reg = TabNetRegressor(device_name='cpu')\n",
    "reg.fit(\n",
    "  X_train.values, y_train.values.reshape(-1,1),\n",
    "  eval_set=[(X_test.values, y_test.values.reshape(-1,1))]\n",
    ")"
   ]
  },
  {
   "cell_type": "code",
   "execution_count": 125,
   "id": "54f46b59",
   "metadata": {
    "papermill": {
     "duration": 0.568666,
     "end_time": "2022-12-12T05:41:52.405436",
     "exception": false,
     "start_time": "2022-12-12T05:41:51.836770",
     "status": "completed"
    },
    "tags": []
   },
   "outputs": [],
   "source": [
    "preds = reg.predict(X_test.values)"
   ]
  },
  {
   "cell_type": "code",
   "execution_count": 126,
   "id": "54158c79",
   "metadata": {
    "papermill": {
     "duration": 0.048184,
     "end_time": "2022-12-12T05:41:52.487329",
     "exception": false,
     "start_time": "2022-12-12T05:41:52.439145",
     "status": "completed"
    },
    "tags": []
   },
   "outputs": [
    {
     "data": {
      "text/plain": [
       "array([[5160755.5],\n",
       "       [1466021.5],\n",
       "       [1387069.1],\n",
       "       [4700907. ],\n",
       "       [1508347.6]], dtype=float32)"
      ]
     },
     "execution_count": 126,
     "metadata": {},
     "output_type": "execute_result"
    }
   ],
   "source": [
    "preds[:5]"
   ]
  },
  {
   "cell_type": "code",
   "execution_count": 127,
   "id": "7be82a71",
   "metadata": {
    "papermill": {
     "duration": 0.046726,
     "end_time": "2022-12-12T05:41:52.565091",
     "exception": false,
     "start_time": "2022-12-12T05:41:52.518365",
     "status": "completed"
    },
    "tags": []
   },
   "outputs": [
    {
     "data": {
      "text/plain": [
       "2727736816756.805"
      ]
     },
     "execution_count": 127,
     "metadata": {},
     "output_type": "execute_result"
    }
   ],
   "source": [
    "mean_squared_error(y_test.values.reshape(-1,1), preds)"
   ]
  },
  {
   "cell_type": "markdown",
   "id": "354b9f2e-2431-4070-8c66-2fe39c7a330a",
   "metadata": {
    "papermill": {
     "duration": 0.02831,
     "end_time": "2022-12-12T05:41:52.622499",
     "exception": false,
     "start_time": "2022-12-12T05:41:52.594189",
     "status": "completed"
    },
    "tags": []
   },
   "source": [
    "# <center> Трансформеры </center>"
   ]
  },
  {
   "cell_type": "markdown",
   "id": "549240f6-abb0-4152-9a64-9b5e7a5b7a78",
   "metadata": {},
   "source": [
    "![sheet](./images/tr.png) ![sheet](./images/hf.png)"
   ]
  },
  {
   "cell_type": "markdown",
   "id": "8f963834-ffa9-4603-a4c1-fd8b374c7d0b",
   "metadata": {},
   "source": [
    "## Библиотека transformers и платформа Hugging Face\n",
    "\n",
    "Отличный туториал для начинающих: <a> https://habr.com/ru/post/704592/ </a>"
   ]
  },
  {
   "cell_type": "code",
   "execution_count": null,
   "id": "f2fdee4b-d396-4bec-81bc-42649a27e000",
   "metadata": {},
   "outputs": [],
   "source": []
  }
 ],
 "metadata": {
  "kernelspec": {
   "display_name": "Python 3 (ipykernel)",
   "language": "python",
   "name": "python3"
  },
  "language_info": {
   "codemirror_mode": {
    "name": "ipython",
    "version": 3
   },
   "file_extension": ".py",
   "mimetype": "text/x-python",
   "name": "python",
   "nbconvert_exporter": "python",
   "pygments_lexer": "ipython3",
   "version": "3.9.15"
  },
  "papermill": {
   "default_parameters": {},
   "duration": 1751.13839,
   "end_time": "2022-12-12T05:41:53.780976",
   "environment_variables": {},
   "exception": null,
   "input_path": "__notebook__.ipynb",
   "output_path": "__notebook__.ipynb",
   "parameters": {},
   "start_time": "2022-12-12T05:12:42.642586",
   "version": "2.3.4"
  }
 },
 "nbformat": 4,
 "nbformat_minor": 5
}
