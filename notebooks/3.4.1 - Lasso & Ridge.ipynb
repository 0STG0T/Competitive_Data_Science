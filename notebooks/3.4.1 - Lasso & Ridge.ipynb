{
 "cells": [
  {
   "cell_type": "markdown",
   "id": "a002e1a3-c585-491a-821d-02025caf7411",
   "metadata": {},
   "source": [
    "# <center>3.4.1 - Regularization</center>\n",
    "\n",
    "<center> <img src = https://cdn-images-1.medium.com/max/1000/0*7tki_O81VJx7oCnA> </center>\n",
    "\n",
    "Лассо- и ридж-регрессии. [Источник](https://hastie.su.domains/Papers/ESLII.pdf)"
   ]
  },
  {
   "cell_type": "markdown",
   "id": "dadb38c5-1a69-4029-967d-41442a2ca388",
   "metadata": {},
   "source": [
    "Для победы в соревнованиях по машинному обучению вы редко будете использовать линейную регрессию, но на этой простой модели легко показать принципы регуляризации и отбора признаков, которые в той или иной форме встречаются в других более сложных алгоритмах. Хорошо разобравшись в этой теме, уже можно обучать устойчивые модели, которые не будут улетать вниз на прайват части лидерборда, а так же эти знания пригодятся и в продакшен моделях, которые не будут ломаться от каждого изменения в данных.<br>\n",
    "Постараемся в этом ноутбуке обойтись без формул и доказательств, а сразу посмотреть всё на примерах."
   ]
  },
  {
   "cell_type": "markdown",
   "id": "562f5364-9a3f-4bb0-b80f-a8bae63fd575",
   "metadata": {},
   "source": [
    "У модели два основных источника ошибок:\n",
    "* **Дисперсия** (variance) - ошибка, связанная с чувствительностью к малейшим изменениям в обучающих данных.\n",
    "* **Смещение** (bias) - ошибка, связанная с неверными предположениями модели относительно связи признаков и таргета.\n",
    "\n",
    "Если сумма этих ошибок будет минимальной, то получим на выходе максимально эффективную устойчивую модель."
   ]
  },
  {
   "cell_type": "markdown",
   "id": "73424416-937a-492a-aaba-6d0a5283b7c2",
   "metadata": {},
   "source": [
    "<center> <img src = https://www.researchgate.net/publication/342624204/figure/fig7/AS:908763229847559@1593677446952/overfitting-vs-underfitting.ppm> </center>"
   ]
  },
  {
   "cell_type": "markdown",
   "id": "1333039c-53cc-4a64-b041-d2a4e6b7ee74",
   "metadata": {},
   "source": [
    "Рассмотрим формулу линейной регрессии:\n",
    "* Yi - зависимая переменная (таргет)\n",
    "* Xi - независимая переменная (признак, предиктор)\n",
    "* β - коэффициенты, при домножении X на которые получаем искомый прогноз, причем β0 - свободный член (константа, intercept), равен 0, если функция проходит через начало координат. "
   ]
  },
  {
   "cell_type": "markdown",
   "id": "3204580e-02c6-4c67-92cb-78ef9e38b73f",
   "metadata": {},
   "source": [
    "<center> <img src = https://www.isixsigma.com/wp-content/uploads/2018/11/linear_regression_transfer_function.png height=400 width=500> </center>"
   ]
  },
  {
   "cell_type": "markdown",
   "id": "76a8c2ec-4b44-4a10-95de-d8b2bdfbe7ab",
   "metadata": {},
   "source": [
    "### Обычно задача регрессии формулируется так:\n",
    "Имея набор признаков (обычно матрица X), требуется найти набор коэффициентов (обычно вектор β), котрые нужно умножить на значения Х, чтобы получить предсказание (обычно вектор Y)."
   ]
  },
  {
   "cell_type": "markdown",
   "id": "db412a7a-55ef-4cf0-8a0f-8b3f54d95569",
   "metadata": {},
   "source": [
    "<center> <img src = https://cdn-images-1.medium.com/max/1000/0*a7N1cvDY0pN9CAKp height=500 width=700> </center>"
   ]
  },
  {
   "cell_type": "markdown",
   "id": "6dbea605-f5cd-461f-89f3-d1d2d906eba4",
   "metadata": {},
   "source": [
    "Довольно часто при обучении регрессии происходит \"черезмерно близкая подгонка\" данных (оверфит). В этом случае нам помогут методы регуляризации."
   ]
  },
  {
   "cell_type": "markdown",
   "id": "d9f84007-3eae-4586-9ae0-165a80bfd3df",
   "metadata": {},
   "source": [
    "## Ридж- и Лассо-регрессии\n",
    "Ридж и Лассо (Ridge & Lasso)   —  это модели линейной регрессии, но с поправочными (штрафными) коэффициентами, также называемыми регуляризацией. Они вносят поправки в размерность β-вектора разными способами.\n",
    "* **Лассо-регрессия (l1-регуляризация)** — накладывает штраф на l1-норму β-вектора. l1-норма вектора  —  это сумма абсолютных значений в этом векторе. Модель пытается достичь большей точности, путем нахождения и отбрасывания бесполезных коэффициентов.\n",
    "* **Ридж-регрессия (l2-регуляризация)** — накладывает штраф на l2-норму β-вектора. l2-норма вектора  —  это квадратный корень из суммы квадратов значений в векторе. Ридж-регрессия не позволяет коэффициентам β-вектора достигать экстремальных значений (что часто происходит при переобучении). Модель пытается достичь большей точности, при этом ни один коэффициент не должен достигать экстремальных значений.\n",
    "\n",
    "Оба эти метода имеют **коэффициент регуляризации** (называемый “лямбда”), который контролирует величину штрафа. При λ=0 как лассо-, так и ридж-регрессия становятся моделями линейной регрессии (в этом случае просто не накладываются никакие штрафы). При увеличении лямбды возрастает ограничение на размер β-вектора. При этом каждая регрессия оптимизирует его по-своему, пытаясь подобрать наилучший набор коэффициентов с учетом собственных ограничений.<br>\n",
    "Переходим от теории к практике."
   ]
  },
  {
   "cell_type": "code",
   "execution_count": 5,
   "id": "68052e59-a714-4000-8908-8b166add1841",
   "metadata": {},
   "outputs": [],
   "source": [
    "import pandas as pd\n",
    "import matplotlib.pyplot as plt\n",
    "import numpy as np\n",
    "from sklearn.model_selection import train_test_split\n",
    "from sklearn.linear_model import LinearRegression, Lasso, Ridge, ElasticNet\n",
    "from sklearn.metrics import mean_squared_error"
   ]
  },
  {
   "cell_type": "code",
   "execution_count": 99,
   "id": "55caa98e-86fe-4a7f-88b2-e3ad82ff8621",
   "metadata": {},
   "outputs": [
    {
     "data": {
      "text/html": [
       "<div>\n",
       "<style scoped>\n",
       "    .dataframe tbody tr th:only-of-type {\n",
       "        vertical-align: middle;\n",
       "    }\n",
       "\n",
       "    .dataframe tbody tr th {\n",
       "        vertical-align: top;\n",
       "    }\n",
       "\n",
       "    .dataframe thead th {\n",
       "        text-align: right;\n",
       "    }\n",
       "</style>\n",
       "<table border=\"1\" class=\"dataframe\">\n",
       "  <thead>\n",
       "    <tr style=\"text-align: right;\">\n",
       "      <th></th>\n",
       "      <th>car_id</th>\n",
       "      <th>model</th>\n",
       "      <th>car_type</th>\n",
       "      <th>fuel_type</th>\n",
       "      <th>car_rating</th>\n",
       "      <th>year_to_start</th>\n",
       "      <th>riders</th>\n",
       "      <th>year_to_work</th>\n",
       "      <th>target_reg</th>\n",
       "      <th>target_class</th>\n",
       "    </tr>\n",
       "  </thead>\n",
       "  <tbody>\n",
       "    <tr>\n",
       "      <th>0</th>\n",
       "      <td>y13744087j</td>\n",
       "      <td>Kia Rio X-line</td>\n",
       "      <td>economy</td>\n",
       "      <td>petrol</td>\n",
       "      <td>3.78</td>\n",
       "      <td>2015</td>\n",
       "      <td>76163</td>\n",
       "      <td>2021</td>\n",
       "      <td>9492.96</td>\n",
       "      <td>another_bug</td>\n",
       "    </tr>\n",
       "    <tr>\n",
       "      <th>1</th>\n",
       "      <td>O41613818T</td>\n",
       "      <td>VW Polo VI</td>\n",
       "      <td>economy</td>\n",
       "      <td>petrol</td>\n",
       "      <td>3.90</td>\n",
       "      <td>2015</td>\n",
       "      <td>78218</td>\n",
       "      <td>2021</td>\n",
       "      <td>2656.23</td>\n",
       "      <td>electro_bug</td>\n",
       "    </tr>\n",
       "    <tr>\n",
       "      <th>2</th>\n",
       "      <td>d-2109686j</td>\n",
       "      <td>Renault Sandero</td>\n",
       "      <td>standart</td>\n",
       "      <td>petrol</td>\n",
       "      <td>6.30</td>\n",
       "      <td>2012</td>\n",
       "      <td>23340</td>\n",
       "      <td>2017</td>\n",
       "      <td>1526.11</td>\n",
       "      <td>gear_stick</td>\n",
       "    </tr>\n",
       "    <tr>\n",
       "      <th>3</th>\n",
       "      <td>u29695600e</td>\n",
       "      <td>Mercedes-Benz GLC</td>\n",
       "      <td>business</td>\n",
       "      <td>petrol</td>\n",
       "      <td>4.04</td>\n",
       "      <td>2011</td>\n",
       "      <td>1263</td>\n",
       "      <td>2020</td>\n",
       "      <td>1338.00</td>\n",
       "      <td>engine_fuel</td>\n",
       "    </tr>\n",
       "    <tr>\n",
       "      <th>4</th>\n",
       "      <td>N-8915870N</td>\n",
       "      <td>Renault Sandero</td>\n",
       "      <td>standart</td>\n",
       "      <td>petrol</td>\n",
       "      <td>4.70</td>\n",
       "      <td>2012</td>\n",
       "      <td>26428</td>\n",
       "      <td>2017</td>\n",
       "      <td>825.72</td>\n",
       "      <td>engine_fuel</td>\n",
       "    </tr>\n",
       "  </tbody>\n",
       "</table>\n",
       "</div>"
      ],
      "text/plain": [
       "       car_id              model  car_type fuel_type  car_rating  \\\n",
       "0  y13744087j     Kia Rio X-line   economy    petrol        3.78   \n",
       "1  O41613818T         VW Polo VI   economy    petrol        3.90   \n",
       "2  d-2109686j    Renault Sandero  standart    petrol        6.30   \n",
       "3  u29695600e  Mercedes-Benz GLC  business    petrol        4.04   \n",
       "4  N-8915870N    Renault Sandero  standart    petrol        4.70   \n",
       "\n",
       "   year_to_start  riders  year_to_work  target_reg target_class  \n",
       "0           2015   76163          2021     9492.96  another_bug  \n",
       "1           2015   78218          2021     2656.23  electro_bug  \n",
       "2           2012   23340          2017     1526.11   gear_stick  \n",
       "3           2011    1263          2020     1338.00  engine_fuel  \n",
       "4           2012   26428          2017      825.72  engine_fuel  "
      ]
     },
     "execution_count": 99,
     "metadata": {},
     "output_type": "execute_result"
    }
   ],
   "source": [
    "# Загружаем train-датасет который мы сохранили на шаге quickstart\n",
    "rides_info = pd.read_csv('../data/car_train.csv')\n",
    "rides_info.head()"
   ]
  },
  {
   "cell_type": "code",
   "execution_count": 100,
   "id": "1c285be8-6424-4170-9cda-d2120e42c8d4",
   "metadata": {},
   "outputs": [],
   "source": [
    "drop_cols = ['car_id', 'target_reg', 'target_class']\n",
    "cat_cols = ['car_type', 'fuel_type', 'model']"
   ]
  },
  {
   "cell_type": "code",
   "execution_count": 101,
   "id": "32fc3de2-60f1-4b39-ad50-e1e59eefe559",
   "metadata": {},
   "outputs": [],
   "source": [
    "# закодируем категориальные фичи в one hot encoding вектора\n",
    "rides_info = pd.get_dummies(rides_info, columns=cat_cols)"
   ]
  },
  {
   "cell_type": "markdown",
   "id": "f61965ce-cb65-469c-967c-f6e29b8c281f",
   "metadata": {},
   "source": [
    "Так же важно отметить, что признаки следует отнормировать перед подачей в лиейную модель. Так же без нормировки не будет работать регуляризация."
   ]
  },
  {
   "cell_type": "code",
   "execution_count": 102,
   "id": "70beb638-fcbc-4856-b0f1-bdeb8d829e04",
   "metadata": {},
   "outputs": [],
   "source": [
    "from sklearn.preprocessing import StandardScaler\n",
    "\n",
    "scaler = StandardScaler()\n",
    "target_scaler = StandardScaler()\n",
    "df = scaler.fit_transform(rides_info.drop(drop_cols, axis=1))\n",
    "target = target_scaler.fit_transform(rides_info['target_reg'].values.reshape(-1, 1))"
   ]
  },
  {
   "cell_type": "code",
   "execution_count": 103,
   "id": "b8e4b829-7429-4710-b2ab-0972e1b51598",
   "metadata": {},
   "outputs": [],
   "source": [
    "X = df\n",
    "y = rides_info['target_reg']"
   ]
  },
  {
   "cell_type": "code",
   "execution_count": 104,
   "id": "eb62b2cc-b6a1-45d2-b51d-cef594521ab7",
   "metadata": {},
   "outputs": [],
   "source": [
    "X_train, X_test, y_train, y_test = train_test_split(X, y, test_size=0.2, random_state=42)"
   ]
  },
  {
   "cell_type": "markdown",
   "id": "699259ee-0001-47e1-a521-1011f6ee48c3",
   "metadata": {},
   "source": [
    "### Linear regression"
   ]
  },
  {
   "cell_type": "code",
   "execution_count": 105,
   "id": "35a93df7-bbd4-4646-be92-0d50c58d9668",
   "metadata": {},
   "outputs": [
    {
     "name": "stdout",
     "output_type": "stream",
     "text": [
      "22521314.889481395\n"
     ]
    }
   ],
   "source": [
    "linear_reg = LinearRegression()\n",
    "linear_reg.fit(X_train, y_train)\n",
    "\n",
    "y_pred = linear_reg.predict(X_test)\n",
    "#y_pred = target_scaler.inverse_transform(np.array(y_pred).reshape(-1, 1))\n",
    "#y_true = target_scaler.inverse_transform(np.array(y_test).reshape(-1, 1))\n",
    "mse_linear = mean_squared_error(y_pred, y_test)\n",
    "\n",
    "print(mse_linear)"
   ]
  },
  {
   "cell_type": "code",
   "execution_count": 69,
   "id": "9fa07121-7868-4a53-97fd-88febb5d2d92",
   "metadata": {},
   "outputs": [
    {
     "name": "stdout",
     "output_type": "stream",
     "text": [
      "[[ 5.01342635e-03  9.70788289e-02 -9.54962557e-02 -8.72597465e-04\n",
      "  -8.97037442e-02 -4.03444738e-02  8.73116771e-03  1.98885747e-01\n",
      "   6.06575884e-03 -6.30693969e+11  1.09766504e-01  3.20758074e+12\n",
      "  -1.68121684e+12 -6.22780098e+12 -4.92456342e+10  1.83130125e+12\n",
      "   1.12626373e+12  3.01135758e+12  3.26416340e+12  3.34405030e+12\n",
      "  -1.03385169e+12 -1.09609275e+12  1.44690217e+12  1.21512471e+12\n",
      "   1.36925115e+12  1.35573819e+12  5.54399791e+11 -1.65223022e+12\n",
      "  -1.23767402e+12 -1.06544033e+12 -1.21073060e+12  5.52636989e+11\n",
      "   5.66538674e+11  5.63105602e+11  1.38700335e+12  1.25088228e+12\n",
      "   1.43434605e+12  1.30939183e+12  2.35094756e+12  1.36026182e+12\n",
      "   1.40878364e+12  1.33282253e+12  2.26591731e+12]]\n"
     ]
    }
   ],
   "source": [
    "print(linear_reg.coef_)"
   ]
  },
  {
   "cell_type": "code",
   "execution_count": 70,
   "id": "2f970817-607b-4f13-9e2a-3f71fe5d2f19",
   "metadata": {},
   "outputs": [
    {
     "name": "stdout",
     "output_type": "stream",
     "text": [
      "[0.00945674]\n"
     ]
    }
   ],
   "source": [
    "print(linear_reg.intercept_)"
   ]
  },
  {
   "cell_type": "markdown",
   "id": "810d8d7d-6b5d-48cb-8411-7fe22cc1cbfe",
   "metadata": {},
   "source": [
    "### Lasso Regression"
   ]
  },
  {
   "cell_type": "code",
   "execution_count": 71,
   "id": "b0822d2c-afba-4183-bd0e-a0d8007cade4",
   "metadata": {},
   "outputs": [
    {
     "name": "stderr",
     "output_type": "stream",
     "text": [
      "/opt/conda/lib/python3.9/site-packages/sklearn/linear_model/_coordinate_descent.py:634: ConvergenceWarning: Objective did not converge. You might want to increase the number of iterations, check the scale of the features or consider increasing regularisation. Duality gap: 4.184e+01, tolerance: 2.011e-01\n",
      "  model = cd_fast.enet_coordinate_descent(\n",
      "/opt/conda/lib/python3.9/site-packages/sklearn/linear_model/_coordinate_descent.py:634: ConvergenceWarning: Objective did not converge. You might want to increase the number of iterations, check the scale of the features or consider increasing regularisation. Duality gap: 1.798e+01, tolerance: 2.011e-01\n",
      "  model = cd_fast.enet_coordinate_descent(\n"
     ]
    },
    {
     "name": "stdout",
     "output_type": "stream",
     "text": [
      "Lasso MSE with Lambda=1e-06 is 4608.4373538552545\n",
      "Lasso MSE with Lambda=0.0001 is 4606.834780701058\n",
      "Lasso MSE with Lambda=0.001 is 4592.653309595803\n",
      "Lasso MSE with Lambda=0.005 is 4556.644727418629\n",
      "Lasso MSE with Lambda=0.01 is 4520.929298461938\n",
      "Lasso MSE with Lambda=0.05 is 4358.007330100647\n",
      "Lasso MSE with Lambda=0.1 is 4284.551143282346\n",
      "Lasso MSE with Lambda=0.2 is 4192.366649503104\n",
      "Lasso MSE with Lambda=0.3 is 4190.792337600921\n",
      "Lasso MSE with Lambda=0.4 is 4417.512578501489\n",
      "Lasso MSE with Lambda=0.5 is 4795.731522431299\n"
     ]
    }
   ],
   "source": [
    "lambda_values = [0.000001, 0.0001, 0.001, 0.005, 0.01, 0.05,  0.1, 0.2, 0.3, 0.4, 0.5]\n",
    "\n",
    "for lambda_val in lambda_values:\n",
    "    lasso_reg = Lasso(lambda_val)\n",
    "    lasso_reg.fit(X_train, y_train)\n",
    "    y_pred = lasso_reg.predict(X_test)\n",
    "    y_pred = target_scaler.inverse_transform(np.array(y_pred).reshape(-1, 1))\n",
    "    y_true = target_scaler.inverse_transform(np.array(y_test).reshape(-1, 1))\n",
    "    rmse_lasso = mean_squared_error(y_pred, y_true) ** 0.5\n",
    "    #mse_lasso = mean_squared_error(y_pred, y_test)\n",
    "    print((\"Lasso MSE with Lambda={} is {}\").format(lambda_val, rmse_lasso))"
   ]
  },
  {
   "cell_type": "code",
   "execution_count": 58,
   "id": "aaea85ba-0c93-4f5b-9b44-e816b605848d",
   "metadata": {},
   "outputs": [
    {
     "name": "stdout",
     "output_type": "stream",
     "text": [
      "[ 0.00000000e+00  0.00000000e+00  0.00000000e+00  0.00000000e+00\n",
      "  0.00000000e+00 -0.00000000e+00 -0.00000000e+00  0.00000000e+00\n",
      " -0.00000000e+00  0.00000000e+00 -0.00000000e+00  0.00000000e+00\n",
      " -0.00000000e+00  0.00000000e+00 -0.00000000e+00  1.06835227e-01\n",
      " -1.26122304e-16  0.00000000e+00  0.00000000e+00  0.00000000e+00\n",
      "  0.00000000e+00  0.00000000e+00 -0.00000000e+00 -0.00000000e+00\n",
      " -0.00000000e+00 -0.00000000e+00 -0.00000000e+00  0.00000000e+00\n",
      "  0.00000000e+00  0.00000000e+00  0.00000000e+00 -0.00000000e+00\n",
      " -0.00000000e+00 -0.00000000e+00 -0.00000000e+00 -0.00000000e+00\n",
      " -0.00000000e+00 -0.00000000e+00  1.39288618e-03 -0.00000000e+00\n",
      " -0.00000000e+00 -0.00000000e+00  0.00000000e+00]\n"
     ]
    }
   ],
   "source": [
    "print(lasso_reg.coef_)"
   ]
  },
  {
   "cell_type": "markdown",
   "id": "3e1b0535-608a-490c-adf1-5960604d21f8",
   "metadata": {},
   "source": [
    "### Ridge Regression"
   ]
  },
  {
   "cell_type": "code",
   "execution_count": 59,
   "id": "1b7465d2-eed1-41a8-89c8-4fb2f01e8ff5",
   "metadata": {},
   "outputs": [
    {
     "name": "stdout",
     "output_type": "stream",
     "text": [
      "Lasso MSE with Lambda=1e-05 is 4.250223407061632e+98\n",
      "Lasso MSE with Lambda=0.01 is 1.6305265608311501e+106\n",
      "Lasso MSE with Lambda=0.05 is 6.255240280213595e+113\n",
      "Lasso MSE with Lambda=0.1 is 2.39971748410289e+121\n",
      "Lasso MSE with Lambda=0.5 is 9.206111588910005e+128\n",
      "Lasso MSE with Lambda=1 is 3.531769516574863e+136\n",
      "Lasso MSE with Lambda=1.5 is 1.354903837276241e+144\n",
      "Lasso MSE with Lambda=3 is 5.197860165139602e+151\n",
      "Lasso MSE with Lambda=5 is 1.994071428025386e+159\n",
      "Lasso MSE with Lambda=6 is 7.649918877647235e+166\n",
      "Lasso MSE with Lambda=7 is 2.9347624168374834e+174\n",
      "Lasso MSE with Lambda=8 is 1.1258721276702869e+182\n",
      "Lasso MSE with Lambda=9 is 4.3192186208748683e+189\n",
      "Lasso MSE with Lambda=10 is 1.6569954115051622e+197\n"
     ]
    }
   ],
   "source": [
    "lambda_values = [0.00001, 0.01, 0.05, 0.1, 0.5, 1, 1.5, 3, 5, 6, 7, 8, 9, 10]\n",
    "\n",
    "for lambda_val in lambda_values:\n",
    "    ridge_reg = Ridge(lambda_val)\n",
    "    ridge_reg.fit(X_train, y_train)\n",
    "    y_pred = ridge_reg.predict(X_test)\n",
    "    y_pred = target_scaler.inverse_transform(np.array(y_pred).reshape(-1, 1))\n",
    "    y_test = target_scaler.inverse_transform(np.array(y_test).reshape(-1, 1))\n",
    "    mse_ridge = mean_squared_error(y_pred, y_test)\n",
    "    print((\"Lasso MSE with Lambda={} is {}\").format(lambda_val, mse_ridge))"
   ]
  },
  {
   "cell_type": "code",
   "execution_count": 60,
   "id": "f3b931bd-355a-4182-b0b7-0cd0d72747be",
   "metadata": {},
   "outputs": [
    {
     "name": "stdout",
     "output_type": "stream",
     "text": [
      "[[ 5.09613385e-03  6.77829545e-02 -6.51783240e-02  9.66755979e-04\n",
      "  -8.86240843e-02 -4.08858967e-02  7.92649516e-03  1.96856254e-01\n",
      "   6.85570271e-03  0.00000000e+00  1.02516474e-01  4.50418024e-02\n",
      "  -7.09850121e-02  2.11329554e-01 -3.59478576e-02  2.00620153e-01\n",
      "  -2.00620153e-01  8.27050812e-03  5.00297417e-02  2.39450013e-03\n",
      "   2.41953588e-02  1.07934084e-02 -3.38993535e-02 -2.00132391e-02\n",
      "  -2.47701707e-02 -2.02245377e-02 -2.75603046e-02 -5.90390846e-02\n",
      "   2.61237059e-02  8.97736426e-02  2.32745617e-02 -3.90944286e-03\n",
      "  -2.88020367e-02 -3.69631841e-03 -9.40380498e-03  9.66108482e-03\n",
      "   4.55834387e-03 -4.60453709e-05  3.77174923e-01 -2.04952152e-02\n",
      "  -7.80754556e-03 -1.83173402e-02  6.61647571e-02]]\n"
     ]
    }
   ],
   "source": [
    "print(ridge_reg.coef_)"
   ]
  },
  {
   "cell_type": "markdown",
   "id": "01867aec-f284-4123-9eeb-22d98c88142c",
   "metadata": {},
   "source": [
    "### Elastic-Net - COMBO L1 + L2\n",
    "Посмотрим описание из документации библиотеки [sklearn](https://scikit-learn.ru/1-1-linear-models/#elastic-net):\n",
    ">ElasticNet is a linear regression model trained with both and -norm regularization of the coefficients. This combination allows for learning a sparse model where few of the weights are non-zero like Lasso, while still maintaining the regularization properties of Ridge. We control the convex combination of and using the l1_ratio parameter.\n",
    "Elastic-net is useful when there are multiple features that are correlated with one another. Lasso is likely to pick one of these at random, while elastic-net is likely to pick both. A practical advantage of trading-off between Lasso and Ridge is that it allows Elastic-Net to inherit some of Ridge’s stability under rotation.\n",
    "\n",
    ">ElasticNet полезна, когда есть несколько признаков, которые коррелируют друг с другом. Лассо, вероятно, выберет один из них наугад, а elastic-net — и то, и другое."
   ]
  },
  {
   "cell_type": "code",
   "execution_count": 48,
   "id": "bf658958-0113-47ba-ae41-9188a47535ff",
   "metadata": {},
   "outputs": [
    {
     "name": "stdout",
     "output_type": "stream",
     "text": [
      "ElasticNet MSE with l1_ratio=1e-05 is 0.4105907387649885\n",
      "ElasticNet MSE with l1_ratio=0.001 is 0.41089887912213874\n",
      "ElasticNet MSE with l1_ratio=0.01 is 0.4145135057200774\n",
      "ElasticNet MSE with l1_ratio=0.05 is 0.42863670853916197\n",
      "ElasticNet MSE with l1_ratio=0.1 is 0.43920637776001514\n",
      "ElasticNet MSE with l1_ratio=0.5 is 0.6148990817492882\n",
      "ElasticNet MSE with l1_ratio=0.7 is 0.6959181878204748\n",
      "ElasticNet MSE with l1_ratio=0.9 is 0.6959181878204748\n",
      "ElasticNet MSE with l1_ratio=1 is 0.6959181878204748\n"
     ]
    }
   ],
   "source": [
    "l1_ratios = [0.00001, 0.001, 0.01, 0.05, 0.1, 0.5, 0.7, 0.9, 1]\n",
    "\n",
    "for l1_ratio in l1_ratios:\n",
    "    elasticnet_reg = ElasticNet(l1_ratio=l1_ratio)\n",
    "    elasticnet_reg.fit(X_train, y_train)\n",
    "    y_pred = elasticnet_reg.predict(X_test)\n",
    "    mse_ridge = mean_squared_error(y_pred, y_test)\n",
    "    print((\"ElasticNet MSE with l1_ratio={} is {}\").format(l1_ratio, mse_ridge))"
   ]
  },
  {
   "cell_type": "code",
   "execution_count": 49,
   "id": "3d9b2b67-01fb-4abd-8770-9aba21163dd0",
   "metadata": {},
   "outputs": [
    {
     "name": "stdout",
     "output_type": "stream",
     "text": [
      "[ 0.  0.  0.  0.  0. -0. -0.  0. -0.  0. -0.  0. -0.  0. -0.  0. -0.  0.\n",
      "  0.  0.  0.  0. -0. -0. -0. -0. -0.  0.  0.  0.  0. -0. -0. -0. -0. -0.\n",
      " -0. -0.  0. -0. -0. -0.  0.]\n"
     ]
    }
   ],
   "source": [
    "print(elasticnet_reg.coef_)"
   ]
  },
  {
   "cell_type": "markdown",
   "id": "3a7297a8-704e-4785-a351-ae5e1e8ecd91",
   "metadata": {},
   "source": [
    "## Что же выбрать?\n",
    "* **Лассо (l1-регуляризацию)** следует использовать, когда есть несколько характеристик с высокой предсказательной способностью, а остальные бесполезны. Она обнуляет бесполезные характеристики и оставляет только подмножество переменных.\n",
    "\n",
    "* **Ридж (l2-регуляризацию)** лучше применять, когда предсказательная способность набора данных распределена между различными характеристиками. Ридж-регрессия не обнуляет характеристики, которые могут быть полезны при составлении прогнозов, а просто уменьшает вес большинства переменных в модели.\n",
    "\n",
    "На практике это обычно трудно определить поэтому лучше экспериментировать на тестовом множестве, используя различные значения лямбды.\n",
    "### Зачем же в итоге нужна регуляризация?\n",
    "* Регуляризация предназначена для регулирования сложности модели и её целью является упрощение модели.\n",
    "* Регуляризация помогает бороться с переобучением и увеличивает обобщающую способность (робастность) модели.\n",
    "* Регуляризация применяется когда независимые переменные (признаки) коррелируют друг с другом, т.е. имеет место быть мультиколлинеарность признаков.\n",
    "* Регуляризация работает даже при полной мультиколлинеарности признаков.\n",
    "\n",
    "Как уже отмечалось в начале, вы вряд ли будете использовать линейную регрессию и её модификации с регуляризацией в соревнованиях, но параметры отвечающие за регуляризацию присутствуют во многих популярных библиотеках и моделях машинного обучения (CatBoost, LightGBM, RandomForest, SVM, и многие другие). Надеемся, что освоив этот урок, вы будете более осознанно подходить к тюнингу того или иного параметра, а не просто рандомно перебирать цифры, пытаясь угадать заветную комбинацию 😁. \n"
   ]
  },
  {
   "cell_type": "markdown",
   "id": "c39315c4-57ad-497d-8527-186ae3e20ae3",
   "metadata": {},
   "source": [
    "## Полезные ссылки:\n",
    "1. Отличный [курс от ODS](https://ods.ai/tracks/linear-models-spring22) про линейные модели и регуляризацию со всеми математическими выкладками.\n",
    "2. Если хотите углубиться в математику (это поможет понять, как работает регуляризация), прочитайте главу 3.4 в книге [“Элементы статистического обучения”](https://hastie.su.domains/Papers/ESLII.pdf), написанной Треворой Хасти, Робертом Тибширани и Джеромом Фридманом. Роберт Тибширани  —  автор метода лассо-регрессии.\n",
    "3. [Англоязычная статья](https://towardsdatascience.com/lasso-and-ridge-regression-an-intuitive-comparison-3ee415487d18), которая легла в основу этого ноутбука."
   ]
  }
 ],
 "metadata": {
  "kernelspec": {
   "display_name": "Python 3 (ipykernel)",
   "language": "python",
   "name": "python3"
  },
  "language_info": {
   "codemirror_mode": {
    "name": "ipython",
    "version": 3
   },
   "file_extension": ".py",
   "mimetype": "text/x-python",
   "name": "python",
   "nbconvert_exporter": "python",
   "pygments_lexer": "ipython3",
   "version": "3.9.15"
  }
 },
 "nbformat": 4,
 "nbformat_minor": 5
}
