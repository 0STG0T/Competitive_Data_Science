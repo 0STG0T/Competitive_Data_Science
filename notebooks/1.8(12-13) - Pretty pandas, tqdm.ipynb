{
 "cells": [
  {
   "cell_type": "markdown",
   "id": "a63970d2-bf78-4e3a-93c2-e5750ece7e4b",
   "metadata": {},
   "source": [
    "# <center> 1.8 - tqdm, pandarallel</center>"
   ]
  },
  {
   "cell_type": "markdown",
   "id": "b1de800f-bb6e-4252-af11-d40062d68c2c",
   "metadata": {},
   "source": [
    "tqdm - библиотека, добавляющая в вывод ячеек красивые прогресс-бары."
   ]
  },
  {
   "cell_type": "code",
   "execution_count": 15,
   "id": "5f2a4848-b95b-424a-bf2a-c8fb2ad2e47a",
   "metadata": {},
   "outputs": [],
   "source": [
    "import pandas as pd\n",
    "from tqdm.notebook import tqdm\n",
    "import time"
   ]
  },
  {
   "cell_type": "code",
   "execution_count": 19,
   "id": "f03f5d9a-101d-4db1-b8d9-d10976bb8a22",
   "metadata": {},
   "outputs": [
    {
     "name": "stdout",
     "output_type": "stream",
     "text": [
      "(1500, 10)\n"
     ]
    },
    {
     "data": {
      "text/html": [
       "<div>\n",
       "<style scoped>\n",
       "    .dataframe tbody tr th:only-of-type {\n",
       "        vertical-align: middle;\n",
       "    }\n",
       "\n",
       "    .dataframe tbody tr th {\n",
       "        vertical-align: top;\n",
       "    }\n",
       "\n",
       "    .dataframe thead th {\n",
       "        text-align: right;\n",
       "    }\n",
       "</style>\n",
       "<table border=\"1\" class=\"dataframe\">\n",
       "  <thead>\n",
       "    <tr style=\"text-align: right;\">\n",
       "      <th></th>\n",
       "      <th>car_type</th>\n",
       "      <th>fuel_type</th>\n",
       "      <th>car_rating</th>\n",
       "      <th>year_to_start</th>\n",
       "      <th>riders</th>\n",
       "      <th>car_id</th>\n",
       "      <th>model</th>\n",
       "      <th>target_2</th>\n",
       "      <th>year_to_work</th>\n",
       "      <th>target_1</th>\n",
       "    </tr>\n",
       "  </thead>\n",
       "  <tbody>\n",
       "    <tr>\n",
       "      <th>1031</th>\n",
       "      <td>economy</td>\n",
       "      <td>petrol</td>\n",
       "      <td>0.4</td>\n",
       "      <td>2016</td>\n",
       "      <td>27805</td>\n",
       "      <td>z52947624y</td>\n",
       "      <td>Smart Coupe</td>\n",
       "      <td>wheel_shake</td>\n",
       "      <td>2017</td>\n",
       "      <td>3.942265e+05</td>\n",
       "    </tr>\n",
       "    <tr>\n",
       "      <th>1102</th>\n",
       "      <td>business</td>\n",
       "      <td>petrol</td>\n",
       "      <td>0.1</td>\n",
       "      <td>2016</td>\n",
       "      <td>29552</td>\n",
       "      <td>R-6980341r</td>\n",
       "      <td>BMW 320i</td>\n",
       "      <td>break_bug</td>\n",
       "      <td>2020</td>\n",
       "      <td>3.886251e+06</td>\n",
       "    </tr>\n",
       "    <tr>\n",
       "      <th>1195</th>\n",
       "      <td>standart</td>\n",
       "      <td>petrol</td>\n",
       "      <td>-1.0</td>\n",
       "      <td>2014</td>\n",
       "      <td>8810</td>\n",
       "      <td>O-1357458W</td>\n",
       "      <td>Renault Kaptur</td>\n",
       "      <td>gear_stick</td>\n",
       "      <td>2015</td>\n",
       "      <td>2.213449e+06</td>\n",
       "    </tr>\n",
       "    <tr>\n",
       "      <th>267</th>\n",
       "      <td>economy</td>\n",
       "      <td>petrol</td>\n",
       "      <td>1.7</td>\n",
       "      <td>2016</td>\n",
       "      <td>33320</td>\n",
       "      <td>o54272769c</td>\n",
       "      <td>Smart Coupe</td>\n",
       "      <td>another_bug</td>\n",
       "      <td>2020</td>\n",
       "      <td>3.084599e+06</td>\n",
       "    </tr>\n",
       "    <tr>\n",
       "      <th>922</th>\n",
       "      <td>economy</td>\n",
       "      <td>petrol</td>\n",
       "      <td>4.4</td>\n",
       "      <td>2015</td>\n",
       "      <td>6053</td>\n",
       "      <td>t10563344V</td>\n",
       "      <td>Kia Rio</td>\n",
       "      <td>engine_overheat</td>\n",
       "      <td>2021</td>\n",
       "      <td>2.500602e+06</td>\n",
       "    </tr>\n",
       "  </tbody>\n",
       "</table>\n",
       "</div>"
      ],
      "text/plain": [
       "      car_type fuel_type  car_rating  year_to_start  riders      car_id  \\\n",
       "1031   economy    petrol         0.4           2016   27805  z52947624y   \n",
       "1102  business    petrol         0.1           2016   29552  R-6980341r   \n",
       "1195  standart    petrol        -1.0           2014    8810  O-1357458W   \n",
       "267    economy    petrol         1.7           2016   33320  o54272769c   \n",
       "922    economy    petrol         4.4           2015    6053  t10563344V   \n",
       "\n",
       "               model         target_2  year_to_work      target_1  \n",
       "1031     Smart Coupe      wheel_shake          2017  3.942265e+05  \n",
       "1102        BMW 320i        break_bug          2020  3.886251e+06  \n",
       "1195  Renault Kaptur       gear_stick          2015  2.213449e+06  \n",
       "267      Smart Coupe      another_bug          2020  3.084599e+06  \n",
       "922          Kia Rio  engine_overheat          2021  2.500602e+06  "
      ]
     },
     "execution_count": 19,
     "metadata": {},
     "output_type": "execute_result"
    }
   ],
   "source": [
    "# Возьмем датасет car_info\n",
    "car_info = pd.read_csv('../data/car_info.csv')\n",
    "print(car_info.shape)\n",
    "car_info.sample(5)"
   ]
  },
  {
   "cell_type": "code",
   "execution_count": 5,
   "id": "592272d2-0911-4cc9-960f-8e1aa86f7cd4",
   "metadata": {},
   "outputs": [
    {
     "name": "stdout",
     "output_type": "stream",
     "text": [
      "<class 'pandas.core.frame.DataFrame'>\n",
      "RangeIndex: 1500 entries, 0 to 1499\n",
      "Data columns (total 10 columns):\n",
      " #   Column         Non-Null Count  Dtype  \n",
      "---  ------         --------------  -----  \n",
      " 0   car_type       1500 non-null   object \n",
      " 1   fuel_type      1500 non-null   object \n",
      " 2   car_rating     1500 non-null   float64\n",
      " 3   year_to_start  1500 non-null   int64  \n",
      " 4   riders         1500 non-null   int64  \n",
      " 5   car_id         1500 non-null   object \n",
      " 6   model          1500 non-null   object \n",
      " 7   target_2       1500 non-null   object \n",
      " 8   year_to_work   1500 non-null   int64  \n",
      " 9   target_1       1500 non-null   float64\n",
      "dtypes: float64(2), int64(3), object(5)\n",
      "memory usage: 117.3+ KB\n"
     ]
    }
   ],
   "source": [
    "car_info.info()"
   ]
  },
  {
   "cell_type": "markdown",
   "id": "e6aaabf8-c126-4644-bea1-ac43c5cdc2e9",
   "metadata": {},
   "source": [
    "Напишем функцию, которая будет хранить столбцы датафрейма в оптимальных типах, что может существенно уменьшить объём потребляемой памяти."
   ]
  },
  {
   "cell_type": "code",
   "execution_count": 9,
   "id": "b0cf3a9d-8e82-4922-b388-596b044f6d58",
   "metadata": {},
   "outputs": [],
   "source": [
    "def optimize_df(df):\n",
    "    types = list()\n",
    "    for x in df.dtypes.tolist():\n",
    "        if x=='int64':\n",
    "            types.append('int16')\n",
    "        elif x=='float64':\n",
    "            types.append('float32')\n",
    "        else:\n",
    "            types.append('object')\n",
    "    types = dict(zip(df.columns.tolist(),types))\n",
    "    return df.astype(types)"
   ]
  },
  {
   "cell_type": "code",
   "execution_count": 10,
   "id": "8442f7c4-81b0-4fea-beb5-923712a068c0",
   "metadata": {},
   "outputs": [],
   "source": [
    "# Запустим на нашем датасете\n",
    "car_info = optimize_df(car_info)"
   ]
  },
  {
   "cell_type": "markdown",
   "id": "ef57b35f-5ae2-4945-9395-7c8cb8476347",
   "metadata": {},
   "source": [
    "Непонятно отработала функция или нет и сколько ждать до её окончания? Особенно актуально на больших датасетах с тысячами столбцов. <br> \n",
    "Добавим прогресс бар."
   ]
  },
  {
   "cell_type": "code",
   "execution_count": 16,
   "id": "2a4e7a4d-9bfd-4240-8351-007d1ecaa1c0",
   "metadata": {},
   "outputs": [],
   "source": [
    "def progress_optimize_df(df):\n",
    "    types = list()\n",
    "    for x in tqdm(df.dtypes.tolist()):\n",
    "        if x=='int64':\n",
    "            types.append('int16')\n",
    "        elif x=='float64':\n",
    "            types.append('float32')\n",
    "        else:\n",
    "            types.append('object')\n",
    "        time.sleep(1) # добавим паузу 1сек. для наглядности\n",
    "\n",
    "    types = dict(zip(df.columns.tolist(),types))\n",
    "    return df.astype(types)"
   ]
  },
  {
   "cell_type": "code",
   "execution_count": 20,
   "id": "fdcb0660-2c02-41b6-a575-94816f18004c",
   "metadata": {},
   "outputs": [
    {
     "data": {
      "application/vnd.jupyter.widget-view+json": {
       "model_id": "647315306f17494ba29e92c6652abcea",
       "version_major": 2,
       "version_minor": 0
      },
      "text/plain": [
       "  0%|          | 0/10 [00:00<?, ?it/s]"
      ]
     },
     "metadata": {},
     "output_type": "display_data"
    }
   ],
   "source": [
    "car_info = pd.read_csv('../data/car_info.csv')\n",
    "car_info = progress_optimize_df(car_info)"
   ]
  },
  {
   "cell_type": "code",
   "execution_count": 21,
   "id": "42620389-6371-468f-a4a3-6f407ba29963",
   "metadata": {},
   "outputs": [
    {
     "name": "stdout",
     "output_type": "stream",
     "text": [
      "<class 'pandas.core.frame.DataFrame'>\n",
      "RangeIndex: 1500 entries, 0 to 1499\n",
      "Data columns (total 10 columns):\n",
      " #   Column         Non-Null Count  Dtype  \n",
      "---  ------         --------------  -----  \n",
      " 0   car_type       1500 non-null   object \n",
      " 1   fuel_type      1500 non-null   object \n",
      " 2   car_rating     1500 non-null   float32\n",
      " 3   year_to_start  1500 non-null   int16  \n",
      " 4   riders         1500 non-null   int16  \n",
      " 5   car_id         1500 non-null   object \n",
      " 6   model          1500 non-null   object \n",
      " 7   target_2       1500 non-null   object \n",
      " 8   year_to_work   1500 non-null   int16  \n",
      " 9   target_1       1500 non-null   float32\n",
      "dtypes: float32(2), int16(3), object(5)\n",
      "memory usage: 79.2+ KB\n"
     ]
    }
   ],
   "source": [
    "car_info.info() # Объем занимаемой памяти уменьшился на 30%"
   ]
  },
  {
   "cell_type": "markdown",
   "id": "9620085a-e118-413a-a93f-202925d3d7ef",
   "metadata": {},
   "source": [
    "Теперь допустим мы захотели проитерироваться по всему нашему датасету и посчитать сколько было водителей на всех машинах за все время. "
   ]
  },
  {
   "cell_type": "code",
   "execution_count": 24,
   "id": "b4c5c6dc-da83-4138-9333-b7188254dcef",
   "metadata": {},
   "outputs": [
    {
     "data": {
      "application/vnd.jupyter.widget-view+json": {
       "model_id": "e50f1187fcac4bc791d656345d8c4399",
       "version_major": 2,
       "version_minor": 0
      },
      "text/plain": [
       "0it [00:00, ?it/s]"
      ]
     },
     "metadata": {},
     "output_type": "display_data"
    }
   ],
   "source": [
    "riders = 0\n",
    "for ind, row in tqdm(car_info.iterrows()):\n",
    "    time.sleep(0.01)\n",
    "    riders += row['riders']"
   ]
  },
  {
   "cell_type": "markdown",
   "id": "c7b08a84-90e9-4914-8bf7-c53fce951080",
   "metadata": {},
   "source": [
    "Видно, что функция не знает сколько всего будет объектов и сколько времени до конца осталось тоже посчитать не может. Так как <code>iterrows()</code>\n",
    "выдает ряд датафрейма и его индекс. В этом случае функции <code>tqdm()</code> надо указать сколько всего их будет в параметре <code>total</code>"
   ]
  },
  {
   "cell_type": "code",
   "execution_count": 25,
   "id": "d2d8235c-141e-4e63-8cad-d4d278d5de6f",
   "metadata": {},
   "outputs": [
    {
     "data": {
      "application/vnd.jupyter.widget-view+json": {
       "model_id": "04d803c85dcb46a795c349e3f765e117",
       "version_major": 2,
       "version_minor": 0
      },
      "text/plain": [
       "  0%|          | 0/1500 [00:00<?, ?it/s]"
      ]
     },
     "metadata": {},
     "output_type": "display_data"
    },
    {
     "data": {
      "text/plain": [
       "6642500"
      ]
     },
     "execution_count": 25,
     "metadata": {},
     "output_type": "execute_result"
    }
   ],
   "source": [
    "riders = 0\n",
    "for ind, row in tqdm(car_info.iterrows(), total=len(car_info)):\n",
    "    riders += row['riders']\n",
    "    time.sleep(0.01)\n",
    "riders\n",
    "# теперь прогресс-бар отображается как нужно"
   ]
  },
  {
   "cell_type": "markdown",
   "id": "91721f2d-f3d4-459a-9507-0902edb92d48",
   "metadata": {},
   "source": [
    "## <center> progress_apply()</center>"
   ]
  },
  {
   "cell_type": "markdown",
   "id": "0a44dd8b-2eef-4f62-99b6-af02ca28863f",
   "metadata": {},
   "source": [
    "А теперь мы внезапно поняли, что название модели автомобиля очень информативный столбец и решили на его основе нагенерировать странных признаков:"
   ]
  },
  {
   "cell_type": "code",
   "execution_count": 27,
   "id": "9ec9220c-ea03-46ba-a1ff-37176891caec",
   "metadata": {},
   "outputs": [],
   "source": [
    "car_info['char_count'] = car_info['model'].apply(len)\n",
    "car_info['word_count'] = car_info['model'].apply(lambda x: len(x.split()))\n",
    "car_info['different_words'] = car_info['model'].apply(lambda x: len(set(x.split())))\n",
    "car_info['title_word_count'] = car_info['model'].apply(lambda x: len([wrd for wrd in x.split() if wrd.istitle()]))\n",
    "car_info['upper_case_word_count'] = car_info['model'].apply(lambda x: len([wrd for wrd in x.split() if wrd.isupper()]))\n",
    "car_info['is_bmw'] = car_info['model'].apply(lambda x: 1 if 'BMW' in x else 0)\n",
    "car_info['is_kia'] = car_info['model'].apply(lambda x: 1 if 'Kia' in x else 0)\n",
    "car_info['is_smart'] = car_info['model'].apply(lambda x: 1 if 'Smart' in x else 0)"
   ]
  },
  {
   "cell_type": "markdown",
   "id": "442b3788-6a2a-435d-b548-709f3f13d219",
   "metadata": {},
   "source": [
    "Снова непонятно сколько ждать и идет ли процесс. Давайте добавим прогресс-бар прям в пандас. <br> Для этого немного по другому импортируем функцию <code>tqdm()</code>"
   ]
  },
  {
   "cell_type": "code",
   "execution_count": 29,
   "id": "1876829c-40f8-42f2-b623-455f4bfe0c1c",
   "metadata": {},
   "outputs": [
    {
     "name": "stderr",
     "output_type": "stream",
     "text": [
      "100%|██████████| 1500/1500 [00:00<00:00, 1202955.26it/s]\n",
      "100%|██████████| 1500/1500 [00:00<00:00, 1070157.51it/s]\n",
      "100%|██████████| 1500/1500 [00:00<00:00, 936786.18it/s]\n",
      "100%|██████████| 1500/1500 [00:00<00:00, 853078.78it/s]\n",
      "100%|██████████| 1500/1500 [00:00<00:00, 899421.87it/s]\n",
      "100%|██████████| 1500/1500 [00:00<00:00, 1243616.53it/s]\n",
      "100%|██████████| 1500/1500 [00:00<00:00, 1175094.51it/s]\n",
      "100%|██████████| 1500/1500 [00:00<00:00, 1211059.87it/s]\n"
     ]
    },
    {
     "data": {
      "text/html": [
       "<div>\n",
       "<style scoped>\n",
       "    .dataframe tbody tr th:only-of-type {\n",
       "        vertical-align: middle;\n",
       "    }\n",
       "\n",
       "    .dataframe tbody tr th {\n",
       "        vertical-align: top;\n",
       "    }\n",
       "\n",
       "    .dataframe thead th {\n",
       "        text-align: right;\n",
       "    }\n",
       "</style>\n",
       "<table border=\"1\" class=\"dataframe\">\n",
       "  <thead>\n",
       "    <tr style=\"text-align: right;\">\n",
       "      <th></th>\n",
       "      <th>car_type</th>\n",
       "      <th>fuel_type</th>\n",
       "      <th>car_rating</th>\n",
       "      <th>year_to_start</th>\n",
       "      <th>riders</th>\n",
       "      <th>car_id</th>\n",
       "      <th>model</th>\n",
       "      <th>target_2</th>\n",
       "      <th>year_to_work</th>\n",
       "      <th>target_1</th>\n",
       "      <th>char_count</th>\n",
       "      <th>word_count</th>\n",
       "      <th>different_words</th>\n",
       "      <th>title_word_count</th>\n",
       "      <th>upper_case_word_count</th>\n",
       "      <th>is_bmw</th>\n",
       "      <th>is_kia</th>\n",
       "      <th>is_smart</th>\n",
       "    </tr>\n",
       "  </thead>\n",
       "  <tbody>\n",
       "    <tr>\n",
       "      <th>0</th>\n",
       "      <td>economy</td>\n",
       "      <td>petrol</td>\n",
       "      <td>-0.9</td>\n",
       "      <td>2013</td>\n",
       "      <td>22178</td>\n",
       "      <td>s-6180865X</td>\n",
       "      <td>Smart ForFour</td>\n",
       "      <td>engine_overheat</td>\n",
       "      <td>2017</td>\n",
       "      <td>2.342619e+06</td>\n",
       "      <td>13</td>\n",
       "      <td>2</td>\n",
       "      <td>2</td>\n",
       "      <td>1</td>\n",
       "      <td>0</td>\n",
       "      <td>0</td>\n",
       "      <td>0</td>\n",
       "      <td>1</td>\n",
       "    </tr>\n",
       "    <tr>\n",
       "      <th>1</th>\n",
       "      <td>economy</td>\n",
       "      <td>petrol</td>\n",
       "      <td>-0.6</td>\n",
       "      <td>2014</td>\n",
       "      <td>479</td>\n",
       "      <td>L-1050707e</td>\n",
       "      <td>Smart ForFour</td>\n",
       "      <td>engine_overheat</td>\n",
       "      <td>2019</td>\n",
       "      <td>5.614556e+05</td>\n",
       "      <td>13</td>\n",
       "      <td>2</td>\n",
       "      <td>2</td>\n",
       "      <td>1</td>\n",
       "      <td>0</td>\n",
       "      <td>0</td>\n",
       "      <td>0</td>\n",
       "      <td>1</td>\n",
       "    </tr>\n",
       "    <tr>\n",
       "      <th>2</th>\n",
       "      <td>economy</td>\n",
       "      <td>petrol</td>\n",
       "      <td>1.3</td>\n",
       "      <td>2015</td>\n",
       "      <td>12402</td>\n",
       "      <td>u10315229l</td>\n",
       "      <td>VW Polo VI</td>\n",
       "      <td>break_bug</td>\n",
       "      <td>2019</td>\n",
       "      <td>1.838453e+06</td>\n",
       "      <td>10</td>\n",
       "      <td>3</td>\n",
       "      <td>3</td>\n",
       "      <td>1</td>\n",
       "      <td>2</td>\n",
       "      <td>0</td>\n",
       "      <td>0</td>\n",
       "      <td>0</td>\n",
       "    </tr>\n",
       "    <tr>\n",
       "      <th>3</th>\n",
       "      <td>business</td>\n",
       "      <td>electro</td>\n",
       "      <td>1.2</td>\n",
       "      <td>2014</td>\n",
       "      <td>11318</td>\n",
       "      <td>b-1247294W</td>\n",
       "      <td>MINI CooperSE</td>\n",
       "      <td>engine_fuel</td>\n",
       "      <td>2021</td>\n",
       "      <td>2.863095e+06</td>\n",
       "      <td>13</td>\n",
       "      <td>2</td>\n",
       "      <td>2</td>\n",
       "      <td>0</td>\n",
       "      <td>1</td>\n",
       "      <td>0</td>\n",
       "      <td>0</td>\n",
       "      <td>0</td>\n",
       "    </tr>\n",
       "    <tr>\n",
       "      <th>4</th>\n",
       "      <td>economy</td>\n",
       "      <td>petrol</td>\n",
       "      <td>-1.2</td>\n",
       "      <td>2014</td>\n",
       "      <td>28146</td>\n",
       "      <td>M-3209979P</td>\n",
       "      <td>VW Tiguan</td>\n",
       "      <td>wheel_shake</td>\n",
       "      <td>2019</td>\n",
       "      <td>2.138686e+06</td>\n",
       "      <td>9</td>\n",
       "      <td>2</td>\n",
       "      <td>2</td>\n",
       "      <td>1</td>\n",
       "      <td>1</td>\n",
       "      <td>0</td>\n",
       "      <td>0</td>\n",
       "      <td>0</td>\n",
       "    </tr>\n",
       "    <tr>\n",
       "      <th>...</th>\n",
       "      <td>...</td>\n",
       "      <td>...</td>\n",
       "      <td>...</td>\n",
       "      <td>...</td>\n",
       "      <td>...</td>\n",
       "      <td>...</td>\n",
       "      <td>...</td>\n",
       "      <td>...</td>\n",
       "      <td>...</td>\n",
       "      <td>...</td>\n",
       "      <td>...</td>\n",
       "      <td>...</td>\n",
       "      <td>...</td>\n",
       "      <td>...</td>\n",
       "      <td>...</td>\n",
       "      <td>...</td>\n",
       "      <td>...</td>\n",
       "      <td>...</td>\n",
       "    </tr>\n",
       "    <tr>\n",
       "      <th>1495</th>\n",
       "      <td>economy</td>\n",
       "      <td>petrol</td>\n",
       "      <td>-1.0</td>\n",
       "      <td>2013</td>\n",
       "      <td>25137</td>\n",
       "      <td>s14346341L</td>\n",
       "      <td>Smart ForTwo</td>\n",
       "      <td>wheel_shake</td>\n",
       "      <td>2015</td>\n",
       "      <td>1.351647e+06</td>\n",
       "      <td>12</td>\n",
       "      <td>2</td>\n",
       "      <td>2</td>\n",
       "      <td>1</td>\n",
       "      <td>0</td>\n",
       "      <td>0</td>\n",
       "      <td>0</td>\n",
       "      <td>1</td>\n",
       "    </tr>\n",
       "    <tr>\n",
       "      <th>1496</th>\n",
       "      <td>economy</td>\n",
       "      <td>petrol</td>\n",
       "      <td>3.9</td>\n",
       "      <td>2017</td>\n",
       "      <td>-15271</td>\n",
       "      <td>v21225421p</td>\n",
       "      <td>Skoda Rapid</td>\n",
       "      <td>engine_check</td>\n",
       "      <td>2019</td>\n",
       "      <td>6.422310e+06</td>\n",
       "      <td>11</td>\n",
       "      <td>2</td>\n",
       "      <td>2</td>\n",
       "      <td>2</td>\n",
       "      <td>0</td>\n",
       "      <td>0</td>\n",
       "      <td>0</td>\n",
       "      <td>0</td>\n",
       "    </tr>\n",
       "    <tr>\n",
       "      <th>1497</th>\n",
       "      <td>economy</td>\n",
       "      <td>petrol</td>\n",
       "      <td>1.0</td>\n",
       "      <td>2012</td>\n",
       "      <td>-17243</td>\n",
       "      <td>T14866175p</td>\n",
       "      <td>VW Polo VI</td>\n",
       "      <td>break_bug</td>\n",
       "      <td>2016</td>\n",
       "      <td>9.535158e+05</td>\n",
       "      <td>10</td>\n",
       "      <td>3</td>\n",
       "      <td>3</td>\n",
       "      <td>1</td>\n",
       "      <td>2</td>\n",
       "      <td>0</td>\n",
       "      <td>0</td>\n",
       "      <td>0</td>\n",
       "    </tr>\n",
       "    <tr>\n",
       "      <th>1498</th>\n",
       "      <td>standart</td>\n",
       "      <td>petrol</td>\n",
       "      <td>1.4</td>\n",
       "      <td>2015</td>\n",
       "      <td>23191</td>\n",
       "      <td>j12230337z</td>\n",
       "      <td>Kia Sportage</td>\n",
       "      <td>another_bug</td>\n",
       "      <td>2018</td>\n",
       "      <td>3.840840e+06</td>\n",
       "      <td>12</td>\n",
       "      <td>2</td>\n",
       "      <td>2</td>\n",
       "      <td>2</td>\n",
       "      <td>0</td>\n",
       "      <td>0</td>\n",
       "      <td>1</td>\n",
       "      <td>0</td>\n",
       "    </tr>\n",
       "    <tr>\n",
       "      <th>1499</th>\n",
       "      <td>economy</td>\n",
       "      <td>petrol</td>\n",
       "      <td>-0.8</td>\n",
       "      <td>2011</td>\n",
       "      <td>-3683</td>\n",
       "      <td>f-9400269f</td>\n",
       "      <td>Kia Rio X</td>\n",
       "      <td>gear_stick</td>\n",
       "      <td>2020</td>\n",
       "      <td>1.686781e+06</td>\n",
       "      <td>9</td>\n",
       "      <td>3</td>\n",
       "      <td>3</td>\n",
       "      <td>3</td>\n",
       "      <td>1</td>\n",
       "      <td>0</td>\n",
       "      <td>1</td>\n",
       "      <td>0</td>\n",
       "    </tr>\n",
       "  </tbody>\n",
       "</table>\n",
       "<p>1500 rows × 18 columns</p>\n",
       "</div>"
      ],
      "text/plain": [
       "      car_type fuel_type  car_rating  year_to_start  riders      car_id  \\\n",
       "0      economy    petrol        -0.9           2013   22178  s-6180865X   \n",
       "1      economy    petrol        -0.6           2014     479  L-1050707e   \n",
       "2      economy    petrol         1.3           2015   12402  u10315229l   \n",
       "3     business   electro         1.2           2014   11318  b-1247294W   \n",
       "4      economy    petrol        -1.2           2014   28146  M-3209979P   \n",
       "...        ...       ...         ...            ...     ...         ...   \n",
       "1495   economy    petrol        -1.0           2013   25137  s14346341L   \n",
       "1496   economy    petrol         3.9           2017  -15271  v21225421p   \n",
       "1497   economy    petrol         1.0           2012  -17243  T14866175p   \n",
       "1498  standart    petrol         1.4           2015   23191  j12230337z   \n",
       "1499   economy    petrol        -0.8           2011   -3683  f-9400269f   \n",
       "\n",
       "              model         target_2  year_to_work      target_1  char_count  \\\n",
       "0     Smart ForFour  engine_overheat          2017  2.342619e+06          13   \n",
       "1     Smart ForFour  engine_overheat          2019  5.614556e+05          13   \n",
       "2        VW Polo VI        break_bug          2019  1.838453e+06          10   \n",
       "3     MINI CooperSE      engine_fuel          2021  2.863095e+06          13   \n",
       "4         VW Tiguan      wheel_shake          2019  2.138686e+06           9   \n",
       "...             ...              ...           ...           ...         ...   \n",
       "1495   Smart ForTwo      wheel_shake          2015  1.351647e+06          12   \n",
       "1496    Skoda Rapid     engine_check          2019  6.422310e+06          11   \n",
       "1497     VW Polo VI        break_bug          2016  9.535158e+05          10   \n",
       "1498   Kia Sportage      another_bug          2018  3.840840e+06          12   \n",
       "1499      Kia Rio X       gear_stick          2020  1.686781e+06           9   \n",
       "\n",
       "      word_count  different_words  title_word_count  upper_case_word_count  \\\n",
       "0              2                2                 1                      0   \n",
       "1              2                2                 1                      0   \n",
       "2              3                3                 1                      2   \n",
       "3              2                2                 0                      1   \n",
       "4              2                2                 1                      1   \n",
       "...          ...              ...               ...                    ...   \n",
       "1495           2                2                 1                      0   \n",
       "1496           2                2                 2                      0   \n",
       "1497           3                3                 1                      2   \n",
       "1498           2                2                 2                      0   \n",
       "1499           3                3                 3                      1   \n",
       "\n",
       "      is_bmw  is_kia  is_smart  \n",
       "0          0       0         1  \n",
       "1          0       0         1  \n",
       "2          0       0         0  \n",
       "3          0       0         0  \n",
       "4          0       0         0  \n",
       "...      ...     ...       ...  \n",
       "1495       0       0         1  \n",
       "1496       0       0         0  \n",
       "1497       0       0         0  \n",
       "1498       0       1         0  \n",
       "1499       0       1         0  \n",
       "\n",
       "[1500 rows x 18 columns]"
      ]
     },
     "execution_count": 29,
     "metadata": {},
     "output_type": "execute_result"
    }
   ],
   "source": [
    "from tqdm import tqdm\n",
    "tqdm.pandas()\n",
    "\n",
    "#и просто заменяем apply на progress_apply(), тоже самое можно сделать для df.map()\n",
    "car_info['char_count'] = car_info['model'].progress_apply(len)\n",
    "car_info['word_count'] = car_info['model'].progress_apply(lambda x: len(x.split()))\n",
    "car_info['different_words'] = car_info['model'].progress_apply(lambda x: len(set(x.split())))\n",
    "car_info['title_word_count'] = car_info['model'].progress_apply(lambda x: len([wrd for wrd in x.split() if wrd.istitle()]))\n",
    "car_info['upper_case_word_count'] = car_info['model'].progress_apply(lambda x: len([wrd for wrd in x.split() if wrd.isupper()]))\n",
    "car_info['is_bmw'] = car_info['model'].progress_apply(lambda x: 1 if 'BMW' in x else 0)\n",
    "car_info['is_kia'] = car_info['model'].progress_apply(lambda x: 1 if 'Kia' in x else 0)\n",
    "car_info['is_smart'] = car_info['model'].progress_apply(lambda x: 1 if 'Smart' in x else 0)\n",
    "car_info # проверим, что новые признаки появились"
   ]
  },
  {
   "cell_type": "markdown",
   "id": "31e0167e-792d-4374-8146-0463e9678e08",
   "metadata": {},
   "source": [
    "## <center>pandarallel - ускоряем pandas в N раз</center>"
   ]
  },
  {
   "cell_type": "markdown",
   "id": "e25eb2f6-3a47-43bc-9abc-90411e8b6eac",
   "metadata": {},
   "source": [
    "Допустим мы написали функцию для генерации нового признака со сложной логикой, которая долго выполняется (сейчас заменим её паузой)"
   ]
  },
  {
   "cell_type": "code",
   "execution_count": 36,
   "id": "244c0653-a254-43b5-8893-776d6e0ed6ac",
   "metadata": {},
   "outputs": [],
   "source": [
    "# посчитаем количество лет эксплуатации автомобиля на 2022год\n",
    "def get_car_age(x):\n",
    "    time.sleep(0.01)\n",
    "    return 2022 - x"
   ]
  },
  {
   "cell_type": "code",
   "execution_count": 37,
   "id": "07d75db2-5176-4ce2-b11c-986e4fc70c64",
   "metadata": {},
   "outputs": [
    {
     "name": "stderr",
     "output_type": "stream",
     "text": [
      "100%|██████████| 1500/1500 [00:15<00:00, 99.15it/s]"
     ]
    },
    {
     "name": "stdout",
     "output_type": "stream",
     "text": [
      "CPU times: user 50.3 ms, sys: 22.8 ms, total: 73.1 ms\n",
      "Wall time: 15.1 s\n"
     ]
    },
    {
     "name": "stderr",
     "output_type": "stream",
     "text": [
      "\n"
     ]
    }
   ],
   "source": [
    "%%time\n",
    "car_info['car_age'] = car_info['year_to_start'].progress_apply(get_car_age)"
   ]
  },
  {
   "cell_type": "markdown",
   "id": "5baaacb4-3f72-42cf-a902-2c0861f3ecc9",
   "metadata": {},
   "source": [
    "А теперь давайте ускорим генерацию признака в n раз (n - количество ядер процессора), в нашем случае 4."
   ]
  },
  {
   "cell_type": "code",
   "execution_count": 38,
   "id": "94d5e10c-a4f3-4c08-96db-fa79f073eb5d",
   "metadata": {},
   "outputs": [
    {
     "name": "stdout",
     "output_type": "stream",
     "text": [
      "INFO: Pandarallel will run on 4 workers.\n",
      "INFO: Pandarallel will use Memory file system to transfer data between the main process and workers.\n"
     ]
    }
   ],
   "source": [
    "# импортируем библиотеку pandarallel и инициализируем её\n",
    "from pandarallel import pandarallel\n",
    "pandarallel.initialize(progress_bar=True, nb_workers=4)"
   ]
  },
  {
   "cell_type": "code",
   "execution_count": 39,
   "id": "ef85e0cd-2691-4a8f-8d77-838a5386152a",
   "metadata": {},
   "outputs": [
    {
     "data": {
      "application/vnd.jupyter.widget-view+json": {
       "model_id": "84912c9cbd76495e8be249c38f4ce8bd",
       "version_major": 2,
       "version_minor": 0
      },
      "text/plain": [
       "VBox(children=(HBox(children=(IntProgress(value=0, description='0.00%', max=375), Label(value='0 / 375'))), HB…"
      ]
     },
     "metadata": {},
     "output_type": "display_data"
    },
    {
     "name": "stdout",
     "output_type": "stream",
     "text": [
      "CPU times: user 74.3 ms, sys: 28 ms, total: 102 ms\n",
      "Wall time: 3.84 s\n"
     ]
    }
   ],
   "source": [
    "%%time\n",
    "# запускаем генерацию нашего признака в 4 потока, заменяя progress_apply() на parallel_apply()\n",
    "car_info['car_age'] = car_info['year_to_start'].parallel_apply(get_car_age)"
   ]
  },
  {
   "cell_type": "markdown",
   "id": "fddfe520-b28b-445b-acea-c221db196b07",
   "metadata": {},
   "source": [
    "С 15.1 сек, время уменьшилось до 3.84сек."
   ]
  },
  {
   "cell_type": "markdown",
   "id": "807bea59-0e81-46ff-b0fc-2b31c8674aec",
   "metadata": {},
   "source": [
    "Библиотека pandarallel позволяет задействовать все доступные ядра процессора для параллельных вычислений. Если функции содержат в себе вызовы других функций или использование сложных фреймворков, то не всегда их удасться распараллелить. <br>\n",
    "Так же можно распараллелить и другие функции пандас, полный список из <a href='https://nalepae.github.io/pandarallel/'> Github</a> проекта:"
   ]
  },
  {
   "cell_type": "markdown",
   "id": "b7f8c9e1-545f-447c-ad46-575e70c5a802",
   "metadata": {},
   "source": [
    "![sheet](14rxcddfc9lms2sdubj9h7zgykm.png)"
   ]
  },
  {
   "cell_type": "markdown",
   "id": "8daf129f-2023-4d2f-a180-222ffcdbd210",
   "metadata": {},
   "source": [
    "<img src=\"https://habrastorage.org/r/w1560/webt/14/rx/cd/14rxcddfc9lms2sdubj9h7zgykm.png\">"
   ]
  }
 ],
 "metadata": {
  "kernelspec": {
   "display_name": "Python 3 (ipykernel)",
   "language": "python",
   "name": "python3"
  },
  "language_info": {
   "codemirror_mode": {
    "name": "ipython",
    "version": 3
   },
   "file_extension": ".py",
   "mimetype": "text/x-python",
   "name": "python",
   "nbconvert_exporter": "python",
   "pygments_lexer": "ipython3",
   "version": "3.9.13"
  }
 },
 "nbformat": 4,
 "nbformat_minor": 5
}
