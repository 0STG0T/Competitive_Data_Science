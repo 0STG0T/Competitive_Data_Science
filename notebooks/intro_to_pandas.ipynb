{
 "cells": [
  {
   "cell_type": "markdown",
   "id": "ac3c8e34-cca3-446f-af19-432534c31366",
   "metadata": {},
   "source": [
    "# введение в Pandas\n",
    "## ghghghgh\n",
    "### Базовый набор методов и приемов в Pandas\n",
    "\n",
    "описалово\n",
    "\n",
    "ноут отредактирован 16.11.2022  \n",
    "[ссылка на курс](https://stepik.org/lesson/681964/) "
   ]
  },
  {
   "cell_type": "markdown",
   "id": "cb4076ea",
   "metadata": {},
   "source": [
    "### 1. Импорт библиотек"
   ]
  },
  {
   "cell_type": "code",
   "execution_count": 20,
   "id": "a534db11-4b91-497c-9073-2ac811984f3a",
   "metadata": {},
   "outputs": [],
   "source": [
    "import pandas as pd\n",
    "import numpy as np"
   ]
  },
  {
   "cell_type": "markdown",
   "id": "cc15e425",
   "metadata": {},
   "source": [
    "### 2. Загрузка данных"
   ]
  },
  {
   "cell_type": "code",
   "execution_count": 21,
   "id": "91351e00-639f-4d85-b8a3-31ce178931e8",
   "metadata": {},
   "outputs": [],
   "source": [
    "path = 'rides_info_short.csv'\n",
    "rides_info = pd.read_csv(path)"
   ]
  },
  {
   "cell_type": "markdown",
   "id": "3d6a770c",
   "metadata": {},
   "source": [
    "***[pd.read_csv()](https://pandas.pydata.org/docs/reference/api/pandas.read_csv.html)*** - cчитывает данные в DataFrame из файла csv (файл с разделителями). У метода очень много параметров с которыми нужно ознакомится самостоятельно.  "
   ]
  },
  {
   "cell_type": "markdown",
   "id": "8b16a4ac",
   "metadata": {},
   "source": [
    "### 3. Предварительный осмотр данных"
   ]
  },
  {
   "cell_type": "code",
   "execution_count": 22,
   "id": "e563a948",
   "metadata": {},
   "outputs": [
    {
     "data": {
      "text/html": [
       "<div>\n",
       "<style scoped>\n",
       "    .dataframe tbody tr th:only-of-type {\n",
       "        vertical-align: middle;\n",
       "    }\n",
       "\n",
       "    .dataframe tbody tr th {\n",
       "        vertical-align: top;\n",
       "    }\n",
       "\n",
       "    .dataframe thead th {\n",
       "        text-align: right;\n",
       "    }\n",
       "</style>\n",
       "<table border=\"1\" class=\"dataframe\">\n",
       "  <thead>\n",
       "    <tr style=\"text-align: right;\">\n",
       "      <th></th>\n",
       "      <th>car_id</th>\n",
       "      <th>ride_id</th>\n",
       "      <th>speed_avg</th>\n",
       "      <th>rating</th>\n",
       "      <th>ride_duration</th>\n",
       "      <th>ride_cost</th>\n",
       "      <th>stop_times</th>\n",
       "    </tr>\n",
       "  </thead>\n",
       "  <tbody>\n",
       "    <tr>\n",
       "      <th>5698</th>\n",
       "      <td>A17304887K</td>\n",
       "      <td>D1E</td>\n",
       "      <td>35.000000</td>\n",
       "      <td>3.049037</td>\n",
       "      <td>4.628990</td>\n",
       "      <td>4.852303</td>\n",
       "      <td>2</td>\n",
       "    </tr>\n",
       "    <tr>\n",
       "      <th>15985</th>\n",
       "      <td>A66878295e</td>\n",
       "      <td>N1Z</td>\n",
       "      <td>67.271229</td>\n",
       "      <td>3.242520</td>\n",
       "      <td>4.835625</td>\n",
       "      <td>3.455306</td>\n",
       "      <td>0</td>\n",
       "    </tr>\n",
       "    <tr>\n",
       "      <th>893</th>\n",
       "      <td>A11000629j</td>\n",
       "      <td>u1Q</td>\n",
       "      <td>34.000000</td>\n",
       "      <td>4.369930</td>\n",
       "      <td>5.319750</td>\n",
       "      <td>4.013269</td>\n",
       "      <td>0</td>\n",
       "    </tr>\n",
       "    <tr>\n",
       "      <th>7066</th>\n",
       "      <td>A18490474Q</td>\n",
       "      <td>b1q</td>\n",
       "      <td>33.000000</td>\n",
       "      <td>4.492565</td>\n",
       "      <td>4.763158</td>\n",
       "      <td>3.919789</td>\n",
       "      <td>2</td>\n",
       "    </tr>\n",
       "    <tr>\n",
       "      <th>7974</th>\n",
       "      <td>A18948234K</td>\n",
       "      <td>A1Q</td>\n",
       "      <td>41.000000</td>\n",
       "      <td>5.499077</td>\n",
       "      <td>4.258583</td>\n",
       "      <td>6.195338</td>\n",
       "      <td>2</td>\n",
       "    </tr>\n",
       "  </tbody>\n",
       "</table>\n",
       "</div>"
      ],
      "text/plain": [
       "           car_id ride_id  speed_avg    rating  ride_duration  ride_cost  \\\n",
       "5698   A17304887K     D1E  35.000000  3.049037       4.628990   4.852303   \n",
       "15985  A66878295e     N1Z  67.271229  3.242520       4.835625   3.455306   \n",
       "893    A11000629j     u1Q  34.000000  4.369930       5.319750   4.013269   \n",
       "7066   A18490474Q     b1q  33.000000  4.492565       4.763158   3.919789   \n",
       "7974   A18948234K     A1Q  41.000000  5.499077       4.258583   6.195338   \n",
       "\n",
       "       stop_times  \n",
       "5698            2  \n",
       "15985           0  \n",
       "893             0  \n",
       "7066            2  \n",
       "7974            2  "
      ]
     },
     "execution_count": 22,
     "metadata": {},
     "output_type": "execute_result"
    }
   ],
   "source": [
    "rides_info.sample(5)"
   ]
  },
  {
   "cell_type": "markdown",
   "id": "24422457-e0c6-4e30-baec-402657d12363",
   "metadata": {},
   "source": [
    "***[df.sample()](https://pandas.pydata.org/pandas-docs/stable/reference/api/pandas.DataFrame.sample.html)*** - возвращает случайную выборку строк датафрейма. Параметр n - кол-во выводимых строк.  \n",
    "\n",
    "здесь и далее под df подразумевается любой датафрейм к которому вы применяете метод  "
   ]
  },
  {
   "cell_type": "code",
   "execution_count": 23,
   "id": "cee69133",
   "metadata": {},
   "outputs": [
    {
     "data": {
      "text/html": [
       "<div>\n",
       "<style scoped>\n",
       "    .dataframe tbody tr th:only-of-type {\n",
       "        vertical-align: middle;\n",
       "    }\n",
       "\n",
       "    .dataframe tbody tr th {\n",
       "        vertical-align: top;\n",
       "    }\n",
       "\n",
       "    .dataframe thead th {\n",
       "        text-align: right;\n",
       "    }\n",
       "</style>\n",
       "<table border=\"1\" class=\"dataframe\">\n",
       "  <thead>\n",
       "    <tr style=\"text-align: right;\">\n",
       "      <th></th>\n",
       "      <th>car_id</th>\n",
       "      <th>ride_id</th>\n",
       "      <th>speed_avg</th>\n",
       "      <th>rating</th>\n",
       "      <th>ride_duration</th>\n",
       "      <th>ride_cost</th>\n",
       "      <th>stop_times</th>\n",
       "    </tr>\n",
       "  </thead>\n",
       "  <tbody>\n",
       "    <tr>\n",
       "      <th>0</th>\n",
       "      <td>A10077085b</td>\n",
       "      <td>p1V</td>\n",
       "      <td>36.000000</td>\n",
       "      <td>4.806122</td>\n",
       "      <td>4.650555</td>\n",
       "      <td>3.721202</td>\n",
       "      <td>1</td>\n",
       "    </tr>\n",
       "    <tr>\n",
       "      <th>1</th>\n",
       "      <td>A10077085b</td>\n",
       "      <td>F1h</td>\n",
       "      <td>41.000000</td>\n",
       "      <td>5.827247</td>\n",
       "      <td>4.663927</td>\n",
       "      <td>7.126641</td>\n",
       "      <td>1</td>\n",
       "    </tr>\n",
       "    <tr>\n",
       "      <th>2</th>\n",
       "      <td>A10077085b</td>\n",
       "      <td>m1j</td>\n",
       "      <td>40.581614</td>\n",
       "      <td>3.497089</td>\n",
       "      <td>4.689062</td>\n",
       "      <td>6.323878</td>\n",
       "      <td>1</td>\n",
       "    </tr>\n",
       "    <tr>\n",
       "      <th>3</th>\n",
       "      <td>A10077085b</td>\n",
       "      <td>a1n</td>\n",
       "      <td>29.000000</td>\n",
       "      <td>4.896888</td>\n",
       "      <td>5.212562</td>\n",
       "      <td>5.326560</td>\n",
       "      <td>0</td>\n",
       "    </tr>\n",
       "    <tr>\n",
       "      <th>4</th>\n",
       "      <td>A10077085b</td>\n",
       "      <td>B1N</td>\n",
       "      <td>31.000000</td>\n",
       "      <td>4.151057</td>\n",
       "      <td>3.430144</td>\n",
       "      <td>4.145335</td>\n",
       "      <td>2</td>\n",
       "    </tr>\n",
       "  </tbody>\n",
       "</table>\n",
       "</div>"
      ],
      "text/plain": [
       "       car_id ride_id  speed_avg    rating  ride_duration  ride_cost  \\\n",
       "0  A10077085b     p1V  36.000000  4.806122       4.650555   3.721202   \n",
       "1  A10077085b     F1h  41.000000  5.827247       4.663927   7.126641   \n",
       "2  A10077085b     m1j  40.581614  3.497089       4.689062   6.323878   \n",
       "3  A10077085b     a1n  29.000000  4.896888       5.212562   5.326560   \n",
       "4  A10077085b     B1N  31.000000  4.151057       3.430144   4.145335   \n",
       "\n",
       "   stop_times  \n",
       "0           1  \n",
       "1           1  \n",
       "2           1  \n",
       "3           0  \n",
       "4           2  "
      ]
     },
     "execution_count": 23,
     "metadata": {},
     "output_type": "execute_result"
    }
   ],
   "source": [
    "# часто используют метод head(), но лучше первый раз смотреть на датафрейм через sample()\n",
    "# потомучто так вы имеете возможность смотреть на разные выборки и это может быть полезно, чтобы увидеть какие-нибудь баги\n",
    "\n",
    "rides_info.head()"
   ]
  },
  {
   "cell_type": "markdown",
   "id": "050584f7",
   "metadata": {},
   "source": [
    "***[df.head()](https://pandas.pydata.org/pandas-docs/stable/reference/api/pandas.DataFrame.head.html)*** - возвращает первые строки датафрейма. По умолчаю выводит 5 строк, но можно изменить параметр n и вывести больше.  "
   ]
  },
  {
   "cell_type": "markdown",
   "id": "d47d3a5f",
   "metadata": {},
   "source": [
    "***Выводы:***\n",
    "- в целом данные загрузились \n",
    "- названия столбцов из первой строки загружены\n",
    "- индексы первого столбца выглядят адекватно\n",
    "- наличие индексов, которые нужно удалить не обнаружено\n",
    "- по случайным пяти строкам наличие каких-либо ошибок не обнаружено"
   ]
  },
  {
   "cell_type": "markdown",
   "id": "787cf0fb",
   "metadata": {},
   "source": [
    "### 4. Предварительный анализ данных"
   ]
  },
  {
   "cell_type": "code",
   "execution_count": 24,
   "id": "6fe8420c",
   "metadata": {},
   "outputs": [
    {
     "name": "stdout",
     "output_type": "stream",
     "text": [
      "<class 'pandas.core.frame.DataFrame'>\n",
      "RangeIndex: 18000 entries, 0 to 17999\n",
      "Data columns (total 7 columns):\n",
      " #   Column         Non-Null Count  Dtype  \n",
      "---  ------         --------------  -----  \n",
      " 0   car_id         18000 non-null  object \n",
      " 1   ride_id        18000 non-null  object \n",
      " 2   speed_avg      18000 non-null  float64\n",
      " 3   rating         18000 non-null  float64\n",
      " 4   ride_duration  18000 non-null  float64\n",
      " 5   ride_cost      18000 non-null  float64\n",
      " 6   stop_times     18000 non-null  int64  \n",
      "dtypes: float64(4), int64(1), object(2)\n",
      "memory usage: 984.5+ KB\n"
     ]
    }
   ],
   "source": [
    "# в нашем случае датафрейм небольшой, но он может быть большим. Мы разберем методы библиотеки Pandas\n",
    "# на этом небольшом примере, которые вы по аналогии самостоятельно сможете применить к другим датасетам\n",
    "\n",
    "rides_info.info()"
   ]
  },
  {
   "cell_type": "markdown",
   "id": "1d7526f2",
   "metadata": {},
   "source": [
    "***[df.info()](https://pandas.pydata.org/pandas-docs/stable/reference/api/pandas.DataFrame.info.html)*** - Выводит краткую сводку информацию по датафрейму.  "
   ]
  },
  {
   "cell_type": "markdown",
   "id": "725ae19c",
   "metadata": {},
   "source": [
    "***Выводы:***\n",
    "- в датафрейме 7 столбцов\n",
    "- два из них имеют тип object\n",
    "- четыре из них имеют тип float64\n",
    "- один столбец имеет тип int64\n",
    "- всего в датафрейме 18000 строк\n",
    "- пропусков нет (во всех столбцах кол-во ненулевых значений равно 18000)\n",
    "- объем занимаемый датафреймом 984.5+ KB (эта информация может быть полезна, чтобы заранее представить какие операции с датафреймом вы сможете выполнять с учетом доступной вам оперативной памяти)"
   ]
  },
  {
   "cell_type": "code",
   "execution_count": 25,
   "id": "6dcdae96",
   "metadata": {},
   "outputs": [
    {
     "data": {
      "text/plain": [
       "Index(['car_id', 'ride_id', 'speed_avg', 'rating', 'ride_duration',\n",
       "       'ride_cost', 'stop_times'],\n",
       "      dtype='object')"
      ]
     },
     "execution_count": 25,
     "metadata": {},
     "output_type": "execute_result"
    }
   ],
   "source": [
    "# иногда кол-во столбцов очень большое, так что при выводе они все не помещаются в стандартный вывод через df.info(),\n",
    "# тогда можно воспользоваться атрибутом для просмотра индексов названий столбцов\n",
    "rides_info.columns"
   ]
  },
  {
   "cell_type": "markdown",
   "id": "f61c7e59",
   "metadata": {},
   "source": [
    "  \n",
    "\n",
    "***[df.columns](https://pandas.pydata.org/docs/reference/api/pandas.DataFrame.columns.html)*** - Выводит метки столбцов датафрейма.  "
   ]
  },
  {
   "cell_type": "code",
   "execution_count": 26,
   "id": "8b85701f",
   "metadata": {},
   "outputs": [
    {
     "data": {
      "text/plain": [
       "(['car_id',\n",
       "  'ride_id',\n",
       "  'speed_avg',\n",
       "  'rating',\n",
       "  'ride_duration',\n",
       "  'ride_cost',\n",
       "  'stop_times'],\n",
       " 7)"
      ]
     },
     "execution_count": 26,
     "metadata": {},
     "output_type": "execute_result"
    }
   ],
   "source": [
    "# гораздо нагляднее и удобнее работать со списком названий столбцов\n",
    "column_names = list(rides_info.columns)\n",
    "column_names, len(column_names)"
   ]
  },
  {
   "cell_type": "markdown",
   "id": "d210bb5e",
   "metadata": {},
   "source": [
    "***Выводы:***\n",
    "- 7 столбцов\n",
    "- все названия столбцов в нижнем регистре и не содержат спецсимволов (значит их не нужно переименовывать, чтобы обращаться к ним через точку)\n"
   ]
  },
  {
   "cell_type": "markdown",
   "id": "37676a92",
   "metadata": {},
   "source": [
    "### 5. Предварительный анализ числовых столбцов"
   ]
  },
  {
   "cell_type": "code",
   "execution_count": 28,
   "id": "3f499289",
   "metadata": {},
   "outputs": [
    {
     "data": {
      "text/html": [
       "<div>\n",
       "<style scoped>\n",
       "    .dataframe tbody tr th:only-of-type {\n",
       "        vertical-align: middle;\n",
       "    }\n",
       "\n",
       "    .dataframe tbody tr th {\n",
       "        vertical-align: top;\n",
       "    }\n",
       "\n",
       "    .dataframe thead th {\n",
       "        text-align: right;\n",
       "    }\n",
       "</style>\n",
       "<table border=\"1\" class=\"dataframe\">\n",
       "  <thead>\n",
       "    <tr style=\"text-align: right;\">\n",
       "      <th></th>\n",
       "      <th>speed_avg</th>\n",
       "      <th>rating</th>\n",
       "      <th>ride_duration</th>\n",
       "      <th>ride_cost</th>\n",
       "      <th>stop_times</th>\n",
       "    </tr>\n",
       "  </thead>\n",
       "  <tbody>\n",
       "    <tr>\n",
       "      <th>count</th>\n",
       "      <td>18000.000000</td>\n",
       "      <td>18000.000000</td>\n",
       "      <td>18000.000000</td>\n",
       "      <td>18000.000000</td>\n",
       "      <td>18000.000000</td>\n",
       "    </tr>\n",
       "    <tr>\n",
       "      <th>mean</th>\n",
       "      <td>38.806994</td>\n",
       "      <td>4.399343</td>\n",
       "      <td>4.923314</td>\n",
       "      <td>4.931399</td>\n",
       "      <td>0.808167</td>\n",
       "    </tr>\n",
       "    <tr>\n",
       "      <th>std</th>\n",
       "      <td>11.462446</td>\n",
       "      <td>0.998470</td>\n",
       "      <td>0.993852</td>\n",
       "      <td>0.996623</td>\n",
       "      <td>0.832976</td>\n",
       "    </tr>\n",
       "    <tr>\n",
       "      <th>min</th>\n",
       "      <td>15.000000</td>\n",
       "      <td>0.751504</td>\n",
       "      <td>0.801373</td>\n",
       "      <td>1.315689</td>\n",
       "      <td>0.000000</td>\n",
       "    </tr>\n",
       "    <tr>\n",
       "      <th>25%</th>\n",
       "      <td>32.000000</td>\n",
       "      <td>3.727872</td>\n",
       "      <td>4.244142</td>\n",
       "      <td>4.266755</td>\n",
       "      <td>0.000000</td>\n",
       "    </tr>\n",
       "    <tr>\n",
       "      <th>50%</th>\n",
       "      <td>37.000000</td>\n",
       "      <td>4.391036</td>\n",
       "      <td>4.928637</td>\n",
       "      <td>4.932504</td>\n",
       "      <td>1.000000</td>\n",
       "    </tr>\n",
       "    <tr>\n",
       "      <th>75%</th>\n",
       "      <td>41.000000</td>\n",
       "      <td>5.073972</td>\n",
       "      <td>5.593254</td>\n",
       "      <td>5.595347</td>\n",
       "      <td>1.000000</td>\n",
       "    </tr>\n",
       "    <tr>\n",
       "      <th>max</th>\n",
       "      <td>103.911531</td>\n",
       "      <td>7.954961</td>\n",
       "      <td>8.895110</td>\n",
       "      <td>9.444028</td>\n",
       "      <td>5.000000</td>\n",
       "    </tr>\n",
       "  </tbody>\n",
       "</table>\n",
       "</div>"
      ],
      "text/plain": [
       "          speed_avg        rating  ride_duration     ride_cost    stop_times\n",
       "count  18000.000000  18000.000000   18000.000000  18000.000000  18000.000000\n",
       "mean      38.806994      4.399343       4.923314      4.931399      0.808167\n",
       "std       11.462446      0.998470       0.993852      0.996623      0.832976\n",
       "min       15.000000      0.751504       0.801373      1.315689      0.000000\n",
       "25%       32.000000      3.727872       4.244142      4.266755      0.000000\n",
       "50%       37.000000      4.391036       4.928637      4.932504      1.000000\n",
       "75%       41.000000      5.073972       5.593254      5.595347      1.000000\n",
       "max      103.911531      7.954961       8.895110      9.444028      5.000000"
      ]
     },
     "execution_count": 28,
     "metadata": {},
     "output_type": "execute_result"
    }
   ],
   "source": [
    "rides_info.describe()"
   ]
  },
  {
   "cell_type": "markdown",
   "id": "5b74d5ca",
   "metadata": {},
   "source": [
    "***[df.describe()](https://pandas.pydata.org/pandas-docs/stable/reference/api/pandas.DataFrame.describe.html)*** - Выводит описательные статистики по числовым столбцам датафрейма. Описательные статистики включают в себя\n",
    "- count - кол-во не пустых значений\n",
    "- mean - среднее арифметическое\n",
    "- std - дисперсия\n",
    "- min, max - минимум и максимум\n",
    "- 25%, 50%, 75% - соотвествующие квартили  \n",
    "- \n",
    "!!!внимание!!! из статистик автоматически исключаюися NaN значения, если они есть.  "
   ]
  },
  {
   "cell_type": "markdown",
   "id": "246bf960",
   "metadata": {},
   "source": [
    "***Некоторые выводы:***\n",
    "- описание столбцов датафрема (speed_avg - средняя скорость по маршруту такси, rating - рейтинг полученный водителем за поездку, ride_duration - продолжительность поездки, ride_cost - стоимость поездки, stop_times - кол-во остановок)\n",
    "- средняя скорость движения по маршруту по всем поездкам около 40, а максимальная средняя скорость 103. Вероятно этот столбец емеет размерность км/час\n",
    "- как минимум в половине случаев во время поездки была одна остановка\n",
    "- максимальный рейтинг около 8 минимум чуть ниже единицы. Более половины всех рейтингов с оценками от 3 до 5. Вероятно размерность этого столбца баллы.\n",
    "- сделать однозначные выводы о размерностях продолжительности и стоимости поездок нельзя, вероятно они были модифицированы и для этого требуется дополнительный анализ и визуализация данных "
   ]
  },
  {
   "cell_type": "markdown",
   "id": "8227886a",
   "metadata": {},
   "source": [
    "### 6. Работа со столбцами и строками"
   ]
  },
  {
   "cell_type": "code",
   "execution_count": 34,
   "id": "ce2dde16",
   "metadata": {},
   "outputs": [
    {
     "data": {
      "text/plain": [
       "0        A10077085b\n",
       "1        A10077085b\n",
       "2        A10077085b\n",
       "3        A10077085b\n",
       "4        A10077085b\n",
       "            ...    \n",
       "17995    A89842534W\n",
       "17996    A89842534W\n",
       "17997    A89842534W\n",
       "17998    A89842534W\n",
       "17999    A89842534W\n",
       "Name: car_id, Length: 18000, dtype: object"
      ]
     },
     "execution_count": 34,
     "metadata": {},
     "output_type": "execute_result"
    }
   ],
   "source": [
    "# выше мы рассмотрели методы которые можно применить ко всему датафрейму.  \n",
    "# далее нам нужно будет перейти к анализу столбцов типа object.  \n",
    "# И прежде чем, это сделать нам необходимо разобраться как работать со столбцами и строками  \n",
    "\n",
    "# ниже приводяться несколько способов обращения к столбцам\n",
    "rides_info['car_id']"
   ]
  },
  {
   "cell_type": "code",
   "execution_count": 35,
   "id": "48db1625",
   "metadata": {},
   "outputs": [
    {
     "data": {
      "text/plain": [
       "0        A10077085b\n",
       "1        A10077085b\n",
       "2        A10077085b\n",
       "3        A10077085b\n",
       "4        A10077085b\n",
       "            ...    \n",
       "17995    A89842534W\n",
       "17996    A89842534W\n",
       "17997    A89842534W\n",
       "17998    A89842534W\n",
       "17999    A89842534W\n",
       "Name: car_id, Length: 18000, dtype: object"
      ]
     },
     "execution_count": 35,
     "metadata": {},
     "output_type": "execute_result"
    }
   ],
   "source": [
    "rides_info.car_id"
   ]
  },
  {
   "cell_type": "code",
   "execution_count": 33,
   "id": "3d32d807",
   "metadata": {},
   "outputs": [
    {
     "data": {
      "text/plain": [
       "0        A10077085b\n",
       "1        A10077085b\n",
       "2        A10077085b\n",
       "3        A10077085b\n",
       "4        A10077085b\n",
       "            ...    \n",
       "17995    A89842534W\n",
       "17996    A89842534W\n",
       "17997    A89842534W\n",
       "17998    A89842534W\n",
       "17999    A89842534W\n",
       "Name: car_id, Length: 18000, dtype: object"
      ]
     },
     "execution_count": 33,
     "metadata": {},
     "output_type": "execute_result"
    }
   ],
   "source": [
    "rides_info.loc[:, 'car_id']"
   ]
  },
  {
   "cell_type": "code",
   "execution_count": 40,
   "id": "06d87c9e",
   "metadata": {},
   "outputs": [
    {
     "data": {
      "text/plain": [
       "0        A10077085b\n",
       "1        A10077085b\n",
       "2        A10077085b\n",
       "3        A10077085b\n",
       "4        A10077085b\n",
       "            ...    \n",
       "17995    A89842534W\n",
       "17996    A89842534W\n",
       "17997    A89842534W\n",
       "17998    A89842534W\n",
       "17999    A89842534W\n",
       "Name: car_id, Length: 18000, dtype: object"
      ]
     },
     "execution_count": 40,
     "metadata": {},
     "output_type": "execute_result"
    }
   ],
   "source": [
    "rides_info.iloc[:,0]"
   ]
  },
  {
   "cell_type": "markdown",
   "id": "d590f743",
   "metadata": {},
   "source": [
    "На этом этапе важно разобратся с понятием Series"
   ]
  },
  {
   "cell_type": "markdown",
   "id": "d11c6eea-29ae-43d7-b4db-2f8d5f2371ab",
   "metadata": {},
   "source": [
    "<img src = '../images/pandas_2.jpg'>"
   ]
  },
  {
   "cell_type": "code",
   "execution_count": 65,
   "id": "b4392f2e",
   "metadata": {},
   "outputs": [
    {
     "data": {
      "text/plain": [
       "0     True\n",
       "1    False\n",
       "2    False\n",
       "3    False\n",
       "4     True\n",
       "Name: ride_cost, dtype: bool"
      ]
     },
     "execution_count": 65,
     "metadata": {},
     "output_type": "execute_result"
    }
   ],
   "source": [
    "# теперь, если мы хотим добавить новый столбец cheap_price - характеристика дешевой цены поездки:\n",
    "# если цена в первом 25% квартиле (то есть меньше 4.26) то это будет дешевая цена 'Yes', иначе 'No'\n",
    "\n",
    "\n",
    "# как нам вывести часть датафрейма с дешевыми ценами, попробуем просто записать это условие и вывести его\n",
    "rule_cheap = rides_info.ride_cost < 4.26\n",
    "rule_cheap[:5]"
   ]
  },
  {
   "cell_type": "markdown",
   "id": "1082b7af",
   "metadata": {},
   "source": [
    "Если вы посмотрите выше на первые пять строк датафрейма, то вы увидите, что строки с индексами 0 и 4 (первая и пятая строка) имеют цену ниже 4.26. Таким образом rule_cheap содержит True в значениях, удовлетворяющих условию."
   ]
  },
  {
   "cell_type": "code",
   "execution_count": 52,
   "id": "b02220ca",
   "metadata": {},
   "outputs": [
    {
     "data": {
      "text/html": [
       "<div>\n",
       "<style scoped>\n",
       "    .dataframe tbody tr th:only-of-type {\n",
       "        vertical-align: middle;\n",
       "    }\n",
       "\n",
       "    .dataframe tbody tr th {\n",
       "        vertical-align: top;\n",
       "    }\n",
       "\n",
       "    .dataframe thead th {\n",
       "        text-align: right;\n",
       "    }\n",
       "</style>\n",
       "<table border=\"1\" class=\"dataframe\">\n",
       "  <thead>\n",
       "    <tr style=\"text-align: right;\">\n",
       "      <th></th>\n",
       "      <th>car_id</th>\n",
       "      <th>ride_id</th>\n",
       "      <th>speed_avg</th>\n",
       "      <th>rating</th>\n",
       "      <th>ride_duration</th>\n",
       "      <th>ride_cost</th>\n",
       "      <th>stop_times</th>\n",
       "    </tr>\n",
       "  </thead>\n",
       "  <tbody>\n",
       "    <tr>\n",
       "      <th>0</th>\n",
       "      <td>A10077085b</td>\n",
       "      <td>p1V</td>\n",
       "      <td>36.000000</td>\n",
       "      <td>4.806122</td>\n",
       "      <td>4.650555</td>\n",
       "      <td>3.721202</td>\n",
       "      <td>1</td>\n",
       "    </tr>\n",
       "    <tr>\n",
       "      <th>4</th>\n",
       "      <td>A10077085b</td>\n",
       "      <td>B1N</td>\n",
       "      <td>31.000000</td>\n",
       "      <td>4.151057</td>\n",
       "      <td>3.430144</td>\n",
       "      <td>4.145335</td>\n",
       "      <td>2</td>\n",
       "    </tr>\n",
       "    <tr>\n",
       "      <th>10</th>\n",
       "      <td>A10077085b</td>\n",
       "      <td>H1s</td>\n",
       "      <td>52.416858</td>\n",
       "      <td>3.465121</td>\n",
       "      <td>5.061486</td>\n",
       "      <td>3.873964</td>\n",
       "      <td>0</td>\n",
       "    </tr>\n",
       "    <tr>\n",
       "      <th>12</th>\n",
       "      <td>A10077085b</td>\n",
       "      <td>B1d</td>\n",
       "      <td>38.000000</td>\n",
       "      <td>5.865320</td>\n",
       "      <td>4.405884</td>\n",
       "      <td>3.967056</td>\n",
       "      <td>1</td>\n",
       "    </tr>\n",
       "    <tr>\n",
       "      <th>16</th>\n",
       "      <td>A10077085b</td>\n",
       "      <td>a1d</td>\n",
       "      <td>32.091747</td>\n",
       "      <td>3.723012</td>\n",
       "      <td>5.052910</td>\n",
       "      <td>4.175643</td>\n",
       "      <td>1</td>\n",
       "    </tr>\n",
       "  </tbody>\n",
       "</table>\n",
       "</div>"
      ],
      "text/plain": [
       "        car_id ride_id  speed_avg    rating  ride_duration  ride_cost  \\\n",
       "0   A10077085b     p1V  36.000000  4.806122       4.650555   3.721202   \n",
       "4   A10077085b     B1N  31.000000  4.151057       3.430144   4.145335   \n",
       "10  A10077085b     H1s  52.416858  3.465121       5.061486   3.873964   \n",
       "12  A10077085b     B1d  38.000000  5.865320       4.405884   3.967056   \n",
       "16  A10077085b     a1d  32.091747  3.723012       5.052910   4.175643   \n",
       "\n",
       "    stop_times  \n",
       "0            1  \n",
       "4            2  \n",
       "10           0  \n",
       "12           1  \n",
       "16           1  "
      ]
     },
     "execution_count": 52,
     "metadata": {},
     "output_type": "execute_result"
    }
   ],
   "source": [
    "# мы можем создать новый датафрейм только с дешевыми ценами\n",
    "rides_cheap_price = rides_info[rule_cheap]\n",
    "rides_cheap_price.head()"
   ]
  },
  {
   "cell_type": "code",
   "execution_count": 51,
   "id": "1caa725c",
   "metadata": {},
   "outputs": [
    {
     "data": {
      "text/plain": [
       "4465"
      ]
     },
     "execution_count": 51,
     "metadata": {},
     "output_type": "execute_result"
    }
   ],
   "source": [
    "# \n",
    "len(rides_cheap_price)"
   ]
  },
  {
   "cell_type": "markdown",
   "id": "03ddb006",
   "metadata": {},
   "source": [
    "ссылка на лен"
   ]
  },
  {
   "cell_type": "code",
   "execution_count": 66,
   "id": "44b723e1",
   "metadata": {},
   "outputs": [
    {
     "data": {
      "text/html": [
       "<div>\n",
       "<style scoped>\n",
       "    .dataframe tbody tr th:only-of-type {\n",
       "        vertical-align: middle;\n",
       "    }\n",
       "\n",
       "    .dataframe tbody tr th {\n",
       "        vertical-align: top;\n",
       "    }\n",
       "\n",
       "    .dataframe thead th {\n",
       "        text-align: right;\n",
       "    }\n",
       "</style>\n",
       "<table border=\"1\" class=\"dataframe\">\n",
       "  <thead>\n",
       "    <tr style=\"text-align: right;\">\n",
       "      <th></th>\n",
       "      <th>car_id</th>\n",
       "      <th>ride_id</th>\n",
       "      <th>speed_avg</th>\n",
       "      <th>rating</th>\n",
       "      <th>ride_duration</th>\n",
       "      <th>ride_cost</th>\n",
       "      <th>cheap_price</th>\n",
       "      <th>stop_times</th>\n",
       "    </tr>\n",
       "  </thead>\n",
       "  <tbody>\n",
       "    <tr>\n",
       "      <th>0</th>\n",
       "      <td>A10077085b</td>\n",
       "      <td>p1V</td>\n",
       "      <td>36.000000</td>\n",
       "      <td>4.806122</td>\n",
       "      <td>4.650555</td>\n",
       "      <td>3.721202</td>\n",
       "      <td>Yes</td>\n",
       "      <td>1</td>\n",
       "    </tr>\n",
       "    <tr>\n",
       "      <th>1</th>\n",
       "      <td>A10077085b</td>\n",
       "      <td>F1h</td>\n",
       "      <td>41.000000</td>\n",
       "      <td>5.827247</td>\n",
       "      <td>4.663927</td>\n",
       "      <td>7.126641</td>\n",
       "      <td>NaN</td>\n",
       "      <td>1</td>\n",
       "    </tr>\n",
       "    <tr>\n",
       "      <th>2</th>\n",
       "      <td>A10077085b</td>\n",
       "      <td>m1j</td>\n",
       "      <td>40.581614</td>\n",
       "      <td>3.497089</td>\n",
       "      <td>4.689062</td>\n",
       "      <td>6.323878</td>\n",
       "      <td>NaN</td>\n",
       "      <td>1</td>\n",
       "    </tr>\n",
       "    <tr>\n",
       "      <th>3</th>\n",
       "      <td>A10077085b</td>\n",
       "      <td>a1n</td>\n",
       "      <td>29.000000</td>\n",
       "      <td>4.896888</td>\n",
       "      <td>5.212562</td>\n",
       "      <td>5.326560</td>\n",
       "      <td>NaN</td>\n",
       "      <td>0</td>\n",
       "    </tr>\n",
       "    <tr>\n",
       "      <th>4</th>\n",
       "      <td>A10077085b</td>\n",
       "      <td>B1N</td>\n",
       "      <td>31.000000</td>\n",
       "      <td>4.151057</td>\n",
       "      <td>3.430144</td>\n",
       "      <td>4.145335</td>\n",
       "      <td>Yes</td>\n",
       "      <td>2</td>\n",
       "    </tr>\n",
       "  </tbody>\n",
       "</table>\n",
       "</div>"
      ],
      "text/plain": [
       "       car_id ride_id  speed_avg    rating  ride_duration  ride_cost  \\\n",
       "0  A10077085b     p1V  36.000000  4.806122       4.650555   3.721202   \n",
       "1  A10077085b     F1h  41.000000  5.827247       4.663927   7.126641   \n",
       "2  A10077085b     m1j  40.581614  3.497089       4.689062   6.323878   \n",
       "3  A10077085b     a1n  29.000000  4.896888       5.212562   5.326560   \n",
       "4  A10077085b     B1N  31.000000  4.151057       3.430144   4.145335   \n",
       "\n",
       "  cheap_price  stop_times  \n",
       "0         Yes           1  \n",
       "1         NaN           1  \n",
       "2         NaN           1  \n",
       "3         NaN           0  \n",
       "4         Yes           2  "
      ]
     },
     "execution_count": 66,
     "metadata": {},
     "output_type": "execute_result"
    }
   ],
   "source": [
    "# мы можем создать новый столбец с дешевыми ценами\n",
    "rides_info.loc[rule_cheap, 'cheap_price'] = 'Yes'\n",
    "rides_info.head()"
   ]
  },
  {
   "cell_type": "code",
   "execution_count": 67,
   "id": "32011636",
   "metadata": {},
   "outputs": [
    {
     "data": {
      "text/html": [
       "<div>\n",
       "<style scoped>\n",
       "    .dataframe tbody tr th:only-of-type {\n",
       "        vertical-align: middle;\n",
       "    }\n",
       "\n",
       "    .dataframe tbody tr th {\n",
       "        vertical-align: top;\n",
       "    }\n",
       "\n",
       "    .dataframe thead th {\n",
       "        text-align: right;\n",
       "    }\n",
       "</style>\n",
       "<table border=\"1\" class=\"dataframe\">\n",
       "  <thead>\n",
       "    <tr style=\"text-align: right;\">\n",
       "      <th></th>\n",
       "      <th>car_id</th>\n",
       "      <th>ride_id</th>\n",
       "      <th>speed_avg</th>\n",
       "      <th>rating</th>\n",
       "      <th>ride_duration</th>\n",
       "      <th>ride_cost</th>\n",
       "      <th>cheap_price</th>\n",
       "      <th>stop_times</th>\n",
       "    </tr>\n",
       "  </thead>\n",
       "  <tbody>\n",
       "    <tr>\n",
       "      <th>0</th>\n",
       "      <td>A10077085b</td>\n",
       "      <td>p1V</td>\n",
       "      <td>36.000000</td>\n",
       "      <td>4.806122</td>\n",
       "      <td>4.650555</td>\n",
       "      <td>3.721202</td>\n",
       "      <td>Yes</td>\n",
       "      <td>1</td>\n",
       "    </tr>\n",
       "    <tr>\n",
       "      <th>1</th>\n",
       "      <td>A10077085b</td>\n",
       "      <td>F1h</td>\n",
       "      <td>41.000000</td>\n",
       "      <td>5.827247</td>\n",
       "      <td>4.663927</td>\n",
       "      <td>7.126641</td>\n",
       "      <td>NaN</td>\n",
       "      <td>1</td>\n",
       "    </tr>\n",
       "    <tr>\n",
       "      <th>2</th>\n",
       "      <td>A10077085b</td>\n",
       "      <td>m1j</td>\n",
       "      <td>40.581614</td>\n",
       "      <td>3.497089</td>\n",
       "      <td>4.689062</td>\n",
       "      <td>6.323878</td>\n",
       "      <td>NaN</td>\n",
       "      <td>1</td>\n",
       "    </tr>\n",
       "    <tr>\n",
       "      <th>3</th>\n",
       "      <td>A10077085b</td>\n",
       "      <td>a1n</td>\n",
       "      <td>29.000000</td>\n",
       "      <td>4.896888</td>\n",
       "      <td>5.212562</td>\n",
       "      <td>5.326560</td>\n",
       "      <td>NaN</td>\n",
       "      <td>0</td>\n",
       "    </tr>\n",
       "    <tr>\n",
       "      <th>4</th>\n",
       "      <td>A10077085b</td>\n",
       "      <td>B1N</td>\n",
       "      <td>31.000000</td>\n",
       "      <td>4.151057</td>\n",
       "      <td>3.430144</td>\n",
       "      <td>4.145335</td>\n",
       "      <td>Yes</td>\n",
       "      <td>2</td>\n",
       "    </tr>\n",
       "  </tbody>\n",
       "</table>\n",
       "</div>"
      ],
      "text/plain": [
       "       car_id ride_id  speed_avg    rating  ride_duration  ride_cost  \\\n",
       "0  A10077085b     p1V  36.000000  4.806122       4.650555   3.721202   \n",
       "1  A10077085b     F1h  41.000000  5.827247       4.663927   7.126641   \n",
       "2  A10077085b     m1j  40.581614  3.497089       4.689062   6.323878   \n",
       "3  A10077085b     a1n  29.000000  4.896888       5.212562   5.326560   \n",
       "4  A10077085b     B1N  31.000000  4.151057       3.430144   4.145335   \n",
       "\n",
       "  cheap_price  stop_times  \n",
       "0         Yes           1  \n",
       "1         NaN           1  \n",
       "2         NaN           1  \n",
       "3         NaN           0  \n",
       "4         Yes           2  "
      ]
     },
     "execution_count": 67,
     "metadata": {},
     "output_type": "execute_result"
    }
   ],
   "source": [
    "# так неудобно сравнивать два столбца давайте передвинем cheap_price к ride_cost\n",
    "rides_info = rides_info[column_names[:-1]+['cheap_price']+['stop_times']]\n",
    "rides_info.head()"
   ]
  },
  {
   "cell_type": "code",
   "execution_count": 68,
   "id": "934cdfad",
   "metadata": {},
   "outputs": [
    {
     "data": {
      "text/html": [
       "<div>\n",
       "<style scoped>\n",
       "    .dataframe tbody tr th:only-of-type {\n",
       "        vertical-align: middle;\n",
       "    }\n",
       "\n",
       "    .dataframe tbody tr th {\n",
       "        vertical-align: top;\n",
       "    }\n",
       "\n",
       "    .dataframe thead th {\n",
       "        text-align: right;\n",
       "    }\n",
       "</style>\n",
       "<table border=\"1\" class=\"dataframe\">\n",
       "  <thead>\n",
       "    <tr style=\"text-align: right;\">\n",
       "      <th></th>\n",
       "      <th>car_id</th>\n",
       "      <th>ride_id</th>\n",
       "      <th>speed_avg</th>\n",
       "      <th>rating</th>\n",
       "      <th>ride_duration</th>\n",
       "      <th>ride_cost</th>\n",
       "      <th>cheap_price</th>\n",
       "      <th>stop_times</th>\n",
       "    </tr>\n",
       "  </thead>\n",
       "  <tbody>\n",
       "    <tr>\n",
       "      <th>0</th>\n",
       "      <td>A10077085b</td>\n",
       "      <td>p1V</td>\n",
       "      <td>36.000000</td>\n",
       "      <td>4.806122</td>\n",
       "      <td>4.650555</td>\n",
       "      <td>3.721202</td>\n",
       "      <td>Yes</td>\n",
       "      <td>1</td>\n",
       "    </tr>\n",
       "    <tr>\n",
       "      <th>1</th>\n",
       "      <td>A10077085b</td>\n",
       "      <td>F1h</td>\n",
       "      <td>41.000000</td>\n",
       "      <td>5.827247</td>\n",
       "      <td>4.663927</td>\n",
       "      <td>7.126641</td>\n",
       "      <td>No</td>\n",
       "      <td>1</td>\n",
       "    </tr>\n",
       "    <tr>\n",
       "      <th>2</th>\n",
       "      <td>A10077085b</td>\n",
       "      <td>m1j</td>\n",
       "      <td>40.581614</td>\n",
       "      <td>3.497089</td>\n",
       "      <td>4.689062</td>\n",
       "      <td>6.323878</td>\n",
       "      <td>No</td>\n",
       "      <td>1</td>\n",
       "    </tr>\n",
       "    <tr>\n",
       "      <th>3</th>\n",
       "      <td>A10077085b</td>\n",
       "      <td>a1n</td>\n",
       "      <td>29.000000</td>\n",
       "      <td>4.896888</td>\n",
       "      <td>5.212562</td>\n",
       "      <td>5.326560</td>\n",
       "      <td>No</td>\n",
       "      <td>0</td>\n",
       "    </tr>\n",
       "    <tr>\n",
       "      <th>4</th>\n",
       "      <td>A10077085b</td>\n",
       "      <td>B1N</td>\n",
       "      <td>31.000000</td>\n",
       "      <td>4.151057</td>\n",
       "      <td>3.430144</td>\n",
       "      <td>4.145335</td>\n",
       "      <td>Yes</td>\n",
       "      <td>2</td>\n",
       "    </tr>\n",
       "  </tbody>\n",
       "</table>\n",
       "</div>"
      ],
      "text/plain": [
       "       car_id ride_id  speed_avg    rating  ride_duration  ride_cost  \\\n",
       "0  A10077085b     p1V  36.000000  4.806122       4.650555   3.721202   \n",
       "1  A10077085b     F1h  41.000000  5.827247       4.663927   7.126641   \n",
       "2  A10077085b     m1j  40.581614  3.497089       4.689062   6.323878   \n",
       "3  A10077085b     a1n  29.000000  4.896888       5.212562   5.326560   \n",
       "4  A10077085b     B1N  31.000000  4.151057       3.430144   4.145335   \n",
       "\n",
       "  cheap_price  stop_times  \n",
       "0         Yes           1  \n",
       "1          No           1  \n",
       "2          No           1  \n",
       "3          No           0  \n",
       "4         Yes           2  "
      ]
     },
     "execution_count": 68,
     "metadata": {},
     "output_type": "execute_result"
    }
   ],
   "source": [
    "# нам надо заполнить пустые значения NaN значениями 'No'\n",
    "# мы воспользуемся методом заполнения пропусков\n",
    "rides_info.cheap_price.fillna('No', inplace=True)\n",
    "rides_info.head()"
   ]
  },
  {
   "cell_type": "code",
   "execution_count": 70,
   "id": "d594e050",
   "metadata": {},
   "outputs": [],
   "source": [
    "# теперь давайте приведем датафрейм к исходному виду заодно научимся удалять ненужные нам столбцы\n"
   ]
  },
  {
   "cell_type": "markdown",
   "id": "6a0a083f",
   "metadata": {},
   "source": [
    "**[df.fillna()](https://pandas.pydata.org/pandas-docs/stable/reference/api/pandas.DataFrame.fillna.html)** - Заполняет значения NA/NaN.  \n",
    "Параметр inplace=True заполняет в датафрейме без необходимости копирования. По умолчанию inplace=False"
   ]
  },
  {
   "cell_type": "markdown",
   "id": "621c0c20",
   "metadata": {},
   "source": [
    "### 7. Предварительный анализ столбцов типа object"
   ]
  },
  {
   "cell_type": "code",
   "execution_count": 41,
   "id": "4e35dca9",
   "metadata": {},
   "outputs": [
    {
     "data": {
      "text/plain": [
       "100"
      ]
     },
     "execution_count": 41,
     "metadata": {},
     "output_type": "execute_result"
    }
   ],
   "source": [
    "rides_info.car_id.nunique()"
   ]
  },
  {
   "cell_type": "code",
   "execution_count": 58,
   "id": "2553ffa7",
   "metadata": {},
   "outputs": [
    {
     "data": {
      "text/plain": [
       "array(['A10077085b', 'A10348902N', 'A10457102q', 'A10976678f',\n",
       "       'A11000629j', 'A11289028f', 'A11516291P', 'A12154061t',\n",
       "       'A12497993q', 'A12509261Q', 'A13037607O', 'A13388914L',\n",
       "       'A13399615r', 'A13860178h', 'A14158064f', 'A15097660Y',\n",
       "       'A15293803l', 'A15819179M', 'A15892333D', 'A16089058W',\n",
       "       'A16182928S', 'A16214802X', 'A16226657I', 'A16299577x',\n",
       "       'A16371633V', 'A16528259W', 'A16827262J', 'A16899458Q',\n",
       "       'A17083016y', 'A17146817r', 'A17284553a', 'A17304887K',\n",
       "       'A17388761D', 'A17486515d', 'A17917797A', 'A18007714A',\n",
       "       'A18128039l', 'A18347531o', 'A18431168S', 'A18490474Q',\n",
       "       'A18545672F', 'A18795645R', 'A18824375A', 'A18826686K',\n",
       "       'A18948234K', 'A19038463m', 'A19118391L', 'A19836425I',\n",
       "       'A20293658W', 'A20428618x', 'A20849766t', 'A21152709y',\n",
       "       'A21177363z', 'A21183563Q', 'A21532200L', 'A22058082P',\n",
       "       'A22175034X', 'A22245696f', 'A22319160W', 'A22464969m',\n",
       "       'A22505352r', 'A22845474A', 'A23037659n', 'A26437578J',\n",
       "       'A27221613E', 'A28081635B', 'A29893984D', 'A30523994R',\n",
       "       'A34112662I', 'A35347576q', 'A37718753o', 'A37755369F',\n",
       "       'A38653666j', 'A38864712f', 'A39407645E', 'A39461691T',\n",
       "       'A40678194I', 'A41585143z', 'A43748876N', 'A45912640C',\n",
       "       'A46890134X', 'A47519311q', 'A52000601s', 'A54951553O',\n",
       "       'A57406375t', 'A58595920K', 'A59261837B', 'A62550093f',\n",
       "       'A66878295e', 'A69555698K', 'A71978956O', 'A72931525B',\n",
       "       'A76482019Y', 'A76972306u', 'A80223319E', 'A80786856h',\n",
       "       'A81372410l', 'A87173582v', 'A88760661y', 'A89842534W'],\n",
       "      dtype=object)"
      ]
     },
     "execution_count": 58,
     "metadata": {},
     "output_type": "execute_result"
    }
   ],
   "source": [
    "rides_info.car_id.unique()"
   ]
  },
  {
   "cell_type": "code",
   "execution_count": 59,
   "id": "e4b8db8a",
   "metadata": {},
   "outputs": [
    {
     "data": {
      "text/plain": [
       "A10077085b    180\n",
       "A26437578J    180\n",
       "A38864712f    180\n",
       "A38653666j    180\n",
       "A37755369F    180\n",
       "             ... \n",
       "A17284553a    180\n",
       "A17146817r    180\n",
       "A17083016y    180\n",
       "A16899458Q    180\n",
       "A89842534W    180\n",
       "Name: car_id, Length: 100, dtype: int64"
      ]
     },
     "execution_count": 59,
     "metadata": {},
     "output_type": "execute_result"
    }
   ],
   "source": [
    "rides_info.car_id.value_counts()"
   ]
  },
  {
   "cell_type": "code",
   "execution_count": 60,
   "id": "44efc67f",
   "metadata": {},
   "outputs": [
    {
     "data": {
      "text/plain": [
       "count    100.0\n",
       "mean     180.0\n",
       "std        0.0\n",
       "min      180.0\n",
       "25%      180.0\n",
       "50%      180.0\n",
       "75%      180.0\n",
       "max      180.0\n",
       "Name: car_id, dtype: float64"
      ]
     },
     "execution_count": 60,
     "metadata": {},
     "output_type": "execute_result"
    }
   ],
   "source": [
    "rides_info.car_id.value_counts().describe()"
   ]
  },
  {
   "cell_type": "code",
   "execution_count": 61,
   "id": "b2fb6bee",
   "metadata": {},
   "outputs": [
    {
     "data": {
      "text/plain": [
       "2701"
      ]
     },
     "execution_count": 61,
     "metadata": {},
     "output_type": "execute_result"
    }
   ],
   "source": [
    "rides_info.ride_id.nunique()"
   ]
  },
  {
   "cell_type": "code",
   "execution_count": 62,
   "id": "8741542e",
   "metadata": {},
   "outputs": [
    {
     "data": {
      "text/plain": [
       "array(['p1V', 'F1h', 'm1j', ..., 'j1U', 'f1G', 'n1Y'], dtype=object)"
      ]
     },
     "execution_count": 62,
     "metadata": {},
     "output_type": "execute_result"
    }
   ],
   "source": [
    "rides_info.ride_id.unique()"
   ]
  },
  {
   "cell_type": "code",
   "execution_count": 63,
   "id": "150878ff",
   "metadata": {},
   "outputs": [
    {
     "data": {
      "text/plain": [
       "L1C    17\n",
       "K1P    16\n",
       "k1L    16\n",
       "r1t    15\n",
       "P1k    15\n",
       "       ..\n",
       "M1O     1\n",
       "r1p     1\n",
       "E1e     1\n",
       "G1t     1\n",
       "R1R     1\n",
       "Name: ride_id, Length: 2701, dtype: int64"
      ]
     },
     "execution_count": 63,
     "metadata": {},
     "output_type": "execute_result"
    }
   ],
   "source": [
    "rides_info.ride_id.value_counts()"
   ]
  },
  {
   "cell_type": "markdown",
   "id": "73ddc63d",
   "metadata": {},
   "source": [
    "### 8. Простые методы генерации новых признаков"
   ]
  },
  {
   "cell_type": "markdown",
   "id": "9f7d263e",
   "metadata": {},
   "source": [
    "В этом разделе мы попробуем сгенерировать новые признаки используя простые приемы Pandas и Numpy"
   ]
  },
  {
   "cell_type": "markdown",
   "id": "59a967b3",
   "metadata": {},
   "source": [
    "Мы рассмотрели основные методы и примемы для работы с Pandas.  \n",
    "Далее вас ждут упражнения по этим методам, для закрепления материала. Удачи!\n",
    "\n",
    "\n",
    "Следующий шаг в анализе данных датафрейма предполагает применение более продвинутых методов.  \n"
   ]
  },
  {
   "cell_type": "markdown",
   "id": "eac59ded",
   "metadata": {},
   "source": []
  }
 ],
 "metadata": {
  "kernelspec": {
   "display_name": "Python 3 (ipykernel)",
   "language": "python",
   "name": "python3"
  },
  "language_info": {
   "codemirror_mode": {
    "name": "ipython",
    "version": 3
   },
   "file_extension": ".py",
   "mimetype": "text/x-python",
   "name": "python",
   "nbconvert_exporter": "python",
   "pygments_lexer": "ipython3",
   "version": "3.9.13"
  },
  "vscode": {
   "interpreter": {
    "hash": "31f2aee4e71d21fbe5cf8b01ff0e069b9275f58929596ceb00d14d90e3e16cd6"
   }
  }
 },
 "nbformat": 4,
 "nbformat_minor": 5
}
